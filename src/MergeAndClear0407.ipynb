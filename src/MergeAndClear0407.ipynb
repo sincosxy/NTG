{
 "cells": [
  {
   "cell_type": "code",
   "execution_count": 77,
   "id": "cb02f0da",
   "metadata": {},
   "outputs": [],
   "source": [
    "import numpy as np\n",
    "import pandas as pd\n",
    "#грузим все данные, что собрали и сливаем\n",
    "df1 = pd.read_csv(\"../data/parsed0407.csv\", sep=';', names=['id', 'label'], dtype = {'id': str, 'label': str})\n",
    "df2 = pd.read_csv(\"../data/parsed.csv\", sep=';', names=['id', 'label'], dtype = {'id': str, 'label': str})\n",
    "df3 = pd.read_csv(\"../data/mergedcleared2306.csv\", sep=';', names=['id', 'label'], dtype = {'id': str, 'label': str})\n",
    "df4 = pd.read_csv(\"../data/nln1.csv\", sep=';', names=['id', 'label'], dtype = {'id': str, 'label': str})\n",
    "df5 = pd.read_csv(\"../data/firstset.csv\", sep=';', names=['id', 'label'], dtype = {'id': str, 'label': str})\n",
    "df6 = pd.read_csv(\"../data/Codes10.csv\", sep=';', names=['id', 'label'], dtype = {'id': str, 'label': str})\n",
    "df7 = pd.read_csv(\"../data/Codes20.csv\", sep=';', names=['id', 'label'], dtype = {'id': str, 'label': str})\n",
    "df = pd.concat([df1, df2, df3, df4, df5, df6, df7])"
   ]
  },
  {
   "cell_type": "code",
   "execution_count": 89,
   "id": "22c4008c",
   "metadata": {},
   "outputs": [
    {
     "data": {
      "text/html": [
       "<div>\n",
       "<style scoped>\n",
       "    .dataframe tbody tr th:only-of-type {\n",
       "        vertical-align: middle;\n",
       "    }\n",
       "\n",
       "    .dataframe tbody tr th {\n",
       "        vertical-align: top;\n",
       "    }\n",
       "\n",
       "    .dataframe thead th {\n",
       "        text-align: right;\n",
       "    }\n",
       "</style>\n",
       "<table border=\"1\" class=\"dataframe\">\n",
       "  <thead>\n",
       "    <tr style=\"text-align: right;\">\n",
       "      <th></th>\n",
       "      <th>id</th>\n",
       "      <th>label</th>\n",
       "    </tr>\n",
       "  </thead>\n",
       "  <tbody>\n",
       "    <tr>\n",
       "      <th>0</th>\n",
       "      <td>8425310000</td>\n",
       "      <td>лебедка с приводом от электрического двигателя...</td>\n",
       "    </tr>\n",
       "    <tr>\n",
       "      <th>1</th>\n",
       "      <td>8425310000</td>\n",
       "      <td>лебедки для пассаж элект лифта мод kone minisp...</td>\n",
       "    </tr>\n",
       "    <tr>\n",
       "      <th>2</th>\n",
       "      <td>8425310000</td>\n",
       "      <td>лебедки с приводом от электрического двигателя...</td>\n",
       "    </tr>\n",
       "    <tr>\n",
       "      <th>3</th>\n",
       "      <td>8425310000</td>\n",
       "      <td>части лифтового оборудования для сервисного об...</td>\n",
       "    </tr>\n",
       "    <tr>\n",
       "      <th>4</th>\n",
       "      <td>8425310000</td>\n",
       "      <td>лебедки для пассаж элект лифта мод kone monosp...</td>\n",
       "    </tr>\n",
       "    <tr>\n",
       "      <th>...</th>\n",
       "      <td>...</td>\n",
       "      <td>...</td>\n",
       "    </tr>\n",
       "    <tr>\n",
       "      <th>21691</th>\n",
       "      <td>1207409000</td>\n",
       "      <td>семена кунжута очищенные недробленые не содерж...</td>\n",
       "    </tr>\n",
       "    <tr>\n",
       "      <th>21692</th>\n",
       "      <td>1207409000</td>\n",
       "      <td>масличные культуры семена кунжута для применен...</td>\n",
       "    </tr>\n",
       "    <tr>\n",
       "      <th>21693</th>\n",
       "      <td>1207409000</td>\n",
       "      <td>семена кунжута</td>\n",
       "    </tr>\n",
       "    <tr>\n",
       "      <th>21694</th>\n",
       "      <td>1207409000</td>\n",
       "      <td>семена кунжута дробленые или недробленые</td>\n",
       "    </tr>\n",
       "    <tr>\n",
       "      <th>21695</th>\n",
       "      <td>1207409000</td>\n",
       "      <td>семена кунжута очищенные в мешках для пищевой ...</td>\n",
       "    </tr>\n",
       "  </tbody>\n",
       "</table>\n",
       "<p>341163 rows × 2 columns</p>\n",
       "</div>"
      ],
      "text/plain": [
       "               id                                              label\n",
       "0      8425310000  лебедка с приводом от электрического двигателя...\n",
       "1      8425310000  лебедки для пассаж элект лифта мод kone minisp...\n",
       "2      8425310000  лебедки с приводом от электрического двигателя...\n",
       "3      8425310000  части лифтового оборудования для сервисного об...\n",
       "4      8425310000  лебедки для пассаж элект лифта мод kone monosp...\n",
       "...           ...                                                ...\n",
       "21691  1207409000  семена кунжута очищенные недробленые не содерж...\n",
       "21692  1207409000  масличные культуры семена кунжута для применен...\n",
       "21693  1207409000                                    семена кунжута \n",
       "21694  1207409000          семена кунжута дробленые или недробленые \n",
       "21695  1207409000  семена кунжута очищенные в мешках для пищевой ...\n",
       "\n",
       "[341163 rows x 2 columns]"
      ]
     },
     "execution_count": 89,
     "metadata": {},
     "output_type": "execute_result"
    }
   ],
   "source": [
    "df"
   ]
  },
  {
   "cell_type": "code",
   "execution_count": 81,
   "id": "a4695423",
   "metadata": {},
   "outputs": [
    {
     "data": {
      "text/html": [
       "<div>\n",
       "<style scoped>\n",
       "    .dataframe tbody tr th:only-of-type {\n",
       "        vertical-align: middle;\n",
       "    }\n",
       "\n",
       "    .dataframe tbody tr th {\n",
       "        vertical-align: top;\n",
       "    }\n",
       "\n",
       "    .dataframe thead th {\n",
       "        text-align: right;\n",
       "    }\n",
       "</style>\n",
       "<table border=\"1\" class=\"dataframe\">\n",
       "  <thead>\n",
       "    <tr style=\"text-align: right;\">\n",
       "      <th></th>\n",
       "      <th>id</th>\n",
       "      <th>label</th>\n",
       "    </tr>\n",
       "  </thead>\n",
       "  <tbody>\n",
       "  </tbody>\n",
       "</table>\n",
       "</div>"
      ],
      "text/plain": [
       "Empty DataFrame\n",
       "Columns: [id, label]\n",
       "Index: []"
      ]
     },
     "execution_count": 81,
     "metadata": {},
     "output_type": "execute_result"
    }
   ],
   "source": [
    "df[df['id'].str.len()<10]"
   ]
  },
  {
   "cell_type": "code",
   "execution_count": 80,
   "id": "ad77d7f7",
   "metadata": {},
   "outputs": [
    {
     "name": "stderr",
     "output_type": "stream",
     "text": [
      "C:\\Users\\yeril\\AppData\\Local\\Temp\\ipykernel_10924\\970123699.py:3: FutureWarning: The default value of regex will change from True to False in a future version.\n",
      "  df['label'] = df['label'].str.replace(r'\\s+', ' ')\n",
      "C:\\Users\\yeril\\AppData\\Local\\Temp\\ipykernel_10924\\970123699.py:4: FutureWarning: The default value of regex will change from True to False in a future version.\n",
      "  df['label'] = df['label'].str.replace(r'[^\\w\\s]+', ' ')\n"
     ]
    }
   ],
   "source": [
    "#чистим от пунктуации, приводим к нижнему регистру, сжимаем пробелы\n",
    "df['label'] = df['label'].str.lower()\n",
    "df['label'] = df['label'].str.strip()\n",
    "df['label'] = df['label'].str.replace(r'\\s+', ' ')\n",
    "df['label'] = df['label'].str.replace(r'[^\\w\\s]+', ' ')"
   ]
  },
  {
   "cell_type": "code",
   "execution_count": 82,
   "id": "7cec37c0",
   "metadata": {},
   "outputs": [
    {
     "name": "stderr",
     "output_type": "stream",
     "text": [
      "C:\\Users\\yeril\\AppData\\Local\\Temp\\ipykernel_10924\\3948572542.py:1: FutureWarning: The default value of regex will change from True to False in a future version.\n",
      "  df['label'] = df['label'].str.replace(r'\\bупакован.+', '')\n",
      "C:\\Users\\yeril\\AppData\\Local\\Temp\\ipykernel_10924\\3948572542.py:2: FutureWarning: The default value of regex will change from True to False in a future version.\n",
      "  df['label'] = df['label'].str.replace(r'\\bвсего.+шт.+', '')\n"
     ]
    }
   ],
   "source": [
    "#убираем некоторые теткстовые патерны, не несущие полезную инфу\n",
    "df['label'] = df['label'].str.replace(r'\\bупакован.+', '')\n",
    "df['label'] = df['label'].str.replace(r'\\bвсего.+шт.+', '')"
   ]
  },
  {
   "cell_type": "code",
   "execution_count": 24,
   "id": "17de347f",
   "metadata": {},
   "outputs": [
    {
     "name": "stderr",
     "output_type": "stream",
     "text": [
      "C:\\Users\\yeril\\AppData\\Local\\Temp\\ipykernel_14968\\3021488021.py:1: FutureWarning: The default value of regex will change from True to False in a future version.\n",
      "  df['label'] = df['label'].str.replace(r'\\bкороб.+', '')\n"
     ]
    }
   ],
   "source": [
    "#df['label'] = df['label'].str.replace(r'\\bкороб.+', '')\n",
    "#от удаления коробок отказался, т.к. есть товары с таким наименованием"
   ]
  },
  {
   "cell_type": "code",
   "execution_count": 84,
   "id": "af692823",
   "metadata": {},
   "outputs": [],
   "source": [
    "#дополнительно сжимаем пробелы\n",
    "df['label'] = df['label'].str.replace('  ', ' ')"
   ]
  },
  {
   "cell_type": "code",
   "execution_count": 85,
   "id": "8b482ab0",
   "metadata": {},
   "outputs": [
    {
     "data": {
      "text/plain": [
       "0"
      ]
     },
     "execution_count": 85,
     "metadata": {},
     "output_type": "execute_result"
    }
   ],
   "source": [
    "len(df[df['label']==''])"
   ]
  },
  {
   "cell_type": "code",
   "execution_count": 86,
   "id": "88039638",
   "metadata": {},
   "outputs": [
    {
     "data": {
      "text/html": [
       "<div>\n",
       "<style scoped>\n",
       "    .dataframe tbody tr th:only-of-type {\n",
       "        vertical-align: middle;\n",
       "    }\n",
       "\n",
       "    .dataframe tbody tr th {\n",
       "        vertical-align: top;\n",
       "    }\n",
       "\n",
       "    .dataframe thead th {\n",
       "        text-align: right;\n",
       "    }\n",
       "</style>\n",
       "<table border=\"1\" class=\"dataframe\">\n",
       "  <thead>\n",
       "    <tr style=\"text-align: right;\">\n",
       "      <th></th>\n",
       "      <th>id</th>\n",
       "      <th>label</th>\n",
       "    </tr>\n",
       "  </thead>\n",
       "  <tbody>\n",
       "  </tbody>\n",
       "</table>\n",
       "</div>"
      ],
      "text/plain": [
       "Empty DataFrame\n",
       "Columns: [id, label]\n",
       "Index: []"
      ]
     },
     "execution_count": 86,
     "metadata": {},
     "output_type": "execute_result"
    }
   ],
   "source": [
    "df[df['label'] == '']"
   ]
  },
  {
   "cell_type": "code",
   "execution_count": 87,
   "id": "c67ba26c",
   "metadata": {},
   "outputs": [
    {
     "data": {
      "text/html": [
       "<div>\n",
       "<style scoped>\n",
       "    .dataframe tbody tr th:only-of-type {\n",
       "        vertical-align: middle;\n",
       "    }\n",
       "\n",
       "    .dataframe tbody tr th {\n",
       "        vertical-align: top;\n",
       "    }\n",
       "\n",
       "    .dataframe thead th {\n",
       "        text-align: right;\n",
       "    }\n",
       "</style>\n",
       "<table border=\"1\" class=\"dataframe\">\n",
       "  <thead>\n",
       "    <tr style=\"text-align: right;\">\n",
       "      <th></th>\n",
       "      <th>id</th>\n",
       "      <th>label</th>\n",
       "    </tr>\n",
       "  </thead>\n",
       "  <tbody>\n",
       "    <tr>\n",
       "      <th>69050</th>\n",
       "      <td>8505191000</td>\n",
       "      <td>NaN</td>\n",
       "    </tr>\n",
       "    <tr>\n",
       "      <th>74729</th>\n",
       "      <td>7010906700</td>\n",
       "      <td>NaN</td>\n",
       "    </tr>\n",
       "    <tr>\n",
       "      <th>5437</th>\n",
       "      <td>8505191000</td>\n",
       "      <td>NaN</td>\n",
       "    </tr>\n",
       "    <tr>\n",
       "      <th>16292</th>\n",
       "      <td>7010906700</td>\n",
       "      <td>NaN</td>\n",
       "    </tr>\n",
       "  </tbody>\n",
       "</table>\n",
       "</div>"
      ],
      "text/plain": [
       "               id label\n",
       "69050  8505191000   NaN\n",
       "74729  7010906700   NaN\n",
       "5437   8505191000   NaN\n",
       "16292  7010906700   NaN"
      ]
     },
     "execution_count": 87,
     "metadata": {},
     "output_type": "execute_result"
    }
   ],
   "source": [
    "df[df.isnull().values==True]"
   ]
  },
  {
   "cell_type": "code",
   "execution_count": 88,
   "id": "f67630f3",
   "metadata": {},
   "outputs": [],
   "source": [
    "df = df[df['label'].isnull()==False]"
   ]
  },
  {
   "cell_type": "code",
   "execution_count": 90,
   "id": "4c6a99b6",
   "metadata": {},
   "outputs": [
    {
     "name": "stderr",
     "output_type": "stream",
     "text": [
      "C:\\Users\\yeril\\AppData\\Local\\Temp\\ipykernel_10924\\3569540116.py:1: SettingWithCopyWarning: \n",
      "A value is trying to be set on a copy of a slice from a DataFrame\n",
      "\n",
      "See the caveats in the documentation: https://pandas.pydata.org/pandas-docs/stable/user_guide/indexing.html#returning-a-view-versus-a-copy\n",
      "  df.drop(df[df['label'] == ''].index, inplace = True)\n"
     ]
    }
   ],
   "source": [
    "df.drop(df[df['label'] == ''].index, inplace = True)"
   ]
  },
  {
   "cell_type": "code",
   "execution_count": 91,
   "id": "1a2918f2",
   "metadata": {},
   "outputs": [
    {
     "data": {
      "text/plain": [
       "2665"
      ]
     },
     "execution_count": 91,
     "metadata": {},
     "output_type": "execute_result"
    }
   ],
   "source": [
    "len(df['id'].unique())"
   ]
  },
  {
   "cell_type": "code",
   "execution_count": 92,
   "id": "0607c3be",
   "metadata": {},
   "outputs": [
    {
     "data": {
      "text/plain": [
       "262596"
      ]
     },
     "execution_count": 92,
     "metadata": {},
     "output_type": "execute_result"
    }
   ],
   "source": [
    "len(df['label'].unique())"
   ]
  },
  {
   "cell_type": "code",
   "execution_count": 93,
   "id": "435be727",
   "metadata": {},
   "outputs": [
    {
     "data": {
      "text/plain": [
       "341163"
      ]
     },
     "execution_count": 93,
     "metadata": {},
     "output_type": "execute_result"
    }
   ],
   "source": [
    "len(df)"
   ]
  },
  {
   "cell_type": "code",
   "execution_count": 94,
   "id": "99568f2d",
   "metadata": {},
   "outputs": [
    {
     "data": {
      "text/plain": [
       "263895"
      ]
     },
     "execution_count": 94,
     "metadata": {},
     "output_type": "execute_result"
    }
   ],
   "source": [
    "df = df.drop_duplicates()\n",
    "len(df)"
   ]
  },
  {
   "cell_type": "code",
   "execution_count": 98,
   "id": "6e3c9d32",
   "metadata": {},
   "outputs": [],
   "source": [
    "counts = df.value_counts('id')\n",
    "df_count = pd.DataFrame(data={'id': counts.index, 'count': counts.values})\n",
    "df_count.to_csv('../../../tnveds_sort.csv', sep=';', columns=['id', 'count'], index=False, header=False)"
   ]
  },
  {
   "cell_type": "code",
   "execution_count": 96,
   "id": "1c6995cc",
   "metadata": {},
   "outputs": [
    {
     "data": {
      "text/html": [
       "<div>\n",
       "<style scoped>\n",
       "    .dataframe tbody tr th:only-of-type {\n",
       "        vertical-align: middle;\n",
       "    }\n",
       "\n",
       "    .dataframe tbody tr th {\n",
       "        vertical-align: top;\n",
       "    }\n",
       "\n",
       "    .dataframe thead th {\n",
       "        text-align: right;\n",
       "    }\n",
       "</style>\n",
       "<table border=\"1\" class=\"dataframe\">\n",
       "  <thead>\n",
       "    <tr style=\"text-align: right;\">\n",
       "      <th></th>\n",
       "      <th>id</th>\n",
       "      <th>count</th>\n",
       "    </tr>\n",
       "  </thead>\n",
       "  <tbody>\n",
       "    <tr>\n",
       "      <th>2382</th>\n",
       "      <td>8462900097</td>\n",
       "      <td>19</td>\n",
       "    </tr>\n",
       "    <tr>\n",
       "      <th>2383</th>\n",
       "      <td>9405110022</td>\n",
       "      <td>19</td>\n",
       "    </tr>\n",
       "    <tr>\n",
       "      <th>2384</th>\n",
       "      <td>9405290012</td>\n",
       "      <td>18</td>\n",
       "    </tr>\n",
       "    <tr>\n",
       "      <th>2385</th>\n",
       "      <td>8714961000</td>\n",
       "      <td>18</td>\n",
       "    </tr>\n",
       "    <tr>\n",
       "      <th>2386</th>\n",
       "      <td>8531908500</td>\n",
       "      <td>18</td>\n",
       "    </tr>\n",
       "    <tr>\n",
       "      <th>...</th>\n",
       "      <td>...</td>\n",
       "      <td>...</td>\n",
       "    </tr>\n",
       "    <tr>\n",
       "      <th>2660</th>\n",
       "      <td>8537209100</td>\n",
       "      <td>1</td>\n",
       "    </tr>\n",
       "    <tr>\n",
       "      <th>2661</th>\n",
       "      <td>9013802000</td>\n",
       "      <td>1</td>\n",
       "    </tr>\n",
       "    <tr>\n",
       "      <th>2662</th>\n",
       "      <td>8524190027</td>\n",
       "      <td>1</td>\n",
       "    </tr>\n",
       "    <tr>\n",
       "      <th>2663</th>\n",
       "      <td>8541401001</td>\n",
       "      <td>1</td>\n",
       "    </tr>\n",
       "    <tr>\n",
       "      <th>2664</th>\n",
       "      <td>8519891900</td>\n",
       "      <td>1</td>\n",
       "    </tr>\n",
       "  </tbody>\n",
       "</table>\n",
       "<p>283 rows × 2 columns</p>\n",
       "</div>"
      ],
      "text/plain": [
       "              id  count\n",
       "2382  8462900097     19\n",
       "2383  9405110022     19\n",
       "2384  9405290012     18\n",
       "2385  8714961000     18\n",
       "2386  8531908500     18\n",
       "...          ...    ...\n",
       "2660  8537209100      1\n",
       "2661  9013802000      1\n",
       "2662  8524190027      1\n",
       "2663  8541401001      1\n",
       "2664  8519891900      1\n",
       "\n",
       "[283 rows x 2 columns]"
      ]
     },
     "execution_count": 96,
     "metadata": {},
     "output_type": "execute_result"
    }
   ],
   "source": [
    "df_count[df_count['count'] < 20]"
   ]
  },
  {
   "cell_type": "code",
   "execution_count": 102,
   "id": "00690766",
   "metadata": {},
   "outputs": [
    {
     "data": {
      "text/plain": [
       "2148"
      ]
     },
     "execution_count": 102,
     "metadata": {},
     "output_type": "execute_result"
    }
   ],
   "source": [
    "#ищем одинаковые лэйблы с разными метками\n",
    "counts = df.value_counts('label')\n",
    "df_count = pd.DataFrame(data={'id': counts.index, 'count': counts.values})\n",
    "sum(df_count[df_count['count'] > 1]['count']) #получаем список лэйблов с разными айди и выводим его размер"
   ]
  },
  {
   "cell_type": "code",
   "execution_count": 108,
   "id": "d75d9f21",
   "metadata": {},
   "outputs": [],
   "source": [
    "df = df[~df['label'].isin(df_count[df_count['count'] > 1]['id'])] #удаляем точки датасета с лэйблами, которые имеют разные коды. Тильда - отрицание isin"
   ]
  },
  {
   "cell_type": "code",
   "execution_count": 54,
   "id": "bbe336d8",
   "metadata": {},
   "outputs": [
    {
     "data": {
      "text/html": [
       "<div>\n",
       "<style scoped>\n",
       "    .dataframe tbody tr th:only-of-type {\n",
       "        vertical-align: middle;\n",
       "    }\n",
       "\n",
       "    .dataframe tbody tr th {\n",
       "        vertical-align: top;\n",
       "    }\n",
       "\n",
       "    .dataframe thead th {\n",
       "        text-align: right;\n",
       "    }\n",
       "</style>\n",
       "<table border=\"1\" class=\"dataframe\">\n",
       "  <thead>\n",
       "    <tr style=\"text-align: right;\">\n",
       "      <th></th>\n",
       "      <th>id</th>\n",
       "      <th>label</th>\n",
       "    </tr>\n",
       "  </thead>\n",
       "  <tbody>\n",
       "    <tr>\n",
       "      <th>0</th>\n",
       "      <td>8425310000</td>\n",
       "      <td>лебедка с приводом от электрического двигателя...</td>\n",
       "    </tr>\n",
       "    <tr>\n",
       "      <th>1</th>\n",
       "      <td>8425310000</td>\n",
       "      <td>лебедки для пассаж элект лифта мод kone minisp...</td>\n",
       "    </tr>\n",
       "    <tr>\n",
       "      <th>2</th>\n",
       "      <td>8425310000</td>\n",
       "      <td>лебедки с приводом от электрического двигателя...</td>\n",
       "    </tr>\n",
       "    <tr>\n",
       "      <th>3</th>\n",
       "      <td>8425310000</td>\n",
       "      <td>части лифтового оборудования для сервисного об...</td>\n",
       "    </tr>\n",
       "    <tr>\n",
       "      <th>4</th>\n",
       "      <td>8425310000</td>\n",
       "      <td>лебедки для пассаж элект лифта мод kone monosp...</td>\n",
       "    </tr>\n",
       "    <tr>\n",
       "      <th>...</th>\n",
       "      <td>...</td>\n",
       "      <td>...</td>\n",
       "    </tr>\n",
       "    <tr>\n",
       "      <th>97912</th>\n",
       "      <td>0802310000</td>\n",
       "      <td>орехи грецкие в скорлупе грецкий орех 1мешок 1...</td>\n",
       "    </tr>\n",
       "    <tr>\n",
       "      <th>97914</th>\n",
       "      <td>0802310000</td>\n",
       "      <td>орехи грецкие в скорлупе расфасованные в карто...</td>\n",
       "    </tr>\n",
       "    <tr>\n",
       "      <th>97915</th>\n",
       "      <td>0802310000</td>\n",
       "      <td>орехи грецкие в скорлупе сырые калибр 32 мм ур...</td>\n",
       "    </tr>\n",
       "    <tr>\n",
       "      <th>97917</th>\n",
       "      <td>0802310000</td>\n",
       "      <td>орехи грецкие в скорлупе для употребления в пи...</td>\n",
       "    </tr>\n",
       "    <tr>\n",
       "      <th>97918</th>\n",
       "      <td>0802310000</td>\n",
       "      <td>товары перемещаемые в качестве проб и образцов...</td>\n",
       "    </tr>\n",
       "  </tbody>\n",
       "</table>\n",
       "<p>208250 rows × 2 columns</p>\n",
       "</div>"
      ],
      "text/plain": [
       "               id                                              label\n",
       "0      8425310000  лебедка с приводом от электрического двигателя...\n",
       "1      8425310000  лебедки для пассаж элект лифта мод kone minisp...\n",
       "2      8425310000  лебедки с приводом от электрического двигателя...\n",
       "3      8425310000  части лифтового оборудования для сервисного об...\n",
       "4      8425310000  лебедки для пассаж элект лифта мод kone monosp...\n",
       "...           ...                                                ...\n",
       "97912  0802310000  орехи грецкие в скорлупе грецкий орех 1мешок 1...\n",
       "97914  0802310000  орехи грецкие в скорлупе расфасованные в карто...\n",
       "97915  0802310000  орехи грецкие в скорлупе сырые калибр 32 мм ур...\n",
       "97917  0802310000  орехи грецкие в скорлупе для употребления в пи...\n",
       "97918  0802310000  товары перемещаемые в качестве проб и образцов...\n",
       "\n",
       "[208250 rows x 2 columns]"
      ]
     },
     "execution_count": 54,
     "metadata": {},
     "output_type": "execute_result"
    }
   ],
   "source": [
    "df #готовый смёрдженый датасет"
   ]
  },
  {
   "cell_type": "code",
   "execution_count": 111,
   "id": "fe272e7c",
   "metadata": {},
   "outputs": [],
   "source": [
    "df.to_csv('../data/mergedcleared0407.csv', sep=';', columns=['id', 'label'], index=False, header=False)"
   ]
  }
 ],
 "metadata": {
  "kernelspec": {
   "display_name": "Python 3 (ipykernel)",
   "language": "python",
   "name": "python3"
  },
  "language_info": {
   "codemirror_mode": {
    "name": "ipython",
    "version": 3
   },
   "file_extension": ".py",
   "mimetype": "text/x-python",
   "name": "python",
   "nbconvert_exporter": "python",
   "pygments_lexer": "ipython3",
   "version": "3.10.11"
  }
 },
 "nbformat": 4,
 "nbformat_minor": 5
}
