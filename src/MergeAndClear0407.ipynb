{
 "cells": [
  {
   "cell_type": "code",
   "execution_count": 77,
   "id": "cb02f0da",
   "metadata": {},
   "outputs": [],
   "source": [
    "import numpy as np\n",
    "import pandas as pd\n",
    "#грузим все данные, что собрали и сливаем\n",
    "df1 = pd.read_csv(\"../data/parsed0407.csv\", sep=';', names=['id', 'label'], dtype = {'id': str, 'label': str})\n",
    "df2 = pd.read_csv(\"../data/parsed.csv\", sep=';', names=['id', 'label'], dtype = {'id': str, 'label': str})\n",
    "df3 = pd.read_csv(\"../data/mergedcleared2306.csv\", sep=';', names=['id', 'label'], dtype = {'id': str, 'label': str})\n",
    "df4 = pd.read_csv(\"../data/nln1.csv\", sep=';', names=['id', 'label'], dtype = {'id': str, 'label': str})\n",
    "df5 = pd.read_csv(\"../data/firstset.csv\", sep=';', names=['id', 'label'], dtype = {'id': str, 'label': str})\n",
    "df6 = pd.read_csv(\"../data/Codes10.csv\", sep=';', names=['id', 'label'], dtype = {'id': str, 'label': str})\n",
    "df7 = pd.read_csv(\"../data/Codes20.csv\", sep=';', names=['id', 'label'], dtype = {'id': str, 'label': str})\n",
    "df = pd.concat([df1, df2, df3, df4, df5, df6, df7])"
   ]
  },
  {
   "cell_type": "code",
   "execution_count": 46,
   "id": "22c4008c",
   "metadata": {},
   "outputs": [
    {
     "data": {
      "text/html": [
       "<div>\n",
       "<style scoped>\n",
       "    .dataframe tbody tr th:only-of-type {\n",
       "        vertical-align: middle;\n",
       "    }\n",
       "\n",
       "    .dataframe tbody tr th {\n",
       "        vertical-align: top;\n",
       "    }\n",
       "\n",
       "    .dataframe thead th {\n",
       "        text-align: right;\n",
       "    }\n",
       "</style>\n",
       "<table border=\"1\" class=\"dataframe\">\n",
       "  <thead>\n",
       "    <tr style=\"text-align: right;\">\n",
       "      <th></th>\n",
       "      <th>id</th>\n",
       "      <th>label</th>\n",
       "    </tr>\n",
       "  </thead>\n",
       "  <tbody>\n",
       "    <tr>\n",
       "      <th>0</th>\n",
       "      <td>9507100000</td>\n",
       "      <td>УДОЧКИ РЫБОЛОВНЫЕ, РАЗБОРНЫЕ, СОСТОЯЩИЕ ИЗ ОТД...</td>\n",
       "    </tr>\n",
       "    <tr>\n",
       "      <th>1</th>\n",
       "      <td>9507100000</td>\n",
       "      <td>УДОЧКИ РЫБОЛОВНЫЕ, РАЗБОРНЫЕ, СОСТОЯЩИЕ ИЗ ОТД...</td>\n",
       "    </tr>\n",
       "    <tr>\n",
       "      <th>2</th>\n",
       "      <td>9507100000</td>\n",
       "      <td>УДОЧКИ РЫБОЛОВНЫЕ ШТЕКЕРНЫЕ КАРБОНОВЫЕ ДЛИНА У...</td>\n",
       "    </tr>\n",
       "    <tr>\n",
       "      <th>3</th>\n",
       "      <td>9507100000</td>\n",
       "      <td>УДОЧКИ РЫБОЛОВНЫЕ-СОСТАВНЫЕ, СОСТОЯЩИЕ ИЗ ОТДЕ...</td>\n",
       "    </tr>\n",
       "    <tr>\n",
       "      <th>4</th>\n",
       "      <td>9507100000</td>\n",
       "      <td>УДОЧКИ РЫБОЛОВНЫЕ-ТЕЛЕСКОПИЧЕСКИЕ(ВЫДВИЖНЫЕ) ,...</td>\n",
       "    </tr>\n",
       "    <tr>\n",
       "      <th>...</th>\n",
       "      <td>...</td>\n",
       "      <td>...</td>\n",
       "    </tr>\n",
       "    <tr>\n",
       "      <th>261742</th>\n",
       "      <td>1207409000</td>\n",
       "      <td>семена кунжута sesamum indicum очищенные готов...</td>\n",
       "    </tr>\n",
       "    <tr>\n",
       "      <th>261743</th>\n",
       "      <td>1207409000</td>\n",
       "      <td>кунжут семена кунжута очищенные не дробленные ...</td>\n",
       "    </tr>\n",
       "    <tr>\n",
       "      <th>261744</th>\n",
       "      <td>1207409000</td>\n",
       "      <td>семена кунжута</td>\n",
       "    </tr>\n",
       "    <tr>\n",
       "      <th>261745</th>\n",
       "      <td>1207409000</td>\n",
       "      <td>семена кунжута дробленые или недробленые</td>\n",
       "    </tr>\n",
       "    <tr>\n",
       "      <th>261746</th>\n",
       "      <td>1207409000</td>\n",
       "      <td>семена кунжута очищенные в мешках для пищевой ...</td>\n",
       "    </tr>\n",
       "  </tbody>\n",
       "</table>\n",
       "<p>290083 rows × 2 columns</p>\n",
       "</div>"
      ],
      "text/plain": [
       "                id                                              label\n",
       "0       9507100000  УДОЧКИ РЫБОЛОВНЫЕ, РАЗБОРНЫЕ, СОСТОЯЩИЕ ИЗ ОТД...\n",
       "1       9507100000  УДОЧКИ РЫБОЛОВНЫЕ, РАЗБОРНЫЕ, СОСТОЯЩИЕ ИЗ ОТД...\n",
       "2       9507100000  УДОЧКИ РЫБОЛОВНЫЕ ШТЕКЕРНЫЕ КАРБОНОВЫЕ ДЛИНА У...\n",
       "3       9507100000  УДОЧКИ РЫБОЛОВНЫЕ-СОСТАВНЫЕ, СОСТОЯЩИЕ ИЗ ОТДЕ...\n",
       "4       9507100000  УДОЧКИ РЫБОЛОВНЫЕ-ТЕЛЕСКОПИЧЕСКИЕ(ВЫДВИЖНЫЕ) ,...\n",
       "...            ...                                                ...\n",
       "261742  1207409000  семена кунжута sesamum indicum очищенные готов...\n",
       "261743  1207409000  кунжут семена кунжута очищенные не дробленные ...\n",
       "261744  1207409000                                    семена кунжута \n",
       "261745  1207409000          семена кунжута дробленые или недробленые \n",
       "261746  1207409000  семена кунжута очищенные в мешках для пищевой ...\n",
       "\n",
       "[290083 rows x 2 columns]"
      ]
     },
     "execution_count": 46,
     "metadata": {},
     "output_type": "execute_result"
    }
   ],
   "source": [
    "df"
   ]
  },
  {
   "cell_type": "code",
   "execution_count": 47,
   "id": "a4695423",
   "metadata": {},
   "outputs": [
    {
     "data": {
      "text/html": [
       "<div>\n",
       "<style scoped>\n",
       "    .dataframe tbody tr th:only-of-type {\n",
       "        vertical-align: middle;\n",
       "    }\n",
       "\n",
       "    .dataframe tbody tr th {\n",
       "        vertical-align: top;\n",
       "    }\n",
       "\n",
       "    .dataframe thead th {\n",
       "        text-align: right;\n",
       "    }\n",
       "</style>\n",
       "<table border=\"1\" class=\"dataframe\">\n",
       "  <thead>\n",
       "    <tr style=\"text-align: right;\">\n",
       "      <th></th>\n",
       "      <th>id</th>\n",
       "      <th>label</th>\n",
       "    </tr>\n",
       "  </thead>\n",
       "  <tbody>\n",
       "  </tbody>\n",
       "</table>\n",
       "</div>"
      ],
      "text/plain": [
       "Empty DataFrame\n",
       "Columns: [id, label]\n",
       "Index: []"
      ]
     },
     "execution_count": 47,
     "metadata": {},
     "output_type": "execute_result"
    }
   ],
   "source": [
    "df[df['id'].str.len()<10]"
   ]
  },
  {
   "cell_type": "code",
   "execution_count": 48,
   "id": "ad77d7f7",
   "metadata": {},
   "outputs": [
    {
     "name": "stderr",
     "output_type": "stream",
     "text": [
      "/tmp/ipykernel_4153/1248913975.py:4: FutureWarning: The default value of regex will change from True to False in a future version.\n",
      "  df['label'] = df['label'].str.replace(r'\\s+', ' ')\n",
      "/tmp/ipykernel_4153/1248913975.py:5: FutureWarning: The default value of regex will change from True to False in a future version.\n",
      "  df['label'] = df['label'].str.replace(r'[^\\w\\s]+', ' ')\n"
     ]
    }
   ],
   "source": [
    "#чистим от пунктуации, приводим к нижнему регистру, сжимаем пробелы\n",
    "df['label'] = df['label'].str.lower()\n",
    "df['label'] = df['label'].str.strip()\n",
    "df['label'] = df['label'].str.replace(r'\\s+', ' ')\n",
    "df['label'] = df['label'].str.replace(r'[^\\w\\s]+', ' ')"
   ]
  },
  {
   "cell_type": "code",
   "execution_count": 49,
   "id": "7cec37c0",
   "metadata": {},
   "outputs": [
    {
     "name": "stderr",
     "output_type": "stream",
     "text": [
      "/tmp/ipykernel_4153/446349523.py:2: FutureWarning: The default value of regex will change from True to False in a future version.\n",
      "  df['label'] = df['label'].str.replace(r'\\bупакован.+', '')\n",
      "/tmp/ipykernel_4153/446349523.py:3: FutureWarning: The default value of regex will change from True to False in a future version.\n",
      "  df['label'] = df['label'].str.replace(r'\\bвсего.+шт.+', '')\n"
     ]
    }
   ],
   "source": [
    "#убираем некоторые теткстовые патерны, не несущие полезную инфу\n",
    "df['label'] = df['label'].str.replace(r'\\bупакован.+', '')\n",
    "df['label'] = df['label'].str.replace(r'\\bвсего.+шт.+', '')"
   ]
  },
  {
   "cell_type": "code",
   "execution_count": 24,
   "id": "17de347f",
   "metadata": {},
   "outputs": [
    {
     "name": "stderr",
     "output_type": "stream",
     "text": [
      "C:\\Users\\yeril\\AppData\\Local\\Temp\\ipykernel_14968\\3021488021.py:1: FutureWarning: The default value of regex will change from True to False in a future version.\n",
      "  df['label'] = df['label'].str.replace(r'\\bкороб.+', '')\n"
     ]
    }
   ],
   "source": [
    "#df['label'] = df['label'].str.replace(r'\\bкороб.+', '')\n",
    "#от удаления коробок отказался, т.к. есть товары с таким наименованием"
   ]
  },
  {
   "cell_type": "code",
   "execution_count": 50,
   "id": "af692823",
   "metadata": {},
   "outputs": [],
   "source": [
    "#дополнительно сжимаем пробелы\n",
    "df['label'] = df['label'].str.replace('  ', ' ')"
   ]
  },
  {
   "cell_type": "code",
   "execution_count": 51,
   "id": "8b482ab0",
   "metadata": {},
   "outputs": [
    {
     "data": {
      "text/plain": [
       "0"
      ]
     },
     "execution_count": 51,
     "metadata": {},
     "output_type": "execute_result"
    }
   ],
   "source": [
    "len(df[df['label']==''])"
   ]
  },
  {
   "cell_type": "code",
   "execution_count": 52,
   "id": "88039638",
   "metadata": {},
   "outputs": [
    {
     "data": {
      "text/html": [
       "<div>\n",
       "<style scoped>\n",
       "    .dataframe tbody tr th:only-of-type {\n",
       "        vertical-align: middle;\n",
       "    }\n",
       "\n",
       "    .dataframe tbody tr th {\n",
       "        vertical-align: top;\n",
       "    }\n",
       "\n",
       "    .dataframe thead th {\n",
       "        text-align: right;\n",
       "    }\n",
       "</style>\n",
       "<table border=\"1\" class=\"dataframe\">\n",
       "  <thead>\n",
       "    <tr style=\"text-align: right;\">\n",
       "      <th></th>\n",
       "      <th>id</th>\n",
       "      <th>label</th>\n",
       "    </tr>\n",
       "  </thead>\n",
       "  <tbody>\n",
       "  </tbody>\n",
       "</table>\n",
       "</div>"
      ],
      "text/plain": [
       "Empty DataFrame\n",
       "Columns: [id, label]\n",
       "Index: []"
      ]
     },
     "execution_count": 52,
     "metadata": {},
     "output_type": "execute_result"
    }
   ],
   "source": [
    "df[df['label'] == '']"
   ]
  },
  {
   "cell_type": "code",
   "execution_count": 53,
   "id": "c67ba26c",
   "metadata": {},
   "outputs": [
    {
     "data": {
      "text/html": [
       "<div>\n",
       "<style scoped>\n",
       "    .dataframe tbody tr th:only-of-type {\n",
       "        vertical-align: middle;\n",
       "    }\n",
       "\n",
       "    .dataframe tbody tr th {\n",
       "        vertical-align: top;\n",
       "    }\n",
       "\n",
       "    .dataframe thead th {\n",
       "        text-align: right;\n",
       "    }\n",
       "</style>\n",
       "<table border=\"1\" class=\"dataframe\">\n",
       "  <thead>\n",
       "    <tr style=\"text-align: right;\">\n",
       "      <th></th>\n",
       "      <th>id</th>\n",
       "      <th>label</th>\n",
       "    </tr>\n",
       "  </thead>\n",
       "  <tbody>\n",
       "  </tbody>\n",
       "</table>\n",
       "</div>"
      ],
      "text/plain": [
       "Empty DataFrame\n",
       "Columns: [id, label]\n",
       "Index: []"
      ]
     },
     "execution_count": 53,
     "metadata": {},
     "output_type": "execute_result"
    }
   ],
   "source": [
    "df[df.isnull().values==True]"
   ]
  },
  {
   "cell_type": "code",
   "execution_count": 54,
   "id": "f67630f3",
   "metadata": {},
   "outputs": [],
   "source": [
    "df = df[df['label'].isnull()==False]"
   ]
  },
  {
   "cell_type": "code",
   "execution_count": 55,
   "id": "4c6a99b6",
   "metadata": {},
   "outputs": [],
   "source": [
    "df.drop(df[df['label'] == ''].index, inplace = True)"
   ]
  },
  {
   "cell_type": "code",
   "execution_count": 56,
   "id": "1a2918f2",
   "metadata": {},
   "outputs": [
    {
     "data": {
      "text/plain": [
       "2648"
      ]
     },
     "execution_count": 56,
     "metadata": {},
     "output_type": "execute_result"
    }
   ],
   "source": [
    "len(df['id'].unique())"
   ]
  },
  {
   "cell_type": "code",
   "execution_count": 57,
   "id": "0607c3be",
   "metadata": {},
   "outputs": [
    {
     "data": {
      "text/plain": [
       "232988"
      ]
     },
     "execution_count": 57,
     "metadata": {},
     "output_type": "execute_result"
    }
   ],
   "source": [
    "len(df['label'].unique())"
   ]
  },
  {
   "cell_type": "code",
   "execution_count": 58,
   "id": "435be727",
   "metadata": {},
   "outputs": [
    {
     "data": {
      "text/plain": [
       "290083"
      ]
     },
     "execution_count": 58,
     "metadata": {},
     "output_type": "execute_result"
    }
   ],
   "source": [
    "len(df)"
   ]
  },
  {
   "cell_type": "code",
   "execution_count": 59,
   "id": "99568f2d",
   "metadata": {},
   "outputs": [
    {
     "data": {
      "text/plain": [
       "233001"
      ]
     },
     "execution_count": 59,
     "metadata": {},
     "output_type": "execute_result"
    }
   ],
   "source": [
    "df = df.drop_duplicates()\n",
    "len(df)"
   ]
  },
  {
   "cell_type": "code",
   "execution_count": 98,
   "id": "6e3c9d32",
   "metadata": {},
   "outputs": [],
   "source": [
    "counts = df.value_counts('id')\n",
    "df_count = pd.DataFrame(data={'id': counts.index, 'count': counts.values})\n",
    "df_count.to_csv('../../../tnveds_sort.csv', sep=';', columns=['id', 'count'], index=False, header=False)"
   ]
  },
  {
   "cell_type": "code",
   "execution_count": 96,
   "id": "1c6995cc",
   "metadata": {},
   "outputs": [
    {
     "data": {
      "text/html": [
       "<div>\n",
       "<style scoped>\n",
       "    .dataframe tbody tr th:only-of-type {\n",
       "        vertical-align: middle;\n",
       "    }\n",
       "\n",
       "    .dataframe tbody tr th {\n",
       "        vertical-align: top;\n",
       "    }\n",
       "\n",
       "    .dataframe thead th {\n",
       "        text-align: right;\n",
       "    }\n",
       "</style>\n",
       "<table border=\"1\" class=\"dataframe\">\n",
       "  <thead>\n",
       "    <tr style=\"text-align: right;\">\n",
       "      <th></th>\n",
       "      <th>id</th>\n",
       "      <th>count</th>\n",
       "    </tr>\n",
       "  </thead>\n",
       "  <tbody>\n",
       "    <tr>\n",
       "      <th>2382</th>\n",
       "      <td>8462900097</td>\n",
       "      <td>19</td>\n",
       "    </tr>\n",
       "    <tr>\n",
       "      <th>2383</th>\n",
       "      <td>9405110022</td>\n",
       "      <td>19</td>\n",
       "    </tr>\n",
       "    <tr>\n",
       "      <th>2384</th>\n",
       "      <td>9405290012</td>\n",
       "      <td>18</td>\n",
       "    </tr>\n",
       "    <tr>\n",
       "      <th>2385</th>\n",
       "      <td>8714961000</td>\n",
       "      <td>18</td>\n",
       "    </tr>\n",
       "    <tr>\n",
       "      <th>2386</th>\n",
       "      <td>8531908500</td>\n",
       "      <td>18</td>\n",
       "    </tr>\n",
       "    <tr>\n",
       "      <th>...</th>\n",
       "      <td>...</td>\n",
       "      <td>...</td>\n",
       "    </tr>\n",
       "    <tr>\n",
       "      <th>2660</th>\n",
       "      <td>8537209100</td>\n",
       "      <td>1</td>\n",
       "    </tr>\n",
       "    <tr>\n",
       "      <th>2661</th>\n",
       "      <td>9013802000</td>\n",
       "      <td>1</td>\n",
       "    </tr>\n",
       "    <tr>\n",
       "      <th>2662</th>\n",
       "      <td>8524190027</td>\n",
       "      <td>1</td>\n",
       "    </tr>\n",
       "    <tr>\n",
       "      <th>2663</th>\n",
       "      <td>8541401001</td>\n",
       "      <td>1</td>\n",
       "    </tr>\n",
       "    <tr>\n",
       "      <th>2664</th>\n",
       "      <td>8519891900</td>\n",
       "      <td>1</td>\n",
       "    </tr>\n",
       "  </tbody>\n",
       "</table>\n",
       "<p>283 rows × 2 columns</p>\n",
       "</div>"
      ],
      "text/plain": [
       "              id  count\n",
       "2382  8462900097     19\n",
       "2383  9405110022     19\n",
       "2384  9405290012     18\n",
       "2385  8714961000     18\n",
       "2386  8531908500     18\n",
       "...          ...    ...\n",
       "2660  8537209100      1\n",
       "2661  9013802000      1\n",
       "2662  8524190027      1\n",
       "2663  8541401001      1\n",
       "2664  8519891900      1\n",
       "\n",
       "[283 rows x 2 columns]"
      ]
     },
     "execution_count": 96,
     "metadata": {},
     "output_type": "execute_result"
    }
   ],
   "source": [
    "df_count[df_count['count'] < 20]"
   ]
  },
  {
   "cell_type": "code",
   "execution_count": 60,
   "id": "00690766",
   "metadata": {},
   "outputs": [
    {
     "data": {
      "text/plain": [
       "25"
      ]
     },
     "execution_count": 60,
     "metadata": {},
     "output_type": "execute_result"
    }
   ],
   "source": [
    "#ищем одинаковые лэйблы с разными метками\n",
    "counts = df.value_counts('label')\n",
    "df_count = pd.DataFrame(data={'id': counts.index, 'count': counts.values})\n",
    "sum(df_count[df_count['count'] > 1]['count']) #получаем список лэйблов с разными айди и выводим его размер"
   ]
  },
  {
   "cell_type": "code",
   "execution_count": 61,
   "id": "d75d9f21",
   "metadata": {},
   "outputs": [],
   "source": [
    "df = df[~df['label'].isin(df_count[df_count['count'] > 1]['id'])] #удаляем точки датасета с лэйблами, которые имеют разные коды. Тильда - отрицание isin"
   ]
  },
  {
   "cell_type": "code",
   "execution_count": 62,
   "id": "bbe336d8",
   "metadata": {},
   "outputs": [
    {
     "data": {
      "text/html": [
       "<div>\n",
       "<style scoped>\n",
       "    .dataframe tbody tr th:only-of-type {\n",
       "        vertical-align: middle;\n",
       "    }\n",
       "\n",
       "    .dataframe tbody tr th {\n",
       "        vertical-align: top;\n",
       "    }\n",
       "\n",
       "    .dataframe thead th {\n",
       "        text-align: right;\n",
       "    }\n",
       "</style>\n",
       "<table border=\"1\" class=\"dataframe\">\n",
       "  <thead>\n",
       "    <tr style=\"text-align: right;\">\n",
       "      <th></th>\n",
       "      <th>id</th>\n",
       "      <th>label</th>\n",
       "    </tr>\n",
       "  </thead>\n",
       "  <tbody>\n",
       "    <tr>\n",
       "      <th>0</th>\n",
       "      <td>9507100000</td>\n",
       "      <td>удочки рыболовные разборные состоящие из отдел...</td>\n",
       "    </tr>\n",
       "    <tr>\n",
       "      <th>1</th>\n",
       "      <td>9507100000</td>\n",
       "      <td>удочки рыболовные разборные состоящие из отдел...</td>\n",
       "    </tr>\n",
       "    <tr>\n",
       "      <th>2</th>\n",
       "      <td>9507100000</td>\n",
       "      <td>удочки рыболовные штекерные карбоновые длина у...</td>\n",
       "    </tr>\n",
       "    <tr>\n",
       "      <th>3</th>\n",
       "      <td>9507100000</td>\n",
       "      <td>удочки рыболовные составные состоящие из отдел...</td>\n",
       "    </tr>\n",
       "    <tr>\n",
       "      <th>4</th>\n",
       "      <td>9507100000</td>\n",
       "      <td>удочки рыболовные телескопические выдвижные  с...</td>\n",
       "    </tr>\n",
       "    <tr>\n",
       "      <th>...</th>\n",
       "      <td>...</td>\n",
       "      <td>...</td>\n",
       "    </tr>\n",
       "    <tr>\n",
       "      <th>253660</th>\n",
       "      <td>9405190029</td>\n",
       "      <td>электрическое осветительное оборудование</td>\n",
       "    </tr>\n",
       "    <tr>\n",
       "      <th>253802</th>\n",
       "      <td>9403990009</td>\n",
       "      <td>части мебели из прочих материалов</td>\n",
       "    </tr>\n",
       "    <tr>\n",
       "      <th>253855</th>\n",
       "      <td>9403910000</td>\n",
       "      <td>части мебели из древесины</td>\n",
       "    </tr>\n",
       "    <tr>\n",
       "      <th>253933</th>\n",
       "      <td>9401910009</td>\n",
       "      <td>части мебели для сидения</td>\n",
       "    </tr>\n",
       "    <tr>\n",
       "      <th>255473</th>\n",
       "      <td>8477809100</td>\n",
       "      <td>оборудование для обработки пластмасс</td>\n",
       "    </tr>\n",
       "  </tbody>\n",
       "</table>\n",
       "<p>232976 rows × 2 columns</p>\n",
       "</div>"
      ],
      "text/plain": [
       "                id                                              label\n",
       "0       9507100000  удочки рыболовные разборные состоящие из отдел...\n",
       "1       9507100000  удочки рыболовные разборные состоящие из отдел...\n",
       "2       9507100000  удочки рыболовные штекерные карбоновые длина у...\n",
       "3       9507100000  удочки рыболовные составные состоящие из отдел...\n",
       "4       9507100000  удочки рыболовные телескопические выдвижные  с...\n",
       "...            ...                                                ...\n",
       "253660  9405190029           электрическое осветительное оборудование\n",
       "253802  9403990009                  части мебели из прочих материалов\n",
       "253855  9403910000                          части мебели из древесины\n",
       "253933  9401910009                           части мебели для сидения\n",
       "255473  8477809100               оборудование для обработки пластмасс\n",
       "\n",
       "[232976 rows x 2 columns]"
      ]
     },
     "execution_count": 62,
     "metadata": {},
     "output_type": "execute_result"
    }
   ],
   "source": [
    "df #готовый смёрдженый датасет"
   ]
  },
  {
   "cell_type": "code",
   "execution_count": 63,
   "id": "fe272e7c",
   "metadata": {},
   "outputs": [],
   "source": [
    "df.to_csv('../data/mergedcleared1307.csv', sep=';', columns=['id', 'label'], index=False, header=False)"
   ]
  },
  {
   "cell_type": "code",
   "execution_count": 42,
   "id": "9f5dc49f",
   "metadata": {},
   "outputs": [],
   "source": [
    "import numpy as np\n",
    "import pandas as pd\n",
    "df = pd.read_csv(\"../data/parsed1307.csv\", sep=';', names=['id', 'label'], dtype = {'id': str, 'label': str})\n",
    "df2 = pd.read_csv(\"../data/mergedcleared0407.csv\", sep=';', names=['id', 'label'], dtype = {'id': str, 'label': str})"
   ]
  },
  {
   "cell_type": "code",
   "execution_count": 43,
   "id": "a3478323",
   "metadata": {},
   "outputs": [],
   "source": [
    "df = pd.concat([df, df2])"
   ]
  },
  {
   "cell_type": "code",
   "execution_count": 44,
   "id": "974b756c",
   "metadata": {},
   "outputs": [
    {
     "data": {
      "text/plain": [
       "290083"
      ]
     },
     "execution_count": 44,
     "metadata": {},
     "output_type": "execute_result"
    }
   ],
   "source": [
    "len(df)"
   ]
  },
  {
   "cell_type": "code",
   "execution_count": 45,
   "id": "ae609609",
   "metadata": {},
   "outputs": [
    {
     "data": {
      "text/plain": [
       "261747"
      ]
     },
     "execution_count": 45,
     "metadata": {},
     "output_type": "execute_result"
    }
   ],
   "source": [
    "len(df2)"
   ]
  },
  {
   "cell_type": "code",
   "execution_count": 40,
   "id": "3309e96a",
   "metadata": {},
   "outputs": [],
   "source": [
    "del df2"
   ]
  }
 ],
 "metadata": {
  "kernelspec": {
   "display_name": "Python 3 (ipykernel)",
   "language": "python",
   "name": "python3"
  },
  "language_info": {
   "codemirror_mode": {
    "name": "ipython",
    "version": 3
   },
   "file_extension": ".py",
   "mimetype": "text/x-python",
   "name": "python",
   "nbconvert_exporter": "python",
   "pygments_lexer": "ipython3",
   "version": "3.10.11"
  }
 },
 "nbformat": 4,
 "nbformat_minor": 5
}
