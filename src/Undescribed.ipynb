{
 "cells": [
  {
   "cell_type": "code",
   "execution_count": 8,
   "id": "c4dd9b59",
   "metadata": {},
   "outputs": [],
   "source": [
    "import pandas as pd\n",
    "df = pd.read_csv(\"../cleareddata1606.csv\")\n",
    "df.drop(['Unnamed: 0', 'id2', 'g_id'], axis=1, inplace=True)\n",
    "df['id'] = pd.Series(df['id']).astype(str)\n",
    "ids = []\n",
    "for id in df['id']:\n",
    "    if len(id) == 10:\n",
    "        ids.append(str(id)[:4])\n",
    "    else:\n",
    "        ids.append('0' + str(id)[:3])\n",
    "df['id'] = ids\n",
    "\n",
    "dscr = pd.read_csv(\"desc.csv\", sep=';', names=['id', 'label'])\n",
    "ids = pd.Series(dscr['id'])\n",
    "ids = ids.astype(str)\n",
    "dscr['id'] = ids\n",
    "ids = []\n",
    "for i, id in enumerate(dscr['id']):\n",
    "    if len(id) == 4:\n",
    "        ids.append(str(id))\n",
    "    else:\n",
    "        ids.append('0' + str(id))\n",
    "dscr['id'] = ids"
   ]
  },
  {
   "cell_type": "code",
   "execution_count": 10,
   "id": "e4c718b1",
   "metadata": {},
   "outputs": [
    {
     "name": "stdout",
     "output_type": "stream",
     "text": [
      "1062 2\n",
      "1018 4\n",
      "1012 5\n",
      "1068 1\n",
      "0391 1\n",
      "5022 7\n",
      "0481 1\n",
      "5058 1\n",
      "5032 1\n",
      "5035 1\n",
      "5052 1\n",
      "5075 2\n",
      "6908 1\n",
      "0830 1\n"
     ]
    }
   ],
   "source": [
    "withlabels = list(dscr['id'])\n",
    "justids = list(df['id'].unique())\n",
    "for each in justids:\n",
    "    if each not in withlabels:\n",
    "        print(each, len(df[df['id']==each]))"
   ]
  }
 ],
 "metadata": {
  "kernelspec": {
   "display_name": "Python 3 (ipykernel)",
   "language": "python",
   "name": "python3"
  },
  "language_info": {
   "codemirror_mode": {
    "name": "ipython",
    "version": 3
   },
   "file_extension": ".py",
   "mimetype": "text/x-python",
   "name": "python",
   "nbconvert_exporter": "python",
   "pygments_lexer": "ipython3",
   "version": "3.10.11"
  }
 },
 "nbformat": 4,
 "nbformat_minor": 5
}
