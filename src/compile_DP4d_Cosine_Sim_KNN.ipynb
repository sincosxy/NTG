{
 "cells": [
  {
   "cell_type": "code",
   "execution_count": 1,
   "id": "437a3850",
   "metadata": {},
   "outputs": [
    {
     "name": "stderr",
     "output_type": "stream",
     "text": [
      "C:\\Users\\yeril\\AppData\\Local\\Packages\\PythonSoftwareFoundation.Python.3.10_qbz5n2kfra8p0\\LocalCache\\local-packages\\Python310\\site-packages\\tqdm\\auto.py:22: TqdmWarning: IProgress not found. Please update jupyter and ipywidgets. See https://ipywidgets.readthedocs.io/en/stable/user_install.html\n",
      "  from .autonotebook import tqdm as notebook_tqdm\n",
      "Some weights of BertForSequenceClassification were not initialized from the model checkpoint at DeepPavlov/rubert-base-cased-sentence and are newly initialized: ['classifier.weight', 'classifier.bias']\n",
      "You should probably TRAIN this model on a down-stream task to be able to use it for predictions and inference.\n"
     ]
    }
   ],
   "source": [
    "#импорт библиотек, загрузка модели, весов, разметки клаассов\n",
    "import torch\n",
    "import numpy as np\n",
    "import pandas as pd\n",
    "device = torch.device(\"cpu\")\n",
    "from transformers import AutoTokenizer, AutoModel, AutoModelForSequenceClassification, AdamW, get_scheduler\n",
    "model_name = \"DeepPavlov/rubert-base-cased-sentence\"\n",
    "tokenizer = AutoTokenizer.from_pretrained(model_name)\n",
    "model = AutoModelForSequenceClassification.from_pretrained(model_name, num_labels=660).to(device)\n",
    "\n",
    "from sentence_transformers import SentenceTransformer\n",
    "model_sen = SentenceTransformer('sentence-transformers/all-mpnet-base-v2')\n",
    "\n",
    "from sklearn import preprocessing\n",
    "Label_encoder = preprocessing.LabelEncoder()\n",
    "\n",
    "#Label_encoder.classes_ = np.load('./cl_classes2610.npy', allow_pickle=True)\n",
    "#model.load_state_dict(torch.load(\"../../../best_model2306/pytorch_model.bin\", map_location=device))\n",
    "\n",
    "#после обучения поменять на:\n",
    "\n",
    "Label_encoder.classes_ = np.load('../sets/classes4d.npy', allow_pickle=True)\n",
    "model.load_state_dict(torch.load(\"../../../DeepPavlov_model/pytorch_model.bin\", map_location=device))\n",
    "\n",
    "#импорт описания классов (выдрал с альта софта)\n",
    "dscr = pd.read_csv(\"../data/desc4d.csv\", sep=';', names=['id', 'label'], dtype={'id': str, 'label': str})\n",
    "dscr10d = pd.read_csv(\"../data/desc10d.csv\", sep=';', names=['id', 'label', 'valid'], dtype={'id': str, 'label': str, 'valid': str})\n",
    "\n"
   ]
  },
  {
   "cell_type": "code",
   "execution_count": 2,
   "id": "90b9b4c4",
   "metadata": {},
   "outputs": [],
   "source": [
    "#функция предсказания одного класса (аргмакс). По умолчанию с кодом класса дает описание класса\n",
    "def predict_class(text, desc=True):\n",
    "    model.to(torch.device('cpu'))\n",
    "    inputs = tokenizer(text, truncation = True, max_length=100, padding='max_length', return_tensors=\"pt\")\n",
    "    with torch.no_grad():\n",
    "        logits = model(**inputs).logits\n",
    "        predicted_class_id = logits.argmax().item()\n",
    "        if desc==True:\n",
    "            result = list()\n",
    "            id = Label_encoder.inverse_transform([predicted_class_id])[0]\n",
    "            result.append(id)\n",
    "            result.append(dscr[dscr['id']==id].iloc[0]['label'])\n",
    "            return result\n",
    "        else:\n",
    "            return Label_encoder.inverse_transform([predicted_class_id])[0]\n",
    "\n",
    "def distance(embeddings1, embeddings2, distance_metric=1):\n",
    "    if distance_metric==0:# Euclidian\n",
    "        diff = np.subtract(embeddings1, embeddings2)\n",
    "        dist = np.sum(np.square(diff),0)\n",
    "    elif distance_metric==1:#cosine\n",
    "        dot = np.sum(np.multiply(embeddings1, embeddings2), axis=0)\n",
    "        norm = np.linalg.norm(embeddings1, axis=0) * np.linalg.norm(embeddings2, axis=0)\n",
    "        similarity = dot / norm\n",
    "        dist = np.arccos(similarity) / np.pi\n",
    "    else:\n",
    "        raise 'Undefined %d' % distance_metric\n",
    "    return dist"
   ]
  },
  {
   "cell_type": "code",
   "execution_count": 11,
   "id": "0e53d862",
   "metadata": {},
   "outputs": [],
   "source": [
    "#загрузим обучающий датасет\n",
    "#df = pd.read_csv(\"../sets/train_with_ids.csv\")#, sep=';', names=['id', 'label'], dtype={'id': str, 'label': str})\n",
    "#df = pd.read_csv(\"../data/firstset.csv\", sep=';', names=['id', 'label'], dtype={'id': str, 'label': str})\n",
    "df = pd.read_csv(\"../sets/train_with_ids.csv\", sep=',', dtype={'id': str, 'description': str, 'g_id': str, 'labels': int})\n",
    "df['label'] = df['description']\n",
    "df = df.drop(columns=['labels', 'description', 'g_id'])\n",
    "#функция для вывода обучающих данных по коду. При pandas=False возвращает numpy массив\n",
    "def whats_data(id, pandas=True):\n",
    "    if pandas == True:\n",
    "        return df[df.id.str.slice(start=0, stop=len(str(id)))==str(id)]\n",
    "    else:\n",
    "        return df[df.id.str.slice(start=0, stop=len(str(id)))==str(id)].to_numpy()"
   ]
  },
  {
   "cell_type": "code",
   "execution_count": 99,
   "id": "7e0486da",
   "metadata": {},
   "outputs": [],
   "source": [
    "\n",
    "def makearr(text):\n",
    "    pred = predict_class(text)\n",
    "    arr = np.array([[pred[0], pred[1], 0]])\n",
    "    t_digits = dscr10d.loc[dscr10d.id.str.slice(start=0, stop=4)==pred[0], ['id', 'label']].to_numpy()\n",
    "    sents = list()\n",
    "    sents.append(text)\n",
    "    for each in t_digits:\n",
    "        arr = np.append(arr, [[each[0], each[1], 0]], axis=0)\n",
    "        sents.append(each[1])\n",
    "\n",
    "    embeddings = model_sen.encode(sents)\n",
    "    return arr, embeddings\n",
    "\n",
    "def get_sorted(text):\n",
    "    arr, embs = makearr(text)\n",
    "    for i in range(1, len(embs)):\n",
    "        arr[i][2] = distance(embs[0], embs[i])\n",
    "    a = pd.DataFrame(arr, columns = ['id','label','distance']).sort_values(by=['distance']).style.set_properties(subset=['label'], **{'width': '800px'})\n",
    "    return a\n"
   ]
  },
  {
   "cell_type": "code",
   "execution_count": 5,
   "id": "78afd845",
   "metadata": {},
   "outputs": [
    {
     "data": {
      "text/html": [
       "<style type=\"text/css\">\n",
       "#T_f0e75_row0_col1, #T_f0e75_row1_col1, #T_f0e75_row2_col1, #T_f0e75_row3_col1, #T_f0e75_row4_col1, #T_f0e75_row5_col1, #T_f0e75_row6_col1, #T_f0e75_row7_col1, #T_f0e75_row8_col1 {\n",
       "  width: 800px;\n",
       "}\n",
       "</style>\n",
       "<table id=\"T_f0e75\">\n",
       "  <thead>\n",
       "    <tr>\n",
       "      <th class=\"blank level0\" >&nbsp;</th>\n",
       "      <th id=\"T_f0e75_level0_col0\" class=\"col_heading level0 col0\" >id</th>\n",
       "      <th id=\"T_f0e75_level0_col1\" class=\"col_heading level0 col1\" >label</th>\n",
       "      <th id=\"T_f0e75_level0_col2\" class=\"col_heading level0 col2\" >distance</th>\n",
       "    </tr>\n",
       "  </thead>\n",
       "  <tbody>\n",
       "    <tr>\n",
       "      <th id=\"T_f0e75_level0_row0\" class=\"row_heading level0 row0\" >0</th>\n",
       "      <td id=\"T_f0e75_row0_col0\" class=\"data row0 col0\" >9018</td>\n",
       "      <td id=\"T_f0e75_row0_col1\" class=\"data row0 col1\" >Приборы и устройства, применяемые в медицине, хирургии, стоматологии или ветеринарии, включая сцинтиграфическую аппаратуру, аппаратура электромедицинская прочая и приборы для исследования зрения</td>\n",
       "      <td id=\"T_f0e75_row0_col2\" class=\"data row0 col2\" >0</td>\n",
       "    </tr>\n",
       "    <tr>\n",
       "      <th id=\"T_f0e75_level0_row1\" class=\"row_heading level0 row1\" >7</th>\n",
       "      <td id=\"T_f0e75_row1_col0\" class=\"data row1 col0\" >9018311009</td>\n",
       "      <td id=\"T_f0e75_row1_col1\" class=\"data row1 col1\" >прочие шприцы, с иглами или без игл, из пластмассы</td>\n",
       "      <td id=\"T_f0e75_row1_col2\" class=\"data row1 col2\" >0.22475879623338166</td>\n",
       "    </tr>\n",
       "    <tr>\n",
       "      <th id=\"T_f0e75_level0_row2\" class=\"row_heading level0 row2\" >5</th>\n",
       "      <td id=\"T_f0e75_row2_col0\" class=\"data row2 col0\" >9018321000</td>\n",
       "      <td id=\"T_f0e75_row2_col1\" class=\"data row2 col1\" >иглы металлические трубчатые</td>\n",
       "      <td id=\"T_f0e75_row2_col2\" class=\"data row2 col2\" >0.2397155065323802</td>\n",
       "    </tr>\n",
       "    <tr>\n",
       "      <th id=\"T_f0e75_level0_row3\" class=\"row_heading level0 row3\" >8</th>\n",
       "      <td id=\"T_f0e75_row3_col0\" class=\"data row3 col0\" >9018311001</td>\n",
       "      <td id=\"T_f0e75_row3_col1\" class=\"data row3 col1\" >шприцы, с иглами или без игл, из пластмассы, для инсулина объемом не более 2 мл</td>\n",
       "      <td id=\"T_f0e75_row3_col2\" class=\"data row3 col2\" >0.25143066596953373</td>\n",
       "    </tr>\n",
       "    <tr>\n",
       "      <th id=\"T_f0e75_level0_row4\" class=\"row_heading level0 row4\" >4</th>\n",
       "      <td id=\"T_f0e75_row4_col0\" class=\"data row4 col0\" >9018390000</td>\n",
       "      <td id=\"T_f0e75_row4_col1\" class=\"data row4 col1\" >прочие шприцы, иглы, катетеры, канюли и аналогичные инструменты</td>\n",
       "      <td id=\"T_f0e75_row4_col2\" class=\"data row4 col2\" >0.26833115324257945</td>\n",
       "    </tr>\n",
       "    <tr>\n",
       "      <th id=\"T_f0e75_level0_row5\" class=\"row_heading level0 row5\" >3</th>\n",
       "      <td id=\"T_f0e75_row5_col0\" class=\"data row5 col0\" >9018191000</td>\n",
       "      <td id=\"T_f0e75_row5_col1\" class=\"data row5 col1\" >прочая аппаратура электродиагностическая для одновременного контроля двух или более параметров</td>\n",
       "      <td id=\"T_f0e75_row5_col2\" class=\"data row5 col2\" >0.28426613635820075</td>\n",
       "    </tr>\n",
       "    <tr>\n",
       "      <th id=\"T_f0e75_level0_row6\" class=\"row_heading level0 row6\" >2</th>\n",
       "      <td id=\"T_f0e75_row6_col0\" class=\"data row6 col0\" >9018902000</td>\n",
       "      <td id=\"T_f0e75_row6_col1\" class=\"data row6 col1\" >эндоскопы</td>\n",
       "      <td id=\"T_f0e75_row6_col2\" class=\"data row6 col2\" >0.295797810352401</td>\n",
       "    </tr>\n",
       "    <tr>\n",
       "      <th id=\"T_f0e75_level0_row7\" class=\"row_heading level0 row7\" >1</th>\n",
       "      <td id=\"T_f0e75_row7_col0\" class=\"data row7 col0\" >9018908409</td>\n",
       "      <td id=\"T_f0e75_row7_col1\" class=\"data row7 col1\" >инструменты и оборудование, прочие, применяемые в медицине, хирургии, стоматологии или ветеринарии, включая сцинтиграфическую аппаратуру, аппаратура электромедицинская прочая и приборы для исследования зрения</td>\n",
       "      <td id=\"T_f0e75_row7_col2\" class=\"data row7 col2\" >0.29582308205233004</td>\n",
       "    </tr>\n",
       "    <tr>\n",
       "      <th id=\"T_f0e75_level0_row8\" class=\"row_heading level0 row8\" >6</th>\n",
       "      <td id=\"T_f0e75_row8_col0\" class=\"data row8 col0\" >9018901000</td>\n",
       "      <td id=\"T_f0e75_row8_col1\" class=\"data row8 col1\" >инструменты и оборудование для измерения кровяного давления</td>\n",
       "      <td id=\"T_f0e75_row8_col2\" class=\"data row8 col2\" >0.30457541926401827</td>\n",
       "    </tr>\n",
       "  </tbody>\n",
       "</table>\n"
      ],
      "text/plain": [
       "<pandas.io.formats.style.Styler at 0x1fe316961d0>"
      ]
     },
     "execution_count": 5,
     "metadata": {},
     "output_type": "execute_result"
    }
   ],
   "source": [
    "get_sorted('шприцы очень маленькие')"
   ]
  },
  {
   "cell_type": "code",
   "execution_count": null,
   "id": "9473c978",
   "metadata": {},
   "outputs": [],
   "source": []
  },
  {
   "cell_type": "code",
   "execution_count": null,
   "id": "6397d2ea",
   "metadata": {},
   "outputs": [],
   "source": []
  },
  {
   "cell_type": "code",
   "execution_count": 6,
   "id": "1be9d105",
   "metadata": {},
   "outputs": [
    {
     "name": "stderr",
     "output_type": "stream",
     "text": [
      "Downloading (…)okenizer_config.json: 100%|████████████████████████████████████████████████████| 323/323 [00:00<?, ?B/s]\n",
      "C:\\Users\\yeril\\AppData\\Local\\Packages\\PythonSoftwareFoundation.Python.3.10_qbz5n2kfra8p0\\LocalCache\\local-packages\\Python310\\site-packages\\huggingface_hub\\file_download.py:133: UserWarning: `huggingface_hub` cache-system uses symlinks by default to efficiently store duplicated files but your machine does not support them in C:\\Users\\yeril\\.cache\\huggingface\\hub. Caching files will still work but in a degraded version that might require more space on your disk. This warning can be disabled by setting the `HF_HUB_DISABLE_SYMLINKS_WARNING` environment variable. For more details, see https://huggingface.co/docs/huggingface_hub/how-to-cache#limitations.\n",
      "To support symlinks on Windows, you either need to activate Developer Mode or to run Python as an administrator. In order to see activate developer mode, see this article: https://docs.microsoft.com/en-us/windows/apps/get-started/enable-your-device-for-development\n",
      "  warnings.warn(message)\n",
      "Downloading (…)lve/main/config.json: 100%|████████████████████████████████████████████████████| 655/655 [00:00<?, ?B/s]\n",
      "Downloading (…)solve/main/vocab.txt: 100%|████████████████████████████████████████| 1.78M/1.78M [00:00<00:00, 2.10MB/s]\n",
      "Downloading (…)cial_tokens_map.json: 100%|█████████████████████████████████████████████| 112/112 [00:00<00:00, 112kB/s]\n",
      "Downloading pytorch_model.bin: 100%|██████████████████████████████████████████████| 1.71G/1.71G [12:46<00:00, 2.23MB/s]\n",
      "Asking to truncate to max_length but no maximum length is provided and the model has no predefined maximum length. Default to no truncation.\n"
     ]
    },
    {
     "name": "stdout",
     "output_type": "stream",
     "text": [
      "predicted 4 digs: ['4017', 'Резина твердая (например, эбонит) во всех формах, включая отходы и скрап; изделия из твердой резины:']\n",
      "\n",
      "10 digits options: [['4017000009'\n",
      "  'резина твердая (например, эбонит) во всех формах, включая отходы и скрап; изделия из твердой резины, прочие']]\n",
      "\n",
      "predicted 10 digs: [['4017000009'\n",
      "  'резина твердая (например, эбонит) во всех формах, включая отходы и скрап; изделия из твердой резины, прочие'\n",
      "  nan]]\n"
     ]
    }
   ],
   "source": [
    "#тесты с косинусным сходством ()\n",
    "\n",
    "model_name = \"sberbank-ai/sbert_large_nlu_ru\"\n",
    "tokenizer_t = AutoTokenizer.from_pretrained(model_name)\n",
    "#model = AutoModelForSequenceClassification.from_pretrained(model_name, num_labels=655)\n",
    "model_t = AutoModel.from_pretrained(model_name)\n",
    "\n",
    "def embed_bert_cls(text, model=model_t, tokenizer=tokenizer_t):\n",
    "    t = tokenizer(text, padding=True, truncation=True, return_tensors='pt')\n",
    "    device = torch.device(\"cuda\") if torch.cuda.is_available() else torch.device(\"cpu\")\n",
    "    #model\n",
    "    with torch.no_grad():\n",
    "        model_output = model(**{k: v.to(model.device) for k, v in t.items()})\n",
    "    embeddings = model_output.last_hidden_state[:, 0, :]\n",
    "    embeddings = torch.nn.functional.normalize(embeddings)\n",
    "    return embeddings[0].cpu().numpy()\n",
    "\n",
    "\n",
    "\n",
    "def get_distance(id1, id2, metric=1):\n",
    "    #label1 = df['label'][id1] if type(id1) == int else str(id1)\n",
    "    #label2 = df['label'][id2] if type(id2) == int else str(id2)\n",
    "    print(f'distance between {label1} and {label2}: {distance(embed_bert_cls(label1), embed_bert_cls(label2), distance_metric=metric)}')\n",
    "\n",
    "def predict_10d(text, verbose=True):\n",
    "    pred4 = predict_class(text)\n",
    "    \n",
    "    #dscr10d.loc[dscr10d.id.str.slice(start=0, stop=4)==pred4, ['id', 'label']]\n",
    "    t_digits = dscr10d.loc[dscr10d.id.str.slice(start=0, stop=4)==pred4[0], ['id', 'label']].to_numpy()\n",
    "    \n",
    "    cos = dict()\n",
    "    for each in t_digits:\n",
    "        cos[each[0]] = distance(embed_bert_cls(text), embed_bert_cls(each[1]))\n",
    "    #cos\n",
    "    pred10 = dscr10d[dscr10d['id'] == min(cos, key = cos.get)].to_numpy()\n",
    "    if verbose == True:\n",
    "        print(f'predicted 4 digs: {pred4}\\n')\n",
    "        print(f'10 digits options: {t_digits}\\n')\n",
    "        print(f'predicted 10 digs: {pred10}')\n",
    "    return pred10\n",
    "\n",
    "prediction = predict_10d(\"изделия фармацевтические резиновые\")"
   ]
  },
  {
   "cell_type": "code",
   "execution_count": 9,
   "id": "374710b5",
   "metadata": {},
   "outputs": [
    {
     "name": "stdout",
     "output_type": "stream",
     "text": [
      "predicted 4 digs: ['4014', 'Изделия гигиенические или фармацевтические (включая соски) из вулканизованной резины, кроме твердой резины, с фитингами из твердой резины или без них']\n",
      "\n",
      "10 digits options: [['4014100000' 'контрацептивы']\n",
      " ['4014900000'\n",
      "  'изделия гигиенические или фармацевтические (включая соски) из вулканизованной резины, кроме твердой резины, с фитингами из твердой резины или без них, прочие']]\n",
      "\n",
      "predicted 10 digs: [['4014100000' 'контрацептивы' nan]]\n"
     ]
    }
   ],
   "source": [
    "prediction = predict_10d(\"презервативы из латекса\")"
   ]
  },
  {
   "cell_type": "code",
   "execution_count": null,
   "id": "1807e2b9",
   "metadata": {},
   "outputs": [],
   "source": []
  },
  {
   "cell_type": "code",
   "execution_count": 89,
   "id": "5e2b1721",
   "metadata": {},
   "outputs": [],
   "source": [
    "test_df = pd.read_csv(\"../sets/test_with_ids.csv\", dtype={'id': str, 'description': str, 'g_id': str, 'labels': int}) # names=['id', 'description', 'g_id', 'labels'],\n",
    "test_df = test_df.sample(frac=1).reset_index(drop=True)\n",
    "test =  test_df[int(len(test_df)*0.8):]"
   ]
  },
  {
   "cell_type": "code",
   "execution_count": 42,
   "id": "360aca85",
   "metadata": {},
   "outputs": [],
   "source": [
    "from sklearn import preprocessing\n",
    "from sklearn.metrics import classification_report\n",
    "from tqdm import tqdm"
   ]
  },
  {
   "cell_type": "code",
   "execution_count": null,
   "id": "abd33465",
   "metadata": {},
   "outputs": [],
   "source": [
    "#print(classification_report(Label_encoder.inverse_transform(true), Label_encoder.inverse_transform(preds)))"
   ]
  },
  {
   "cell_type": "code",
   "execution_count": null,
   "id": "ee4d8aef",
   "metadata": {},
   "outputs": [],
   "source": []
  },
  {
   "cell_type": "code",
   "execution_count": 47,
   "id": "0686d4c7",
   "metadata": {},
   "outputs": [
    {
     "data": {
      "text/html": [
       "<div>\n",
       "<style scoped>\n",
       "    .dataframe tbody tr th:only-of-type {\n",
       "        vertical-align: middle;\n",
       "    }\n",
       "\n",
       "    .dataframe tbody tr th {\n",
       "        vertical-align: top;\n",
       "    }\n",
       "\n",
       "    .dataframe thead th {\n",
       "        text-align: right;\n",
       "    }\n",
       "</style>\n",
       "<table border=\"1\" class=\"dataframe\">\n",
       "  <thead>\n",
       "    <tr style=\"text-align: right;\">\n",
       "      <th></th>\n",
       "      <th>id</th>\n",
       "      <th>description</th>\n",
       "      <th>g_id</th>\n",
       "      <th>labels</th>\n",
       "    </tr>\n",
       "  </thead>\n",
       "  <tbody>\n",
       "    <tr>\n",
       "      <th>37</th>\n",
       "      <td>9503003500</td>\n",
       "      <td>игрушки для детей из полимерных материалов наб...</td>\n",
       "      <td>9503</td>\n",
       "      <td>635</td>\n",
       "    </tr>\n",
       "    <tr>\n",
       "      <th>38</th>\n",
       "      <td>7616910000</td>\n",
       "      <td>части систем промышленной вентиляции и кондици...</td>\n",
       "      <td>7616</td>\n",
       "      <td>422</td>\n",
       "    </tr>\n",
       "    <tr>\n",
       "      <th>39</th>\n",
       "      <td>9503007000</td>\n",
       "      <td>игрушки детские из полимерных материалов в наб...</td>\n",
       "      <td>9503</td>\n",
       "      <td>635</td>\n",
       "    </tr>\n",
       "    <tr>\n",
       "      <th>40</th>\n",
       "      <td>3305900009</td>\n",
       "      <td>средства для волос не содержат этиловый спирт ...</td>\n",
       "      <td>3305</td>\n",
       "      <td>119</td>\n",
       "    </tr>\n",
       "    <tr>\n",
       "      <th>41</th>\n",
       "      <td>4011400000</td>\n",
       "      <td>новые пневматические резиновые шины dunlop для...</td>\n",
       "      <td>4011</td>\n",
       "      <td>171</td>\n",
       "    </tr>\n",
       "    <tr>\n",
       "      <th>...</th>\n",
       "      <td>...</td>\n",
       "      <td>...</td>\n",
       "      <td>...</td>\n",
       "      <td>...</td>\n",
       "    </tr>\n",
       "    <tr>\n",
       "      <th>46591</th>\n",
       "      <td>8483308007</td>\n",
       "      <td>подшипники скольжения для валов прочие  чехия ...</td>\n",
       "      <td>8483</td>\n",
       "      <td>518</td>\n",
       "    </tr>\n",
       "    <tr>\n",
       "      <th>46592</th>\n",
       "      <td>3923409000</td>\n",
       "      <td>катушка из пластмассы для шланга на колесах не...</td>\n",
       "      <td>3923</td>\n",
       "      <td>161</td>\n",
       "    </tr>\n",
       "    <tr>\n",
       "      <th>46593</th>\n",
       "      <td>4818201000</td>\n",
       "      <td>изделия из бумаги бытового и санитарно гигиен ...</td>\n",
       "      <td>4818</td>\n",
       "      <td>209</td>\n",
       "    </tr>\n",
       "    <tr>\n",
       "      <th>46594</th>\n",
       "      <td>9001900009</td>\n",
       "      <td>зеркало</td>\n",
       "      <td>9001</td>\n",
       "      <td>585</td>\n",
       "    </tr>\n",
       "    <tr>\n",
       "      <th>46595</th>\n",
       "      <td>9307000000</td>\n",
       "      <td>сувенирная продукция серийного производства сл...</td>\n",
       "      <td>9307</td>\n",
       "      <td>628</td>\n",
       "    </tr>\n",
       "  </tbody>\n",
       "</table>\n",
       "<p>46559 rows × 4 columns</p>\n",
       "</div>"
      ],
      "text/plain": [
       "               id                                        description  g_id  \\\n",
       "37     9503003500  игрушки для детей из полимерных материалов наб...  9503   \n",
       "38     7616910000  части систем промышленной вентиляции и кондици...  7616   \n",
       "39     9503007000  игрушки детские из полимерных материалов в наб...  9503   \n",
       "40     3305900009  средства для волос не содержат этиловый спирт ...  3305   \n",
       "41     4011400000  новые пневматические резиновые шины dunlop для...  4011   \n",
       "...           ...                                                ...   ...   \n",
       "46591  8483308007  подшипники скольжения для валов прочие  чехия ...  8483   \n",
       "46592  3923409000  катушка из пластмассы для шланга на колесах не...  3923   \n",
       "46593  4818201000  изделия из бумаги бытового и санитарно гигиен ...  4818   \n",
       "46594  9001900009                                            зеркало  9001   \n",
       "46595  9307000000  сувенирная продукция серийного производства сл...  9307   \n",
       "\n",
       "       labels  \n",
       "37        635  \n",
       "38        422  \n",
       "39        635  \n",
       "40        119  \n",
       "41        171  \n",
       "...       ...  \n",
       "46591     518  \n",
       "46592     161  \n",
       "46593     209  \n",
       "46594     585  \n",
       "46595     628  \n",
       "\n",
       "[46559 rows x 4 columns]"
      ]
     },
     "execution_count": 47,
     "metadata": {},
     "output_type": "execute_result"
    }
   ],
   "source": [
    "test =  test_df[int(len(test_df)*0.08):]\n",
    "test"
   ]
  },
  {
   "cell_type": "code",
   "execution_count": 90,
   "id": "3341fde3",
   "metadata": {},
   "outputs": [],
   "source": [
    "true = test_df['id'][:int(len(test_df)*0.0008)]\n",
    "labels = test_df['description'][:int(len(test_df)*0.0008)]"
   ]
  },
  {
   "cell_type": "code",
   "execution_count": 91,
   "id": "bca7b7b4",
   "metadata": {},
   "outputs": [
    {
     "name": "stderr",
     "output_type": "stream",
     "text": [
      "100%|██████████████████████████████████████████████████████████████████████████████████| 37/37 [04:25<00:00,  7.19s/it]\n"
     ]
    }
   ],
   "source": [
    "preds = list()\n",
    "for each in tqdm(labels):\n",
    "    #print(each)\n",
    "    preds.append(predict_10d(each, verbose=False)[0][0])"
   ]
  },
  {
   "cell_type": "code",
   "execution_count": 94,
   "id": "6a38e4df",
   "metadata": {},
   "outputs": [],
   "source": [
    "#print(classification_report(true, preds))"
   ]
  },
  {
   "cell_type": "code",
   "execution_count": null,
   "id": "b4b55a82",
   "metadata": {},
   "outputs": [],
   "source": [
    "whats_data(predict_class('покрышки для воздушных судов', desc=False)).style.set_properties(subset=['label'], **{'width': '800px'})"
   ]
  },
  {
   "cell_type": "code",
   "execution_count": 101,
   "id": "1f5bc895",
   "metadata": {},
   "outputs": [],
   "source": []
  },
  {
   "cell_type": "code",
   "execution_count": null,
   "id": "b21dfa87",
   "metadata": {},
   "outputs": [],
   "source": []
  },
  {
   "cell_type": "code",
   "execution_count": null,
   "id": "4bf67de3",
   "metadata": {},
   "outputs": [],
   "source": []
  },
  {
   "cell_type": "code",
   "execution_count": 109,
   "id": "106420dc",
   "metadata": {},
   "outputs": [
    {
     "ename": "TypeError",
     "evalue": "'Styler' object is not subscriptable",
     "output_type": "error",
     "traceback": [
      "\u001b[1;31m---------------------------------------------------------------------------\u001b[0m",
      "\u001b[1;31mTypeError\u001b[0m                                 Traceback (most recent call last)",
      "Input \u001b[1;32mIn [109]\u001b[0m, in \u001b[0;36m<cell line: 1>\u001b[1;34m()\u001b[0m\n\u001b[1;32m----> 1\u001b[0m \u001b[43ma\u001b[49m\u001b[43m[\u001b[49m\u001b[38;5;124;43m'\u001b[39;49m\u001b[38;5;124;43mdistance\u001b[39;49m\u001b[38;5;124;43m'\u001b[39;49m\u001b[43m]\u001b[49m\u001b[38;5;241m.\u001b[39mmin()\n",
      "\u001b[1;31mTypeError\u001b[0m: 'Styler' object is not subscriptable"
     ]
    }
   ],
   "source": []
  },
  {
   "cell_type": "code",
   "execution_count": 58,
   "id": "78008786",
   "metadata": {},
   "outputs": [],
   "source": [
    "def takearr(text):\n",
    "    pred = predict_class(text)\n",
    "    arr = np.array([[pred[0], pred[1], 0]])\n",
    "    t_digits = dscr10d.loc[dscr10d.id.str.slice(start=0, stop=4)==pred[0], ['id', 'label']].to_numpy()\n",
    "    sents = list()\n",
    "    sents.append(text)\n",
    "    for each in t_digits:\n",
    "        arr = np.append(arr, [[each[0], each[1], 0]], axis=0)\n",
    "        sents.append(each[1])\n",
    "    #print(sents)\n",
    "    embeddings = model_compare.encode(sents)\n",
    "    return arr, embeddings"
   ]
  },
  {
   "cell_type": "code",
   "execution_count": null,
   "id": "a300cb85",
   "metadata": {},
   "outputs": [],
   "source": []
  },
  {
   "cell_type": "code",
   "execution_count": null,
   "id": "3917c749",
   "metadata": {},
   "outputs": [],
   "source": []
  },
  {
   "cell_type": "code",
   "execution_count": 33,
   "id": "79a50f28",
   "metadata": {},
   "outputs": [],
   "source": [
    "df = pd.read_csv(\"../data/mergedcleared1307.csv\", sep=';', names=['id', 'label'], dtype={'id': str, 'label': str})\n",
    "test = pd.read_csv(\"../../../test.csv\", sep=',')#, names=['id', 'label'], dtype={'id': str, 'label': str})\n",
    "test['id'] = Label_encoder.inverse_transform(test['labels'])\n",
    "test['label'] = test['description']\n",
    "test = test.drop(columns=['description'])\n",
    "test = test.merge(df, on='label', how='left')\n",
    "test = test[test['id_x']==test.id_y.str.slice(start=0, stop=4)]\n",
    "test['y'] = test['id_y']\n",
    "test = test.drop(columns=['labels', 'id_x', 'id_y'])\n",
    "#после обучения закоментить и поменять на\n",
    "#test = pd.read_csv(\"../sets/test_with_ids.csv\", sep=',')#, names=['id', 'label'], dtype={'id': str, 'label': str})\n",
    "#test['i'] = test['id']\n",
    "#test = test.drop(columns=['labels', 'g_id', 'id'])"
   ]
  },
  {
   "cell_type": "code",
   "execution_count": 38,
   "id": "5eb19f32",
   "metadata": {},
   "outputs": [
    {
     "data": {
      "text/html": [
       "<div>\n",
       "<style scoped>\n",
       "    .dataframe tbody tr th:only-of-type {\n",
       "        vertical-align: middle;\n",
       "    }\n",
       "\n",
       "    .dataframe tbody tr th {\n",
       "        vertical-align: top;\n",
       "    }\n",
       "\n",
       "    .dataframe thead th {\n",
       "        text-align: right;\n",
       "    }\n",
       "</style>\n",
       "<table border=\"1\" class=\"dataframe\">\n",
       "  <thead>\n",
       "    <tr style=\"text-align: right;\">\n",
       "      <th></th>\n",
       "      <th>description</th>\n",
       "      <th>i</th>\n",
       "    </tr>\n",
       "  </thead>\n",
       "  <tbody>\n",
       "    <tr>\n",
       "      <th>0</th>\n",
       "      <td>полимеры в первичных формах силиконовая резина...</td>\n",
       "      <td>3910000008</td>\n",
       "    </tr>\n",
       "    <tr>\n",
       "      <th>1</th>\n",
       "      <td>прочие жернова камни точильные круги шлифоваль...</td>\n",
       "      <td>6804229000</td>\n",
       "    </tr>\n",
       "    <tr>\n",
       "      <th>2</th>\n",
       "      <td>картофель молодой свежий калибр 55 для употреб...</td>\n",
       "      <td>701905000</td>\n",
       "    </tr>\n",
       "    <tr>\n",
       "      <th>3</th>\n",
       "      <td>шины пневматические резиновые новые для легков...</td>\n",
       "      <td>4011100009</td>\n",
       "    </tr>\n",
       "    <tr>\n",
       "      <th>4</th>\n",
       "      <td>аккумуляторы электрические свинцовые гелевые с...</td>\n",
       "      <td>8507208001</td>\n",
       "    </tr>\n",
       "    <tr>\n",
       "      <th>...</th>\n",
       "      <td>...</td>\n",
       "      <td>...</td>\n",
       "    </tr>\n",
       "    <tr>\n",
       "      <th>46591</th>\n",
       "      <td>декоративные изделия из гипса в виде статуэток</td>\n",
       "      <td>6809900000</td>\n",
       "    </tr>\n",
       "    <tr>\n",
       "      <th>46592</th>\n",
       "      <td>переключатели на напряжение не более 60 в проч...</td>\n",
       "      <td>8536501907</td>\n",
       "    </tr>\n",
       "    <tr>\n",
       "      <th>46593</th>\n",
       "      <td>сварочные прутки из кремнемарганцовистой стали...</td>\n",
       "      <td>7228209900</td>\n",
       "    </tr>\n",
       "    <tr>\n",
       "      <th>46594</th>\n",
       "      <td>принадлежности к одежде капюшон цвета в ассорт...</td>\n",
       "      <td>6117900000</td>\n",
       "    </tr>\n",
       "    <tr>\n",
       "      <th>46595</th>\n",
       "      <td>чернила для устройств каплеструйной маркировки...</td>\n",
       "      <td>3215900000</td>\n",
       "    </tr>\n",
       "  </tbody>\n",
       "</table>\n",
       "<p>46596 rows × 2 columns</p>\n",
       "</div>"
      ],
      "text/plain": [
       "                                             description           i\n",
       "0      полимеры в первичных формах силиконовая резина...  3910000008\n",
       "1      прочие жернова камни точильные круги шлифоваль...  6804229000\n",
       "2      картофель молодой свежий калибр 55 для употреб...   701905000\n",
       "3      шины пневматические резиновые новые для легков...  4011100009\n",
       "4      аккумуляторы электрические свинцовые гелевые с...  8507208001\n",
       "...                                                  ...         ...\n",
       "46591     декоративные изделия из гипса в виде статуэток  6809900000\n",
       "46592  переключатели на напряжение не более 60 в проч...  8536501907\n",
       "46593  сварочные прутки из кремнемарганцовистой стали...  7228209900\n",
       "46594  принадлежности к одежде капюшон цвета в ассорт...  6117900000\n",
       "46595  чернила для устройств каплеструйной маркировки...  3215900000\n",
       "\n",
       "[46596 rows x 2 columns]"
      ]
     },
     "execution_count": 38,
     "metadata": {},
     "output_type": "execute_result"
    }
   ],
   "source": [
    "test"
   ]
  },
  {
   "cell_type": "code",
   "execution_count": null,
   "id": "cf7270c7",
   "metadata": {},
   "outputs": [],
   "source": []
  },
  {
   "cell_type": "code",
   "execution_count": 70,
   "id": "0ff3b010",
   "metadata": {},
   "outputs": [],
   "source": [
    "from imblearn.under_sampling import TomekLinks\n",
    "tl = TomekLinks()"
   ]
  },
  {
   "cell_type": "code",
   "execution_count": 71,
   "id": "57a5a7f0",
   "metadata": {},
   "outputs": [
    {
     "ename": "ValueError",
     "evalue": "could not convert string to float: 'шины и покрышки пневматические резиновые новые для автобусов или моторных транспортных средств для перевозки грузов с индексом нагрузки не более 121 для легких грузовых автомобилей 195 75r16c 107 105r tl mps125 фирма continental matador truck tires s r o  tm matador'",
     "output_type": "error",
     "traceback": [
      "\u001b[1;31m---------------------------------------------------------------------------\u001b[0m",
      "\u001b[1;31mValueError\u001b[0m                                Traceback (most recent call last)",
      "Input \u001b[1;32mIn [71]\u001b[0m, in \u001b[0;36m<cell line: 3>\u001b[1;34m()\u001b[0m\n\u001b[0;32m      1\u001b[0m y \u001b[38;5;241m=\u001b[39m data[\u001b[38;5;124m'\u001b[39m\u001b[38;5;124mid\u001b[39m\u001b[38;5;124m'\u001b[39m]\n\u001b[0;32m      2\u001b[0m X \u001b[38;5;241m=\u001b[39m data[\u001b[38;5;124m'\u001b[39m\u001b[38;5;124mlabel\u001b[39m\u001b[38;5;124m'\u001b[39m]\n\u001b[1;32m----> 3\u001b[0m X_res, y_res \u001b[38;5;241m=\u001b[39m \u001b[43mtl\u001b[49m\u001b[38;5;241;43m.\u001b[39;49m\u001b[43mfit_resample\u001b[49m\u001b[43m(\u001b[49m\u001b[43mX\u001b[49m\u001b[43m,\u001b[49m\u001b[43m \u001b[49m\u001b[43my\u001b[49m\u001b[43m)\u001b[49m\n",
      "File \u001b[1;32m~\\AppData\\Local\\Packages\\PythonSoftwareFoundation.Python.3.10_qbz5n2kfra8p0\\LocalCache\\local-packages\\Python310\\site-packages\\imblearn\\base.py:208\u001b[0m, in \u001b[0;36mBaseSampler.fit_resample\u001b[1;34m(self, X, y)\u001b[0m\n\u001b[0;32m    187\u001b[0m \u001b[38;5;124;03m\"\"\"Resample the dataset.\u001b[39;00m\n\u001b[0;32m    188\u001b[0m \n\u001b[0;32m    189\u001b[0m \u001b[38;5;124;03mParameters\u001b[39;00m\n\u001b[1;32m   (...)\u001b[0m\n\u001b[0;32m    205\u001b[0m \u001b[38;5;124;03m    The corresponding label of `X_resampled`.\u001b[39;00m\n\u001b[0;32m    206\u001b[0m \u001b[38;5;124;03m\"\"\"\u001b[39;00m\n\u001b[0;32m    207\u001b[0m \u001b[38;5;28mself\u001b[39m\u001b[38;5;241m.\u001b[39m_validate_params()\n\u001b[1;32m--> 208\u001b[0m \u001b[38;5;28;01mreturn\u001b[39;00m \u001b[38;5;28;43msuper\u001b[39;49m\u001b[43m(\u001b[49m\u001b[43m)\u001b[49m\u001b[38;5;241;43m.\u001b[39;49m\u001b[43mfit_resample\u001b[49m\u001b[43m(\u001b[49m\u001b[43mX\u001b[49m\u001b[43m,\u001b[49m\u001b[43m \u001b[49m\u001b[43my\u001b[49m\u001b[43m)\u001b[49m\n",
      "File \u001b[1;32m~\\AppData\\Local\\Packages\\PythonSoftwareFoundation.Python.3.10_qbz5n2kfra8p0\\LocalCache\\local-packages\\Python310\\site-packages\\imblearn\\base.py:106\u001b[0m, in \u001b[0;36mSamplerMixin.fit_resample\u001b[1;34m(self, X, y)\u001b[0m\n\u001b[0;32m    104\u001b[0m check_classification_targets(y)\n\u001b[0;32m    105\u001b[0m arrays_transformer \u001b[38;5;241m=\u001b[39m ArraysTransformer(X, y)\n\u001b[1;32m--> 106\u001b[0m X, y, binarize_y \u001b[38;5;241m=\u001b[39m \u001b[38;5;28;43mself\u001b[39;49m\u001b[38;5;241;43m.\u001b[39;49m\u001b[43m_check_X_y\u001b[49m\u001b[43m(\u001b[49m\u001b[43mX\u001b[49m\u001b[43m,\u001b[49m\u001b[43m \u001b[49m\u001b[43my\u001b[49m\u001b[43m)\u001b[49m\n\u001b[0;32m    108\u001b[0m \u001b[38;5;28mself\u001b[39m\u001b[38;5;241m.\u001b[39msampling_strategy_ \u001b[38;5;241m=\u001b[39m check_sampling_strategy(\n\u001b[0;32m    109\u001b[0m     \u001b[38;5;28mself\u001b[39m\u001b[38;5;241m.\u001b[39msampling_strategy, y, \u001b[38;5;28mself\u001b[39m\u001b[38;5;241m.\u001b[39m_sampling_type\n\u001b[0;32m    110\u001b[0m )\n\u001b[0;32m    112\u001b[0m output \u001b[38;5;241m=\u001b[39m \u001b[38;5;28mself\u001b[39m\u001b[38;5;241m.\u001b[39m_fit_resample(X, y)\n",
      "File \u001b[1;32m~\\AppData\\Local\\Packages\\PythonSoftwareFoundation.Python.3.10_qbz5n2kfra8p0\\LocalCache\\local-packages\\Python310\\site-packages\\imblearn\\base.py:161\u001b[0m, in \u001b[0;36mBaseSampler._check_X_y\u001b[1;34m(self, X, y, accept_sparse)\u001b[0m\n\u001b[0;32m    159\u001b[0m     accept_sparse \u001b[38;5;241m=\u001b[39m [\u001b[38;5;124m\"\u001b[39m\u001b[38;5;124mcsr\u001b[39m\u001b[38;5;124m\"\u001b[39m, \u001b[38;5;124m\"\u001b[39m\u001b[38;5;124mcsc\u001b[39m\u001b[38;5;124m\"\u001b[39m]\n\u001b[0;32m    160\u001b[0m y, binarize_y \u001b[38;5;241m=\u001b[39m check_target_type(y, indicate_one_vs_all\u001b[38;5;241m=\u001b[39m\u001b[38;5;28;01mTrue\u001b[39;00m)\n\u001b[1;32m--> 161\u001b[0m X, y \u001b[38;5;241m=\u001b[39m \u001b[38;5;28;43mself\u001b[39;49m\u001b[38;5;241;43m.\u001b[39;49m\u001b[43m_validate_data\u001b[49m\u001b[43m(\u001b[49m\u001b[43mX\u001b[49m\u001b[43m,\u001b[49m\u001b[43m \u001b[49m\u001b[43my\u001b[49m\u001b[43m,\u001b[49m\u001b[43m \u001b[49m\u001b[43mreset\u001b[49m\u001b[38;5;241;43m=\u001b[39;49m\u001b[38;5;28;43;01mTrue\u001b[39;49;00m\u001b[43m,\u001b[49m\u001b[43m \u001b[49m\u001b[43maccept_sparse\u001b[49m\u001b[38;5;241;43m=\u001b[39;49m\u001b[43maccept_sparse\u001b[49m\u001b[43m)\u001b[49m\n\u001b[0;32m    162\u001b[0m \u001b[38;5;28;01mreturn\u001b[39;00m X, y, binarize_y\n",
      "File \u001b[1;32m~\\AppData\\Local\\Packages\\PythonSoftwareFoundation.Python.3.10_qbz5n2kfra8p0\\LocalCache\\local-packages\\Python310\\site-packages\\sklearn\\base.py:596\u001b[0m, in \u001b[0;36mBaseEstimator._validate_data\u001b[1;34m(self, X, y, reset, validate_separately, **check_params)\u001b[0m\n\u001b[0;32m    594\u001b[0m         y \u001b[38;5;241m=\u001b[39m check_array(y, input_name\u001b[38;5;241m=\u001b[39m\u001b[38;5;124m\"\u001b[39m\u001b[38;5;124my\u001b[39m\u001b[38;5;124m\"\u001b[39m, \u001b[38;5;241m*\u001b[39m\u001b[38;5;241m*\u001b[39mcheck_y_params)\n\u001b[0;32m    595\u001b[0m     \u001b[38;5;28;01melse\u001b[39;00m:\n\u001b[1;32m--> 596\u001b[0m         X, y \u001b[38;5;241m=\u001b[39m check_X_y(X, y, \u001b[38;5;241m*\u001b[39m\u001b[38;5;241m*\u001b[39mcheck_params)\n\u001b[0;32m    597\u001b[0m     out \u001b[38;5;241m=\u001b[39m X, y\n\u001b[0;32m    599\u001b[0m \u001b[38;5;28;01mif\u001b[39;00m \u001b[38;5;129;01mnot\u001b[39;00m no_val_X \u001b[38;5;129;01mand\u001b[39;00m check_params\u001b[38;5;241m.\u001b[39mget(\u001b[38;5;124m\"\u001b[39m\u001b[38;5;124mensure_2d\u001b[39m\u001b[38;5;124m\"\u001b[39m, \u001b[38;5;28;01mTrue\u001b[39;00m):\n",
      "File \u001b[1;32m~\\AppData\\Local\\Packages\\PythonSoftwareFoundation.Python.3.10_qbz5n2kfra8p0\\LocalCache\\local-packages\\Python310\\site-packages\\sklearn\\utils\\validation.py:1074\u001b[0m, in \u001b[0;36mcheck_X_y\u001b[1;34m(X, y, accept_sparse, accept_large_sparse, dtype, order, copy, force_all_finite, ensure_2d, allow_nd, multi_output, ensure_min_samples, ensure_min_features, y_numeric, estimator)\u001b[0m\n\u001b[0;32m   1069\u001b[0m         estimator_name \u001b[38;5;241m=\u001b[39m _check_estimator_name(estimator)\n\u001b[0;32m   1070\u001b[0m     \u001b[38;5;28;01mraise\u001b[39;00m \u001b[38;5;167;01mValueError\u001b[39;00m(\n\u001b[0;32m   1071\u001b[0m         \u001b[38;5;124mf\u001b[39m\u001b[38;5;124m\"\u001b[39m\u001b[38;5;132;01m{\u001b[39;00mestimator_name\u001b[38;5;132;01m}\u001b[39;00m\u001b[38;5;124m requires y to be passed, but the target y is None\u001b[39m\u001b[38;5;124m\"\u001b[39m\n\u001b[0;32m   1072\u001b[0m     )\n\u001b[1;32m-> 1074\u001b[0m X \u001b[38;5;241m=\u001b[39m \u001b[43mcheck_array\u001b[49m\u001b[43m(\u001b[49m\n\u001b[0;32m   1075\u001b[0m \u001b[43m    \u001b[49m\u001b[43mX\u001b[49m\u001b[43m,\u001b[49m\n\u001b[0;32m   1076\u001b[0m \u001b[43m    \u001b[49m\u001b[43maccept_sparse\u001b[49m\u001b[38;5;241;43m=\u001b[39;49m\u001b[43maccept_sparse\u001b[49m\u001b[43m,\u001b[49m\n\u001b[0;32m   1077\u001b[0m \u001b[43m    \u001b[49m\u001b[43maccept_large_sparse\u001b[49m\u001b[38;5;241;43m=\u001b[39;49m\u001b[43maccept_large_sparse\u001b[49m\u001b[43m,\u001b[49m\n\u001b[0;32m   1078\u001b[0m \u001b[43m    \u001b[49m\u001b[43mdtype\u001b[49m\u001b[38;5;241;43m=\u001b[39;49m\u001b[43mdtype\u001b[49m\u001b[43m,\u001b[49m\n\u001b[0;32m   1079\u001b[0m \u001b[43m    \u001b[49m\u001b[43morder\u001b[49m\u001b[38;5;241;43m=\u001b[39;49m\u001b[43morder\u001b[49m\u001b[43m,\u001b[49m\n\u001b[0;32m   1080\u001b[0m \u001b[43m    \u001b[49m\u001b[43mcopy\u001b[49m\u001b[38;5;241;43m=\u001b[39;49m\u001b[43mcopy\u001b[49m\u001b[43m,\u001b[49m\n\u001b[0;32m   1081\u001b[0m \u001b[43m    \u001b[49m\u001b[43mforce_all_finite\u001b[49m\u001b[38;5;241;43m=\u001b[39;49m\u001b[43mforce_all_finite\u001b[49m\u001b[43m,\u001b[49m\n\u001b[0;32m   1082\u001b[0m \u001b[43m    \u001b[49m\u001b[43mensure_2d\u001b[49m\u001b[38;5;241;43m=\u001b[39;49m\u001b[43mensure_2d\u001b[49m\u001b[43m,\u001b[49m\n\u001b[0;32m   1083\u001b[0m \u001b[43m    \u001b[49m\u001b[43mallow_nd\u001b[49m\u001b[38;5;241;43m=\u001b[39;49m\u001b[43mallow_nd\u001b[49m\u001b[43m,\u001b[49m\n\u001b[0;32m   1084\u001b[0m \u001b[43m    \u001b[49m\u001b[43mensure_min_samples\u001b[49m\u001b[38;5;241;43m=\u001b[39;49m\u001b[43mensure_min_samples\u001b[49m\u001b[43m,\u001b[49m\n\u001b[0;32m   1085\u001b[0m \u001b[43m    \u001b[49m\u001b[43mensure_min_features\u001b[49m\u001b[38;5;241;43m=\u001b[39;49m\u001b[43mensure_min_features\u001b[49m\u001b[43m,\u001b[49m\n\u001b[0;32m   1086\u001b[0m \u001b[43m    \u001b[49m\u001b[43mestimator\u001b[49m\u001b[38;5;241;43m=\u001b[39;49m\u001b[43mestimator\u001b[49m\u001b[43m,\u001b[49m\n\u001b[0;32m   1087\u001b[0m \u001b[43m    \u001b[49m\u001b[43minput_name\u001b[49m\u001b[38;5;241;43m=\u001b[39;49m\u001b[38;5;124;43m\"\u001b[39;49m\u001b[38;5;124;43mX\u001b[39;49m\u001b[38;5;124;43m\"\u001b[39;49m\u001b[43m,\u001b[49m\n\u001b[0;32m   1088\u001b[0m \u001b[43m\u001b[49m\u001b[43m)\u001b[49m\n\u001b[0;32m   1090\u001b[0m y \u001b[38;5;241m=\u001b[39m _check_y(y, multi_output\u001b[38;5;241m=\u001b[39mmulti_output, y_numeric\u001b[38;5;241m=\u001b[39my_numeric, estimator\u001b[38;5;241m=\u001b[39mestimator)\n\u001b[0;32m   1092\u001b[0m check_consistent_length(X, y)\n",
      "File \u001b[1;32m~\\AppData\\Local\\Packages\\PythonSoftwareFoundation.Python.3.10_qbz5n2kfra8p0\\LocalCache\\local-packages\\Python310\\site-packages\\sklearn\\utils\\validation.py:856\u001b[0m, in \u001b[0;36mcheck_array\u001b[1;34m(array, accept_sparse, accept_large_sparse, dtype, order, copy, force_all_finite, ensure_2d, allow_nd, ensure_min_samples, ensure_min_features, estimator, input_name)\u001b[0m\n\u001b[0;32m    854\u001b[0m         array \u001b[38;5;241m=\u001b[39m array\u001b[38;5;241m.\u001b[39mastype(dtype, casting\u001b[38;5;241m=\u001b[39m\u001b[38;5;124m\"\u001b[39m\u001b[38;5;124munsafe\u001b[39m\u001b[38;5;124m\"\u001b[39m, copy\u001b[38;5;241m=\u001b[39m\u001b[38;5;28;01mFalse\u001b[39;00m)\n\u001b[0;32m    855\u001b[0m     \u001b[38;5;28;01melse\u001b[39;00m:\n\u001b[1;32m--> 856\u001b[0m         array \u001b[38;5;241m=\u001b[39m \u001b[43mnp\u001b[49m\u001b[38;5;241;43m.\u001b[39;49m\u001b[43masarray\u001b[49m\u001b[43m(\u001b[49m\u001b[43marray\u001b[49m\u001b[43m,\u001b[49m\u001b[43m \u001b[49m\u001b[43morder\u001b[49m\u001b[38;5;241;43m=\u001b[39;49m\u001b[43morder\u001b[49m\u001b[43m,\u001b[49m\u001b[43m \u001b[49m\u001b[43mdtype\u001b[49m\u001b[38;5;241;43m=\u001b[39;49m\u001b[43mdtype\u001b[49m\u001b[43m)\u001b[49m\n\u001b[0;32m    857\u001b[0m \u001b[38;5;28;01mexcept\u001b[39;00m ComplexWarning \u001b[38;5;28;01mas\u001b[39;00m complex_warning:\n\u001b[0;32m    858\u001b[0m     \u001b[38;5;28;01mraise\u001b[39;00m \u001b[38;5;167;01mValueError\u001b[39;00m(\n\u001b[0;32m    859\u001b[0m         \u001b[38;5;124m\"\u001b[39m\u001b[38;5;124mComplex data not supported\u001b[39m\u001b[38;5;130;01m\\n\u001b[39;00m\u001b[38;5;132;01m{}\u001b[39;00m\u001b[38;5;130;01m\\n\u001b[39;00m\u001b[38;5;124m\"\u001b[39m\u001b[38;5;241m.\u001b[39mformat(array)\n\u001b[0;32m    860\u001b[0m     ) \u001b[38;5;28;01mfrom\u001b[39;00m \u001b[38;5;21;01mcomplex_warning\u001b[39;00m\n",
      "File \u001b[1;32m~\\AppData\\Local\\Packages\\PythonSoftwareFoundation.Python.3.10_qbz5n2kfra8p0\\LocalCache\\local-packages\\Python310\\site-packages\\pandas\\core\\series.py:872\u001b[0m, in \u001b[0;36mSeries.__array__\u001b[1;34m(self, dtype)\u001b[0m\n\u001b[0;32m    825\u001b[0m \u001b[38;5;28;01mdef\u001b[39;00m \u001b[38;5;21m__array__\u001b[39m(\u001b[38;5;28mself\u001b[39m, dtype: npt\u001b[38;5;241m.\u001b[39mDTypeLike \u001b[38;5;241m|\u001b[39m \u001b[38;5;28;01mNone\u001b[39;00m \u001b[38;5;241m=\u001b[39m \u001b[38;5;28;01mNone\u001b[39;00m) \u001b[38;5;241m-\u001b[39m\u001b[38;5;241m>\u001b[39m np\u001b[38;5;241m.\u001b[39mndarray:\n\u001b[0;32m    826\u001b[0m     \u001b[38;5;124;03m\"\"\"\u001b[39;00m\n\u001b[0;32m    827\u001b[0m \u001b[38;5;124;03m    Return the values as a NumPy array.\u001b[39;00m\n\u001b[0;32m    828\u001b[0m \n\u001b[1;32m   (...)\u001b[0m\n\u001b[0;32m    870\u001b[0m \u001b[38;5;124;03m          dtype='datetime64[ns]')\u001b[39;00m\n\u001b[0;32m    871\u001b[0m \u001b[38;5;124;03m    \"\"\"\u001b[39;00m\n\u001b[1;32m--> 872\u001b[0m     \u001b[38;5;28;01mreturn\u001b[39;00m \u001b[43mnp\u001b[49m\u001b[38;5;241;43m.\u001b[39;49m\u001b[43masarray\u001b[49m\u001b[43m(\u001b[49m\u001b[38;5;28;43mself\u001b[39;49m\u001b[38;5;241;43m.\u001b[39;49m\u001b[43m_values\u001b[49m\u001b[43m,\u001b[49m\u001b[43m \u001b[49m\u001b[43mdtype\u001b[49m\u001b[43m)\u001b[49m\n",
      "\u001b[1;31mValueError\u001b[0m: could not convert string to float: 'шины и покрышки пневматические резиновые новые для автобусов или моторных транспортных средств для перевозки грузов с индексом нагрузки не более 121 для легких грузовых автомобилей 195 75r16c 107 105r tl mps125 фирма continental matador truck tires s r o  tm matador'"
     ]
    }
   ],
   "source": [
    "y = data['id']\n",
    "X = data['label']\n",
    "X_res, y_res = tl.fit_resample(X, y)"
   ]
  },
  {
   "cell_type": "code",
   "execution_count": null,
   "id": "bdff6e9b",
   "metadata": {},
   "outputs": [],
   "source": []
  },
  {
   "cell_type": "code",
   "execution_count": null,
   "id": "75f292b4",
   "metadata": {},
   "outputs": [],
   "source": [
    "from sklearn.neighbors import KNeighborsClassifier\n",
    "from sklearn.model_selection import train_test_split\n",
    "from sklearn.metrics import accuracy_score\n",
    "\n",
    "knn = KNeighborsClassifier()\n",
    "\n",
    "X_train, X_test, y_train, y_test = train_test_split(X, y, test_size=0.3)\n",
    "\n",
    "knn.fit(X_train, y_train)\n",
    "\n",
    "preds = knn.predict(X_test)\n",
    "\n",
    "accuracy_score(y_test, preds)"
   ]
  }
 ],
 "metadata": {
  "kernelspec": {
   "display_name": "Python 3 (ipykernel)",
   "language": "python",
   "name": "python3"
  },
  "language_info": {
   "codemirror_mode": {
    "name": "ipython",
    "version": 3
   },
   "file_extension": ".py",
   "mimetype": "text/x-python",
   "name": "python",
   "nbconvert_exporter": "python",
   "pygments_lexer": "ipython3",
   "version": "3.10.11"
  }
 },
 "nbformat": 4,
 "nbformat_minor": 5
}
