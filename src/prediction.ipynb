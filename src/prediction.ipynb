{
 "cells": [
  {
   "cell_type": "code",
   "execution_count": 11,
   "id": "47a36a22",
   "metadata": {},
   "outputs": [
    {
     "name": "stderr",
     "output_type": "stream",
     "text": [
      "Some weights of BertForSequenceClassification were not initialized from the model checkpoint at sberbank-ai/sbert_large_nlu_ru and are newly initialized: ['classifier.bias', 'classifier.weight']\n",
      "You should probably TRAIN this model on a down-stream task to be able to use it for predictions and inference.\n"
     ]
    },
    {
     "data": {
      "text/plain": [
       "<All keys matched successfully>"
      ]
     },
     "execution_count": 11,
     "metadata": {},
     "output_type": "execute_result"
    }
   ],
   "source": [
    "import torch\n",
    "import numpy as np\n",
    "import pandas as pd\n",
    "device = torch.device(\"cpu\")\n",
    "#device = torch.device(\"cuda\") if torch.cuda.is_available() else torch.device(\"cpu\")\n",
    "#from transformers import BertTokenizer, BertModel, AutoModelForSequenceClassification, AdamW, get_scheduler\n",
    "#tokenizer = BertTokenizer.from_pretrained('bert-base-uncased')                                                     \n",
    "#model = AutoModelForSequenceClassification.from_pretrained('bert-base-uncased', num_labels=658).to(device)\n",
    "from transformers import AutoTokenizer, AutoModel, AutoModelForSequenceClassification, AdamW, get_scheduler\n",
    "model_name = \"sberbank-ai/sbert_large_nlu_ru\"\n",
    "tokenizer = AutoTokenizer.from_pretrained(model_name)\n",
    "model = AutoModelForSequenceClassification.from_pretrained(model_name, num_labels=655).to(device)\n",
    "from sklearn import preprocessing\n",
    "Label_encoder = preprocessing.LabelEncoder()\n",
    "#Label_encoder.classes_ = np.load('./classes.npy', allow_pickle=True)\n",
    "Label_encoder.classes_ = np.load('./cl_classes.npy', allow_pickle=True)\n",
    "#model.load_state_dict(torch.load(\"../../best_model3004/pytorch_model.bin\", map_location=device))\n",
    "model.load_state_dict(torch.load(\"../../best_model2705/pytorch_model.bin\", map_location=device))"
   ]
  },
  {
   "cell_type": "code",
   "execution_count": 3,
   "id": "8b11f3dd",
   "metadata": {},
   "outputs": [
    {
     "data": {
      "text/plain": [
       "0"
      ]
     },
     "execution_count": 3,
     "metadata": {},
     "output_type": "execute_result"
    }
   ],
   "source": [
    "torch.cuda.empty_cache()\n",
    "import gc\n",
    "gc.collect()"
   ]
  },
  {
   "cell_type": "code",
   "execution_count": 8,
   "id": "a8752dcc",
   "metadata": {},
   "outputs": [],
   "source": [
    "def predict_class(text):\n",
    "    model.to(torch.device('cpu'))\n",
    "    inputs = tokenizer(text, truncation = True, max_length=100, padding='max_length', return_tensors=\"pt\")\n",
    "    with torch.no_grad():\n",
    "        logits = model(**inputs).logits\n",
    "        predicted_class_id = logits.argmax().item()\n",
    "        return Label_encoder.inverse_transform([predicted_class_id])"
   ]
  },
  {
   "cell_type": "code",
   "execution_count": 12,
   "id": "1770ccb1",
   "metadata": {},
   "outputs": [
    {
     "data": {
      "text/plain": [
       "'4011'"
      ]
     },
     "execution_count": 12,
     "metadata": {},
     "output_type": "execute_result"
    }
   ],
   "source": [
    "predict_class('Автомобильные покрышки резиновые новые')[0]"
   ]
  },
  {
   "cell_type": "code",
   "execution_count": 4,
   "id": "c609c07a",
   "metadata": {},
   "outputs": [],
   "source": [
    "def predict_prob(text, qtty=2):\n",
    "    model.to(torch.device('cpu'))\n",
    "    inputs = tokenizer(text, truncation = True, max_length=100, padding='max_length', return_tensors=\"pt\")\n",
    "    with torch.no_grad():\n",
    "        logits = model(**inputs).logits\n",
    "    result = dict()\n",
    "    p = torch.nn.functional.softmax(logits, dim=1)\n",
    "    for i in range(qtty):\n",
    "        a = p.argmax().item()\n",
    "        result[Label_encoder.inverse_transform([a])[0]] = p[0][a].item()\n",
    "        p[0][a] = 0\n",
    "    return result"
   ]
  },
  {
   "cell_type": "code",
   "execution_count": 3,
   "id": "b7dc850b",
   "metadata": {},
   "outputs": [
    {
     "name": "stdout",
     "output_type": "stream",
     "text": [
      "{'0808': 0.8409392833709717, '0805': 0.014152244664728642, '2007': 0.006393834948539734, '6702': 0.005769975483417511, '2106': 0.005318484269082546}\n"
     ]
    }
   ],
   "source": [
    "print(predict_prob('бананы в коробках', 5))"
   ]
  },
  {
   "cell_type": "code",
   "execution_count": 31,
   "id": "a5368983",
   "metadata": {},
   "outputs": [
    {
     "name": "stdout",
     "output_type": "stream",
     "text": [
      "Code:    prob-ty\n",
      "8477:    0.27823\n",
      "3926:    0.13464\n",
      "6406:    0.03673\n",
      "9608:    0.01928\n",
      "3923:    0.01838\n"
     ]
    },
    {
     "data": {
      "text/plain": [
       "[None, None, None, None, None]"
      ]
     },
     "execution_count": 31,
     "metadata": {},
     "output_type": "execute_result"
    }
   ],
   "source": [
    "preds = predict_prob(\"гелевая ручка\", 5)\n",
    "print('Code', 'prob-ty', sep=':    ')\n",
    "[print(i, f\"{preds[i]:.{5}f}\", sep=':    ') for i in preds]\n"
   ]
  },
  {
   "cell_type": "code",
   "execution_count": 5,
   "id": "b6501e04",
   "metadata": {},
   "outputs": [],
   "source": [
    "def consolelog(probs):\n",
    "    print('Code', 'prob-ty', sep=':|    ')\n",
    "    print('_________________')\n",
    "    for each in probs:\n",
    "        print(each, f\"{probs[each]:.{5}f}\", sep=':|    ')\n",
    "        print('_________________')"
   ]
  },
  {
   "cell_type": "code",
   "execution_count": 16,
   "id": "d31aa100",
   "metadata": {},
   "outputs": [
    {
     "name": "stdout",
     "output_type": "stream",
     "text": [
      "Code:|    prob-ty\n",
      "_________________\n",
      "4820:|    0.08355\n",
      "_________________\n",
      "9609:|    0.04148\n",
      "_________________\n",
      "8304:|    0.03196\n",
      "_________________\n",
      "4911:|    0.02679\n",
      "_________________\n",
      "9017:|    0.02287\n",
      "_________________\n"
     ]
    }
   ],
   "source": [
    "consolelog(predict_prob(\"предмет для письма\", 5))"
   ]
  }
 ],
 "metadata": {
  "kernelspec": {
   "display_name": "Python 3 (ipykernel)",
   "language": "python",
   "name": "python3"
  },
  "language_info": {
   "codemirror_mode": {
    "name": "ipython",
    "version": 3
   },
   "file_extension": ".py",
   "mimetype": "text/x-python",
   "name": "python",
   "nbconvert_exporter": "python",
   "pygments_lexer": "ipython3",
   "version": "3.10.11"
  }
 },
 "nbformat": 4,
 "nbformat_minor": 5
}
