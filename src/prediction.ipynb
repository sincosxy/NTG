{
 "cells": [
  {
   "cell_type": "code",
   "execution_count": 1,
   "id": "47a36a22",
   "metadata": {},
   "outputs": [
    {
     "name": "stderr",
     "output_type": "stream",
     "text": [
      "C:\\Users\\yeril\\AppData\\Local\\Packages\\PythonSoftwareFoundation.Python.3.10_qbz5n2kfra8p0\\LocalCache\\local-packages\\Python310\\site-packages\\tqdm\\auto.py:22: TqdmWarning: IProgress not found. Please update jupyter and ipywidgets. See https://ipywidgets.readthedocs.io/en/stable/user_install.html\n",
      "  from .autonotebook import tqdm as notebook_tqdm\n",
      "Some weights of BertForSequenceClassification were not initialized from the model checkpoint at sberbank-ai/sbert_large_nlu_ru and are newly initialized: ['classifier.weight', 'classifier.bias']\n",
      "You should probably TRAIN this model on a down-stream task to be able to use it for predictions and inference.\n"
     ]
    },
    {
     "data": {
      "text/plain": [
       "<All keys matched successfully>"
      ]
     },
     "execution_count": 1,
     "metadata": {},
     "output_type": "execute_result"
    }
   ],
   "source": [
    "import torch\n",
    "import numpy as np\n",
    "import pandas as pd\n",
    "device = torch.device(\"cpu\")\n",
    "#device = torch.device(\"cuda\") if torch.cuda.is_available() else torch.device(\"cpu\")\n",
    "#from transformers import BertTokenizer, BertModel, AutoModelForSequenceClassification, AdamW, get_scheduler\n",
    "#tokenizer = BertTokenizer.from_pretrained('bert-base-uncased')                                                     \n",
    "#model = AutoModelForSequenceClassification.from_pretrained('bert-base-uncased', num_labels=658).to(device)\n",
    "from transformers import AutoTokenizer, AutoModel, AutoModelForSequenceClassification, AdamW, get_scheduler\n",
    "model_name = \"sberbank-ai/sbert_large_nlu_ru\"\n",
    "tokenizer = AutoTokenizer.from_pretrained(model_name)\n",
    "model = AutoModelForSequenceClassification.from_pretrained(model_name, num_labels=655).to(device)\n",
    "from sklearn import preprocessing\n",
    "Label_encoder = preprocessing.LabelEncoder()\n",
    "#Label_encoder.classes_ = np.load('./classes.npy', allow_pickle=True)\n",
    "Label_encoder.classes_ = np.load('./cl_classes1406.npy', allow_pickle=True)\n",
    "#model.load_state_dict(torch.load(\"../../best_model3004/pytorch_model.bin\", map_location=device))\n",
    "model.load_state_dict(torch.load(\"../../best_model2705/pytorch_model.bin\", map_location=device))"
   ]
  },
  {
   "cell_type": "code",
   "execution_count": 3,
   "id": "8b11f3dd",
   "metadata": {},
   "outputs": [
    {
     "data": {
      "text/plain": [
       "0"
      ]
     },
     "execution_count": 3,
     "metadata": {},
     "output_type": "execute_result"
    }
   ],
   "source": [
    "torch.cuda.empty_cache()\n",
    "import gc\n",
    "gc.collect()"
   ]
  },
  {
   "cell_type": "code",
   "execution_count": 2,
   "id": "a8752dcc",
   "metadata": {},
   "outputs": [],
   "source": [
    "def predict_class(text):\n",
    "    model.to(torch.device('cpu'))\n",
    "    inputs = tokenizer(text, truncation = True, max_length=100, padding='max_length', return_tensors=\"pt\")\n",
    "    with torch.no_grad():\n",
    "        logits = model(**inputs).logits\n",
    "        predicted_class_id = logits.argmax().item()\n",
    "        return Label_encoder.inverse_transform([predicted_class_id])"
   ]
  },
  {
   "cell_type": "code",
   "execution_count": 3,
   "id": "1770ccb1",
   "metadata": {},
   "outputs": [
    {
     "data": {
      "text/plain": [
       "'1704'"
      ]
     },
     "execution_count": 3,
     "metadata": {},
     "output_type": "execute_result"
    }
   ],
   "source": [
    "predict_class('КОНДИТЕРСКИЕ ИЗДЕЛИЯ В ВИДЕ РЕЗИНКИ И ЖЕЛЕ, НЕ СОДЕРЖАЩИЕ КАКАО')[0]"
   ]
  },
  {
   "cell_type": "code",
   "execution_count": 4,
   "id": "c609c07a",
   "metadata": {},
   "outputs": [],
   "source": [
    "def predict_prob(text, qtty=5):\n",
    "    model.to(torch.device('cpu'))\n",
    "    inputs = tokenizer(text, truncation = True, max_length=100, padding='max_length', return_tensors=\"pt\")\n",
    "    with torch.no_grad():\n",
    "        logits = model(**inputs).logits\n",
    "    result = dict()\n",
    "    p = torch.nn.functional.softmax(logits, dim=1)\n",
    "    for i in range(qtty):\n",
    "        a = p.argmax().item()\n",
    "        result[Label_encoder.inverse_transform([a])[0]] = p[0][a].item()\n",
    "        p[0][a] = 0\n",
    "    return result"
   ]
  },
  {
   "cell_type": "code",
   "execution_count": 21,
   "id": "b7dc850b",
   "metadata": {},
   "outputs": [
    {
     "name": "stdout",
     "output_type": "stream",
     "text": [
      "{'3917': 0.9508989453315735, '7304': 0.011040955781936646, '4009': 0.0049907136708498, '7411': 0.002056280616670847, '7306': 0.0019132409943267703}\n"
     ]
    }
   ],
   "source": [
    "print(predict_prob('трубы сантехнические пластиковые ', 5))"
   ]
  },
  {
   "cell_type": "code",
   "execution_count": 8,
   "id": "02a0ef1f",
   "metadata": {},
   "outputs": [
    {
     "name": "stdout",
     "output_type": "stream",
     "text": [
      "{'7304': 0.9171484112739563, '7306': 0.014556351117789745, '7411': 0.009647378697991371, '3917': 0.004930668044835329, '8307': 0.0029827230609953403}\n"
     ]
    }
   ],
   "source": [
    "print(predict_prob('трубы металлические ', 5))"
   ]
  },
  {
   "cell_type": "code",
   "execution_count": 17,
   "id": "a5368983",
   "metadata": {},
   "outputs": [
    {
     "name": "stdout",
     "output_type": "stream",
     "text": [
      "Code:    prob-ty\n",
      "9608:    0.14924\n",
      "3923:    0.08421\n",
      "8477:    0.07631\n",
      "3926:    0.06465\n",
      "4819:    0.04241\n"
     ]
    },
    {
     "data": {
      "text/plain": [
       "[None, None, None, None, None]"
      ]
     },
     "execution_count": 17,
     "metadata": {},
     "output_type": "execute_result"
    }
   ],
   "source": [
    "preds = predict_prob(\"гелевая ручка\", 5)\n",
    "print('Code', 'prob-ty', sep=':    ')\n",
    "[print(i, f\"{preds[i]:.{5}f}\", sep=':    ') for i in preds]\n"
   ]
  },
  {
   "cell_type": "code",
   "execution_count": 18,
   "id": "b6501e04",
   "metadata": {},
   "outputs": [],
   "source": [
    "def consolelog(probs):\n",
    "    print('Code', 'prob-ty', sep=':|    ')\n",
    "    print('_________________')\n",
    "    for each in probs:\n",
    "        print(each, f\"{probs[each]:.{5}f}\", sep=':|    ')\n",
    "        print('_________________')"
   ]
  },
  {
   "cell_type": "code",
   "execution_count": 25,
   "id": "d31aa100",
   "metadata": {},
   "outputs": [
    {
     "name": "stdout",
     "output_type": "stream",
     "text": [
      "Code:|    prob-ty\n",
      "_________________\n",
      "2106:|    0.89622\n",
      "_________________\n",
      "2202:|    0.01869\n",
      "_________________\n",
      "3402:|    0.00393\n",
      "_________________\n",
      "2009:|    0.00361\n",
      "_________________\n",
      "2105:|    0.00338\n",
      "_________________\n"
     ]
    }
   ],
   "source": [
    "consolelog(predict_prob(\"БЕЗАЛКОГОЛЬНЫЕ ГАЗИРОВАННЫЕ НАПИТКИ АРОМАТИЗИРОВАННЫЕ\", 5))"
   ]
  },
  {
   "cell_type": "code",
   "execution_count": 20,
   "id": "7018ceee",
   "metadata": {},
   "outputs": [
    {
     "name": "stdout",
     "output_type": "stream",
     "text": [
      "Code:|    prob-ty\n",
      "_________________\n",
      "1704:|    0.99382\n",
      "_________________\n",
      "2106:|    0.00027\n",
      "_________________\n",
      "1905:|    0.00023\n",
      "_________________\n",
      "9602:|    0.00023\n",
      "_________________\n",
      "2918:|    0.00020\n",
      "_________________\n"
     ]
    }
   ],
   "source": [
    "consolelog(predict_prob(\"КОНДИТЕРСКИЕ ИЗДЕЛИЯ В ВИДЕ РЕЗИНКИ И ЖЕЛЕ, НЕ СОДЕРЖАЩИЕ КАКАО\", 5))"
   ]
  },
  {
   "cell_type": "code",
   "execution_count": 44,
   "id": "f0f7502c",
   "metadata": {},
   "outputs": [
    {
     "name": "stdout",
     "output_type": "stream",
     "text": [
      "Code:|    prob-ty\n",
      "_________________\n",
      "6116:|    0.98108\n",
      "_________________\n",
      "4202:|    0.00181\n",
      "_________________\n",
      "6216:|    0.00057\n",
      "_________________\n",
      "4010:|    0.00040\n",
      "_________________\n",
      "6115:|    0.00032\n",
      "_________________\n"
     ]
    }
   ],
   "source": [
    "consolelog(predict_prob(\"ПЕРЧАТКИ ТРИКОТАЖНЫЕ МАШИННОГО ВЯЗАНИЯ, ПРОПИТАННЫЕ ИЛИ ПОКРЫТЫЕ ПЛАСТМАССОЙ\", 5))"
   ]
  }
 ],
 "metadata": {
  "kernelspec": {
   "display_name": "Python 3 (ipykernel)",
   "language": "python",
   "name": "python3"
  },
  "language_info": {
   "codemirror_mode": {
    "name": "ipython",
    "version": 3
   },
   "file_extension": ".py",
   "mimetype": "text/x-python",
   "name": "python",
   "nbconvert_exporter": "python",
   "pygments_lexer": "ipython3",
   "version": "3.10.11"
  }
 },
 "nbformat": 4,
 "nbformat_minor": 5
}
