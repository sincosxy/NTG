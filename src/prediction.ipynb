{
 "cells": [
  {
   "cell_type": "code",
   "execution_count": 1,
   "id": "47a36a22",
   "metadata": {},
   "outputs": [
    {
     "name": "stderr",
     "output_type": "stream",
     "text": [
      "C:\\Users\\yeril\\AppData\\Local\\Packages\\PythonSoftwareFoundation.Python.3.10_qbz5n2kfra8p0\\LocalCache\\local-packages\\Python310\\site-packages\\tqdm\\auto.py:22: TqdmWarning: IProgress not found. Please update jupyter and ipywidgets. See https://ipywidgets.readthedocs.io/en/stable/user_install.html\n",
      "  from .autonotebook import tqdm as notebook_tqdm\n",
      "Some weights of BertForSequenceClassification were not initialized from the model checkpoint at sberbank-ai/sbert_large_nlu_ru and are newly initialized: ['classifier.bias', 'classifier.weight']\n",
      "You should probably TRAIN this model on a down-stream task to be able to use it for predictions and inference.\n"
     ]
    },
    {
     "data": {
      "text/plain": [
       "<All keys matched successfully>"
      ]
     },
     "execution_count": 1,
     "metadata": {},
     "output_type": "execute_result"
    }
   ],
   "source": [
    "#импорт библиотек, загрузка модели, весов, разметки клаассов\n",
    "import torch\n",
    "import numpy as np\n",
    "import pandas as pd\n",
    "device = torch.device(\"cpu\")\n",
    "from transformers import AutoTokenizer, AutoModel, AutoModelForSequenceClassification, AdamW, get_scheduler\n",
    "model_name = \"sberbank-ai/sbert_large_nlu_ru\"\n",
    "tokenizer = AutoTokenizer.from_pretrained(model_name)\n",
    "model = AutoModelForSequenceClassification.from_pretrained(model_name, num_labels=660).to(device)\n",
    "from sklearn import preprocessing\n",
    "Label_encoder = preprocessing.LabelEncoder()\n",
    "Label_encoder.classes_ = np.load('./cl_classes2306.npy', allow_pickle=True)\n",
    "model.load_state_dict(torch.load(\"../../best_model2306/pytorch_model.bin\", map_location=device))"
   ]
  },
  {
   "cell_type": "code",
   "execution_count": 2,
   "id": "639d68ee",
   "metadata": {},
   "outputs": [],
   "source": [
    "#импорт описания классов (выдрал с альта софта)\n",
    "dscr = pd.read_csv(\"../data/desc.csv\", sep=';', names=['id', 'label'], dtype={'id': str, 'label': str})"
   ]
  },
  {
   "cell_type": "code",
   "execution_count": 3,
   "id": "a800f527",
   "metadata": {},
   "outputs": [
    {
     "name": "stdout",
     "output_type": "stream",
     "text": [
      "0391\n",
      "0481\n",
      "0830\n",
      "1012\n",
      "1018\n",
      "1062\n",
      "1068\n",
      "5022\n",
      "5032\n",
      "5035\n",
      "5052\n",
      "5058\n",
      "5075\n",
      "6908\n"
     ]
    }
   ],
   "source": [
    "#ищем классы нейросети, к которым нет описания.\n",
    "withlabels = list(dscr['id'])\n",
    "justids = list(Label_encoder.classes_)\n",
    "for each in justids:\n",
    "    if each not in withlabels:\n",
    "        print(each)"
   ]
  },
  {
   "cell_type": "code",
   "execution_count": 3,
   "id": "a8752dcc",
   "metadata": {},
   "outputs": [],
   "source": [
    "#функция предсказания одного класса (аргмакс). По умолчанию с кодом класса дает описание класса\n",
    "def predict_class(text, desc=True):\n",
    "    model.to(torch.device('cpu'))\n",
    "    inputs = tokenizer(text, truncation = True, max_length=100, padding='max_length', return_tensors=\"pt\")\n",
    "    with torch.no_grad():\n",
    "        logits = model(**inputs).logits\n",
    "        predicted_class_id = logits.argmax().item()\n",
    "        if desc==True:\n",
    "            result = dict()\n",
    "            id = Label_encoder.inverse_transform([predicted_class_id])[0]\n",
    "            result[id] = dscr[dscr['id']==id].iloc[0]['label']\n",
    "            return result\n",
    "        else:\n",
    "            return Label_encoder.inverse_transform([predicted_class_id])[0]"
   ]
  },
  {
   "cell_type": "code",
   "execution_count": 21,
   "id": "1770ccb1",
   "metadata": {},
   "outputs": [
    {
     "data": {
      "text/plain": [
       "{'1704': 'Кондитерские изделия из сахара (включая белый шоколад), не содержащие какао'}"
      ]
     },
     "execution_count": 21,
     "metadata": {},
     "output_type": "execute_result"
    }
   ],
   "source": [
    "#Пример с описанием\n",
    "predict_class('КОНДИТЕРСКИЕ ИЗДЕЛИЯ В ВИДЕ РЕЗИНКИ И ЖЕЛЕ, НЕ СОДЕРЖАЩИЕ КАКАО')"
   ]
  },
  {
   "cell_type": "code",
   "execution_count": 20,
   "id": "a0621e68",
   "metadata": {},
   "outputs": [
    {
     "data": {
      "text/plain": [
       "'1704'"
      ]
     },
     "execution_count": 20,
     "metadata": {},
     "output_type": "execute_result"
    }
   ],
   "source": [
    "#Пример без описания\n",
    "predict_class('КОНДИТЕРСКИЕ ИЗДЕЛИЯ В ВИДЕ РЕЗИНКИ И ЖЕЛЕ, НЕ СОДЕРЖАЩИЕ КАКАО', desc=False)"
   ]
  },
  {
   "cell_type": "code",
   "execution_count": 4,
   "id": "c609c07a",
   "metadata": {},
   "outputs": [],
   "source": [
    "#функция предикта классов с вероятностью (софтмакс), по умолчанию 5 классов\n",
    "def predict_prob(text, qtty=5):\n",
    "    model.to(torch.device('cpu'))\n",
    "    inputs = tokenizer(text, truncation = True, max_length=100, padding='max_length', return_tensors=\"pt\")\n",
    "    with torch.no_grad():\n",
    "        logits = model(**inputs).logits\n",
    "    result = dict()\n",
    "    p = torch.nn.functional.softmax(logits, dim=1)\n",
    "    for i in range(qtty):\n",
    "        a = p.argmax().item()\n",
    "        result[Label_encoder.inverse_transform([a])[0]] = p[0][a].item()\n",
    "        p[0][a] = 0\n",
    "    return result"
   ]
  },
  {
   "cell_type": "code",
   "execution_count": 22,
   "id": "b7dc850b",
   "metadata": {},
   "outputs": [
    {
     "name": "stdout",
     "output_type": "stream",
     "text": [
      "{'3917': 0.7268840670585632, '7304': 0.01337417121976614, '4009': 0.010102425701916218}\n"
     ]
    }
   ],
   "source": [
    "#Пример с 3 классами\n",
    "print(predict_prob('трубы сантехнические пластиковые ', 3))"
   ]
  },
  {
   "cell_type": "code",
   "execution_count": 15,
   "id": "02a0ef1f",
   "metadata": {},
   "outputs": [
    {
     "name": "stdout",
     "output_type": "stream",
     "text": [
      "{'7309': 0.9046436548233032, '3919': 0.010384665802121162, '7310': 0.00989900715649128, '8311': 0.003736451966688037, '7311': 0.0020984946750104427}\n"
     ]
    }
   ],
   "source": [
    "#Пример с 5 классами\n",
    "print(predict_prob('трубы металлические ', 5))"
   ]
  },
  {
   "cell_type": "code",
   "execution_count": 5,
   "id": "efc23792",
   "metadata": {},
   "outputs": [],
   "source": [
    "#функция предикта классов и описания с вероятностью, по умолчанию 5 шт. Использует функцию predict_prob.\n",
    "#возвращает список списков\n",
    "def predict_prob_with_descr(text, qtty=5):\n",
    "    probs = predict_prob(text, qtty=qtty)\n",
    "    #result = np.array()\n",
    "    result = list()\n",
    "    for each in probs:\n",
    "        result.append([each, dscr[dscr['id']==each].iloc[0]['label'], probs[each]])\n",
    "    return result"
   ]
  },
  {
   "cell_type": "code",
   "execution_count": 23,
   "id": "0c91d071",
   "metadata": {},
   "outputs": [
    {
     "data": {
      "text/plain": [
       "[['4011',\n",
       "  'Шины и покрышки пневматические резиновые новые',\n",
       "  0.7416127324104309],\n",
       " ['4016',\n",
       "  'Изделия из вулканизованной резины, кроме твердой резины, прочие',\n",
       "  0.02087979018688202],\n",
       " ['8708',\n",
       "  'Части и принадлежности моторных транспортных средств товарных позиций 8701 - 8705',\n",
       "  0.011835361830890179],\n",
       " ['9401',\n",
       "  'Мебель для сидения (кроме указанной в товарной позиции 9402), трансформируемая или не трансформируемая в кровати, и ее части',\n",
       "  0.011823809705674648],\n",
       " ['7312',\n",
       "  'Скрученная проволока, тросы, канаты, плетеные шнуры, стропы и аналогичные изделия, из черных металлов, без электрической изоляции',\n",
       "  0.009819085709750652]]"
      ]
     },
     "execution_count": 23,
     "metadata": {},
     "output_type": "execute_result"
    }
   ],
   "source": [
    "#Пример с 5 классами.\n",
    "predict_prob_with_descr('покрышки')"
   ]
  },
  {
   "cell_type": "code",
   "execution_count": 45,
   "id": "0ee0f972",
   "metadata": {},
   "outputs": [
    {
     "data": {
      "text/html": [
       "<div>\n",
       "<style scoped>\n",
       "    .dataframe tbody tr th:only-of-type {\n",
       "        vertical-align: middle;\n",
       "    }\n",
       "\n",
       "    .dataframe tbody tr th {\n",
       "        vertical-align: top;\n",
       "    }\n",
       "\n",
       "    .dataframe thead th {\n",
       "        text-align: right;\n",
       "    }\n",
       "</style>\n",
       "<table border=\"1\" class=\"dataframe\">\n",
       "  <thead>\n",
       "    <tr style=\"text-align: right;\">\n",
       "      <th></th>\n",
       "      <th>ID</th>\n",
       "      <th>LABEL</th>\n",
       "      <th>PROB</th>\n",
       "    </tr>\n",
       "  </thead>\n",
       "  <tbody>\n",
       "    <tr>\n",
       "      <th>0</th>\n",
       "      <td>1202</td>\n",
       "      <td>Арахис, нежареный или не приготовленный каким-...</td>\n",
       "      <td>0.024651</td>\n",
       "    </tr>\n",
       "    <tr>\n",
       "      <th>1</th>\n",
       "      <td>0808</td>\n",
       "      <td>Яблоки, груши и айва, свежие</td>\n",
       "      <td>0.014857</td>\n",
       "    </tr>\n",
       "    <tr>\n",
       "      <th>2</th>\n",
       "      <td>2001</td>\n",
       "      <td>Овощи, фрукты, орехи и другие съедобные части ...</td>\n",
       "      <td>0.012068</td>\n",
       "    </tr>\n",
       "    <tr>\n",
       "      <th>3</th>\n",
       "      <td>8311</td>\n",
       "      <td>Проволока, прутки, трубы, пластины, электроды ...</td>\n",
       "      <td>0.010070</td>\n",
       "    </tr>\n",
       "    <tr>\n",
       "      <th>4</th>\n",
       "      <td>8506</td>\n",
       "      <td>Первичные элементы и первичные батареи</td>\n",
       "      <td>0.009615</td>\n",
       "    </tr>\n",
       "  </tbody>\n",
       "</table>\n",
       "</div>"
      ],
      "text/plain": [
       "     ID                                              LABEL      PROB\n",
       "0  1202  Арахис, нежареный или не приготовленный каким-...  0.024651\n",
       "1  0808                       Яблоки, груши и айва, свежие  0.014857\n",
       "2  2001  Овощи, фрукты, орехи и другие съедобные части ...  0.012068\n",
       "3  8311  Проволока, прутки, трубы, пластины, электроды ...  0.010070\n",
       "4  8506             Первичные элементы и первичные батареи  0.009615"
      ]
     },
     "execution_count": 45,
     "metadata": {},
     "output_type": "execute_result"
    }
   ],
   "source": [
    "#причесанный в пандас пример\n",
    "pd.DataFrame(predict_prob_with_descr('орехи'), columns=['ID', 'LABEL', 'PROB'])"
   ]
  },
  {
   "cell_type": "code",
   "execution_count": 6,
   "id": "b6501e04",
   "metadata": {},
   "outputs": [],
   "source": [
    "def consolelog(probs):\n",
    "    print('prob-ty', 'Code', 'Description', sep=':    ')\n",
    "    #print('____________________________________________________________________')\n",
    "    for each in probs:\n",
    "        if len(each[1]) < 40:\n",
    "            des = each[1]\n",
    "        else:\n",
    "            des = each[1][:40] + '...'\n",
    "        print(f\"{each[2]:.{5}f}\", each[0], des, sep=':    ')\n",
    "        #print('____________________________________________________________________')"
   ]
  },
  {
   "cell_type": "code",
   "execution_count": 16,
   "id": "d31aa100",
   "metadata": {},
   "outputs": [
    {
     "name": "stdout",
     "output_type": "stream",
     "text": [
      "prob-ty:    Code:    Description\n",
      "0.09167:    4016:    Изделия из вулканизованной резины, кроме...\n",
      "0.05223:    9603:    Метлы, щетки (включая щетки, являющиеся ...\n",
      "0.03173:    7320:    Пружины, рессоры и листы для них, из чер...\n",
      "0.02111:    9404:    Основы матрацные; принадлежности постель...\n",
      "0.02036:    9503:    Трехколесные велосипеды, самокаты, педал...\n"
     ]
    }
   ],
   "source": [
    "consolelog(predict_prob_with_descr(\"гандон\", 5))"
   ]
  },
  {
   "cell_type": "code",
   "execution_count": 8,
   "id": "4bd98101",
   "metadata": {},
   "outputs": [],
   "source": [
    "#загрузим обучающий датасет\n",
    "df = pd.read_csv(\"../data/mergedcleared0407.csv\", sep=';', names=['id', 'label'], dtype={'id': str, 'label': str})\n",
    "#df = pd.read_csv(\"../data/firstset.csv\", sep=';', names=['id', 'label'], dtype={'id': str, 'label': str})\n",
    "#функция для вывода обучающих данных по коду. При pandas=False возвращает numpy массив\n",
    "def whats_data(id, pandas=True):\n",
    "    if pandas == True:\n",
    "        return df[df.id.str.slice(start=0, stop=len(str(id)))==str(id)]\n",
    "    else:\n",
    "        return df[df.id.str.slice(start=0, stop=len(str(id)))==str(id)].to_numpy()"
   ]
  },
  {
   "cell_type": "code",
   "execution_count": 17,
   "id": "161cccd1",
   "metadata": {},
   "outputs": [
    {
     "data": {
      "text/html": [
       "<div>\n",
       "<style scoped>\n",
       "    .dataframe tbody tr th:only-of-type {\n",
       "        vertical-align: middle;\n",
       "    }\n",
       "\n",
       "    .dataframe tbody tr th {\n",
       "        vertical-align: top;\n",
       "    }\n",
       "\n",
       "    .dataframe thead th {\n",
       "        text-align: right;\n",
       "    }\n",
       "</style>\n",
       "<table border=\"1\" class=\"dataframe\">\n",
       "  <thead>\n",
       "    <tr style=\"text-align: right;\">\n",
       "      <th></th>\n",
       "      <th>id</th>\n",
       "      <th>label</th>\n",
       "    </tr>\n",
       "  </thead>\n",
       "  <tbody>\n",
       "    <tr>\n",
       "      <th>21748</th>\n",
       "      <td>4016910000</td>\n",
       "      <td>коврики придверные резиновые из вулканизованно...</td>\n",
       "    </tr>\n",
       "    <tr>\n",
       "      <th>21749</th>\n",
       "      <td>4016910000</td>\n",
       "      <td>покрытия напольные и коврики из вулканизирован...</td>\n",
       "    </tr>\n",
       "    <tr>\n",
       "      <th>21750</th>\n",
       "      <td>4016910000</td>\n",
       "      <td>покрытия напольные и коврики из вулканизованно...</td>\n",
       "    </tr>\n",
       "    <tr>\n",
       "      <th>21751</th>\n",
       "      <td>4016910000</td>\n",
       "      <td>коврики из нетвердой непористой вулканизованно...</td>\n",
       "    </tr>\n",
       "    <tr>\n",
       "      <th>21752</th>\n",
       "      <td>4016910000</td>\n",
       "      <td>коврики автомобильные из непористой вулканизир...</td>\n",
       "    </tr>\n",
       "    <tr>\n",
       "      <th>...</th>\n",
       "      <td>...</td>\n",
       "      <td>...</td>\n",
       "    </tr>\n",
       "    <tr>\n",
       "      <th>260335</th>\n",
       "      <td>4016999109</td>\n",
       "      <td>части из металлонаполненных резин для обслужив...</td>\n",
       "    </tr>\n",
       "    <tr>\n",
       "      <th>260336</th>\n",
       "      <td>4016999109</td>\n",
       "      <td>части из металлонаполненных резин предназначен...</td>\n",
       "    </tr>\n",
       "    <tr>\n",
       "      <th>260337</th>\n",
       "      <td>4016999109</td>\n",
       "      <td>запасные части фронтального погрузчика sdlg из...</td>\n",
       "    </tr>\n",
       "    <tr>\n",
       "      <th>260338</th>\n",
       "      <td>4016999109</td>\n",
       "      <td>уплотнительный сальник из меtаллонаполненной р...</td>\n",
       "    </tr>\n",
       "    <tr>\n",
       "      <th>260339</th>\n",
       "      <td>4016999109</td>\n",
       "      <td>некоммерческая партия является комплектующими ...</td>\n",
       "    </tr>\n",
       "  </tbody>\n",
       "</table>\n",
       "<p>1446 rows × 2 columns</p>\n",
       "</div>"
      ],
      "text/plain": [
       "                id                                              label\n",
       "21748   4016910000  коврики придверные резиновые из вулканизованно...\n",
       "21749   4016910000  покрытия напольные и коврики из вулканизирован...\n",
       "21750   4016910000  покрытия напольные и коврики из вулканизованно...\n",
       "21751   4016910000  коврики из нетвердой непористой вулканизованно...\n",
       "21752   4016910000  коврики автомобильные из непористой вулканизир...\n",
       "...            ...                                                ...\n",
       "260335  4016999109  части из металлонаполненных резин для обслужив...\n",
       "260336  4016999109  части из металлонаполненных резин предназначен...\n",
       "260337  4016999109  запасные части фронтального погрузчика sdlg из...\n",
       "260338  4016999109  уплотнительный сальник из меtаллонаполненной р...\n",
       "260339  4016999109  некоммерческая партия является комплектующими ...\n",
       "\n",
       "[1446 rows x 2 columns]"
      ]
     },
     "execution_count": 17,
     "metadata": {},
     "output_type": "execute_result"
    }
   ],
   "source": [
    "#пример использования\n",
    "whats_data('4016')"
   ]
  }
 ],
 "metadata": {
  "kernelspec": {
   "display_name": "Python 3 (ipykernel)",
   "language": "python",
   "name": "python3"
  },
  "language_info": {
   "codemirror_mode": {
    "name": "ipython",
    "version": 3
   },
   "file_extension": ".py",
   "mimetype": "text/x-python",
   "name": "python",
   "nbconvert_exporter": "python",
   "pygments_lexer": "ipython3",
   "version": "3.10.11"
  }
 },
 "nbformat": 4,
 "nbformat_minor": 5
}
