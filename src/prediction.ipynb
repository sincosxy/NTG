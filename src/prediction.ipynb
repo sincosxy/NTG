{
 "cells": [
  {
   "cell_type": "code",
   "execution_count": 1,
   "id": "47a36a22",
   "metadata": {},
   "outputs": [
    {
     "name": "stderr",
     "output_type": "stream",
     "text": [
      "C:\\Users\\yeril\\AppData\\Local\\Packages\\PythonSoftwareFoundation.Python.3.10_qbz5n2kfra8p0\\LocalCache\\local-packages\\Python310\\site-packages\\tqdm\\auto.py:22: TqdmWarning: IProgress not found. Please update jupyter and ipywidgets. See https://ipywidgets.readthedocs.io/en/stable/user_install.html\n",
      "  from .autonotebook import tqdm as notebook_tqdm\n",
      "Some weights of BertForSequenceClassification were not initialized from the model checkpoint at sberbank-ai/sbert_large_nlu_ru and are newly initialized: ['classifier.weight', 'classifier.bias']\n",
      "You should probably TRAIN this model on a down-stream task to be able to use it for predictions and inference.\n"
     ]
    },
    {
     "data": {
      "text/plain": [
       "<All keys matched successfully>"
      ]
     },
     "execution_count": 1,
     "metadata": {},
     "output_type": "execute_result"
    }
   ],
   "source": [
    "#импорт библиотек, загрузка модели, весов, разметки клаассов\n",
    "import torch\n",
    "import numpy as np\n",
    "import pandas as pd\n",
    "device = torch.device(\"cpu\")\n",
    "from transformers import AutoTokenizer, AutoModel, AutoModelForSequenceClassification, AdamW, get_scheduler\n",
    "model_name = \"sberbank-ai/sbert_large_nlu_ru\"\n",
    "tokenizer = AutoTokenizer.from_pretrained(model_name)\n",
    "model = AutoModelForSequenceClassification.from_pretrained(model_name, num_labels=655).to(device)\n",
    "from sklearn import preprocessing\n",
    "Label_encoder = preprocessing.LabelEncoder()\n",
    "Label_encoder.classes_ = np.load('./cl_classes1406.npy', allow_pickle=True)\n",
    "model.load_state_dict(torch.load(\"../../best_model2705/pytorch_model.bin\", map_location=device))"
   ]
  },
  {
   "cell_type": "code",
   "execution_count": 144,
   "id": "639d68ee",
   "metadata": {},
   "outputs": [],
   "source": [
    "#импорт описания классов (выдрал с альта софта)\n",
    "dscr = pd.read_csv(\"desc.csv\", sep=';', names=['id', 'label'])\n",
    "ids = pd.Series(dscr['id'])\n",
    "ids = ids.astype(str)\n",
    "dscr['id'] = ids\n",
    "ids = []\n",
    "for i, id in enumerate(dscr['id']):\n",
    "    if len(id) == 4:\n",
    "        ids.append(str(id))\n",
    "    else:\n",
    "        ids.append('0' + str(id))\n",
    "dscr['id'] = ids"
   ]
  },
  {
   "cell_type": "code",
   "execution_count": 183,
   "id": "a800f527",
   "metadata": {},
   "outputs": [
    {
     "name": "stdout",
     "output_type": "stream",
     "text": [
      "0391\n",
      "0481\n",
      "0830\n",
      "1012\n",
      "1018\n",
      "1062\n",
      "1068\n",
      "5022\n",
      "5032\n",
      "5035\n",
      "5052\n",
      "5058\n",
      "5075\n",
      "6908\n"
     ]
    }
   ],
   "source": [
    "#ищем классы нейросети, к которым нет описания.\n",
    "withlabels = list(dscr['id'])\n",
    "justids = list(Label_encoder.classes_)\n",
    "for each in justids:\n",
    "    if each not in withlabels:\n",
    "        print(each)"
   ]
  },
  {
   "cell_type": "code",
   "execution_count": 148,
   "id": "a8752dcc",
   "metadata": {},
   "outputs": [],
   "source": [
    "#функция предсказания одного класса (аргмакс). По умолчанию с кодом класса дает описание класса\n",
    "def predict_class(text, desc=True):\n",
    "    model.to(torch.device('cpu'))\n",
    "    inputs = tokenizer(text, truncation = True, max_length=100, padding='max_length', return_tensors=\"pt\")\n",
    "    with torch.no_grad():\n",
    "        logits = model(**inputs).logits\n",
    "        predicted_class_id = logits.argmax().item()\n",
    "        if desc==True:\n",
    "            result = dict()\n",
    "            id = Label_encoder.inverse_transform([predicted_class_id])[0]\n",
    "            result[id] = dscr[dscr['id']==id].iloc[0]['label']\n",
    "            return result\n",
    "        else:\n",
    "            return Label_encoder.inverse_transform([predicted_class_id])[0]"
   ]
  },
  {
   "cell_type": "code",
   "execution_count": 149,
   "id": "1770ccb1",
   "metadata": {},
   "outputs": [
    {
     "data": {
      "text/plain": [
       "{'1704': 'Кондитерские изделия из сахара (включая белый шоколад), не содержащие какао'}"
      ]
     },
     "execution_count": 149,
     "metadata": {},
     "output_type": "execute_result"
    }
   ],
   "source": [
    "#Пример с описанием\n",
    "predict_class('КОНДИТЕРСКИЕ ИЗДЕЛИЯ В ВИДЕ РЕЗИНКИ И ЖЕЛЕ, НЕ СОДЕРЖАЩИЕ КАКАО')"
   ]
  },
  {
   "cell_type": "code",
   "execution_count": 150,
   "id": "a0621e68",
   "metadata": {},
   "outputs": [
    {
     "data": {
      "text/plain": [
       "'1704'"
      ]
     },
     "execution_count": 150,
     "metadata": {},
     "output_type": "execute_result"
    }
   ],
   "source": [
    "#Пример без описания\n",
    "predict_class('КОНДИТЕРСКИЕ ИЗДЕЛИЯ В ВИДЕ РЕЗИНКИ И ЖЕЛЕ, НЕ СОДЕРЖАЩИЕ КАКАО', desc=False)"
   ]
  },
  {
   "cell_type": "code",
   "execution_count": 151,
   "id": "c609c07a",
   "metadata": {},
   "outputs": [],
   "source": [
    "#функция предикта классов с вероятностью (софтмакс), по умолчанию 5 классов\n",
    "def predict_prob(text, qtty=5):\n",
    "    model.to(torch.device('cpu'))\n",
    "    inputs = tokenizer(text, truncation = True, max_length=100, padding='max_length', return_tensors=\"pt\")\n",
    "    with torch.no_grad():\n",
    "        logits = model(**inputs).logits\n",
    "    result = dict()\n",
    "    p = torch.nn.functional.softmax(logits, dim=1)\n",
    "    for i in range(qtty):\n",
    "        a = p.argmax().item()\n",
    "        result[Label_encoder.inverse_transform([a])[0]] = p[0][a].item()\n",
    "        p[0][a] = 0\n",
    "    return result"
   ]
  },
  {
   "cell_type": "code",
   "execution_count": 159,
   "id": "b7dc850b",
   "metadata": {},
   "outputs": [
    {
     "name": "stdout",
     "output_type": "stream",
     "text": [
      "{'3917': 0.9508989453315735, '7304': 0.011040955781936646, '4009': 0.0049907136708498}\n"
     ]
    }
   ],
   "source": [
    "#Пример с 3 классами\n",
    "print(predict_prob('трубы сантехнические пластиковые ', 3))"
   ]
  },
  {
   "cell_type": "code",
   "execution_count": 153,
   "id": "02a0ef1f",
   "metadata": {},
   "outputs": [
    {
     "name": "stdout",
     "output_type": "stream",
     "text": [
      "{'7304': 0.9171484112739563, '7306': 0.014556351117789745, '7411': 0.009647378697991371, '3917': 0.004930668044835329, '8307': 0.0029827230609953403}\n"
     ]
    }
   ],
   "source": [
    "#Пример с 5 классами\n",
    "print(predict_prob('трубы металлические ', 5))"
   ]
  },
  {
   "cell_type": "code",
   "execution_count": 155,
   "id": "efc23792",
   "metadata": {},
   "outputs": [],
   "source": [
    "#функция предикта классов и описания с вероятностью, по умолчанию 5 шт. Использует функцию predict_prob.\n",
    "#возвращает список списков\n",
    "def predict_prob_with_descr(text, qtty=5):\n",
    "    probs = predict_prob(text, qtty=qtty)\n",
    "    #result = np.array()\n",
    "    result = list()\n",
    "    for each in probs:\n",
    "        result.append([each, dscr[dscr['id']==each].iloc[0]['label'], probs[each]])\n",
    "    return result"
   ]
  },
  {
   "cell_type": "code",
   "execution_count": 158,
   "id": "0c91d071",
   "metadata": {},
   "outputs": [
    {
     "data": {
      "text/plain": [
       "[['7304',\n",
       "  'Трубы, трубки и профили полые, бесшовные, из черных металлов (кроме чугунного литья)',\n",
       "  0.9171484112739563],\n",
       " ['7306',\n",
       "  'Трубы, трубки и профили полые прочие (например, с открытым швом или сварные, клепаные или соединенные аналогичным способом), из черных металлов',\n",
       "  0.014556351117789745],\n",
       " ['7411', 'Трубы и трубки медные', 0.009647378697991371],\n",
       " ['3917',\n",
       "  'Трубы, трубки, шланги и их фитинги (например, соединения, колена, фланцы), из пластмасс',\n",
       "  0.004930668044835329],\n",
       " ['8307',\n",
       "  'Трубы гибкие из недрагоценных металлов, с фитингами или без них',\n",
       "  0.0029827230609953403]]"
      ]
     },
     "execution_count": 158,
     "metadata": {},
     "output_type": "execute_result"
    }
   ],
   "source": [
    "#Пример с 5 классами.\n",
    "predict_prob_with_descr('трубы металлические')"
   ]
  },
  {
   "cell_type": "code",
   "execution_count": 157,
   "id": "0ee0f972",
   "metadata": {},
   "outputs": [
    {
     "data": {
      "text/html": [
       "<div>\n",
       "<style scoped>\n",
       "    .dataframe tbody tr th:only-of-type {\n",
       "        vertical-align: middle;\n",
       "    }\n",
       "\n",
       "    .dataframe tbody tr th {\n",
       "        vertical-align: top;\n",
       "    }\n",
       "\n",
       "    .dataframe thead th {\n",
       "        text-align: right;\n",
       "    }\n",
       "</style>\n",
       "<table border=\"1\" class=\"dataframe\">\n",
       "  <thead>\n",
       "    <tr style=\"text-align: right;\">\n",
       "      <th></th>\n",
       "      <th>ID</th>\n",
       "      <th>LABEL</th>\n",
       "      <th>PROB</th>\n",
       "    </tr>\n",
       "  </thead>\n",
       "  <tbody>\n",
       "    <tr>\n",
       "      <th>0</th>\n",
       "      <td>7304</td>\n",
       "      <td>Трубы, трубки и профили полые, бесшовные, из ч...</td>\n",
       "      <td>0.917148</td>\n",
       "    </tr>\n",
       "    <tr>\n",
       "      <th>1</th>\n",
       "      <td>7306</td>\n",
       "      <td>Трубы, трубки и профили полые прочие (например...</td>\n",
       "      <td>0.014556</td>\n",
       "    </tr>\n",
       "    <tr>\n",
       "      <th>2</th>\n",
       "      <td>7411</td>\n",
       "      <td>Трубы и трубки медные</td>\n",
       "      <td>0.009647</td>\n",
       "    </tr>\n",
       "    <tr>\n",
       "      <th>3</th>\n",
       "      <td>3917</td>\n",
       "      <td>Трубы, трубки, шланги и их фитинги (например, ...</td>\n",
       "      <td>0.004931</td>\n",
       "    </tr>\n",
       "    <tr>\n",
       "      <th>4</th>\n",
       "      <td>8307</td>\n",
       "      <td>Трубы гибкие из недрагоценных металлов, с фити...</td>\n",
       "      <td>0.002983</td>\n",
       "    </tr>\n",
       "  </tbody>\n",
       "</table>\n",
       "</div>"
      ],
      "text/plain": [
       "     ID                                              LABEL      PROB\n",
       "0  7304  Трубы, трубки и профили полые, бесшовные, из ч...  0.917148\n",
       "1  7306  Трубы, трубки и профили полые прочие (например...  0.014556\n",
       "2  7411                              Трубы и трубки медные  0.009647\n",
       "3  3917  Трубы, трубки, шланги и их фитинги (например, ...  0.004931\n",
       "4  8307  Трубы гибкие из недрагоценных металлов, с фити...  0.002983"
      ]
     },
     "execution_count": 157,
     "metadata": {},
     "output_type": "execute_result"
    }
   ],
   "source": [
    "#причесанный в пандас пример\n",
    "pd.DataFrame(predict_prob_with_descr('трубы металлические'), columns=['ID', 'LABEL', 'PROB'])"
   ]
  },
  {
   "cell_type": "code",
   "execution_count": 186,
   "id": "b6501e04",
   "metadata": {},
   "outputs": [],
   "source": [
    "def consolelog(probs):\n",
    "    print('prob-ty', 'Code', 'Description', sep=':    ')\n",
    "    #print('____________________________________________________________________')\n",
    "    for each in probs:\n",
    "        if len(each[1]) < 40:\n",
    "            des = each[1]\n",
    "        else:\n",
    "            des = each[1][:40] + '...'\n",
    "        print(f\"{each[2]:.{5}f}\", each[0], des, sep=':    ')\n",
    "        #print('____________________________________________________________________')"
   ]
  },
  {
   "cell_type": "code",
   "execution_count": 187,
   "id": "d31aa100",
   "metadata": {},
   "outputs": [
    {
     "name": "stdout",
     "output_type": "stream",
     "text": [
      "prob-ty:    Code:    Description\n",
      "0.65559:    2106:    Пищевые продукты, в другом месте не поим...\n",
      "0.02286:    2103:    Продукты для приготовления соусов и гото...\n",
      "0.01718:    1905:    Хлеб, мучные кондитерские изделия, пирож...\n",
      "0.01501:    9602:    Обработанные материалы растительного или...\n",
      "0.01474:    1704:    Кондитерские изделия из сахара (включая ...\n"
     ]
    }
   ],
   "source": [
    "consolelog(predict_prob_with_descr(\"БЕЗАЛКОГОЛЬНЫЕ ГАЗИРОВАННЫЕ НАПИТКИ АРОМАТИЗИРОВАННЫЕ\", 5))"
   ]
  }
 ],
 "metadata": {
  "kernelspec": {
   "display_name": "Python 3 (ipykernel)",
   "language": "python",
   "name": "python3"
  },
  "language_info": {
   "codemirror_mode": {
    "name": "ipython",
    "version": 3
   },
   "file_extension": ".py",
   "mimetype": "text/x-python",
   "name": "python",
   "nbconvert_exporter": "python",
   "pygments_lexer": "ipython3",
   "version": "3.10.11"
  }
 },
 "nbformat": 4,
 "nbformat_minor": 5
}
