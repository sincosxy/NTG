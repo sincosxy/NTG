{
 "cells": [
  {
   "cell_type": "code",
   "execution_count": 1,
   "id": "47a36a22",
   "metadata": {},
   "outputs": [
    {
     "name": "stderr",
     "output_type": "stream",
     "text": [
      "C:\\Users\\yeril\\AppData\\Local\\Packages\\PythonSoftwareFoundation.Python.3.10_qbz5n2kfra8p0\\LocalCache\\local-packages\\Python310\\site-packages\\tqdm\\auto.py:22: TqdmWarning: IProgress not found. Please update jupyter and ipywidgets. See https://ipywidgets.readthedocs.io/en/stable/user_install.html\n",
      "  from .autonotebook import tqdm as notebook_tqdm\n",
      "Some weights of BertForSequenceClassification were not initialized from the model checkpoint at sberbank-ai/sbert_large_nlu_ru and are newly initialized: ['classifier.bias', 'classifier.weight']\n",
      "You should probably TRAIN this model on a down-stream task to be able to use it for predictions and inference.\n"
     ]
    },
    {
     "data": {
      "text/plain": [
       "<All keys matched successfully>"
      ]
     },
     "execution_count": 1,
     "metadata": {},
     "output_type": "execute_result"
    }
   ],
   "source": [
    "#импорт библиотек, загрузка модели, весов, разметки клаассов\n",
    "import torch\n",
    "import numpy as np\n",
    "import pandas as pd\n",
    "device = torch.device(\"cpu\")\n",
    "from transformers import AutoTokenizer, AutoModel, AutoModelForSequenceClassification, AdamW, get_scheduler\n",
    "model_name = \"sberbank-ai/sbert_large_nlu_ru\"\n",
    "tokenizer = AutoTokenizer.from_pretrained(model_name)\n",
    "model = AutoModelForSequenceClassification.from_pretrained(model_name, num_labels=2648).to(device)\n",
    "from sklearn import preprocessing\n",
    "Label_encoder = preprocessing.LabelEncoder()\n",
    "Label_encoder.classes_ = np.load('./cl_classes1307.npy', allow_pickle=True)\n",
    "model.load_state_dict(torch.load(\"../../best_model2306/pytorch_model10d.bin\", map_location=device))"
   ]
  },
  {
   "cell_type": "code",
   "execution_count": 121,
   "id": "639d68ee",
   "metadata": {},
   "outputs": [],
   "source": [
    "#импорт описания классов (Алексей слямзил)\n",
    "dscr = pd.read_csv(\"../data/descr10d.csv\", sep=';', names=['id', 'label', 'till'], dtype={'id': str, 'label': str, 'till': str})"
   ]
  },
  {
   "cell_type": "code",
   "execution_count": 101,
   "id": "00712a8c",
   "metadata": {},
   "outputs": [],
   "source": [
    "#dscr['till'] = pd.to_datetime(dscr['till'], format='%Y-%m-%d')\n",
    "#dscr['label'] = dscr['label'].str.lower()\n",
    "#dscr['label'] = dscr['label'].str.strip()\n",
    "#dscr.to_csv('../data/descr10d.csv', sep=';', columns=['id', 'label', 'till'], index=False, header=False)"
   ]
  },
  {
   "cell_type": "code",
   "execution_count": 133,
   "id": "e0bc49cd",
   "metadata": {},
   "outputs": [],
   "source": [
    "dscr['valid'] = dscr['till'].isna()"
   ]
  },
  {
   "cell_type": "code",
   "execution_count": 98,
   "id": "9c922700",
   "metadata": {},
   "outputs": [
    {
     "data": {
      "text/html": [
       "<div>\n",
       "<style scoped>\n",
       "    .dataframe tbody tr th:only-of-type {\n",
       "        vertical-align: middle;\n",
       "    }\n",
       "\n",
       "    .dataframe tbody tr th {\n",
       "        vertical-align: top;\n",
       "    }\n",
       "\n",
       "    .dataframe thead th {\n",
       "        text-align: right;\n",
       "    }\n",
       "</style>\n",
       "<table border=\"1\" class=\"dataframe\">\n",
       "  <thead>\n",
       "    <tr style=\"text-align: right;\">\n",
       "      <th></th>\n",
       "      <th>id</th>\n",
       "      <th>label</th>\n",
       "      <th>till</th>\n",
       "    </tr>\n",
       "  </thead>\n",
       "  <tbody>\n",
       "    <tr>\n",
       "      <th>85</th>\n",
       "      <td>8421990008</td>\n",
       "      <td>ПРОЧИЕ ЧАСТИ ОБОРУДОВАНИЯ И УСТРОЙСТВ ДЛЯ ФИЛЬ...</td>\n",
       "      <td>2021-12-31</td>\n",
       "    </tr>\n",
       "    <tr>\n",
       "      <th>99</th>\n",
       "      <td>7019590000</td>\n",
       "      <td>ТКАНИ ПРОЧИЕ ИЗ СТЕКЛОВОЛОКНА</td>\n",
       "      <td>2021-12-31</td>\n",
       "    </tr>\n",
       "    <tr>\n",
       "      <th>251</th>\n",
       "      <td>7019900009</td>\n",
       "      <td>СТЕКЛОВОЛОКНО (ВКЛЮЧАЯ СТЕКЛОВАТУ) И ИЗДЕЛИЯ И...</td>\n",
       "      <td>2021-12-31</td>\n",
       "    </tr>\n",
       "    <tr>\n",
       "      <th>406</th>\n",
       "      <td>8479899708</td>\n",
       "      <td>ПРОЧИЕ МАШИНЫ И МЕХАНИЧЕСКИЕ ПРИСПОСОБЛЕНИЯ, В...</td>\n",
       "      <td>2021-12-31</td>\n",
       "    </tr>\n",
       "    <tr>\n",
       "      <th>467</th>\n",
       "      <td>9405109803</td>\n",
       "      <td>ПРОЧИЕ ЛЮСТРЫ И ПРОЧЕЕ ЭЛЕКТРИЧЕСКОЕ ОСВЕТИТИЕ...</td>\n",
       "      <td>2021-12-31</td>\n",
       "    </tr>\n",
       "    <tr>\n",
       "      <th>...</th>\n",
       "      <td>...</td>\n",
       "      <td>...</td>\n",
       "      <td>...</td>\n",
       "    </tr>\n",
       "    <tr>\n",
       "      <th>2625</th>\n",
       "      <td>7019390008</td>\n",
       "      <td>ПРОЧИЕ ХОЛСТЫ, МАТЫ, МАТРИЦЫ, ПЛИТЫ И ПРОЧИЕ Н...</td>\n",
       "      <td>2021-12-31</td>\n",
       "    </tr>\n",
       "    <tr>\n",
       "      <th>2626</th>\n",
       "      <td>8474100000</td>\n",
       "      <td>МАШИНЫ ДЛЯ СОРТИРОВКИ, ГРОХОЧЕНИЯ, СЕПАРАЦИИ И...</td>\n",
       "      <td>2021-04-02</td>\n",
       "    </tr>\n",
       "    <tr>\n",
       "      <th>2627</th>\n",
       "      <td>7323999100</td>\n",
       "      <td>ПРОЧИЕ СТОЛОВЫЕ ИЗДЕЛИЯ ИЗ ЧЕРНОГО МЕТАЛЛА, ЛА...</td>\n",
       "      <td>2016-12-31</td>\n",
       "    </tr>\n",
       "    <tr>\n",
       "      <th>2629</th>\n",
       "      <td>1515904000</td>\n",
       "      <td>ПРОЧИЕ МАСЛА И ИХ ФРАКЦИИ СЫРЫЕ, НЕРАФИНИРОВАН...</td>\n",
       "      <td>2021-12-31</td>\n",
       "    </tr>\n",
       "    <tr>\n",
       "      <th>2630</th>\n",
       "      <td>9405205009</td>\n",
       "      <td>ПРОЧИЕ ЛАМПЫ ЭЛЕКТРИЧЕСКИЕ НАСТОЛЬНЫЕ, НАПОЛЬН...</td>\n",
       "      <td>2018-08-18</td>\n",
       "    </tr>\n",
       "  </tbody>\n",
       "</table>\n",
       "<p>240 rows × 3 columns</p>\n",
       "</div>"
      ],
      "text/plain": [
       "              id                                              label       till\n",
       "85    8421990008  ПРОЧИЕ ЧАСТИ ОБОРУДОВАНИЯ И УСТРОЙСТВ ДЛЯ ФИЛЬ... 2021-12-31\n",
       "99    7019590000                      ТКАНИ ПРОЧИЕ ИЗ СТЕКЛОВОЛОКНА 2021-12-31\n",
       "251   7019900009  СТЕКЛОВОЛОКНО (ВКЛЮЧАЯ СТЕКЛОВАТУ) И ИЗДЕЛИЯ И... 2021-12-31\n",
       "406   8479899708  ПРОЧИЕ МАШИНЫ И МЕХАНИЧЕСКИЕ ПРИСПОСОБЛЕНИЯ, В... 2021-12-31\n",
       "467   9405109803  ПРОЧИЕ ЛЮСТРЫ И ПРОЧЕЕ ЭЛЕКТРИЧЕСКОЕ ОСВЕТИТИЕ... 2021-12-31\n",
       "...          ...                                                ...        ...\n",
       "2625  7019390008  ПРОЧИЕ ХОЛСТЫ, МАТЫ, МАТРИЦЫ, ПЛИТЫ И ПРОЧИЕ Н... 2021-12-31\n",
       "2626  8474100000  МАШИНЫ ДЛЯ СОРТИРОВКИ, ГРОХОЧЕНИЯ, СЕПАРАЦИИ И... 2021-04-02\n",
       "2627  7323999100  ПРОЧИЕ СТОЛОВЫЕ ИЗДЕЛИЯ ИЗ ЧЕРНОГО МЕТАЛЛА, ЛА... 2016-12-31\n",
       "2629  1515904000  ПРОЧИЕ МАСЛА И ИХ ФРАКЦИИ СЫРЫЕ, НЕРАФИНИРОВАН... 2021-12-31\n",
       "2630  9405205009  ПРОЧИЕ ЛАМПЫ ЭЛЕКТРИЧЕСКИЕ НАСТОЛЬНЫЕ, НАПОЛЬН... 2018-08-18\n",
       "\n",
       "[240 rows x 3 columns]"
      ]
     },
     "execution_count": 98,
     "metadata": {},
     "output_type": "execute_result"
    }
   ],
   "source": [
    "#Устаревшие коды\n",
    "dscr[dscr['till'].notna()]"
   ]
  },
  {
   "cell_type": "code",
   "execution_count": 44,
   "id": "d0242d4e",
   "metadata": {},
   "outputs": [
    {
     "data": {
      "text/html": [
       "<div>\n",
       "<style scoped>\n",
       "    .dataframe tbody tr th:only-of-type {\n",
       "        vertical-align: middle;\n",
       "    }\n",
       "\n",
       "    .dataframe tbody tr th {\n",
       "        vertical-align: top;\n",
       "    }\n",
       "\n",
       "    .dataframe thead th {\n",
       "        text-align: right;\n",
       "    }\n",
       "</style>\n",
       "<table border=\"1\" class=\"dataframe\">\n",
       "  <thead>\n",
       "    <tr style=\"text-align: right;\">\n",
       "      <th></th>\n",
       "      <th>id</th>\n",
       "      <th>label</th>\n",
       "    </tr>\n",
       "  </thead>\n",
       "  <tbody>\n",
       "    <tr>\n",
       "      <th>63003</th>\n",
       "      <td>1207999600</td>\n",
       "      <td>семена чиа шалфей испанский лат salvia hispani...</td>\n",
       "    </tr>\n",
       "    <tr>\n",
       "      <th>63004</th>\n",
       "      <td>1207999600</td>\n",
       "      <td>семена тыквы свежие очищенные для продовольств...</td>\n",
       "    </tr>\n",
       "    <tr>\n",
       "      <th>63005</th>\n",
       "      <td>1207999600</td>\n",
       "      <td>семена масличной тыквы cucurbita pero styriaca...</td>\n",
       "    </tr>\n",
       "    <tr>\n",
       "      <th>63006</th>\n",
       "      <td>1207999600</td>\n",
       "      <td>семена тыквы сырые лущенные для употребления в...</td>\n",
       "    </tr>\n",
       "    <tr>\n",
       "      <th>63007</th>\n",
       "      <td>1207999600</td>\n",
       "      <td>семена тыквы сырые недробленые очищенные от ко...</td>\n",
       "    </tr>\n",
       "    <tr>\n",
       "      <th>...</th>\n",
       "      <td>...</td>\n",
       "      <td>...</td>\n",
       "    </tr>\n",
       "    <tr>\n",
       "      <th>232945</th>\n",
       "      <td>7318159009</td>\n",
       "      <td>прочие винты и болты с головками из черных мет...</td>\n",
       "    </tr>\n",
       "    <tr>\n",
       "      <th>232947</th>\n",
       "      <td>8421990008</td>\n",
       "      <td>запасные части принадлежности и компоненты тра...</td>\n",
       "    </tr>\n",
       "    <tr>\n",
       "      <th>232951</th>\n",
       "      <td>9403901000</td>\n",
       "      <td>части мебели из металла изделие сложной геомет...</td>\n",
       "    </tr>\n",
       "    <tr>\n",
       "      <th>232960</th>\n",
       "      <td>9405105008</td>\n",
       "      <td>светильники электрические поставляются частичн...</td>\n",
       "    </tr>\n",
       "    <tr>\n",
       "      <th>232961</th>\n",
       "      <td>8539500000</td>\n",
       "      <td>лампы светодиодные led</td>\n",
       "    </tr>\n",
       "  </tbody>\n",
       "</table>\n",
       "<p>3529 rows × 2 columns</p>\n",
       "</div>"
      ],
      "text/plain": [
       "                id                                              label\n",
       "63003   1207999600  семена чиа шалфей испанский лат salvia hispani...\n",
       "63004   1207999600  семена тыквы свежие очищенные для продовольств...\n",
       "63005   1207999600  семена масличной тыквы cucurbita pero styriaca...\n",
       "63006   1207999600  семена тыквы сырые лущенные для употребления в...\n",
       "63007   1207999600  семена тыквы сырые недробленые очищенные от ко...\n",
       "...            ...                                                ...\n",
       "232945  7318159009  прочие винты и болты с головками из черных мет...\n",
       "232947  8421990008  запасные части принадлежности и компоненты тра...\n",
       "232951  9403901000  части мебели из металла изделие сложной геомет...\n",
       "232960  9405105008  светильники электрические поставляются частичн...\n",
       "232961  8539500000                             лампы светодиодные led\n",
       "\n",
       "[3529 rows x 2 columns]"
      ]
     },
     "execution_count": 44,
     "metadata": {},
     "output_type": "execute_result"
    }
   ],
   "source": [
    "#точки данных с устаревшими кодами\n",
    "df[df['id'].isin(dscr[dscr['till'].notna()]['id'])]"
   ]
  },
  {
   "cell_type": "code",
   "execution_count": 23,
   "id": "a8752dcc",
   "metadata": {},
   "outputs": [],
   "source": [
    "#функция предсказания одного класса (аргмакс). По умолчанию с кодом класса дает описание класса\n",
    "def predict_class(text, desc=True):\n",
    "    model.to(torch.device('cpu'))\n",
    "    inputs = tokenizer(text, truncation = True, max_length=100, padding='max_length', return_tensors=\"pt\")\n",
    "    with torch.no_grad():\n",
    "        logits = model(**inputs).logits\n",
    "        predicted_class_id = logits.argmax().item()\n",
    "        if desc==True:\n",
    "            result = dict()\n",
    "            id = Label_encoder.inverse_transform([predicted_class_id])[0]\n",
    "            result[id] = dscr[dscr['id']==id].iloc[0]['label']\n",
    "            return result\n",
    "        else:\n",
    "            return Label_encoder.inverse_transform([predicted_class_id])[0]"
   ]
  },
  {
   "cell_type": "code",
   "execution_count": 24,
   "id": "1770ccb1",
   "metadata": {},
   "outputs": [
    {
     "data": {
      "text/plain": [
       "{'1704906500': 'Кондитерские изделия в виде резинки и желе, включая фруктовую пасту в виде кондидерских изделий из сахара, не содержащие какао'}"
      ]
     },
     "execution_count": 24,
     "metadata": {},
     "output_type": "execute_result"
    }
   ],
   "source": [
    "#Пример с описанием\n",
    "predict_class('КОНДИТЕРСКИЕ ИЗДЕЛИЯ В ВИДЕ РЕЗИНКИ И ЖЕЛЕ, НЕ СОДЕРЖАЩИЕ КАКАО')"
   ]
  },
  {
   "cell_type": "code",
   "execution_count": 5,
   "id": "a0621e68",
   "metadata": {},
   "outputs": [
    {
     "data": {
      "text/plain": [
       "'1704906500'"
      ]
     },
     "execution_count": 5,
     "metadata": {},
     "output_type": "execute_result"
    }
   ],
   "source": [
    "#Пример без описания\n",
    "predict_class('КОНДИТЕРСКИЕ ИЗДЕЛИЯ В ВИДЕ РЕЗИНКИ И ЖЕЛЕ, НЕ СОДЕРЖАЩИЕ КАКАО', desc=False)"
   ]
  },
  {
   "cell_type": "code",
   "execution_count": 13,
   "id": "c609c07a",
   "metadata": {},
   "outputs": [],
   "source": [
    "#функция предикта классов с вероятностью (софтмакс), по умолчанию 5 классов\n",
    "def predict_prob(text, qtty=5):\n",
    "    model.to(torch.device('cpu'))\n",
    "    inputs = tokenizer(text, truncation = True, max_length=100, padding='max_length', return_tensors=\"pt\")\n",
    "    with torch.no_grad():\n",
    "        logits = model(**inputs).logits\n",
    "    result = dict()\n",
    "    p = torch.nn.functional.softmax(logits, dim=1)\n",
    "    for i in range(qtty):\n",
    "        a = p.argmax().item()\n",
    "        result[Label_encoder.inverse_transform([a])[0]] = p[0][a].item()\n",
    "        p[0][a] = 0\n",
    "    return result"
   ]
  },
  {
   "cell_type": "code",
   "execution_count": 135,
   "id": "efc23792",
   "metadata": {},
   "outputs": [],
   "source": [
    "#функция предикта классов и описания с вероятностью, по умолчанию 5 шт. Использует функцию predict_prob.\n",
    "#возвращает список списков\n",
    "def predict_prob_with_descr(text, qtty=5):\n",
    "    probs = predict_prob(text, qtty=qtty)\n",
    "    #result = np.array()\n",
    "    result = list()\n",
    "    for each in probs:\n",
    "        #valid = np.nonzero(dscr[dscr['id']==each].iloc[0]['till'])\n",
    "        \n",
    "        result.append([each, dscr[dscr['id']==each].iloc[0]['label'], probs[each], dscr[dscr['id']==each].iloc[0]['valid']])\n",
    "    return result"
   ]
  },
  {
   "cell_type": "code",
   "execution_count": 12,
   "id": "b7dc850b",
   "metadata": {},
   "outputs": [
    {
     "name": "stdout",
     "output_type": "stream",
     "text": [
      "[['3917390001', 'Трубы, трубки, шланги и их фитинги (например, соединения, колена, фланцы), из пластмасс', 0.22377027571201324], ['3917390008', 'Трубы, трубки, шланги и их фитинги (например, соединения, колена, фланцы), из пластмасс', 0.11575308442115784], ['3917330009', 'Трубы, трубки, шланги и их фитинги (например, соединения, колена, фланцы), из пластмасс', 0.08061528205871582]]\n"
     ]
    }
   ],
   "source": [
    "#Пример с 3 классами\n",
    "print(predict_prob_with_descr('трубы сантехнические пластиковые ', 3))"
   ]
  },
  {
   "cell_type": "code",
   "execution_count": 137,
   "id": "02a0ef1f",
   "metadata": {},
   "outputs": [
    {
     "name": "stdout",
     "output_type": "stream",
     "text": [
      "[['1207999600', 'семена и плоды прочих масличных культур, дробленые или недробленые, прочие', 0.9361142516136169, False], ['2008199900', 'прочие орехи, арахис и прочие семена, смешанные или не смешанные между собой в первичных упаковках нетто-массой не более 1 кг', 0.010454857721924782, True], ['1207409000', 'прочие семена кунжута, дробленые или недробленые', 0.00979942362755537, True], ['0711400000', 'огурцы и корнишоны, консервированные для кратковременного хранения (например, диоксидом серы, в рассоле, сернистой воде или в другом временно консервирующем растворе), но в таком виде непригодные для непосредственного употребления в пищу', 0.0006681593949906528, True], ['2001902000', 'плоды рода capsicum, кроме перца стручкового сладкого или перца душистого, приготовленные или консервированные с добавлением уксуса или уксусной кислоты', 0.0006370716728270054, True]]\n"
     ]
    }
   ],
   "source": [
    "#Пример с 5 классами\n",
    "print(predict_prob_with_descr('семена тыквы ', 5))"
   ]
  },
  {
   "cell_type": "code",
   "execution_count": 110,
   "id": "fa243ff0",
   "metadata": {},
   "outputs": [
    {
     "data": {
      "text/html": [
       "<div>\n",
       "<style scoped>\n",
       "    .dataframe tbody tr th:only-of-type {\n",
       "        vertical-align: middle;\n",
       "    }\n",
       "\n",
       "    .dataframe tbody tr th {\n",
       "        vertical-align: top;\n",
       "    }\n",
       "\n",
       "    .dataframe thead th {\n",
       "        text-align: right;\n",
       "    }\n",
       "</style>\n",
       "<table border=\"1\" class=\"dataframe\">\n",
       "  <thead>\n",
       "    <tr style=\"text-align: right;\">\n",
       "      <th></th>\n",
       "      <th>ID</th>\n",
       "      <th>LABEL</th>\n",
       "      <th>PROB</th>\n",
       "      <th>TILL</th>\n",
       "    </tr>\n",
       "  </thead>\n",
       "  <tbody>\n",
       "    <tr>\n",
       "      <th>0</th>\n",
       "      <td>0901210001</td>\n",
       "      <td>кофе жареный с кофеином в зернах: арабика (cof...</td>\n",
       "      <td>0.413376</td>\n",
       "      <td>NaN</td>\n",
       "    </tr>\n",
       "    <tr>\n",
       "      <th>1</th>\n",
       "      <td>2101129201</td>\n",
       "      <td>готовые продукты на основе экстратов, эссенций...</td>\n",
       "      <td>0.255713</td>\n",
       "      <td>NaN</td>\n",
       "    </tr>\n",
       "    <tr>\n",
       "      <th>2</th>\n",
       "      <td>0901210009</td>\n",
       "      <td>кофе жареный с кофеином прочий</td>\n",
       "      <td>0.133681</td>\n",
       "      <td>NaN</td>\n",
       "    </tr>\n",
       "    <tr>\n",
       "      <th>3</th>\n",
       "      <td>0901220009</td>\n",
       "      <td>кофе жареный без кофеина прочий</td>\n",
       "      <td>0.019602</td>\n",
       "      <td>NaN</td>\n",
       "    </tr>\n",
       "    <tr>\n",
       "      <th>4</th>\n",
       "      <td>1704909800</td>\n",
       "      <td>прочие кондитерские изделия из сахара (включая...</td>\n",
       "      <td>0.005251</td>\n",
       "      <td>NaN</td>\n",
       "    </tr>\n",
       "  </tbody>\n",
       "</table>\n",
       "</div>"
      ],
      "text/plain": [
       "           ID                                              LABEL      PROB  \\\n",
       "0  0901210001  кофе жареный с кофеином в зернах: арабика (cof...  0.413376   \n",
       "1  2101129201  готовые продукты на основе экстратов, эссенций...  0.255713   \n",
       "2  0901210009                     кофе жареный с кофеином прочий  0.133681   \n",
       "3  0901220009                    кофе жареный без кофеина прочий  0.019602   \n",
       "4  1704909800  прочие кондитерские изделия из сахара (включая...  0.005251   \n",
       "\n",
       "   TILL  \n",
       "0   NaN  \n",
       "1   NaN  \n",
       "2   NaN  \n",
       "3   NaN  \n",
       "4   NaN  "
      ]
     },
     "execution_count": 110,
     "metadata": {},
     "output_type": "execute_result"
    }
   ],
   "source": [
    "#причесанный в пандас пример\n",
    "pd.DataFrame(predict_prob_with_descr('кофе арабика'), columns=['ID', 'LABEL', 'PROB', 'TILL'])"
   ]
  },
  {
   "cell_type": "code",
   "execution_count": 112,
   "id": "b6501e04",
   "metadata": {},
   "outputs": [],
   "source": [
    "def consolelog(probs):\n",
    "    print('prob-ty', 'Code', 'Description', sep=':    ')\n",
    "    #print('____________________________________________________________________')\n",
    "    for each in probs:\n",
    "        if len(each[1]) < 40:\n",
    "            des = each[1]\n",
    "        else:\n",
    "            des = each[1][:40] + '...'\n",
    "        print(f\"{each[2]:.{5}f}\", each[0], des, sep=':    ')\n",
    "        #print('____________________________________________________________________')"
   ]
  },
  {
   "cell_type": "code",
   "execution_count": 113,
   "id": "d31aa100",
   "metadata": {},
   "outputs": [
    {
     "name": "stdout",
     "output_type": "stream",
     "text": [
      "prob-ty:    Code:    Description\n",
      "0.00686:    8714993000:    багажники к транспортным средствам товар...\n",
      "0.00610:    8541401000:    светоизлучающие диоды (led), включая лаз...\n",
      "0.00571:    9508900000:    прочие карусели, качели, тиры и прочие а...\n",
      "0.00551:    8529906509:    электронные модули, предназначенные искл...\n",
      "0.00536:    9508260000:    аттракционы водных парков\n"
     ]
    }
   ],
   "source": [
    "consolelog(predict_prob_with_descr(\"аттракционы\", 5))"
   ]
  },
  {
   "cell_type": "code",
   "execution_count": 30,
   "id": "4bd98101",
   "metadata": {},
   "outputs": [],
   "source": [
    "#загрузим обучающий датасет\n",
    "df = pd.read_csv(\"../data/mergedcleared1307.csv\", sep=';', names=['id', 'label'], dtype={'id': str, 'label': str})\n",
    "#df = pd.read_csv(\"../data/firstset.csv\", sep=';', names=['id', 'label'], dtype={'id': str, 'label': str})\n",
    "#функция для вывода обучающих данных по коду. При pandas=False возвращает numpy массив\n",
    "def whats_data(id, pandas=True):\n",
    "    if pandas == True:\n",
    "        return df[df.id.str.slice(start=0, stop=len(str(id)))==str(id)]\n",
    "    else:\n",
    "        return df[df.id.str.slice(start=0, stop=len(str(id)))==str(id)].to_numpy()"
   ]
  },
  {
   "cell_type": "code",
   "execution_count": 16,
   "id": "161cccd1",
   "metadata": {},
   "outputs": [
    {
     "data": {
      "text/plain": [
       "[['9508260000',\n",
       "  'аттракционы парков развлечений и аттракционы водных парков аттракционы водных парков надувная водная горка аквапарк с приемным бассейном мод sl01 20 компл'],\n",
       " ['9508260000',\n",
       "  'аттракционы парков развлечений и аттракционы водных парков аттракционы водных парков водный атракцион надувной аквапарк комплектом всего 1 комплект']]"
      ]
     },
     "execution_count": 16,
     "metadata": {},
     "output_type": "execute_result"
    }
   ],
   "source": [
    "#пример использования по полному коду (можно делать по части кода)\n",
    "whats_data('9508260000', pandas=False)"
   ]
  },
  {
   "cell_type": "code",
   "execution_count": 10,
   "id": "c6ae2d02",
   "metadata": {},
   "outputs": [
    {
     "data": {
      "text/html": [
       "<div>\n",
       "<style scoped>\n",
       "    .dataframe tbody tr th:only-of-type {\n",
       "        vertical-align: middle;\n",
       "    }\n",
       "\n",
       "    .dataframe tbody tr th {\n",
       "        vertical-align: top;\n",
       "    }\n",
       "\n",
       "    .dataframe thead th {\n",
       "        text-align: right;\n",
       "    }\n",
       "</style>\n",
       "<table border=\"1\" class=\"dataframe\">\n",
       "  <thead>\n",
       "    <tr style=\"text-align: right;\">\n",
       "      <th></th>\n",
       "      <th>id</th>\n",
       "      <th>label</th>\n",
       "    </tr>\n",
       "  </thead>\n",
       "  <tbody>\n",
       "    <tr>\n",
       "      <th>72279</th>\n",
       "      <td>0901210009</td>\n",
       "      <td>кофе нат жареный молотый черная карта премиум ...</td>\n",
       "    </tr>\n",
       "    <tr>\n",
       "      <th>72280</th>\n",
       "      <td>0901210009</td>\n",
       "      <td>кофе натуральный жареный молотый s caffe deliz...</td>\n",
       "    </tr>\n",
       "    <tr>\n",
       "      <th>72281</th>\n",
       "      <td>0901210009</td>\n",
       "      <td>кофе жареный с кофеином молотый в вакуумной по...</td>\n",
       "    </tr>\n",
       "    <tr>\n",
       "      <th>72282</th>\n",
       "      <td>0901210009</td>\n",
       "      <td>кофе жареный молотый порошкообразный с кофеино...</td>\n",
       "    </tr>\n",
       "    <tr>\n",
       "      <th>72283</th>\n",
       "      <td>0901210009</td>\n",
       "      <td>жареный кофе с кофеином натуральный жареный мо...</td>\n",
       "    </tr>\n",
       "    <tr>\n",
       "      <th>...</th>\n",
       "      <td>...</td>\n",
       "      <td>...</td>\n",
       "    </tr>\n",
       "    <tr>\n",
       "      <th>133801</th>\n",
       "      <td>0901210009</td>\n",
       "      <td>кофе молотый обжаренный в мешке 1 шт и пачках ...</td>\n",
       "    </tr>\n",
       "    <tr>\n",
       "      <th>134050</th>\n",
       "      <td>0901210009</td>\n",
       "      <td>кофе молотый обжаренный новый</td>\n",
       "    </tr>\n",
       "    <tr>\n",
       "      <th>134051</th>\n",
       "      <td>0901220009</td>\n",
       "      <td>образцы для проведения работ по оценке соответ...</td>\n",
       "    </tr>\n",
       "    <tr>\n",
       "      <th>134444</th>\n",
       "      <td>0901210001</td>\n",
       "      <td>кофе зерновой обжаренный новый</td>\n",
       "    </tr>\n",
       "    <tr>\n",
       "      <th>134445</th>\n",
       "      <td>0901210009</td>\n",
       "      <td>кофе натуральный жареный смесь арабика и робус...</td>\n",
       "    </tr>\n",
       "  </tbody>\n",
       "</table>\n",
       "<p>229 rows × 2 columns</p>\n",
       "</div>"
      ],
      "text/plain": [
       "                id                                              label\n",
       "72279   0901210009  кофе нат жареный молотый черная карта премиум ...\n",
       "72280   0901210009  кофе натуральный жареный молотый s caffe deliz...\n",
       "72281   0901210009  кофе жареный с кофеином молотый в вакуумной по...\n",
       "72282   0901210009  кофе жареный молотый порошкообразный с кофеино...\n",
       "72283   0901210009  жареный кофе с кофеином натуральный жареный мо...\n",
       "...            ...                                                ...\n",
       "133801  0901210009  кофе молотый обжаренный в мешке 1 шт и пачках ...\n",
       "134050  0901210009                      кофе молотый обжаренный новый\n",
       "134051  0901220009  образцы для проведения работ по оценке соответ...\n",
       "134444  0901210001                     кофе зерновой обжаренный новый\n",
       "134445  0901210009  кофе натуральный жареный смесь арабика и робус...\n",
       "\n",
       "[229 rows x 2 columns]"
      ]
     },
     "execution_count": 10,
     "metadata": {},
     "output_type": "execute_result"
    }
   ],
   "source": [
    "#еще пример\n",
    "df[df['id'].isin(list(whats_data('0901')['id'].unique()))]"
   ]
  }
 ],
 "metadata": {
  "kernelspec": {
   "display_name": "Python 3 (ipykernel)",
   "language": "python",
   "name": "python3"
  },
  "language_info": {
   "codemirror_mode": {
    "name": "ipython",
    "version": 3
   },
   "file_extension": ".py",
   "mimetype": "text/x-python",
   "name": "python",
   "nbconvert_exporter": "python",
   "pygments_lexer": "ipython3",
   "version": "3.10.11"
  }
 },
 "nbformat": 4,
 "nbformat_minor": 5
}
