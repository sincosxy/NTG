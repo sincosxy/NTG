{
 "cells": [
  {
   "cell_type": "code",
   "execution_count": 1,
   "id": "47a36a22",
   "metadata": {},
   "outputs": [
    {
     "name": "stderr",
     "output_type": "stream",
     "text": [
      "C:\\Users\\yeril\\AppData\\Local\\Packages\\PythonSoftwareFoundation.Python.3.10_qbz5n2kfra8p0\\LocalCache\\local-packages\\Python310\\site-packages\\tqdm\\auto.py:22: TqdmWarning: IProgress not found. Please update jupyter and ipywidgets. See https://ipywidgets.readthedocs.io/en/stable/user_install.html\n",
      "  from .autonotebook import tqdm as notebook_tqdm\n",
      "Some weights of BertForSequenceClassification were not initialized from the model checkpoint at sberbank-ai/sbert_large_nlu_ru and are newly initialized: ['classifier.weight', 'classifier.bias']\n",
      "You should probably TRAIN this model on a down-stream task to be able to use it for predictions and inference.\n"
     ]
    },
    {
     "data": {
      "text/plain": [
       "<All keys matched successfully>"
      ]
     },
     "execution_count": 1,
     "metadata": {},
     "output_type": "execute_result"
    }
   ],
   "source": [
    "#импорт библиотек, загрузка модели, весов, разметки клаассов\n",
    "import torch\n",
    "import numpy as np\n",
    "import pandas as pd\n",
    "device = torch.device(\"cpu\")\n",
    "from transformers import AutoTokenizer, AutoModel, AutoModelForSequenceClassification, AdamW, get_scheduler\n",
    "model_name = \"sberbank-ai/sbert_large_nlu_ru\"\n",
    "tokenizer = AutoTokenizer.from_pretrained(model_name)\n",
    "model = AutoModelForSequenceClassification.from_pretrained(model_name, num_labels=2648).to(device)\n",
    "from sklearn import preprocessing\n",
    "Label_encoder = preprocessing.LabelEncoder()\n",
    "Label_encoder.classes_ = np.load('./cl_classes1307.npy', allow_pickle=True)\n",
    "model.load_state_dict(torch.load(\"../../best_model2306/pytorch_model10d.bin\", map_location=device))"
   ]
  },
  {
   "cell_type": "code",
   "execution_count": 2,
   "id": "639d68ee",
   "metadata": {},
   "outputs": [],
   "source": [
    "#импорт описания классов (Алексей слямзил)\n",
    "dscr = pd.read_csv(\"../data/descr10d.csv\", sep=';', names=['id', 'label', 'till'], dtype={'id': str, 'label': str, 'till': str})"
   ]
  },
  {
   "cell_type": "code",
   "execution_count": 101,
   "id": "00712a8c",
   "metadata": {},
   "outputs": [],
   "source": [
    "#dscr['till'] = pd.to_datetime(dscr['till'], format='%Y-%m-%d')\n",
    "#dscr['label'] = dscr['label'].str.lower()\n",
    "#dscr['label'] = dscr['label'].str.strip()\n",
    "#dscr.to_csv('../data/descr10d.csv', sep=';', columns=['id', 'label', 'till'], index=False, header=False)"
   ]
  },
  {
   "cell_type": "code",
   "execution_count": 3,
   "id": "e0bc49cd",
   "metadata": {},
   "outputs": [],
   "source": [
    "dscr['valid'] = dscr['till'].isna()"
   ]
  },
  {
   "cell_type": "code",
   "execution_count": 4,
   "id": "9c922700",
   "metadata": {},
   "outputs": [
    {
     "data": {
      "text/html": [
       "<div>\n",
       "<style scoped>\n",
       "    .dataframe tbody tr th:only-of-type {\n",
       "        vertical-align: middle;\n",
       "    }\n",
       "\n",
       "    .dataframe tbody tr th {\n",
       "        vertical-align: top;\n",
       "    }\n",
       "\n",
       "    .dataframe thead th {\n",
       "        text-align: right;\n",
       "    }\n",
       "</style>\n",
       "<table border=\"1\" class=\"dataframe\">\n",
       "  <thead>\n",
       "    <tr style=\"text-align: right;\">\n",
       "      <th></th>\n",
       "      <th>id</th>\n",
       "      <th>label</th>\n",
       "      <th>till</th>\n",
       "      <th>valid</th>\n",
       "    </tr>\n",
       "  </thead>\n",
       "  <tbody>\n",
       "    <tr>\n",
       "      <th>85</th>\n",
       "      <td>8421990008</td>\n",
       "      <td>прочие части оборудования и устройств для филь...</td>\n",
       "      <td>2021-12-31</td>\n",
       "      <td>False</td>\n",
       "    </tr>\n",
       "    <tr>\n",
       "      <th>99</th>\n",
       "      <td>7019590000</td>\n",
       "      <td>ткани прочие из стекловолокна</td>\n",
       "      <td>2021-12-31</td>\n",
       "      <td>False</td>\n",
       "    </tr>\n",
       "    <tr>\n",
       "      <th>251</th>\n",
       "      <td>7019900009</td>\n",
       "      <td>стекловолокно (включая стекловату) и изделия и...</td>\n",
       "      <td>2021-12-31</td>\n",
       "      <td>False</td>\n",
       "    </tr>\n",
       "    <tr>\n",
       "      <th>406</th>\n",
       "      <td>8479899708</td>\n",
       "      <td>прочие машины и механические приспособления, в...</td>\n",
       "      <td>2021-12-31</td>\n",
       "      <td>False</td>\n",
       "    </tr>\n",
       "    <tr>\n",
       "      <th>467</th>\n",
       "      <td>9405109803</td>\n",
       "      <td>прочие люстры и прочее электрическое осветитие...</td>\n",
       "      <td>2021-12-31</td>\n",
       "      <td>False</td>\n",
       "    </tr>\n",
       "    <tr>\n",
       "      <th>...</th>\n",
       "      <td>...</td>\n",
       "      <td>...</td>\n",
       "      <td>...</td>\n",
       "      <td>...</td>\n",
       "    </tr>\n",
       "    <tr>\n",
       "      <th>2625</th>\n",
       "      <td>7019390008</td>\n",
       "      <td>прочие холсты, маты, матрицы, плиты и прочие н...</td>\n",
       "      <td>2021-12-31</td>\n",
       "      <td>False</td>\n",
       "    </tr>\n",
       "    <tr>\n",
       "      <th>2626</th>\n",
       "      <td>8474100000</td>\n",
       "      <td>машины для сортировки, грохочения, сепарации и...</td>\n",
       "      <td>2021-04-02</td>\n",
       "      <td>False</td>\n",
       "    </tr>\n",
       "    <tr>\n",
       "      <th>2627</th>\n",
       "      <td>7323999100</td>\n",
       "      <td>прочие столовые изделия из черного металла, ла...</td>\n",
       "      <td>2016-12-31</td>\n",
       "      <td>False</td>\n",
       "    </tr>\n",
       "    <tr>\n",
       "      <th>2629</th>\n",
       "      <td>1515904000</td>\n",
       "      <td>прочие масла и их фракции сырые, нерафинирован...</td>\n",
       "      <td>2021-12-31</td>\n",
       "      <td>False</td>\n",
       "    </tr>\n",
       "    <tr>\n",
       "      <th>2630</th>\n",
       "      <td>9405205009</td>\n",
       "      <td>прочие лампы электрические настольные, напольн...</td>\n",
       "      <td>2018-08-18</td>\n",
       "      <td>False</td>\n",
       "    </tr>\n",
       "  </tbody>\n",
       "</table>\n",
       "<p>240 rows × 4 columns</p>\n",
       "</div>"
      ],
      "text/plain": [
       "              id                                              label  \\\n",
       "85    8421990008  прочие части оборудования и устройств для филь...   \n",
       "99    7019590000                      ткани прочие из стекловолокна   \n",
       "251   7019900009  стекловолокно (включая стекловату) и изделия и...   \n",
       "406   8479899708  прочие машины и механические приспособления, в...   \n",
       "467   9405109803  прочие люстры и прочее электрическое осветитие...   \n",
       "...          ...                                                ...   \n",
       "2625  7019390008  прочие холсты, маты, матрицы, плиты и прочие н...   \n",
       "2626  8474100000  машины для сортировки, грохочения, сепарации и...   \n",
       "2627  7323999100  прочие столовые изделия из черного металла, ла...   \n",
       "2629  1515904000  прочие масла и их фракции сырые, нерафинирован...   \n",
       "2630  9405205009  прочие лампы электрические настольные, напольн...   \n",
       "\n",
       "            till  valid  \n",
       "85    2021-12-31  False  \n",
       "99    2021-12-31  False  \n",
       "251   2021-12-31  False  \n",
       "406   2021-12-31  False  \n",
       "467   2021-12-31  False  \n",
       "...          ...    ...  \n",
       "2625  2021-12-31  False  \n",
       "2626  2021-04-02  False  \n",
       "2627  2016-12-31  False  \n",
       "2629  2021-12-31  False  \n",
       "2630  2018-08-18  False  \n",
       "\n",
       "[240 rows x 4 columns]"
      ]
     },
     "execution_count": 4,
     "metadata": {},
     "output_type": "execute_result"
    }
   ],
   "source": [
    "#Устаревшие коды\n",
    "dscr[dscr['till'].notna()]"
   ]
  },
  {
   "cell_type": "code",
   "execution_count": 7,
   "id": "d0242d4e",
   "metadata": {},
   "outputs": [
    {
     "data": {
      "text/html": [
       "<div>\n",
       "<style scoped>\n",
       "    .dataframe tbody tr th:only-of-type {\n",
       "        vertical-align: middle;\n",
       "    }\n",
       "\n",
       "    .dataframe tbody tr th {\n",
       "        vertical-align: top;\n",
       "    }\n",
       "\n",
       "    .dataframe thead th {\n",
       "        text-align: right;\n",
       "    }\n",
       "</style>\n",
       "<table border=\"1\" class=\"dataframe\">\n",
       "  <thead>\n",
       "    <tr style=\"text-align: right;\">\n",
       "      <th></th>\n",
       "      <th>id</th>\n",
       "      <th>label</th>\n",
       "    </tr>\n",
       "  </thead>\n",
       "  <tbody>\n",
       "    <tr>\n",
       "      <th>63003</th>\n",
       "      <td>1207999600</td>\n",
       "      <td>семена чиа шалфей испанский лат salvia hispani...</td>\n",
       "    </tr>\n",
       "    <tr>\n",
       "      <th>63004</th>\n",
       "      <td>1207999600</td>\n",
       "      <td>семена тыквы свежие очищенные для продовольств...</td>\n",
       "    </tr>\n",
       "    <tr>\n",
       "      <th>63005</th>\n",
       "      <td>1207999600</td>\n",
       "      <td>семена масличной тыквы cucurbita pero styriaca...</td>\n",
       "    </tr>\n",
       "    <tr>\n",
       "      <th>63006</th>\n",
       "      <td>1207999600</td>\n",
       "      <td>семена тыквы сырые лущенные для употребления в...</td>\n",
       "    </tr>\n",
       "    <tr>\n",
       "      <th>63007</th>\n",
       "      <td>1207999600</td>\n",
       "      <td>семена тыквы сырые недробленые очищенные от ко...</td>\n",
       "    </tr>\n",
       "    <tr>\n",
       "      <th>...</th>\n",
       "      <td>...</td>\n",
       "      <td>...</td>\n",
       "    </tr>\n",
       "    <tr>\n",
       "      <th>232945</th>\n",
       "      <td>7318159009</td>\n",
       "      <td>прочие винты и болты с головками из черных мет...</td>\n",
       "    </tr>\n",
       "    <tr>\n",
       "      <th>232947</th>\n",
       "      <td>8421990008</td>\n",
       "      <td>запасные части принадлежности и компоненты тра...</td>\n",
       "    </tr>\n",
       "    <tr>\n",
       "      <th>232951</th>\n",
       "      <td>9403901000</td>\n",
       "      <td>части мебели из металла изделие сложной геомет...</td>\n",
       "    </tr>\n",
       "    <tr>\n",
       "      <th>232960</th>\n",
       "      <td>9405105008</td>\n",
       "      <td>светильники электрические поставляются частичн...</td>\n",
       "    </tr>\n",
       "    <tr>\n",
       "      <th>232961</th>\n",
       "      <td>8539500000</td>\n",
       "      <td>лампы светодиодные led</td>\n",
       "    </tr>\n",
       "  </tbody>\n",
       "</table>\n",
       "<p>3529 rows × 2 columns</p>\n",
       "</div>"
      ],
      "text/plain": [
       "                id                                              label\n",
       "63003   1207999600  семена чиа шалфей испанский лат salvia hispani...\n",
       "63004   1207999600  семена тыквы свежие очищенные для продовольств...\n",
       "63005   1207999600  семена масличной тыквы cucurbita pero styriaca...\n",
       "63006   1207999600  семена тыквы сырые лущенные для употребления в...\n",
       "63007   1207999600  семена тыквы сырые недробленые очищенные от ко...\n",
       "...            ...                                                ...\n",
       "232945  7318159009  прочие винты и болты с головками из черных мет...\n",
       "232947  8421990008  запасные части принадлежности и компоненты тра...\n",
       "232951  9403901000  части мебели из металла изделие сложной геомет...\n",
       "232960  9405105008  светильники электрические поставляются частичн...\n",
       "232961  8539500000                             лампы светодиодные led\n",
       "\n",
       "[3529 rows x 2 columns]"
      ]
     },
     "execution_count": 7,
     "metadata": {},
     "output_type": "execute_result"
    }
   ],
   "source": [
    "#точки данных с устаревшими кодами\n",
    "df[df['id'].isin(dscr[dscr['till'].notna()]['id'])]"
   ]
  },
  {
   "cell_type": "code",
   "execution_count": 8,
   "id": "a8752dcc",
   "metadata": {},
   "outputs": [],
   "source": [
    "#функция предсказания одного класса (аргмакс). По умолчанию с кодом класса дает описание класса\n",
    "def predict_class(text, desc=True):\n",
    "    model.to(torch.device('cpu'))\n",
    "    inputs = tokenizer(text, truncation = True, max_length=100, padding='max_length', return_tensors=\"pt\")\n",
    "    with torch.no_grad():\n",
    "        logits = model(**inputs).logits\n",
    "        predicted_class_id = logits.argmax().item()\n",
    "        if desc==True:\n",
    "            result = dict()\n",
    "            id = Label_encoder.inverse_transform([predicted_class_id])[0]\n",
    "            result[id] = dscr[dscr['id']==id].iloc[0]['label']\n",
    "            return result\n",
    "        else:\n",
    "            return Label_encoder.inverse_transform([predicted_class_id])[0]"
   ]
  },
  {
   "cell_type": "code",
   "execution_count": 24,
   "id": "1770ccb1",
   "metadata": {},
   "outputs": [
    {
     "data": {
      "text/plain": [
       "{'1704906500': 'Кондитерские изделия в виде резинки и желе, включая фруктовую пасту в виде кондидерских изделий из сахара, не содержащие какао'}"
      ]
     },
     "execution_count": 24,
     "metadata": {},
     "output_type": "execute_result"
    }
   ],
   "source": [
    "#Пример с описанием\n",
    "predict_class('КОНДИТЕРСКИЕ ИЗДЕЛИЯ В ВИДЕ РЕЗИНКИ И ЖЕЛЕ, НЕ СОДЕРЖАЩИЕ КАКАО')"
   ]
  },
  {
   "cell_type": "code",
   "execution_count": 5,
   "id": "a0621e68",
   "metadata": {},
   "outputs": [
    {
     "data": {
      "text/plain": [
       "'1704906500'"
      ]
     },
     "execution_count": 5,
     "metadata": {},
     "output_type": "execute_result"
    }
   ],
   "source": [
    "#Пример без описания\n",
    "predict_class('КОНДИТЕРСКИЕ ИЗДЕЛИЯ В ВИДЕ РЕЗИНКИ И ЖЕЛЕ, НЕ СОДЕРЖАЩИЕ КАКАО', desc=False)"
   ]
  },
  {
   "cell_type": "code",
   "execution_count": 9,
   "id": "c609c07a",
   "metadata": {},
   "outputs": [],
   "source": [
    "#функция предикта классов с вероятностью (софтмакс), по умолчанию 5 классов\n",
    "def predict_prob(text, qtty=5):\n",
    "    model.to(torch.device('cpu'))\n",
    "    inputs = tokenizer(text, truncation = True, max_length=100, padding='max_length', return_tensors=\"pt\")\n",
    "    with torch.no_grad():\n",
    "        logits = model(**inputs).logits\n",
    "    result = dict()\n",
    "    p = torch.nn.functional.softmax(logits, dim=1)\n",
    "    for i in range(qtty):\n",
    "        a = p.argmax().item()\n",
    "        result[Label_encoder.inverse_transform([a])[0]] = p[0][a].item()\n",
    "        p[0][a] = 0\n",
    "    return result"
   ]
  },
  {
   "cell_type": "code",
   "execution_count": 10,
   "id": "efc23792",
   "metadata": {},
   "outputs": [],
   "source": [
    "#функция предикта классов и описания с вероятностью, по умолчанию 5 шт. Использует функцию predict_prob.\n",
    "#возвращает список списков\n",
    "def predict_prob_with_descr(text, qtty=5):\n",
    "    probs = predict_prob(text, qtty=qtty)\n",
    "    #result = np.array()\n",
    "    result = list()\n",
    "    for each in probs:\n",
    "        #valid = np.nonzero(dscr[dscr['id']==each].iloc[0]['till'])\n",
    "        \n",
    "        result.append([each, dscr[dscr['id']==each].iloc[0]['label'], probs[each], dscr[dscr['id']==each].iloc[0]['valid']])\n",
    "    return result"
   ]
  },
  {
   "cell_type": "code",
   "execution_count": 13,
   "id": "b7dc850b",
   "metadata": {},
   "outputs": [
    {
     "name": "stdout",
     "output_type": "stream",
     "text": [
      "[['4011800000', 'шины и покрышки пневматические резиновые новые для транспортных средств и машин, используемых в строительстве, горном деле или промышленности', 0.9863451719284058, True], ['4011209000', 'шины и покрышки пневматические резиновые новые, для автобусов или моторных транспортных средств для перевозки грузов с индексом нагрузки более 121', 0.0040657068602740765, True], ['4011900000', 'прочие шины и покрышки пневматические резиновые новые', 0.0034278009552508593, True]]\n"
     ]
    }
   ],
   "source": [
    "#Пример с 3 классами\n",
    "print(predict_prob_with_descr('шины пневматические резиновые новые', 3))"
   ]
  },
  {
   "cell_type": "code",
   "execution_count": 137,
   "id": "02a0ef1f",
   "metadata": {},
   "outputs": [
    {
     "name": "stdout",
     "output_type": "stream",
     "text": [
      "[['1207999600', 'семена и плоды прочих масличных культур, дробленые или недробленые, прочие', 0.9361142516136169, False], ['2008199900', 'прочие орехи, арахис и прочие семена, смешанные или не смешанные между собой в первичных упаковках нетто-массой не более 1 кг', 0.010454857721924782, True], ['1207409000', 'прочие семена кунжута, дробленые или недробленые', 0.00979942362755537, True], ['0711400000', 'огурцы и корнишоны, консервированные для кратковременного хранения (например, диоксидом серы, в рассоле, сернистой воде или в другом временно консервирующем растворе), но в таком виде непригодные для непосредственного употребления в пищу', 0.0006681593949906528, True], ['2001902000', 'плоды рода capsicum, кроме перца стручкового сладкого или перца душистого, приготовленные или консервированные с добавлением уксуса или уксусной кислоты', 0.0006370716728270054, True]]\n"
     ]
    }
   ],
   "source": [
    "#Пример с 5 классами\n",
    "print(predict_prob_with_descr('семена тыквы ', 5))"
   ]
  },
  {
   "cell_type": "code",
   "execution_count": 110,
   "id": "fa243ff0",
   "metadata": {},
   "outputs": [
    {
     "data": {
      "text/html": [
       "<div>\n",
       "<style scoped>\n",
       "    .dataframe tbody tr th:only-of-type {\n",
       "        vertical-align: middle;\n",
       "    }\n",
       "\n",
       "    .dataframe tbody tr th {\n",
       "        vertical-align: top;\n",
       "    }\n",
       "\n",
       "    .dataframe thead th {\n",
       "        text-align: right;\n",
       "    }\n",
       "</style>\n",
       "<table border=\"1\" class=\"dataframe\">\n",
       "  <thead>\n",
       "    <tr style=\"text-align: right;\">\n",
       "      <th></th>\n",
       "      <th>ID</th>\n",
       "      <th>LABEL</th>\n",
       "      <th>PROB</th>\n",
       "      <th>TILL</th>\n",
       "    </tr>\n",
       "  </thead>\n",
       "  <tbody>\n",
       "    <tr>\n",
       "      <th>0</th>\n",
       "      <td>0901210001</td>\n",
       "      <td>кофе жареный с кофеином в зернах: арабика (cof...</td>\n",
       "      <td>0.413376</td>\n",
       "      <td>NaN</td>\n",
       "    </tr>\n",
       "    <tr>\n",
       "      <th>1</th>\n",
       "      <td>2101129201</td>\n",
       "      <td>готовые продукты на основе экстратов, эссенций...</td>\n",
       "      <td>0.255713</td>\n",
       "      <td>NaN</td>\n",
       "    </tr>\n",
       "    <tr>\n",
       "      <th>2</th>\n",
       "      <td>0901210009</td>\n",
       "      <td>кофе жареный с кофеином прочий</td>\n",
       "      <td>0.133681</td>\n",
       "      <td>NaN</td>\n",
       "    </tr>\n",
       "    <tr>\n",
       "      <th>3</th>\n",
       "      <td>0901220009</td>\n",
       "      <td>кофе жареный без кофеина прочий</td>\n",
       "      <td>0.019602</td>\n",
       "      <td>NaN</td>\n",
       "    </tr>\n",
       "    <tr>\n",
       "      <th>4</th>\n",
       "      <td>1704909800</td>\n",
       "      <td>прочие кондитерские изделия из сахара (включая...</td>\n",
       "      <td>0.005251</td>\n",
       "      <td>NaN</td>\n",
       "    </tr>\n",
       "  </tbody>\n",
       "</table>\n",
       "</div>"
      ],
      "text/plain": [
       "           ID                                              LABEL      PROB  \\\n",
       "0  0901210001  кофе жареный с кофеином в зернах: арабика (cof...  0.413376   \n",
       "1  2101129201  готовые продукты на основе экстратов, эссенций...  0.255713   \n",
       "2  0901210009                     кофе жареный с кофеином прочий  0.133681   \n",
       "3  0901220009                    кофе жареный без кофеина прочий  0.019602   \n",
       "4  1704909800  прочие кондитерские изделия из сахара (включая...  0.005251   \n",
       "\n",
       "   TILL  \n",
       "0   NaN  \n",
       "1   NaN  \n",
       "2   NaN  \n",
       "3   NaN  \n",
       "4   NaN  "
      ]
     },
     "execution_count": 110,
     "metadata": {},
     "output_type": "execute_result"
    }
   ],
   "source": [
    "#причесанный в пандас пример\n",
    "pd.DataFrame(predict_prob_with_descr('кофе арабика'), columns=['ID', 'LABEL', 'PROB', 'TILL'])"
   ]
  },
  {
   "cell_type": "code",
   "execution_count": 112,
   "id": "b6501e04",
   "metadata": {},
   "outputs": [],
   "source": [
    "def consolelog(probs):\n",
    "    print('prob-ty', 'Code', 'Description', sep=':    ')\n",
    "    #print('____________________________________________________________________')\n",
    "    for each in probs:\n",
    "        if len(each[1]) < 40:\n",
    "            des = each[1]\n",
    "        else:\n",
    "            des = each[1][:40] + '...'\n",
    "        print(f\"{each[2]:.{5}f}\", each[0], des, sep=':    ')\n",
    "        #print('____________________________________________________________________')"
   ]
  },
  {
   "cell_type": "code",
   "execution_count": 113,
   "id": "d31aa100",
   "metadata": {},
   "outputs": [
    {
     "name": "stdout",
     "output_type": "stream",
     "text": [
      "prob-ty:    Code:    Description\n",
      "0.00686:    8714993000:    багажники к транспортным средствам товар...\n",
      "0.00610:    8541401000:    светоизлучающие диоды (led), включая лаз...\n",
      "0.00571:    9508900000:    прочие карусели, качели, тиры и прочие а...\n",
      "0.00551:    8529906509:    электронные модули, предназначенные искл...\n",
      "0.00536:    9508260000:    аттракционы водных парков\n"
     ]
    }
   ],
   "source": [
    "consolelog(predict_prob_with_descr(\"аттракционы\", 5))"
   ]
  },
  {
   "cell_type": "code",
   "execution_count": 6,
   "id": "4bd98101",
   "metadata": {},
   "outputs": [],
   "source": [
    "#загрузим обучающий датасет\n",
    "df = pd.read_csv(\"../data/mergedcleared1307.csv\", sep=';', names=['id', 'label'], dtype={'id': str, 'label': str})\n",
    "#df = pd.read_csv(\"../data/firstset.csv\", sep=';', names=['id', 'label'], dtype={'id': str, 'label': str})\n",
    "#функция для вывода обучающих данных по коду. При pandas=False возвращает numpy массив\n",
    "def whats_data(id, pandas=True):\n",
    "    if pandas == True:\n",
    "        return df[df.id.str.slice(start=0, stop=len(str(id)))==str(id)]\n",
    "    else:\n",
    "        return df[df.id.str.slice(start=0, stop=len(str(id)))==str(id)].to_numpy()"
   ]
  },
  {
   "cell_type": "code",
   "execution_count": 12,
   "id": "161cccd1",
   "metadata": {},
   "outputs": [
    {
     "data": {
      "text/plain": [
       "array([['4011100009',\n",
       "        'шины пневматические резиновые новые для легковых автомобилей с посадочным диаметром более 16 дюймов размер модель индекс нагрузки категория скорости артикул кол во единиц 205 40zr17 atrezzo zsr 84y xl 3220010146 4 шт'],\n",
       "       ['4011100009',\n",
       "        'шины пневматические резиновые новые для легковых автомобилей с посадочным диаметром более 16 дюймов размер модель индекс нагрузки категория скорости артикул кол во единиц 215 45r17 ice blazer wst3 91t xl 3220006483 40 шт'],\n",
       "       ['4011100009',\n",
       "        'шины пневматические резиновые новые для легковых автомобилей с посадочным диаметром более 16 дюймов размер модель индекс нагрузки категория скорости артикул кол во единиц 215 50r17 ice blazer wst3 95t xl 3220006181 261 шт'],\n",
       "       ...,\n",
       "       ['4011100009',\n",
       "        'шины пневматические резиновые новые для легкогрузовых автомобилей с посадочным диаметром более 16 дюймов торговой марки sailun размер модель индекс нагрузки категория скорости кол во единиц 245 45r19 ice blazer alpine evo 102w xl 12'],\n",
       "       ['4011100009',\n",
       "        'шины пневматические резиновые новые для легкогрузовых автомобилей с посадочным диаметром более 16 дюймов торговой марки sailun размер модель индекс нагрузки категория скорости кол во единиц 255 35r19 ice blazer alpine evo 96v xl 12'],\n",
       "       ['4011100009',\n",
       "        'шины пневматические резиновые новые для легкогрузовых автомобилей с посадочным диаметром более 16 дюймов торговой марки sailun размер модель индекс нагрузки категория скорости кол во единиц 255 55r18 ice blazer alpine evo 109v xl 24']],\n",
       "      dtype=object)"
      ]
     },
     "execution_count": 12,
     "metadata": {},
     "output_type": "execute_result"
    }
   ],
   "source": [
    "#пример использования по полному коду (можно делать по части кода)\n",
    "whats_data('4011100009', pandas=False)"
   ]
  },
  {
   "cell_type": "code",
   "execution_count": 14,
   "id": "c6ae2d02",
   "metadata": {},
   "outputs": [
    {
     "data": {
      "text/html": [
       "<div>\n",
       "<style scoped>\n",
       "    .dataframe tbody tr th:only-of-type {\n",
       "        vertical-align: middle;\n",
       "    }\n",
       "\n",
       "    .dataframe tbody tr th {\n",
       "        vertical-align: top;\n",
       "    }\n",
       "\n",
       "    .dataframe thead th {\n",
       "        text-align: right;\n",
       "    }\n",
       "</style>\n",
       "<table border=\"1\" class=\"dataframe\">\n",
       "  <thead>\n",
       "    <tr style=\"text-align: right;\">\n",
       "      <th></th>\n",
       "      <th>id</th>\n",
       "      <th>label</th>\n",
       "    </tr>\n",
       "  </thead>\n",
       "  <tbody>\n",
       "    <tr>\n",
       "      <th>135406</th>\n",
       "      <td>4011100009</td>\n",
       "      <td>шины пневматические резиновые новые для легков...</td>\n",
       "    </tr>\n",
       "    <tr>\n",
       "      <th>135407</th>\n",
       "      <td>4011100009</td>\n",
       "      <td>шины пневматические резиновые новые для легков...</td>\n",
       "    </tr>\n",
       "    <tr>\n",
       "      <th>135408</th>\n",
       "      <td>4011100009</td>\n",
       "      <td>шины пневматические резиновые новые для легков...</td>\n",
       "    </tr>\n",
       "    <tr>\n",
       "      <th>135409</th>\n",
       "      <td>4011100009</td>\n",
       "      <td>шины пневматические резиновые новые для легков...</td>\n",
       "    </tr>\n",
       "    <tr>\n",
       "      <th>135410</th>\n",
       "      <td>4011100009</td>\n",
       "      <td>шины пневматические резиновые новые для легков...</td>\n",
       "    </tr>\n",
       "    <tr>\n",
       "      <th>...</th>\n",
       "      <td>...</td>\n",
       "      <td>...</td>\n",
       "    </tr>\n",
       "    <tr>\n",
       "      <th>177887</th>\n",
       "      <td>4011100009</td>\n",
       "      <td>шины пневматические резиновые новые для легког...</td>\n",
       "    </tr>\n",
       "    <tr>\n",
       "      <th>177888</th>\n",
       "      <td>4011100009</td>\n",
       "      <td>шины пневматические резиновые новые для легког...</td>\n",
       "    </tr>\n",
       "    <tr>\n",
       "      <th>177889</th>\n",
       "      <td>4011100009</td>\n",
       "      <td>шины пневматические резиновые новые для легког...</td>\n",
       "    </tr>\n",
       "    <tr>\n",
       "      <th>177890</th>\n",
       "      <td>4011100009</td>\n",
       "      <td>шины пневматические резиновые новые для легког...</td>\n",
       "    </tr>\n",
       "    <tr>\n",
       "      <th>177891</th>\n",
       "      <td>4011100009</td>\n",
       "      <td>шины пневматические резиновые новые для легког...</td>\n",
       "    </tr>\n",
       "  </tbody>\n",
       "</table>\n",
       "<p>4542 rows × 2 columns</p>\n",
       "</div>"
      ],
      "text/plain": [
       "                id                                              label\n",
       "135406  4011100009  шины пневматические резиновые новые для легков...\n",
       "135407  4011100009  шины пневматические резиновые новые для легков...\n",
       "135408  4011100009  шины пневматические резиновые новые для легков...\n",
       "135409  4011100009  шины пневматические резиновые новые для легков...\n",
       "135410  4011100009  шины пневматические резиновые новые для легков...\n",
       "...            ...                                                ...\n",
       "177887  4011100009  шины пневматические резиновые новые для легког...\n",
       "177888  4011100009  шины пневматические резиновые новые для легког...\n",
       "177889  4011100009  шины пневматические резиновые новые для легког...\n",
       "177890  4011100009  шины пневматические резиновые новые для легког...\n",
       "177891  4011100009  шины пневматические резиновые новые для легког...\n",
       "\n",
       "[4542 rows x 2 columns]"
      ]
     },
     "execution_count": 14,
     "metadata": {},
     "output_type": "execute_result"
    }
   ],
   "source": [
    "#еще пример\n",
    "df[df['id'].isin(list(whats_data('4011100009')['id'].unique()))]"
   ]
  },
  {
   "cell_type": "code",
   "execution_count": 11,
   "id": "de0a0473",
   "metadata": {},
   "outputs": [
    {
     "data": {
      "text/html": [
       "<div>\n",
       "<style scoped>\n",
       "    .dataframe tbody tr th:only-of-type {\n",
       "        vertical-align: middle;\n",
       "    }\n",
       "\n",
       "    .dataframe tbody tr th {\n",
       "        vertical-align: top;\n",
       "    }\n",
       "\n",
       "    .dataframe thead th {\n",
       "        text-align: right;\n",
       "    }\n",
       "</style>\n",
       "<table border=\"1\" class=\"dataframe\">\n",
       "  <thead>\n",
       "    <tr style=\"text-align: right;\">\n",
       "      <th></th>\n",
       "      <th>id</th>\n",
       "      <th>label</th>\n",
       "    </tr>\n",
       "  </thead>\n",
       "  <tbody>\n",
       "    <tr>\n",
       "      <th>0</th>\n",
       "      <td>4011100009</td>\n",
       "      <td>шины</td>\n",
       "    </tr>\n",
       "    <tr>\n",
       "      <th>1</th>\n",
       "      <td>4011100009</td>\n",
       "      <td>шина</td>\n",
       "    </tr>\n",
       "    <tr>\n",
       "      <th>2</th>\n",
       "      <td>4011100009</td>\n",
       "      <td>авто шины</td>\n",
       "    </tr>\n",
       "    <tr>\n",
       "      <th>3</th>\n",
       "      <td>4011100009</td>\n",
       "      <td>чернитель шин</td>\n",
       "    </tr>\n",
       "    <tr>\n",
       "      <th>4</th>\n",
       "      <td>4011100009</td>\n",
       "      <td>тапочки резиновые</td>\n",
       "    </tr>\n",
       "    <tr>\n",
       "      <th>...</th>\n",
       "      <td>...</td>\n",
       "      <td>...</td>\n",
       "    </tr>\n",
       "    <tr>\n",
       "      <th>59752</th>\n",
       "      <td>8474100000</td>\n",
       "      <td>грохот sandvik</td>\n",
       "    </tr>\n",
       "    <tr>\n",
       "      <th>59753</th>\n",
       "      <td>8474100000</td>\n",
       "      <td>вибрационный стол</td>\n",
       "    </tr>\n",
       "    <tr>\n",
       "      <th>59754</th>\n",
       "      <td>8474100000</td>\n",
       "      <td>вибрационные грохоты для горнодобывающей промы...</td>\n",
       "    </tr>\n",
       "    <tr>\n",
       "      <th>59755</th>\n",
       "      <td>8474100000</td>\n",
       "      <td>аппарат для деления руды</td>\n",
       "    </tr>\n",
       "    <tr>\n",
       "      <th>59756</th>\n",
       "      <td>8474100000</td>\n",
       "      <td>вибродвигатель</td>\n",
       "    </tr>\n",
       "  </tbody>\n",
       "</table>\n",
       "<p>59757 rows × 2 columns</p>\n",
       "</div>"
      ],
      "text/plain": [
       "               id                                              label\n",
       "0      4011100009                                               шины\n",
       "1      4011100009                                               шина\n",
       "2      4011100009                                          авто шины\n",
       "3      4011100009                                      чернитель шин\n",
       "4      4011100009                                  тапочки резиновые\n",
       "...           ...                                                ...\n",
       "59752  8474100000                                     грохот sandvik\n",
       "59753  8474100000                                  вибрационный стол\n",
       "59754  8474100000  вибрационные грохоты для горнодобывающей промы...\n",
       "59755  8474100000                           аппарат для деления руды\n",
       "59756  8474100000                                     вибродвигатель\n",
       "\n",
       "[59757 rows x 2 columns]"
      ]
     },
     "execution_count": 11,
     "metadata": {},
     "output_type": "execute_result"
    }
   ],
   "source": [
    "similar = pd.read_csv(\"../data/Similar.csv\", sep=';', names=['id', 'label'], dtype={'id': str, 'label': str})\n",
    "similar"
   ]
  }
 ],
 "metadata": {
  "kernelspec": {
   "display_name": "Python 3 (ipykernel)",
   "language": "python",
   "name": "python3"
  },
  "language_info": {
   "codemirror_mode": {
    "name": "ipython",
    "version": 3
   },
   "file_extension": ".py",
   "mimetype": "text/x-python",
   "name": "python",
   "nbconvert_exporter": "python",
   "pygments_lexer": "ipython3",
   "version": "3.10.11"
  }
 },
 "nbformat": 4,
 "nbformat_minor": 5
}
