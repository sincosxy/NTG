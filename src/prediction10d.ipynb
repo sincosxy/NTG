{
 "cells": [
  {
   "cell_type": "code",
   "execution_count": 1,
   "id": "47a36a22",
   "metadata": {},
   "outputs": [
    {
     "name": "stderr",
     "output_type": "stream",
     "text": [
      "Some weights of BertForSequenceClassification were not initialized from the model checkpoint at sberbank-ai/sbert_large_nlu_ru and are newly initialized: ['classifier.weight', 'classifier.bias']\n",
      "You should probably TRAIN this model on a down-stream task to be able to use it for predictions and inference.\n"
     ]
    },
    {
     "data": {
      "text/plain": [
       "<All keys matched successfully>"
      ]
     },
     "execution_count": 1,
     "metadata": {},
     "output_type": "execute_result"
    }
   ],
   "source": [
    "#импорт библиотек, загрузка модели, весов, разметки клаассов\n",
    "import torch\n",
    "import numpy as np\n",
    "import pandas as pd\n",
    "device = torch.device(\"cpu\")\n",
    "from transformers import AutoTokenizer, AutoModel, AutoModelForSequenceClassification, AdamW, get_scheduler\n",
    "model_name = \"sberbank-ai/sbert_large_nlu_ru\"\n",
    "tokenizer = AutoTokenizer.from_pretrained(model_name)\n",
    "model = AutoModelForSequenceClassification.from_pretrained(model_name, num_labels=2648).to(device)\n",
    "from sklearn import preprocessing\n",
    "Label_encoder = preprocessing.LabelEncoder()\n",
    "Label_encoder.classes_ = np.load('./cl_classes1307.npy', allow_pickle=True)\n",
    "model.load_state_dict(torch.load(\"../../../best_model2306/pytorch_model10d.bin\", map_location=device))"
   ]
  },
  {
   "cell_type": "code",
   "execution_count": 2,
   "id": "639d68ee",
   "metadata": {},
   "outputs": [],
   "source": [
    "#импорт описания классов (выдрал с альта софта)\n",
    "dscr = pd.read_csv(\"../data/desc.csv\", sep=';', names=['id', 'label'], dtype={'id': str, 'label': str})"
   ]
  },
  {
   "cell_type": "code",
   "execution_count": 3,
   "id": "a8752dcc",
   "metadata": {},
   "outputs": [],
   "source": [
    "#функция предсказания одного класса (аргмакс). По умолчанию с кодом класса дает описание класса\n",
    "def predict_class(text, desc=True):\n",
    "    model.to(torch.device('cpu'))\n",
    "    inputs = tokenizer(text, truncation = True, max_length=100, padding='max_length', return_tensors=\"pt\")\n",
    "    with torch.no_grad():\n",
    "        logits = model(**inputs).logits\n",
    "        predicted_class_id = logits.argmax().item()\n",
    "        if desc==True:\n",
    "            result = dict()\n",
    "            id = Label_encoder.inverse_transform([predicted_class_id])[0]\n",
    "            result[id] = dscr[dscr['id']==id[:4]].iloc[0]['label']\n",
    "            return result\n",
    "        else:\n",
    "            return Label_encoder.inverse_transform([predicted_class_id])[0]"
   ]
  },
  {
   "cell_type": "code",
   "execution_count": 4,
   "id": "1770ccb1",
   "metadata": {},
   "outputs": [
    {
     "data": {
      "text/plain": [
       "{'1704906500': 'Кондитерские изделия из сахара (включая белый шоколад), не содержащие какао'}"
      ]
     },
     "execution_count": 4,
     "metadata": {},
     "output_type": "execute_result"
    }
   ],
   "source": [
    "#Пример с описанием\n",
    "predict_class('КОНДИТЕРСКИЕ ИЗДЕЛИЯ В ВИДЕ РЕЗИНКИ И ЖЕЛЕ, НЕ СОДЕРЖАЩИЕ КАКАО')"
   ]
  },
  {
   "cell_type": "code",
   "execution_count": 5,
   "id": "a0621e68",
   "metadata": {},
   "outputs": [
    {
     "data": {
      "text/plain": [
       "'1704906500'"
      ]
     },
     "execution_count": 5,
     "metadata": {},
     "output_type": "execute_result"
    }
   ],
   "source": [
    "#Пример без описания\n",
    "predict_class('КОНДИТЕРСКИЕ ИЗДЕЛИЯ В ВИДЕ РЕЗИНКИ И ЖЕЛЕ, НЕ СОДЕРЖАЩИЕ КАКАО', desc=False)"
   ]
  },
  {
   "cell_type": "code",
   "execution_count": 6,
   "id": "c609c07a",
   "metadata": {},
   "outputs": [],
   "source": [
    "#функция предикта классов с вероятностью (софтмакс), по умолчанию 5 классов\n",
    "def predict_prob(text, qtty=5):\n",
    "    model.to(torch.device('cpu'))\n",
    "    inputs = tokenizer(text, truncation = True, max_length=100, padding='max_length', return_tensors=\"pt\")\n",
    "    with torch.no_grad():\n",
    "        logits = model(**inputs).logits\n",
    "    result = dict()\n",
    "    p = torch.nn.functional.softmax(logits, dim=1)\n",
    "    for i in range(qtty):\n",
    "        a = p.argmax().item()\n",
    "        result[Label_encoder.inverse_transform([a])[0]] = p[0][a].item()\n",
    "        p[0][a] = 0\n",
    "    return result"
   ]
  },
  {
   "cell_type": "code",
   "execution_count": 12,
   "id": "b7dc850b",
   "metadata": {},
   "outputs": [
    {
     "name": "stdout",
     "output_type": "stream",
     "text": [
      "[['3917390001', 'Трубы, трубки, шланги и их фитинги (например, соединения, колена, фланцы), из пластмасс', 0.22377032041549683], ['3917390008', 'Трубы, трубки, шланги и их фитинги (например, соединения, колена, фланцы), из пластмасс', 0.1157531589269638], ['3917330009', 'Трубы, трубки, шланги и их фитинги (например, соединения, колена, фланцы), из пластмасс', 0.08061529695987701]]\n"
     ]
    }
   ],
   "source": [
    "#Пример с 3 классами\n",
    "print(predict_prob_with_descr('трубы сантехнические пластиковые ', 3))"
   ]
  },
  {
   "cell_type": "code",
   "execution_count": 11,
   "id": "02a0ef1f",
   "metadata": {},
   "outputs": [
    {
     "name": "stdout",
     "output_type": "stream",
     "text": [
      "[['7304900009', 'Трубы, трубки и профили полые, бесшовные, из черных металлов (кроме чугунного литья)', 0.1668553650379181], ['8307100009', 'Трубы гибкие из недрагоценных металлов, с фитингами или без них', 0.15347743034362793], ['7304499309', 'Трубы, трубки и профили полые, бесшовные, из черных металлов (кроме чугунного литья)', 0.08873266726732254], ['7306699009', 'Трубы, трубки и профили полые прочие (например, с открытым швом или сварные, клепаные или соединенные аналогичным способом), из черных металлов', 0.059598829597234726], ['7304312008', 'Трубы, трубки и профили полые, бесшовные, из черных металлов (кроме чугунного литья)', 0.043118175119161606]]\n"
     ]
    }
   ],
   "source": [
    "#Пример с 5 классами\n",
    "print(predict_prob_with_descr('трубы металлические ', 5))"
   ]
  },
  {
   "cell_type": "code",
   "execution_count": 10,
   "id": "efc23792",
   "metadata": {},
   "outputs": [],
   "source": [
    "#функция предикта классов и описания с вероятностью, по умолчанию 5 шт. Использует функцию predict_prob.\n",
    "#возвращает список списков\n",
    "def predict_prob_with_descr(text, qtty=5):\n",
    "    probs = predict_prob(text, qtty=qtty)\n",
    "    #result = np.array()\n",
    "    result = list()\n",
    "    for each in probs:\n",
    "        result.append([each, dscr[dscr['id']==each[:4]].iloc[0]['label'], probs[each]])\n",
    "    return result"
   ]
  },
  {
   "cell_type": "code",
   "execution_count": 13,
   "id": "0c91d071",
   "metadata": {},
   "outputs": [
    {
     "data": {
      "text/plain": [
       "[['8714103000',\n",
       "  'Части и принадлежности к транспортным средствам товарных позиций 8711 - 8713',\n",
       "  0.3244084417819977],\n",
       " ['8708709909',\n",
       "  'Части и принадлежности моторных транспортных средств товарных позиций 8701 - 8705',\n",
       "  0.1690853089094162],\n",
       " ['8708705009',\n",
       "  'Части и принадлежности моторных транспортных средств товарных позиций 8701 - 8705',\n",
       "  0.06727831065654755],\n",
       " ['4011900000',\n",
       "  'Шины и покрышки пневматические резиновые новые',\n",
       "  0.02651013806462288],\n",
       " ['8714999009',\n",
       "  'Части и принадлежности к транспортным средствам товарных позиций 8711 - 8713',\n",
       "  0.01494534034281969]]"
      ]
     },
     "execution_count": 13,
     "metadata": {},
     "output_type": "execute_result"
    }
   ],
   "source": [
    "#Пример с 5 классами.\n",
    "predict_prob_with_descr('колеса автомобильные')"
   ]
  },
  {
   "cell_type": "code",
   "execution_count": 14,
   "id": "0ee0f972",
   "metadata": {},
   "outputs": [
    {
     "data": {
      "text/html": [
       "<div>\n",
       "<style scoped>\n",
       "    .dataframe tbody tr th:only-of-type {\n",
       "        vertical-align: middle;\n",
       "    }\n",
       "\n",
       "    .dataframe tbody tr th {\n",
       "        vertical-align: top;\n",
       "    }\n",
       "\n",
       "    .dataframe thead th {\n",
       "        text-align: right;\n",
       "    }\n",
       "</style>\n",
       "<table border=\"1\" class=\"dataframe\">\n",
       "  <thead>\n",
       "    <tr style=\"text-align: right;\">\n",
       "      <th></th>\n",
       "      <th>ID</th>\n",
       "      <th>LABEL</th>\n",
       "      <th>PROB</th>\n",
       "    </tr>\n",
       "  </thead>\n",
       "  <tbody>\n",
       "    <tr>\n",
       "      <th>0</th>\n",
       "      <td>0802310000</td>\n",
       "      <td>Прочие орехи, свежие или сушеные, очищенные от...</td>\n",
       "      <td>0.865241</td>\n",
       "    </tr>\n",
       "    <tr>\n",
       "      <th>1</th>\n",
       "      <td>0802320000</td>\n",
       "      <td>Прочие орехи, свежие или сушеные, очищенные от...</td>\n",
       "      <td>0.096649</td>\n",
       "    </tr>\n",
       "    <tr>\n",
       "      <th>2</th>\n",
       "      <td>0910999900</td>\n",
       "      <td>Имбирь, шафран, турмерик (куркума), тимьян, ил...</td>\n",
       "      <td>0.000948</td>\n",
       "    </tr>\n",
       "    <tr>\n",
       "      <th>3</th>\n",
       "      <td>0711590000</td>\n",
       "      <td>[с 01.01.22]Овощи консервированные для кратков...</td>\n",
       "      <td>0.000633</td>\n",
       "    </tr>\n",
       "    <tr>\n",
       "      <th>4</th>\n",
       "      <td>1704909800</td>\n",
       "      <td>Кондитерские изделия из сахара (включая белый ...</td>\n",
       "      <td>0.000536</td>\n",
       "    </tr>\n",
       "  </tbody>\n",
       "</table>\n",
       "</div>"
      ],
      "text/plain": [
       "           ID                                              LABEL      PROB\n",
       "0  0802310000  Прочие орехи, свежие или сушеные, очищенные от...  0.865241\n",
       "1  0802320000  Прочие орехи, свежие или сушеные, очищенные от...  0.096649\n",
       "2  0910999900  Имбирь, шафран, турмерик (куркума), тимьян, ил...  0.000948\n",
       "3  0711590000  [с 01.01.22]Овощи консервированные для кратков...  0.000633\n",
       "4  1704909800  Кондитерские изделия из сахара (включая белый ...  0.000536"
      ]
     },
     "execution_count": 14,
     "metadata": {},
     "output_type": "execute_result"
    }
   ],
   "source": [
    "#причесанный в пандас пример\n",
    "pd.DataFrame(predict_prob_with_descr('орехи грецкие'), columns=['ID', 'LABEL', 'PROB'])"
   ]
  },
  {
   "cell_type": "code",
   "execution_count": 15,
   "id": "fa243ff0",
   "metadata": {},
   "outputs": [
    {
     "data": {
      "text/html": [
       "<div>\n",
       "<style scoped>\n",
       "    .dataframe tbody tr th:only-of-type {\n",
       "        vertical-align: middle;\n",
       "    }\n",
       "\n",
       "    .dataframe tbody tr th {\n",
       "        vertical-align: top;\n",
       "    }\n",
       "\n",
       "    .dataframe thead th {\n",
       "        text-align: right;\n",
       "    }\n",
       "</style>\n",
       "<table border=\"1\" class=\"dataframe\">\n",
       "  <thead>\n",
       "    <tr style=\"text-align: right;\">\n",
       "      <th></th>\n",
       "      <th>ID</th>\n",
       "      <th>LABEL</th>\n",
       "      <th>PROB</th>\n",
       "    </tr>\n",
       "  </thead>\n",
       "  <tbody>\n",
       "    <tr>\n",
       "      <th>0</th>\n",
       "      <td>0901210001</td>\n",
       "      <td>Кофе, жареный или нежареный, с кофеином или бе...</td>\n",
       "      <td>0.413377</td>\n",
       "    </tr>\n",
       "    <tr>\n",
       "      <th>1</th>\n",
       "      <td>2101129201</td>\n",
       "      <td>Экстракты, эссенции и концентраты кофе, чая ил...</td>\n",
       "      <td>0.255713</td>\n",
       "    </tr>\n",
       "    <tr>\n",
       "      <th>2</th>\n",
       "      <td>0901210009</td>\n",
       "      <td>Кофе, жареный или нежареный, с кофеином или бе...</td>\n",
       "      <td>0.133681</td>\n",
       "    </tr>\n",
       "    <tr>\n",
       "      <th>3</th>\n",
       "      <td>0901220009</td>\n",
       "      <td>Кофе, жареный или нежареный, с кофеином или бе...</td>\n",
       "      <td>0.019602</td>\n",
       "    </tr>\n",
       "    <tr>\n",
       "      <th>4</th>\n",
       "      <td>1704909800</td>\n",
       "      <td>Кондитерские изделия из сахара (включая белый ...</td>\n",
       "      <td>0.005251</td>\n",
       "    </tr>\n",
       "  </tbody>\n",
       "</table>\n",
       "</div>"
      ],
      "text/plain": [
       "           ID                                              LABEL      PROB\n",
       "0  0901210001  Кофе, жареный или нежареный, с кофеином или бе...  0.413377\n",
       "1  2101129201  Экстракты, эссенции и концентраты кофе, чая ил...  0.255713\n",
       "2  0901210009  Кофе, жареный или нежареный, с кофеином или бе...  0.133681\n",
       "3  0901220009  Кофе, жареный или нежареный, с кофеином или бе...  0.019602\n",
       "4  1704909800  Кондитерские изделия из сахара (включая белый ...  0.005251"
      ]
     },
     "execution_count": 15,
     "metadata": {},
     "output_type": "execute_result"
    }
   ],
   "source": [
    "#причесанный в пандас пример\n",
    "pd.DataFrame(predict_prob_with_descr('кофе арабика'), columns=['ID', 'LABEL', 'PROB'])"
   ]
  },
  {
   "cell_type": "code",
   "execution_count": 34,
   "id": "b6501e04",
   "metadata": {},
   "outputs": [],
   "source": [
    "def consolelog(probs):\n",
    "    print('prob-ty', 'Code', 'Description', sep=':    ')\n",
    "    #print('____________________________________________________________________')\n",
    "    for each in probs:\n",
    "        if len(each[1]) < 40:\n",
    "            des = each[1]\n",
    "        else:\n",
    "            des = each[1][:40] + '...'\n",
    "        print(f\"{each[2]:.{5}f}\", each[0], des, sep=':    ')\n",
    "        #print('____________________________________________________________________')"
   ]
  },
  {
   "cell_type": "code",
   "execution_count": 39,
   "id": "d31aa100",
   "metadata": {},
   "outputs": [
    {
     "name": "stdout",
     "output_type": "stream",
     "text": [
      "prob-ty:    Code:    Description\n",
      "0.00686:    8714993000:    Части и принадлежности к транспортным ср...\n",
      "0.00610:    8541401000:    [с 01.01.22] Приборы полупроводниковые (...\n",
      "0.00571:    9508900000:    [с 01.01.22] Цирки передвижные и зверинц...\n",
      "0.00551:    8529906509:    Части, предназначенные исключительно или...\n",
      "0.00536:    9508260000:    [с 01.01.22] Цирки передвижные и зверинц...\n"
     ]
    }
   ],
   "source": [
    "consolelog(predict_prob_with_descr(\"аттракционы\", 5))"
   ]
  },
  {
   "cell_type": "code",
   "execution_count": 16,
   "id": "4bd98101",
   "metadata": {},
   "outputs": [],
   "source": [
    "#загрузим обучающий датасет\n",
    "df = pd.read_csv(\"../data/mergedcleared1307.csv\", sep=';', names=['id', 'label'], dtype={'id': str, 'label': str})\n",
    "#df = pd.read_csv(\"../data/firstset.csv\", sep=';', names=['id', 'label'], dtype={'id': str, 'label': str})\n",
    "#функция для вывода обучающих данных по коду. При pandas=False возвращает numpy массив\n",
    "def whats_data(id, pandas=True):\n",
    "    if pandas == True:\n",
    "        return df[df.id.str.slice(start=0, stop=len(str(id)))==str(id)]\n",
    "    else:\n",
    "        return df[df.id.str.slice(start=0, stop=len(str(id)))==str(id)].to_numpy()"
   ]
  },
  {
   "cell_type": "code",
   "execution_count": 43,
   "id": "161cccd1",
   "metadata": {},
   "outputs": [
    {
     "data": {
      "text/html": [
       "<div>\n",
       "<style scoped>\n",
       "    .dataframe tbody tr th:only-of-type {\n",
       "        vertical-align: middle;\n",
       "    }\n",
       "\n",
       "    .dataframe tbody tr th {\n",
       "        vertical-align: top;\n",
       "    }\n",
       "\n",
       "    .dataframe thead th {\n",
       "        text-align: right;\n",
       "    }\n",
       "</style>\n",
       "<table border=\"1\" class=\"dataframe\">\n",
       "  <thead>\n",
       "    <tr style=\"text-align: right;\">\n",
       "      <th></th>\n",
       "      <th>id</th>\n",
       "      <th>label</th>\n",
       "    </tr>\n",
       "  </thead>\n",
       "  <tbody>\n",
       "    <tr>\n",
       "      <th>196551</th>\n",
       "      <td>9508260000</td>\n",
       "      <td>аттракционы парков развлечений и аттракционы в...</td>\n",
       "    </tr>\n",
       "    <tr>\n",
       "      <th>197546</th>\n",
       "      <td>9508260000</td>\n",
       "      <td>аттракционы парков развлечений и аттракционы в...</td>\n",
       "    </tr>\n",
       "  </tbody>\n",
       "</table>\n",
       "</div>"
      ],
      "text/plain": [
       "                id                                              label\n",
       "196551  9508260000  аттракционы парков развлечений и аттракционы в...\n",
       "197546  9508260000  аттракционы парков развлечений и аттракционы в..."
      ]
     },
     "execution_count": 43,
     "metadata": {},
     "output_type": "execute_result"
    }
   ],
   "source": [
    "#пример использования по полному коду (можно делать по части кода)\n",
    "whats_data('9508260000')"
   ]
  },
  {
   "cell_type": "code",
   "execution_count": 41,
   "id": "c6ae2d02",
   "metadata": {},
   "outputs": [
    {
     "data": {
      "text/html": [
       "<div>\n",
       "<style scoped>\n",
       "    .dataframe tbody tr th:only-of-type {\n",
       "        vertical-align: middle;\n",
       "    }\n",
       "\n",
       "    .dataframe tbody tr th {\n",
       "        vertical-align: top;\n",
       "    }\n",
       "\n",
       "    .dataframe thead th {\n",
       "        text-align: right;\n",
       "    }\n",
       "</style>\n",
       "<table border=\"1\" class=\"dataframe\">\n",
       "  <thead>\n",
       "    <tr style=\"text-align: right;\">\n",
       "      <th></th>\n",
       "      <th>id</th>\n",
       "      <th>label</th>\n",
       "    </tr>\n",
       "  </thead>\n",
       "  <tbody>\n",
       "    <tr>\n",
       "      <th>72279</th>\n",
       "      <td>0901210009</td>\n",
       "      <td>кофе нат жареный молотый черная карта премиум ...</td>\n",
       "    </tr>\n",
       "    <tr>\n",
       "      <th>72280</th>\n",
       "      <td>0901210009</td>\n",
       "      <td>кофе натуральный жареный молотый s caffe deliz...</td>\n",
       "    </tr>\n",
       "    <tr>\n",
       "      <th>72281</th>\n",
       "      <td>0901210009</td>\n",
       "      <td>кофе жареный с кофеином молотый в вакуумной по...</td>\n",
       "    </tr>\n",
       "    <tr>\n",
       "      <th>72282</th>\n",
       "      <td>0901210009</td>\n",
       "      <td>кофе жареный молотый порошкообразный с кофеино...</td>\n",
       "    </tr>\n",
       "    <tr>\n",
       "      <th>72283</th>\n",
       "      <td>0901210009</td>\n",
       "      <td>жареный кофе с кофеином натуральный жареный мо...</td>\n",
       "    </tr>\n",
       "    <tr>\n",
       "      <th>...</th>\n",
       "      <td>...</td>\n",
       "      <td>...</td>\n",
       "    </tr>\n",
       "    <tr>\n",
       "      <th>133801</th>\n",
       "      <td>0901210009</td>\n",
       "      <td>кофе молотый обжаренный в мешке 1 шт и пачках ...</td>\n",
       "    </tr>\n",
       "    <tr>\n",
       "      <th>134050</th>\n",
       "      <td>0901210009</td>\n",
       "      <td>кофе молотый обжаренный новый</td>\n",
       "    </tr>\n",
       "    <tr>\n",
       "      <th>134051</th>\n",
       "      <td>0901220009</td>\n",
       "      <td>образцы для проведения работ по оценке соответ...</td>\n",
       "    </tr>\n",
       "    <tr>\n",
       "      <th>134444</th>\n",
       "      <td>0901210001</td>\n",
       "      <td>кофе зерновой обжаренный новый</td>\n",
       "    </tr>\n",
       "    <tr>\n",
       "      <th>134445</th>\n",
       "      <td>0901210009</td>\n",
       "      <td>кофе натуральный жареный смесь арабика и робус...</td>\n",
       "    </tr>\n",
       "  </tbody>\n",
       "</table>\n",
       "<p>229 rows × 2 columns</p>\n",
       "</div>"
      ],
      "text/plain": [
       "                id                                              label\n",
       "72279   0901210009  кофе нат жареный молотый черная карта премиум ...\n",
       "72280   0901210009  кофе натуральный жареный молотый s caffe deliz...\n",
       "72281   0901210009  кофе жареный с кофеином молотый в вакуумной по...\n",
       "72282   0901210009  кофе жареный молотый порошкообразный с кофеино...\n",
       "72283   0901210009  жареный кофе с кофеином натуральный жареный мо...\n",
       "...            ...                                                ...\n",
       "133801  0901210009  кофе молотый обжаренный в мешке 1 шт и пачках ...\n",
       "134050  0901210009                      кофе молотый обжаренный новый\n",
       "134051  0901220009  образцы для проведения работ по оценке соответ...\n",
       "134444  0901210001                     кофе зерновой обжаренный новый\n",
       "134445  0901210009  кофе натуральный жареный смесь арабика и робус...\n",
       "\n",
       "[229 rows x 2 columns]"
      ]
     },
     "execution_count": 41,
     "metadata": {},
     "output_type": "execute_result"
    }
   ],
   "source": [
    "#еще пример\n",
    "df[df['id'].isin(list(whats_data('0901')['id'].unique()))]"
   ]
  },
  {
   "cell_type": "code",
   "execution_count": 40,
   "id": "c5fc710a",
   "metadata": {},
   "outputs": [
    {
     "name": "stdout",
     "output_type": "stream",
     "text": [
      "{'8712003000': 'Велосипеды двухколесные и прочие велосипеды (включая трехколесные велосипеды для доставки грузов) без двигателя'} {'8712003000': 'Велосипеды двухколесные и прочие велосипеды (включая трехколесные велосипеды для доставки грузов) без двигателя'} {'8712003000': 'Велосипеды двухколесные и прочие велосипеды (включая трехколесные велосипеды для доставки грузов) без двигателя'}\n"
     ]
    }
   ],
   "source": [
    "print(predict_class(\"Велосипед\"), predict_class(\"велосипед\"), predict_class(\"Велосипедов\"))"
   ]
  }
 ],
 "metadata": {
  "kernelspec": {
   "display_name": "Python 3 (ipykernel)",
   "language": "python",
   "name": "python3"
  },
  "language_info": {
   "codemirror_mode": {
    "name": "ipython",
    "version": 3
   },
   "file_extension": ".py",
   "mimetype": "text/x-python",
   "name": "python",
   "nbconvert_exporter": "python",
   "pygments_lexer": "ipython3",
   "version": "3.10.11"
  }
 },
 "nbformat": 4,
 "nbformat_minor": 5
}
