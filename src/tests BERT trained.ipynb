{
 "cells": [
  {
   "cell_type": "code",
   "execution_count": 3,
   "id": "c6b21c29",
   "metadata": {},
   "outputs": [],
   "source": [
    "import torch\n",
    "import numpy as np\n",
    "import pandas as pd"
   ]
  },
  {
   "cell_type": "code",
   "execution_count": 4,
   "id": "9b13b128",
   "metadata": {},
   "outputs": [
    {
     "data": {
      "text/plain": [
       "device(type='cuda')"
      ]
     },
     "execution_count": 4,
     "metadata": {},
     "output_type": "execute_result"
    }
   ],
   "source": [
    "device = torch.device(\"cuda\") if torch.cuda.is_available() else torch.device(\"cpu\")\n",
    "device"
   ]
  },
  {
   "cell_type": "code",
   "execution_count": 6,
   "id": "50a72bbe",
   "metadata": {},
   "outputs": [
    {
     "name": "stderr",
     "output_type": "stream",
     "text": [
      "Some weights of the model checkpoint at bert-base-uncased were not used when initializing BertForSequenceClassification: ['cls.predictions.transform.LayerNorm.weight', 'cls.predictions.transform.dense.weight', 'cls.seq_relationship.bias', 'cls.predictions.bias', 'cls.predictions.transform.LayerNorm.bias', 'cls.seq_relationship.weight', 'cls.predictions.transform.dense.bias', 'cls.predictions.decoder.weight']\n",
      "- This IS expected if you are initializing BertForSequenceClassification from the checkpoint of a model trained on another task or with another architecture (e.g. initializing a BertForSequenceClassification model from a BertForPreTraining model).\n",
      "- This IS NOT expected if you are initializing BertForSequenceClassification from the checkpoint of a model that you expect to be exactly identical (initializing a BertForSequenceClassification model from a BertForSequenceClassification model).\n",
      "Some weights of BertForSequenceClassification were not initialized from the model checkpoint at bert-base-uncased and are newly initialized: ['classifier.weight', 'classifier.bias']\n",
      "You should probably TRAIN this model on a down-stream task to be able to use it for predictions and inference.\n"
     ]
    }
   ],
   "source": [
    "from transformers import BertTokenizer, BertModel, AutoModelForSequenceClassification, AdamW, get_scheduler\n",
    "tokenizer = BertTokenizer.from_pretrained('bert-base-uncased')                                                     \n",
    "model = AutoModelForSequenceClassification.from_pretrained('bert-base-uncased', num_labels=658)"
   ]
  },
  {
   "cell_type": "code",
   "execution_count": null,
   "id": "017370cc",
   "metadata": {},
   "outputs": [],
   "source": [
    "#from transformers import AutoTokenizer, AutoModel, AutoModelForSequenceClassification, AdamW, get_scheduler\n",
    "#model_name = \"sberbank-ai/sbert_large_nlu_ru\"\n",
    "#tokenizer = AutoTokenizer.from_pretrained(model_name)\n",
    "#model = AutoModelForSequenceClassification.from_pretrained(model_name, num_labels=658)\n",
    "#попробуем позже"
   ]
  },
  {
   "cell_type": "code",
   "execution_count": 7,
   "id": "5ceaf084",
   "metadata": {},
   "outputs": [
    {
     "data": {
      "text/plain": [
       "BertForSequenceClassification(\n",
       "  (bert): BertModel(\n",
       "    (embeddings): BertEmbeddings(\n",
       "      (word_embeddings): Embedding(30522, 768, padding_idx=0)\n",
       "      (position_embeddings): Embedding(512, 768)\n",
       "      (token_type_embeddings): Embedding(2, 768)\n",
       "      (LayerNorm): LayerNorm((768,), eps=1e-12, elementwise_affine=True)\n",
       "      (dropout): Dropout(p=0.1, inplace=False)\n",
       "    )\n",
       "    (encoder): BertEncoder(\n",
       "      (layer): ModuleList(\n",
       "        (0-11): 12 x BertLayer(\n",
       "          (attention): BertAttention(\n",
       "            (self): BertSelfAttention(\n",
       "              (query): Linear(in_features=768, out_features=768, bias=True)\n",
       "              (key): Linear(in_features=768, out_features=768, bias=True)\n",
       "              (value): Linear(in_features=768, out_features=768, bias=True)\n",
       "              (dropout): Dropout(p=0.1, inplace=False)\n",
       "            )\n",
       "            (output): BertSelfOutput(\n",
       "              (dense): Linear(in_features=768, out_features=768, bias=True)\n",
       "              (LayerNorm): LayerNorm((768,), eps=1e-12, elementwise_affine=True)\n",
       "              (dropout): Dropout(p=0.1, inplace=False)\n",
       "            )\n",
       "          )\n",
       "          (intermediate): BertIntermediate(\n",
       "            (dense): Linear(in_features=768, out_features=3072, bias=True)\n",
       "            (intermediate_act_fn): GELUActivation()\n",
       "          )\n",
       "          (output): BertOutput(\n",
       "            (dense): Linear(in_features=3072, out_features=768, bias=True)\n",
       "            (LayerNorm): LayerNorm((768,), eps=1e-12, elementwise_affine=True)\n",
       "            (dropout): Dropout(p=0.1, inplace=False)\n",
       "          )\n",
       "        )\n",
       "      )\n",
       "    )\n",
       "    (pooler): BertPooler(\n",
       "      (dense): Linear(in_features=768, out_features=768, bias=True)\n",
       "      (activation): Tanh()\n",
       "    )\n",
       "  )\n",
       "  (dropout): Dropout(p=0.1, inplace=False)\n",
       "  (classifier): Linear(in_features=768, out_features=658, bias=True)\n",
       ")"
      ]
     },
     "execution_count": 7,
     "metadata": {},
     "output_type": "execute_result"
    }
   ],
   "source": [
    "torch.cuda.empty_cache()\n",
    "model.to(device)"
   ]
  },
  {
   "cell_type": "code",
   "execution_count": null,
   "id": "0790984c",
   "metadata": {},
   "outputs": [],
   "source": [
    "df = pd.read_csv(\"../../draft.csv\")\n",
    "df.drop(['Unnamed: 0'], axis=1, inplace=True)\n",
    "df['id'] = pd.Series(df['id']).astype(str)"
   ]
  },
  {
   "cell_type": "code",
   "execution_count": null,
   "id": "c972be99",
   "metadata": {},
   "outputs": [],
   "source": [
    "g_id = []\n",
    "for id in df['id']:\n",
    "    if len(id) == 10:\n",
    "        g_id.append(str(id)[:4])\n",
    "    else:\n",
    "        g_id.append('0' + str(id)[:3])\n",
    "df['g_id'] = g_id"
   ]
  },
  {
   "cell_type": "code",
   "execution_count": null,
   "id": "94b596a5",
   "metadata": {},
   "outputs": [],
   "source": [
    "counts = df.value_counts('id')\n",
    "df_count = pd.DataFrame(data={'id': counts.index, 'count': counts.values})"
   ]
  },
  {
   "cell_type": "code",
   "execution_count": null,
   "id": "d1d1e8bf",
   "metadata": {},
   "outputs": [],
   "source": [
    "df_count.to_csv('../../tnveds_sort.csv')"
   ]
  },
  {
   "cell_type": "code",
   "execution_count": null,
   "id": "070c4173",
   "metadata": {},
   "outputs": [],
   "source": [
    "df['label'] = df['label'].apply(lambda x: ' '.join(x.split()[:400]) if len(x.split())>400 else x)"
   ]
  },
  {
   "cell_type": "code",
   "execution_count": null,
   "id": "b708368e",
   "metadata": {},
   "outputs": [],
   "source": [
    "a = df['label'].apply(lambda x: len(x.split())).hist(figsize=(15, 10))"
   ]
  },
  {
   "cell_type": "code",
   "execution_count": null,
   "id": "16849258",
   "metadata": {},
   "outputs": [],
   "source": [
    "df['label'][df['label'].apply(lambda x: True if len(x.split()) == 1 else False)]"
   ]
  },
  {
   "cell_type": "code",
   "execution_count": null,
   "id": "783679d1",
   "metadata": {},
   "outputs": [],
   "source": [
    "from sklearn import preprocessing\n",
    "Label_encoder = preprocessing.LabelEncoder()\n",
    "Label_encoder.fit(df['g_id'])"
   ]
  },
  {
   "cell_type": "code",
   "execution_count": null,
   "id": "a3ffe27a",
   "metadata": {},
   "outputs": [],
   "source": [
    "df['g_id'] = Label_encoder.fit_transform(df['g_id'])"
   ]
  },
  {
   "cell_type": "code",
   "execution_count": null,
   "id": "60940c12",
   "metadata": {},
   "outputs": [],
   "source": [
    "df.drop('id', axis=1, inplace=True)"
   ]
  },
  {
   "cell_type": "code",
   "execution_count": null,
   "id": "b9a1fe6b",
   "metadata": {},
   "outputs": [],
   "source": [
    "df.columns = ['description', 'labels']"
   ]
  },
  {
   "cell_type": "code",
   "execution_count": null,
   "id": "866eb770",
   "metadata": {},
   "outputs": [],
   "source": [
    "df.to_csv('../../label_enc.csv', index=False)"
   ]
  },
  {
   "cell_type": "code",
   "execution_count": null,
   "id": "156dcebf",
   "metadata": {},
   "outputs": [],
   "source": [
    "np.save('../../classes.npy', Label_encoder.classes_)"
   ]
  },
  {
   "cell_type": "code",
   "execution_count": null,
   "id": "c422c6ba",
   "metadata": {},
   "outputs": [],
   "source": [
    "df = df.sample(frac=1).reset_index(drop=True)\n",
    "train = df[:int(len(df)*0.8)]\n",
    "test =  df[int(len(df)*0.8):]"
   ]
  },
  {
   "cell_type": "code",
   "execution_count": null,
   "id": "d98f5d63",
   "metadata": {},
   "outputs": [],
   "source": [
    "print(len(test['labels'].value_counts()))"
   ]
  },
  {
   "cell_type": "code",
   "execution_count": null,
   "id": "6ad8aa1c",
   "metadata": {},
   "outputs": [],
   "source": [
    "train.to_csv('../../train.csv', index=False)\n",
    "test.to_csv('../../test.csv', index=False)"
   ]
  },
  {
   "cell_type": "code",
   "execution_count": null,
   "id": "85b090f8",
   "metadata": {},
   "outputs": [],
   "source": [
    "model.named_parameters"
   ]
  },
  {
   "cell_type": "code",
   "execution_count": null,
   "id": "a6fe6090",
   "metadata": {},
   "outputs": [],
   "source": [
    "torch.cuda.empty_cache()\n",
    "import gc\n",
    "gc.collect()"
   ]
  },
  {
   "cell_type": "code",
   "execution_count": null,
   "id": "0925a6dd",
   "metadata": {},
   "outputs": [],
   "source": [
    "!pip install datasets"
   ]
  },
  {
   "cell_type": "code",
   "execution_count": 8,
   "id": "6f1615b3",
   "metadata": {},
   "outputs": [
    {
     "name": "stderr",
     "output_type": "stream",
     "text": [
      "Found cached dataset csv (C:/Users/yeril/.cache/huggingface/datasets/csv/default-c2d1908b4f31630f/0.0.0/6954658bab30a358235fa864b05cf819af0e179325c740e4bc853bcc7ec513e1)\n",
      "100%|███████████████████████████████████████████████████████████████████████████████████| 2/2 [00:00<00:00, 333.34it/s]\n"
     ]
    }
   ],
   "source": [
    "from datasets import load_dataset, load_metric\n",
    "dataset = load_dataset('csv', data_files={'train': '../../train.csv', 'test': '../../test.csv'})"
   ]
  },
  {
   "cell_type": "code",
   "execution_count": 9,
   "id": "9dca28e3",
   "metadata": {},
   "outputs": [
    {
     "name": "stderr",
     "output_type": "stream",
     "text": [
      "                                                                                                                       \r"
     ]
    }
   ],
   "source": [
    "dataset = dataset.map(lambda e: tokenizer(e['description'], truncation = True, max_length=100, padding='max_length'), batched=True)"
   ]
  },
  {
   "cell_type": "code",
   "execution_count": 13,
   "id": "715c8932",
   "metadata": {},
   "outputs": [],
   "source": [
    "pytorch_style_columns = ['input_ids', 'token_type_ids', 'attention_mask', 'labels']  # \n",
    "dataset = dataset.remove_columns(set(dataset['train'].features.keys()) - set(pytorch_style_columns))"
   ]
  },
  {
   "cell_type": "code",
   "execution_count": 14,
   "id": "3f1090b7",
   "metadata": {},
   "outputs": [
    {
     "data": {
      "text/plain": [
       "{'attention_mask', 'input_ids', 'labels', 'token_type_ids'}"
      ]
     },
     "execution_count": 14,
     "metadata": {},
     "output_type": "execute_result"
    }
   ],
   "source": [
    "set(dataset['train'].features.keys())\n"
   ]
  },
  {
   "cell_type": "code",
   "execution_count": 15,
   "id": "5e490d51",
   "metadata": {},
   "outputs": [],
   "source": [
    "dataset.set_format(type='torch', columns=pytorch_style_columns, device='cuda') "
   ]
  },
  {
   "cell_type": "code",
   "execution_count": 16,
   "id": "3112cf53",
   "metadata": {},
   "outputs": [],
   "source": [
    "from torch.utils.data import DataLoader\n",
    "train_dataloader = DataLoader(dataset['train'], shuffle=True, batch_size=1)\n",
    "test_dataloader = DataLoader(dataset['test'], shuffle=False, batch_size=1)\n",
    "#если есть видеопамять около 10гб, можно поставить 8"
   ]
  },
  {
   "cell_type": "code",
   "execution_count": null,
   "id": "e031d97d",
   "metadata": {},
   "outputs": [],
   "source": [
    "len(train_dataloader)"
   ]
  },
  {
   "cell_type": "code",
   "execution_count": 17,
   "id": "799638a5",
   "metadata": {},
   "outputs": [
    {
     "name": "stderr",
     "output_type": "stream",
     "text": [
      "C:\\Users\\yeril\\AppData\\Local\\Packages\\PythonSoftwareFoundation.Python.3.10_qbz5n2kfra8p0\\LocalCache\\local-packages\\Python310\\site-packages\\transformers\\optimization.py:306: FutureWarning: This implementation of AdamW is deprecated and will be removed in a future version. Use the PyTorch implementation torch.optim.AdamW instead, or set `no_deprecation_warning=True` to disable this warning\n",
      "  warnings.warn(\n"
     ]
    }
   ],
   "source": [
    "\n",
    "optimizer = AdamW(model.parameters(), lr=2e-6)\n",
    "\n",
    "num_epochs = 4\n",
    "\n",
    "num_training_steps = num_epochs * len(train_dataloader)\n",
    "\n",
    "\n",
    "lr_scheduler = get_scheduler(\n",
    "    \"constant_with_warmup\",\n",
    "    optimizer=optimizer,\n",
    "    num_warmup_steps=2000,\n",
    "    num_training_steps=num_training_steps\n",
    ")"
   ]
  },
  {
   "cell_type": "code",
   "execution_count": 19,
   "id": "55f22b6e",
   "metadata": {},
   "outputs": [
    {
     "data": {
      "text/plain": [
       "0"
      ]
     },
     "execution_count": 19,
     "metadata": {},
     "output_type": "execute_result"
    }
   ],
   "source": [
    "torch.cuda.empty_cache()\n",
    "import gc\n",
    "gc.collect()"
   ]
  },
  {
   "cell_type": "code",
   "execution_count": 21,
   "id": "e98be2b4",
   "metadata": {},
   "outputs": [],
   "source": [
    "from tqdm import tqdm"
   ]
  },
  {
   "cell_type": "code",
   "execution_count": null,
   "id": "8928b5a6",
   "metadata": {},
   "outputs": [],
   "source": [
    "next(iter(train_dataloader))"
   ]
  },
  {
   "cell_type": "code",
   "execution_count": 22,
   "id": "849bd9ae",
   "metadata": {},
   "outputs": [
    {
     "name": "stdout",
     "output_type": "stream",
     "text": [
      "---------------------------------------- \n",
      "epoch 1\n",
      "train loss [10.00%]: 3.701\n",
      "\n",
      "validating\n"
     ]
    },
    {
     "name": "stderr",
     "output_type": "stream",
     "text": [
      "100%|████████████████████████████████████████████████████████████████████████████| 13992/13992 [11:42<00:00, 19.93it/s]\n"
     ]
    },
    {
     "name": "stdout",
     "output_type": "stream",
     "text": [
      "weighted summary:\n",
      "Test acc: 0.36556603773584906\n"
     ]
    },
    {
     "name": "stderr",
     "output_type": "stream",
     "text": [
      "C:\\Users\\yeril\\AppData\\Local\\Packages\\PythonSoftwareFoundation.Python.3.10_qbz5n2kfra8p0\\LocalCache\\local-packages\\Python310\\site-packages\\sklearn\\metrics\\_classification.py:1334: UndefinedMetricWarning: Precision is ill-defined and being set to 0.0 in labels with no predicted samples. Use `zero_division` parameter to control this behavior.\n",
      "  _warn_prf(average, modifier, msg_start, len(result))\n"
     ]
    },
    {
     "name": "stdout",
     "output_type": "stream",
     "text": [
      "Test precision: 0.2805728291815288\n",
      "Test recall: 0.36556603773584906\n",
      "Test f1: 0.28694679431793496 \n",
      "\n",
      "train loss [20.00%]: 3.397\n",
      "\n",
      "validating\n"
     ]
    },
    {
     "name": "stderr",
     "output_type": "stream",
     "text": [
      "100%|████████████████████████████████████████████████████████████████████████████| 13992/13992 [12:00<00:00, 19.42it/s]\n"
     ]
    },
    {
     "name": "stdout",
     "output_type": "stream",
     "text": [
      "weighted summary:\n",
      "Test acc: 0.4159519725557461\n"
     ]
    },
    {
     "name": "stderr",
     "output_type": "stream",
     "text": [
      "C:\\Users\\yeril\\AppData\\Local\\Packages\\PythonSoftwareFoundation.Python.3.10_qbz5n2kfra8p0\\LocalCache\\local-packages\\Python310\\site-packages\\sklearn\\metrics\\_classification.py:1334: UndefinedMetricWarning: Precision is ill-defined and being set to 0.0 in labels with no predicted samples. Use `zero_division` parameter to control this behavior.\n",
      "  _warn_prf(average, modifier, msg_start, len(result))\n"
     ]
    },
    {
     "name": "stdout",
     "output_type": "stream",
     "text": [
      "Test precision: 0.289303479635917\n",
      "Test recall: 0.4159519725557461\n",
      "Test f1: 0.313635575932986 \n",
      "\n",
      "train loss [29.99%]: 3.156\n",
      "\n",
      "validating\n"
     ]
    },
    {
     "name": "stderr",
     "output_type": "stream",
     "text": [
      "100%|████████████████████████████████████████████████████████████████████████████| 13992/13992 [05:13<00:00, 44.69it/s]\n"
     ]
    },
    {
     "name": "stdout",
     "output_type": "stream",
     "text": [
      "weighted summary:\n",
      "Test acc: 0.44475414522584333\n"
     ]
    },
    {
     "name": "stderr",
     "output_type": "stream",
     "text": [
      "C:\\Users\\yeril\\AppData\\Local\\Packages\\PythonSoftwareFoundation.Python.3.10_qbz5n2kfra8p0\\LocalCache\\local-packages\\Python310\\site-packages\\sklearn\\metrics\\_classification.py:1334: UndefinedMetricWarning: Precision is ill-defined and being set to 0.0 in labels with no predicted samples. Use `zero_division` parameter to control this behavior.\n",
      "  _warn_prf(average, modifier, msg_start, len(result))\n"
     ]
    },
    {
     "name": "stdout",
     "output_type": "stream",
     "text": [
      "Test precision: 0.3078582376951126\n",
      "Test recall: 0.44475414522584333\n",
      "Test f1: 0.34914344472904557 \n",
      "\n",
      "train loss [39.99%]: 3.027\n",
      "\n",
      "validating\n"
     ]
    },
    {
     "name": "stderr",
     "output_type": "stream",
     "text": [
      "100%|████████████████████████████████████████████████████████████████████████████| 13992/13992 [05:19<00:00, 43.81it/s]\n"
     ]
    },
    {
     "name": "stdout",
     "output_type": "stream",
     "text": [
      "weighted summary:\n",
      "Test acc: 0.46326472269868496\n"
     ]
    },
    {
     "name": "stderr",
     "output_type": "stream",
     "text": [
      "C:\\Users\\yeril\\AppData\\Local\\Packages\\PythonSoftwareFoundation.Python.3.10_qbz5n2kfra8p0\\LocalCache\\local-packages\\Python310\\site-packages\\sklearn\\metrics\\_classification.py:1334: UndefinedMetricWarning: Precision is ill-defined and being set to 0.0 in labels with no predicted samples. Use `zero_division` parameter to control this behavior.\n",
      "  _warn_prf(average, modifier, msg_start, len(result))\n"
     ]
    },
    {
     "name": "stdout",
     "output_type": "stream",
     "text": [
      "Test precision: 0.3472276214315194\n",
      "Test recall: 0.46326472269868496\n",
      "Test f1: 0.3687949741848447 \n",
      "\n",
      "train loss [49.99%]: 2.837\n",
      "\n",
      "validating\n"
     ]
    },
    {
     "name": "stderr",
     "output_type": "stream",
     "text": [
      "100%|████████████████████████████████████████████████████████████████████████████| 13992/13992 [05:22<00:00, 43.40it/s]\n"
     ]
    },
    {
     "name": "stdout",
     "output_type": "stream",
     "text": [
      "weighted summary:\n",
      "Test acc: 0.49942824471126357\n"
     ]
    },
    {
     "name": "stderr",
     "output_type": "stream",
     "text": [
      "C:\\Users\\yeril\\AppData\\Local\\Packages\\PythonSoftwareFoundation.Python.3.10_qbz5n2kfra8p0\\LocalCache\\local-packages\\Python310\\site-packages\\sklearn\\metrics\\_classification.py:1334: UndefinedMetricWarning: Precision is ill-defined and being set to 0.0 in labels with no predicted samples. Use `zero_division` parameter to control this behavior.\n",
      "  _warn_prf(average, modifier, msg_start, len(result))\n"
     ]
    },
    {
     "name": "stdout",
     "output_type": "stream",
     "text": [
      "Test precision: 0.3961304743426344\n",
      "Test recall: 0.49942824471126357\n",
      "Test f1: 0.40501530915833245 \n",
      "\n",
      "train loss [59.99%]: 2.767\n",
      "\n",
      "validating\n"
     ]
    },
    {
     "name": "stderr",
     "output_type": "stream",
     "text": [
      "100%|████████████████████████████████████████████████████████████████████████████| 13992/13992 [05:16<00:00, 44.23it/s]\n"
     ]
    },
    {
     "name": "stdout",
     "output_type": "stream",
     "text": [
      "weighted summary:\n",
      "Test acc: 0.5092195540308748\n"
     ]
    },
    {
     "name": "stderr",
     "output_type": "stream",
     "text": [
      "C:\\Users\\yeril\\AppData\\Local\\Packages\\PythonSoftwareFoundation.Python.3.10_qbz5n2kfra8p0\\LocalCache\\local-packages\\Python310\\site-packages\\sklearn\\metrics\\_classification.py:1334: UndefinedMetricWarning: Precision is ill-defined and being set to 0.0 in labels with no predicted samples. Use `zero_division` parameter to control this behavior.\n",
      "  _warn_prf(average, modifier, msg_start, len(result))\n"
     ]
    },
    {
     "name": "stdout",
     "output_type": "stream",
     "text": [
      "Test precision: 0.38786420861488863\n",
      "Test recall: 0.5092195540308748\n",
      "Test f1: 0.41235310280353094 \n",
      "\n",
      "train loss [69.99%]: 2.612\n",
      "\n",
      "validating\n"
     ]
    },
    {
     "name": "stderr",
     "output_type": "stream",
     "text": [
      "100%|████████████████████████████████████████████████████████████████████████████| 13992/13992 [05:17<00:00, 44.11it/s]\n"
     ]
    },
    {
     "name": "stdout",
     "output_type": "stream",
     "text": [
      "weighted summary:\n",
      "Test acc: 0.5417381360777587\n"
     ]
    },
    {
     "name": "stderr",
     "output_type": "stream",
     "text": [
      "C:\\Users\\yeril\\AppData\\Local\\Packages\\PythonSoftwareFoundation.Python.3.10_qbz5n2kfra8p0\\LocalCache\\local-packages\\Python310\\site-packages\\sklearn\\metrics\\_classification.py:1334: UndefinedMetricWarning: Precision is ill-defined and being set to 0.0 in labels with no predicted samples. Use `zero_division` parameter to control this behavior.\n",
      "  _warn_prf(average, modifier, msg_start, len(result))\n"
     ]
    },
    {
     "name": "stdout",
     "output_type": "stream",
     "text": [
      "Test precision: 0.43189806248974055\n"
     ]
    },
    {
     "name": "stderr",
     "output_type": "stream",
     "text": [
      "C:\\Users\\yeril\\AppData\\Local\\Packages\\PythonSoftwareFoundation.Python.3.10_qbz5n2kfra8p0\\LocalCache\\local-packages\\Python310\\site-packages\\sklearn\\metrics\\_classification.py:1334: UndefinedMetricWarning: Recall is ill-defined and being set to 0.0 in labels with no true samples. Use `zero_division` parameter to control this behavior.\n",
      "  _warn_prf(average, modifier, msg_start, len(result))\n"
     ]
    },
    {
     "name": "stdout",
     "output_type": "stream",
     "text": [
      "Test recall: 0.5417381360777587\n",
      "Test f1: 0.4539413574939823 \n",
      "\n",
      "train loss [79.99%]: 2.425\n",
      "\n",
      "validating\n"
     ]
    },
    {
     "name": "stderr",
     "output_type": "stream",
     "text": [
      "100%|████████████████████████████████████████████████████████████████████████████| 13992/13992 [05:16<00:00, 44.21it/s]\n"
     ]
    },
    {
     "name": "stdout",
     "output_type": "stream",
     "text": [
      "weighted summary:\n",
      "Test acc: 0.5783304745568897\n"
     ]
    },
    {
     "name": "stderr",
     "output_type": "stream",
     "text": [
      "C:\\Users\\yeril\\AppData\\Local\\Packages\\PythonSoftwareFoundation.Python.3.10_qbz5n2kfra8p0\\LocalCache\\local-packages\\Python310\\site-packages\\sklearn\\metrics\\_classification.py:1334: UndefinedMetricWarning: Precision is ill-defined and being set to 0.0 in labels with no predicted samples. Use `zero_division` parameter to control this behavior.\n",
      "  _warn_prf(average, modifier, msg_start, len(result))\n"
     ]
    },
    {
     "name": "stdout",
     "output_type": "stream",
     "text": [
      "Test precision: 0.4733183586014552\n"
     ]
    },
    {
     "name": "stderr",
     "output_type": "stream",
     "text": [
      "C:\\Users\\yeril\\AppData\\Local\\Packages\\PythonSoftwareFoundation.Python.3.10_qbz5n2kfra8p0\\LocalCache\\local-packages\\Python310\\site-packages\\sklearn\\metrics\\_classification.py:1334: UndefinedMetricWarning: Recall is ill-defined and being set to 0.0 in labels with no true samples. Use `zero_division` parameter to control this behavior.\n",
      "  _warn_prf(average, modifier, msg_start, len(result))\n"
     ]
    },
    {
     "name": "stdout",
     "output_type": "stream",
     "text": [
      "Test recall: 0.5783304745568897\n",
      "Test f1: 0.4959345536361781 \n",
      "\n",
      "train loss [89.99%]: 2.379\n",
      "\n",
      "validating\n"
     ]
    },
    {
     "name": "stderr",
     "output_type": "stream",
     "text": [
      "100%|████████████████████████████████████████████████████████████████████████████| 13992/13992 [05:10<00:00, 45.13it/s]\n"
     ]
    },
    {
     "name": "stdout",
     "output_type": "stream",
     "text": [
      "weighted summary:\n",
      "Test acc: 0.5889079473985135\n"
     ]
    },
    {
     "name": "stderr",
     "output_type": "stream",
     "text": [
      "C:\\Users\\yeril\\AppData\\Local\\Packages\\PythonSoftwareFoundation.Python.3.10_qbz5n2kfra8p0\\LocalCache\\local-packages\\Python310\\site-packages\\sklearn\\metrics\\_classification.py:1334: UndefinedMetricWarning: Precision is ill-defined and being set to 0.0 in labels with no predicted samples. Use `zero_division` parameter to control this behavior.\n",
      "  _warn_prf(average, modifier, msg_start, len(result))\n"
     ]
    },
    {
     "name": "stdout",
     "output_type": "stream",
     "text": [
      "Test precision: 0.4838509944589008\n"
     ]
    },
    {
     "name": "stderr",
     "output_type": "stream",
     "text": [
      "C:\\Users\\yeril\\AppData\\Local\\Packages\\PythonSoftwareFoundation.Python.3.10_qbz5n2kfra8p0\\LocalCache\\local-packages\\Python310\\site-packages\\sklearn\\metrics\\_classification.py:1334: UndefinedMetricWarning: Recall is ill-defined and being set to 0.0 in labels with no true samples. Use `zero_division` parameter to control this behavior.\n",
      "  _warn_prf(average, modifier, msg_start, len(result))\n"
     ]
    },
    {
     "name": "stdout",
     "output_type": "stream",
     "text": [
      "Test recall: 0.5889079473985135\n",
      "Test f1: 0.5017789871579414 \n",
      "\n",
      "train loss [99.99%]: 2.273\n",
      "\n",
      "validating\n"
     ]
    },
    {
     "name": "stderr",
     "output_type": "stream",
     "text": [
      "100%|████████████████████████████████████████████████████████████████████████████| 13992/13992 [05:09<00:00, 45.26it/s]\n"
     ]
    },
    {
     "name": "stdout",
     "output_type": "stream",
     "text": [
      "weighted summary:\n",
      "Test acc: 0.6265008576329331\n"
     ]
    },
    {
     "name": "stderr",
     "output_type": "stream",
     "text": [
      "C:\\Users\\yeril\\AppData\\Local\\Packages\\PythonSoftwareFoundation.Python.3.10_qbz5n2kfra8p0\\LocalCache\\local-packages\\Python310\\site-packages\\sklearn\\metrics\\_classification.py:1334: UndefinedMetricWarning: Precision is ill-defined and being set to 0.0 in labels with no predicted samples. Use `zero_division` parameter to control this behavior.\n",
      "  _warn_prf(average, modifier, msg_start, len(result))\n"
     ]
    },
    {
     "name": "stdout",
     "output_type": "stream",
     "text": [
      "Test precision: 0.5330110230217544\n"
     ]
    },
    {
     "name": "stderr",
     "output_type": "stream",
     "text": [
      "C:\\Users\\yeril\\AppData\\Local\\Packages\\PythonSoftwareFoundation.Python.3.10_qbz5n2kfra8p0\\LocalCache\\local-packages\\Python310\\site-packages\\sklearn\\metrics\\_classification.py:1334: UndefinedMetricWarning: Recall is ill-defined and being set to 0.0 in labels with no true samples. Use `zero_division` parameter to control this behavior.\n",
      "  _warn_prf(average, modifier, msg_start, len(result))\n"
     ]
    },
    {
     "name": "stdout",
     "output_type": "stream",
     "text": [
      "Test recall: 0.6265008576329331\n",
      "Test f1: 0.5509092110138296 \n",
      "\n",
      "---------------------------------------- \n",
      "epoch 2\n",
      "train loss [10.00%]: 2.160\n",
      "\n",
      "validating\n"
     ]
    },
    {
     "name": "stderr",
     "output_type": "stream",
     "text": [
      "100%|████████████████████████████████████████████████████████████████████████████| 13992/13992 [05:09<00:00, 45.25it/s]\n"
     ]
    },
    {
     "name": "stdout",
     "output_type": "stream",
     "text": [
      "weighted summary:\n",
      "Test acc: 0.6389365351629502\n"
     ]
    },
    {
     "name": "stderr",
     "output_type": "stream",
     "text": [
      "C:\\Users\\yeril\\AppData\\Local\\Packages\\PythonSoftwareFoundation.Python.3.10_qbz5n2kfra8p0\\LocalCache\\local-packages\\Python310\\site-packages\\sklearn\\metrics\\_classification.py:1334: UndefinedMetricWarning: Precision is ill-defined and being set to 0.0 in labels with no predicted samples. Use `zero_division` parameter to control this behavior.\n",
      "  _warn_prf(average, modifier, msg_start, len(result))\n"
     ]
    },
    {
     "name": "stdout",
     "output_type": "stream",
     "text": [
      "Test precision: 0.5535873747054552\n"
     ]
    },
    {
     "name": "stderr",
     "output_type": "stream",
     "text": [
      "C:\\Users\\yeril\\AppData\\Local\\Packages\\PythonSoftwareFoundation.Python.3.10_qbz5n2kfra8p0\\LocalCache\\local-packages\\Python310\\site-packages\\sklearn\\metrics\\_classification.py:1334: UndefinedMetricWarning: Recall is ill-defined and being set to 0.0 in labels with no true samples. Use `zero_division` parameter to control this behavior.\n",
      "  _warn_prf(average, modifier, msg_start, len(result))\n"
     ]
    },
    {
     "name": "stdout",
     "output_type": "stream",
     "text": [
      "Test recall: 0.6389365351629502\n",
      "Test f1: 0.5688040946858669 \n",
      "\n",
      "train loss [20.00%]: 2.019\n",
      "\n",
      "validating\n"
     ]
    },
    {
     "name": "stderr",
     "output_type": "stream",
     "text": [
      "100%|████████████████████████████████████████████████████████████████████████████| 13992/13992 [05:09<00:00, 45.26it/s]\n"
     ]
    },
    {
     "name": "stdout",
     "output_type": "stream",
     "text": [
      "weighted summary:\n",
      "Test acc: 0.6557318467695826\n"
     ]
    },
    {
     "name": "stderr",
     "output_type": "stream",
     "text": [
      "C:\\Users\\yeril\\AppData\\Local\\Packages\\PythonSoftwareFoundation.Python.3.10_qbz5n2kfra8p0\\LocalCache\\local-packages\\Python310\\site-packages\\sklearn\\metrics\\_classification.py:1334: UndefinedMetricWarning: Precision is ill-defined and being set to 0.0 in labels with no predicted samples. Use `zero_division` parameter to control this behavior.\n",
      "  _warn_prf(average, modifier, msg_start, len(result))\n"
     ]
    },
    {
     "name": "stdout",
     "output_type": "stream",
     "text": [
      "Test precision: 0.5630154684974464\n"
     ]
    },
    {
     "name": "stderr",
     "output_type": "stream",
     "text": [
      "C:\\Users\\yeril\\AppData\\Local\\Packages\\PythonSoftwareFoundation.Python.3.10_qbz5n2kfra8p0\\LocalCache\\local-packages\\Python310\\site-packages\\sklearn\\metrics\\_classification.py:1334: UndefinedMetricWarning: Recall is ill-defined and being set to 0.0 in labels with no true samples. Use `zero_division` parameter to control this behavior.\n",
      "  _warn_prf(average, modifier, msg_start, len(result))\n"
     ]
    },
    {
     "name": "stdout",
     "output_type": "stream",
     "text": [
      "Test recall: 0.6557318467695826\n",
      "Test f1: 0.5842089589843394 \n",
      "\n",
      "train loss [29.99%]: 1.991\n",
      "\n",
      "validating\n"
     ]
    },
    {
     "name": "stderr",
     "output_type": "stream",
     "text": [
      "100%|████████████████████████████████████████████████████████████████████████████| 13992/13992 [05:09<00:00, 45.27it/s]\n"
     ]
    },
    {
     "name": "stdout",
     "output_type": "stream",
     "text": [
      "weighted summary:\n",
      "Test acc: 0.6720983419096627\n"
     ]
    },
    {
     "name": "stderr",
     "output_type": "stream",
     "text": [
      "C:\\Users\\yeril\\AppData\\Local\\Packages\\PythonSoftwareFoundation.Python.3.10_qbz5n2kfra8p0\\LocalCache\\local-packages\\Python310\\site-packages\\sklearn\\metrics\\_classification.py:1334: UndefinedMetricWarning: Precision is ill-defined and being set to 0.0 in labels with no predicted samples. Use `zero_division` parameter to control this behavior.\n",
      "  _warn_prf(average, modifier, msg_start, len(result))\n"
     ]
    },
    {
     "name": "stdout",
     "output_type": "stream",
     "text": [
      "Test precision: 0.5782435231428182\n",
      "Test recall: 0.6720983419096627\n",
      "Test f1: 0.6048982099597642 \n",
      "\n",
      "train loss [39.99%]: 1.891\n",
      "\n",
      "validating\n"
     ]
    },
    {
     "name": "stderr",
     "output_type": "stream",
     "text": [
      "100%|████████████████████████████████████████████████████████████████████████████| 13992/13992 [05:08<00:00, 45.32it/s]\n"
     ]
    },
    {
     "name": "stdout",
     "output_type": "stream",
     "text": [
      "weighted summary:\n",
      "Test acc: 0.6936821040594625\n"
     ]
    },
    {
     "name": "stderr",
     "output_type": "stream",
     "text": [
      "C:\\Users\\yeril\\AppData\\Local\\Packages\\PythonSoftwareFoundation.Python.3.10_qbz5n2kfra8p0\\LocalCache\\local-packages\\Python310\\site-packages\\sklearn\\metrics\\_classification.py:1334: UndefinedMetricWarning: Precision is ill-defined and being set to 0.0 in labels with no predicted samples. Use `zero_division` parameter to control this behavior.\n",
      "  _warn_prf(average, modifier, msg_start, len(result))\n"
     ]
    },
    {
     "name": "stdout",
     "output_type": "stream",
     "text": [
      "Test precision: 0.620645858425475\n",
      "Test recall: 0.6936821040594625\n",
      "Test f1: 0.6314154450084738 \n",
      "\n",
      "train loss [49.99%]: 1.870\n",
      "\n",
      "validating\n"
     ]
    },
    {
     "name": "stderr",
     "output_type": "stream",
     "text": [
      "100%|████████████████████████████████████████████████████████████████████████████| 13992/13992 [05:08<00:00, 45.34it/s]\n"
     ]
    },
    {
     "name": "stdout",
     "output_type": "stream",
     "text": [
      "weighted summary:\n",
      "Test acc: 0.7013293310463122\n"
     ]
    },
    {
     "name": "stderr",
     "output_type": "stream",
     "text": [
      "C:\\Users\\yeril\\AppData\\Local\\Packages\\PythonSoftwareFoundation.Python.3.10_qbz5n2kfra8p0\\LocalCache\\local-packages\\Python310\\site-packages\\sklearn\\metrics\\_classification.py:1334: UndefinedMetricWarning: Precision is ill-defined and being set to 0.0 in labels with no predicted samples. Use `zero_division` parameter to control this behavior.\n",
      "  _warn_prf(average, modifier, msg_start, len(result))\n"
     ]
    },
    {
     "name": "stdout",
     "output_type": "stream",
     "text": [
      "Test precision: 0.6410439631538232\n"
     ]
    },
    {
     "name": "stderr",
     "output_type": "stream",
     "text": [
      "C:\\Users\\yeril\\AppData\\Local\\Packages\\PythonSoftwareFoundation.Python.3.10_qbz5n2kfra8p0\\LocalCache\\local-packages\\Python310\\site-packages\\sklearn\\metrics\\_classification.py:1334: UndefinedMetricWarning: Recall is ill-defined and being set to 0.0 in labels with no true samples. Use `zero_division` parameter to control this behavior.\n",
      "  _warn_prf(average, modifier, msg_start, len(result))\n"
     ]
    },
    {
     "name": "stdout",
     "output_type": "stream",
     "text": [
      "Test recall: 0.7013293310463122\n",
      "Test f1: 0.644249909939191 \n",
      "\n",
      "train loss [59.99%]: 1.758\n",
      "\n",
      "validating\n"
     ]
    },
    {
     "name": "stderr",
     "output_type": "stream",
     "text": [
      "100%|████████████████████████████████████████████████████████████████████████████| 13992/13992 [05:08<00:00, 45.32it/s]\n"
     ]
    },
    {
     "name": "stdout",
     "output_type": "stream",
     "text": [
      "weighted summary:\n",
      "Test acc: 0.70926243567753\n"
     ]
    },
    {
     "name": "stderr",
     "output_type": "stream",
     "text": [
      "C:\\Users\\yeril\\AppData\\Local\\Packages\\PythonSoftwareFoundation.Python.3.10_qbz5n2kfra8p0\\LocalCache\\local-packages\\Python310\\site-packages\\sklearn\\metrics\\_classification.py:1334: UndefinedMetricWarning: Precision is ill-defined and being set to 0.0 in labels with no predicted samples. Use `zero_division` parameter to control this behavior.\n",
      "  _warn_prf(average, modifier, msg_start, len(result))\n"
     ]
    },
    {
     "name": "stdout",
     "output_type": "stream",
     "text": [
      "Test precision: 0.636446098382022\n"
     ]
    },
    {
     "name": "stderr",
     "output_type": "stream",
     "text": [
      "C:\\Users\\yeril\\AppData\\Local\\Packages\\PythonSoftwareFoundation.Python.3.10_qbz5n2kfra8p0\\LocalCache\\local-packages\\Python310\\site-packages\\sklearn\\metrics\\_classification.py:1334: UndefinedMetricWarning: Recall is ill-defined and being set to 0.0 in labels with no true samples. Use `zero_division` parameter to control this behavior.\n",
      "  _warn_prf(average, modifier, msg_start, len(result))\n"
     ]
    },
    {
     "name": "stdout",
     "output_type": "stream",
     "text": [
      "Test recall: 0.70926243567753\n",
      "Test f1: 0.6477628217177082 \n",
      "\n",
      "train loss [69.99%]: 1.697\n",
      "\n",
      "validating\n"
     ]
    },
    {
     "name": "stderr",
     "output_type": "stream",
     "text": [
      "100%|████████████████████████████████████████████████████████████████████████████| 13992/13992 [05:08<00:00, 45.40it/s]\n"
     ]
    },
    {
     "name": "stdout",
     "output_type": "stream",
     "text": [
      "weighted summary:\n",
      "Test acc: 0.7342052601486564\n"
     ]
    },
    {
     "name": "stderr",
     "output_type": "stream",
     "text": [
      "C:\\Users\\yeril\\AppData\\Local\\Packages\\PythonSoftwareFoundation.Python.3.10_qbz5n2kfra8p0\\LocalCache\\local-packages\\Python310\\site-packages\\sklearn\\metrics\\_classification.py:1334: UndefinedMetricWarning: Precision is ill-defined and being set to 0.0 in labels with no predicted samples. Use `zero_division` parameter to control this behavior.\n",
      "  _warn_prf(average, modifier, msg_start, len(result))\n"
     ]
    },
    {
     "name": "stdout",
     "output_type": "stream",
     "text": [
      "Test precision: 0.6688135681049016\n"
     ]
    },
    {
     "name": "stderr",
     "output_type": "stream",
     "text": [
      "C:\\Users\\yeril\\AppData\\Local\\Packages\\PythonSoftwareFoundation.Python.3.10_qbz5n2kfra8p0\\LocalCache\\local-packages\\Python310\\site-packages\\sklearn\\metrics\\_classification.py:1334: UndefinedMetricWarning: Recall is ill-defined and being set to 0.0 in labels with no true samples. Use `zero_division` parameter to control this behavior.\n",
      "  _warn_prf(average, modifier, msg_start, len(result))\n"
     ]
    },
    {
     "name": "stdout",
     "output_type": "stream",
     "text": [
      "Test recall: 0.7342052601486564\n",
      "Test f1: 0.6804772324260278 \n",
      "\n",
      "train loss [79.99%]: 1.719\n",
      "\n",
      "validating\n"
     ]
    },
    {
     "name": "stderr",
     "output_type": "stream",
     "text": [
      "100%|████████████████████████████████████████████████████████████████████████████| 13992/13992 [05:08<00:00, 45.30it/s]\n"
     ]
    },
    {
     "name": "stdout",
     "output_type": "stream",
     "text": [
      "weighted summary:\n",
      "Test acc: 0.7489279588336192\n"
     ]
    },
    {
     "name": "stderr",
     "output_type": "stream",
     "text": [
      "C:\\Users\\yeril\\AppData\\Local\\Packages\\PythonSoftwareFoundation.Python.3.10_qbz5n2kfra8p0\\LocalCache\\local-packages\\Python310\\site-packages\\sklearn\\metrics\\_classification.py:1334: UndefinedMetricWarning: Precision is ill-defined and being set to 0.0 in labels with no predicted samples. Use `zero_division` parameter to control this behavior.\n",
      "  _warn_prf(average, modifier, msg_start, len(result))\n"
     ]
    },
    {
     "name": "stdout",
     "output_type": "stream",
     "text": [
      "Test precision: 0.6932684202436663\n"
     ]
    },
    {
     "name": "stderr",
     "output_type": "stream",
     "text": [
      "C:\\Users\\yeril\\AppData\\Local\\Packages\\PythonSoftwareFoundation.Python.3.10_qbz5n2kfra8p0\\LocalCache\\local-packages\\Python310\\site-packages\\sklearn\\metrics\\_classification.py:1334: UndefinedMetricWarning: Recall is ill-defined and being set to 0.0 in labels with no true samples. Use `zero_division` parameter to control this behavior.\n",
      "  _warn_prf(average, modifier, msg_start, len(result))\n"
     ]
    },
    {
     "name": "stdout",
     "output_type": "stream",
     "text": [
      "Test recall: 0.7489279588336192\n",
      "Test f1: 0.7007546796797242 \n",
      "\n",
      "train loss [89.99%]: 1.612\n",
      "\n",
      "validating\n"
     ]
    },
    {
     "name": "stderr",
     "output_type": "stream",
     "text": [
      "100%|████████████████████████████████████████████████████████████████████████████| 13992/13992 [05:08<00:00, 45.31it/s]\n"
     ]
    },
    {
     "name": "stdout",
     "output_type": "stream",
     "text": [
      "weighted summary:\n",
      "Test acc: 0.7489994282447112\n"
     ]
    },
    {
     "name": "stderr",
     "output_type": "stream",
     "text": [
      "C:\\Users\\yeril\\AppData\\Local\\Packages\\PythonSoftwareFoundation.Python.3.10_qbz5n2kfra8p0\\LocalCache\\local-packages\\Python310\\site-packages\\sklearn\\metrics\\_classification.py:1334: UndefinedMetricWarning: Precision is ill-defined and being set to 0.0 in labels with no predicted samples. Use `zero_division` parameter to control this behavior.\n",
      "  _warn_prf(average, modifier, msg_start, len(result))\n"
     ]
    },
    {
     "name": "stdout",
     "output_type": "stream",
     "text": [
      "Test precision: 0.6771969626142751\n"
     ]
    },
    {
     "name": "stderr",
     "output_type": "stream",
     "text": [
      "C:\\Users\\yeril\\AppData\\Local\\Packages\\PythonSoftwareFoundation.Python.3.10_qbz5n2kfra8p0\\LocalCache\\local-packages\\Python310\\site-packages\\sklearn\\metrics\\_classification.py:1334: UndefinedMetricWarning: Recall is ill-defined and being set to 0.0 in labels with no true samples. Use `zero_division` parameter to control this behavior.\n",
      "  _warn_prf(average, modifier, msg_start, len(result))\n"
     ]
    },
    {
     "name": "stdout",
     "output_type": "stream",
     "text": [
      "Test recall: 0.7489994282447112\n",
      "Test f1: 0.6957436629571078 \n",
      "\n",
      "train loss [99.99%]: 1.587\n",
      "\n",
      "validating\n"
     ]
    },
    {
     "name": "stderr",
     "output_type": "stream",
     "text": [
      "100%|████████████████████████████████████████████████████████████████████████████| 13992/13992 [05:08<00:00, 45.34it/s]\n"
     ]
    },
    {
     "name": "stdout",
     "output_type": "stream",
     "text": [
      "weighted summary:\n",
      "Test acc: 0.759576901086335\n"
     ]
    },
    {
     "name": "stderr",
     "output_type": "stream",
     "text": [
      "C:\\Users\\yeril\\AppData\\Local\\Packages\\PythonSoftwareFoundation.Python.3.10_qbz5n2kfra8p0\\LocalCache\\local-packages\\Python310\\site-packages\\sklearn\\metrics\\_classification.py:1334: UndefinedMetricWarning: Precision is ill-defined and being set to 0.0 in labels with no predicted samples. Use `zero_division` parameter to control this behavior.\n",
      "  _warn_prf(average, modifier, msg_start, len(result))\n"
     ]
    },
    {
     "name": "stdout",
     "output_type": "stream",
     "text": [
      "Test precision: 0.7123365187763019\n"
     ]
    },
    {
     "name": "stderr",
     "output_type": "stream",
     "text": [
      "C:\\Users\\yeril\\AppData\\Local\\Packages\\PythonSoftwareFoundation.Python.3.10_qbz5n2kfra8p0\\LocalCache\\local-packages\\Python310\\site-packages\\sklearn\\metrics\\_classification.py:1334: UndefinedMetricWarning: Recall is ill-defined and being set to 0.0 in labels with no true samples. Use `zero_division` parameter to control this behavior.\n",
      "  _warn_prf(average, modifier, msg_start, len(result))\n"
     ]
    },
    {
     "name": "stdout",
     "output_type": "stream",
     "text": [
      "Test recall: 0.759576901086335\n",
      "Test f1: 0.7170515659517903 \n",
      "\n",
      "---------------------------------------- \n",
      "epoch 3\n",
      "train loss [10.00%]: 1.478\n",
      "\n",
      "validating\n"
     ]
    },
    {
     "name": "stderr",
     "output_type": "stream",
     "text": [
      "100%|████████████████████████████████████████████████████████████████████████████| 13992/13992 [05:08<00:00, 45.33it/s]\n"
     ]
    },
    {
     "name": "stdout",
     "output_type": "stream",
     "text": [
      "weighted summary:\n",
      "Test acc: 0.7702973127501429\n"
     ]
    },
    {
     "name": "stderr",
     "output_type": "stream",
     "text": [
      "C:\\Users\\yeril\\AppData\\Local\\Packages\\PythonSoftwareFoundation.Python.3.10_qbz5n2kfra8p0\\LocalCache\\local-packages\\Python310\\site-packages\\sklearn\\metrics\\_classification.py:1334: UndefinedMetricWarning: Precision is ill-defined and being set to 0.0 in labels with no predicted samples. Use `zero_division` parameter to control this behavior.\n",
      "  _warn_prf(average, modifier, msg_start, len(result))\n"
     ]
    },
    {
     "name": "stdout",
     "output_type": "stream",
     "text": [
      "Test precision: 0.7233832439564167\n"
     ]
    },
    {
     "name": "stderr",
     "output_type": "stream",
     "text": [
      "C:\\Users\\yeril\\AppData\\Local\\Packages\\PythonSoftwareFoundation.Python.3.10_qbz5n2kfra8p0\\LocalCache\\local-packages\\Python310\\site-packages\\sklearn\\metrics\\_classification.py:1334: UndefinedMetricWarning: Recall is ill-defined and being set to 0.0 in labels with no true samples. Use `zero_division` parameter to control this behavior.\n",
      "  _warn_prf(average, modifier, msg_start, len(result))\n"
     ]
    },
    {
     "name": "stdout",
     "output_type": "stream",
     "text": [
      "Test recall: 0.7702973127501429\n",
      "Test f1: 0.7288040057188545 \n",
      "\n",
      "train loss [20.00%]: 1.406\n",
      "\n",
      "validating\n"
     ]
    },
    {
     "name": "stderr",
     "output_type": "stream",
     "text": [
      "100%|████████████████████████████████████████████████████████████████████████████| 13992/13992 [05:08<00:00, 45.34it/s]\n"
     ]
    },
    {
     "name": "stdout",
     "output_type": "stream",
     "text": [
      "weighted summary:\n",
      "Test acc: 0.7647226986849628\n"
     ]
    },
    {
     "name": "stderr",
     "output_type": "stream",
     "text": [
      "C:\\Users\\yeril\\AppData\\Local\\Packages\\PythonSoftwareFoundation.Python.3.10_qbz5n2kfra8p0\\LocalCache\\local-packages\\Python310\\site-packages\\sklearn\\metrics\\_classification.py:1334: UndefinedMetricWarning: Precision is ill-defined and being set to 0.0 in labels with no predicted samples. Use `zero_division` parameter to control this behavior.\n",
      "  _warn_prf(average, modifier, msg_start, len(result))\n"
     ]
    },
    {
     "name": "stdout",
     "output_type": "stream",
     "text": [
      "Test precision: 0.69969846474947\n"
     ]
    },
    {
     "name": "stderr",
     "output_type": "stream",
     "text": [
      "C:\\Users\\yeril\\AppData\\Local\\Packages\\PythonSoftwareFoundation.Python.3.10_qbz5n2kfra8p0\\LocalCache\\local-packages\\Python310\\site-packages\\sklearn\\metrics\\_classification.py:1334: UndefinedMetricWarning: Recall is ill-defined and being set to 0.0 in labels with no true samples. Use `zero_division` parameter to control this behavior.\n",
      "  _warn_prf(average, modifier, msg_start, len(result))\n"
     ]
    },
    {
     "name": "stdout",
     "output_type": "stream",
     "text": [
      "Test recall: 0.7647226986849628\n",
      "Test f1: 0.7167172545453142 \n",
      "\n",
      "train loss [29.99%]: 1.450\n",
      "\n",
      "validating\n"
     ]
    },
    {
     "name": "stderr",
     "output_type": "stream",
     "text": [
      "100%|████████████████████████████████████████████████████████████████████████████| 13992/13992 [05:09<00:00, 45.26it/s]\n"
     ]
    },
    {
     "name": "stdout",
     "output_type": "stream",
     "text": [
      "weighted summary:\n",
      "Test acc: 0.7746569468267581\n"
     ]
    },
    {
     "name": "stderr",
     "output_type": "stream",
     "text": [
      "C:\\Users\\yeril\\AppData\\Local\\Packages\\PythonSoftwareFoundation.Python.3.10_qbz5n2kfra8p0\\LocalCache\\local-packages\\Python310\\site-packages\\sklearn\\metrics\\_classification.py:1334: UndefinedMetricWarning: Precision is ill-defined and being set to 0.0 in labels with no predicted samples. Use `zero_division` parameter to control this behavior.\n",
      "  _warn_prf(average, modifier, msg_start, len(result))\n"
     ]
    },
    {
     "name": "stdout",
     "output_type": "stream",
     "text": [
      "Test precision: 0.7166419837025818\n"
     ]
    },
    {
     "name": "stderr",
     "output_type": "stream",
     "text": [
      "C:\\Users\\yeril\\AppData\\Local\\Packages\\PythonSoftwareFoundation.Python.3.10_qbz5n2kfra8p0\\LocalCache\\local-packages\\Python310\\site-packages\\sklearn\\metrics\\_classification.py:1334: UndefinedMetricWarning: Recall is ill-defined and being set to 0.0 in labels with no true samples. Use `zero_division` parameter to control this behavior.\n",
      "  _warn_prf(average, modifier, msg_start, len(result))\n"
     ]
    },
    {
     "name": "stdout",
     "output_type": "stream",
     "text": [
      "Test recall: 0.7746569468267581\n",
      "Test f1: 0.7271268148244475 \n",
      "\n",
      "train loss [39.99%]: 1.343\n",
      "\n",
      "validating\n"
     ]
    },
    {
     "name": "stderr",
     "output_type": "stream",
     "text": [
      "100%|████████████████████████████████████████████████████████████████████████████| 13992/13992 [05:08<00:00, 45.31it/s]\n"
     ]
    },
    {
     "name": "stdout",
     "output_type": "stream",
     "text": [
      "weighted summary:\n",
      "Test acc: 0.7870211549456833\n"
     ]
    },
    {
     "name": "stderr",
     "output_type": "stream",
     "text": [
      "C:\\Users\\yeril\\AppData\\Local\\Packages\\PythonSoftwareFoundation.Python.3.10_qbz5n2kfra8p0\\LocalCache\\local-packages\\Python310\\site-packages\\sklearn\\metrics\\_classification.py:1334: UndefinedMetricWarning: Precision is ill-defined and being set to 0.0 in labels with no predicted samples. Use `zero_division` parameter to control this behavior.\n",
      "  _warn_prf(average, modifier, msg_start, len(result))\n"
     ]
    },
    {
     "name": "stdout",
     "output_type": "stream",
     "text": [
      "Test precision: 0.7332057325930423\n"
     ]
    },
    {
     "name": "stderr",
     "output_type": "stream",
     "text": [
      "C:\\Users\\yeril\\AppData\\Local\\Packages\\PythonSoftwareFoundation.Python.3.10_qbz5n2kfra8p0\\LocalCache\\local-packages\\Python310\\site-packages\\sklearn\\metrics\\_classification.py:1334: UndefinedMetricWarning: Recall is ill-defined and being set to 0.0 in labels with no true samples. Use `zero_division` parameter to control this behavior.\n",
      "  _warn_prf(average, modifier, msg_start, len(result))\n"
     ]
    },
    {
     "name": "stdout",
     "output_type": "stream",
     "text": [
      "Test recall: 0.7870211549456833\n",
      "Test f1: 0.7438501882979971 \n",
      "\n",
      "train loss [49.99%]: 1.343\n",
      "\n",
      "validating\n"
     ]
    },
    {
     "name": "stderr",
     "output_type": "stream",
     "text": [
      "100%|████████████████████████████████████████████████████████████████████████████| 13992/13992 [05:08<00:00, 45.30it/s]\n"
     ]
    },
    {
     "name": "stdout",
     "output_type": "stream",
     "text": [
      "weighted summary:\n",
      "Test acc: 0.7905946255002859\n"
     ]
    },
    {
     "name": "stderr",
     "output_type": "stream",
     "text": [
      "C:\\Users\\yeril\\AppData\\Local\\Packages\\PythonSoftwareFoundation.Python.3.10_qbz5n2kfra8p0\\LocalCache\\local-packages\\Python310\\site-packages\\sklearn\\metrics\\_classification.py:1334: UndefinedMetricWarning: Precision is ill-defined and being set to 0.0 in labels with no predicted samples. Use `zero_division` parameter to control this behavior.\n",
      "  _warn_prf(average, modifier, msg_start, len(result))\n"
     ]
    },
    {
     "name": "stdout",
     "output_type": "stream",
     "text": [
      "Test precision: 0.7373298539222138\n"
     ]
    },
    {
     "name": "stderr",
     "output_type": "stream",
     "text": [
      "C:\\Users\\yeril\\AppData\\Local\\Packages\\PythonSoftwareFoundation.Python.3.10_qbz5n2kfra8p0\\LocalCache\\local-packages\\Python310\\site-packages\\sklearn\\metrics\\_classification.py:1334: UndefinedMetricWarning: Recall is ill-defined and being set to 0.0 in labels with no true samples. Use `zero_division` parameter to control this behavior.\n",
      "  _warn_prf(average, modifier, msg_start, len(result))\n"
     ]
    },
    {
     "name": "stdout",
     "output_type": "stream",
     "text": [
      "Test recall: 0.7905946255002859\n",
      "Test f1: 0.7482775518343625 \n",
      "\n",
      "train loss [59.99%]: 1.356\n",
      "\n",
      "validating\n"
     ]
    },
    {
     "name": "stderr",
     "output_type": "stream",
     "text": [
      "100%|████████████████████████████████████████████████████████████████████████████| 13992/13992 [05:08<00:00, 45.30it/s]\n"
     ]
    },
    {
     "name": "stdout",
     "output_type": "stream",
     "text": [
      "weighted summary:\n",
      "Test acc: 0.8063893653516295\n"
     ]
    },
    {
     "name": "stderr",
     "output_type": "stream",
     "text": [
      "C:\\Users\\yeril\\AppData\\Local\\Packages\\PythonSoftwareFoundation.Python.3.10_qbz5n2kfra8p0\\LocalCache\\local-packages\\Python310\\site-packages\\sklearn\\metrics\\_classification.py:1334: UndefinedMetricWarning: Precision is ill-defined and being set to 0.0 in labels with no predicted samples. Use `zero_division` parameter to control this behavior.\n",
      "  _warn_prf(average, modifier, msg_start, len(result))\n"
     ]
    },
    {
     "name": "stdout",
     "output_type": "stream",
     "text": [
      "Test precision: 0.7623159097831063\n"
     ]
    },
    {
     "name": "stderr",
     "output_type": "stream",
     "text": [
      "C:\\Users\\yeril\\AppData\\Local\\Packages\\PythonSoftwareFoundation.Python.3.10_qbz5n2kfra8p0\\LocalCache\\local-packages\\Python310\\site-packages\\sklearn\\metrics\\_classification.py:1334: UndefinedMetricWarning: Recall is ill-defined and being set to 0.0 in labels with no true samples. Use `zero_division` parameter to control this behavior.\n",
      "  _warn_prf(average, modifier, msg_start, len(result))\n"
     ]
    },
    {
     "name": "stdout",
     "output_type": "stream",
     "text": [
      "Test recall: 0.8063893653516295\n",
      "Test f1: 0.7715043901930092 \n",
      "\n",
      "train loss [69.99%]: 1.306\n",
      "\n",
      "validating\n"
     ]
    },
    {
     "name": "stderr",
     "output_type": "stream",
     "text": [
      "100%|████████████████████████████████████████████████████████████████████████████| 13992/13992 [05:08<00:00, 45.32it/s]\n"
     ]
    },
    {
     "name": "stdout",
     "output_type": "stream",
     "text": [
      "weighted summary:\n",
      "Test acc: 0.8019582618639223\n"
     ]
    },
    {
     "name": "stderr",
     "output_type": "stream",
     "text": [
      "C:\\Users\\yeril\\AppData\\Local\\Packages\\PythonSoftwareFoundation.Python.3.10_qbz5n2kfra8p0\\LocalCache\\local-packages\\Python310\\site-packages\\sklearn\\metrics\\_classification.py:1334: UndefinedMetricWarning: Precision is ill-defined and being set to 0.0 in labels with no predicted samples. Use `zero_division` parameter to control this behavior.\n",
      "  _warn_prf(average, modifier, msg_start, len(result))\n"
     ]
    },
    {
     "name": "stdout",
     "output_type": "stream",
     "text": [
      "Test precision: 0.7504243697299097\n"
     ]
    },
    {
     "name": "stderr",
     "output_type": "stream",
     "text": [
      "C:\\Users\\yeril\\AppData\\Local\\Packages\\PythonSoftwareFoundation.Python.3.10_qbz5n2kfra8p0\\LocalCache\\local-packages\\Python310\\site-packages\\sklearn\\metrics\\_classification.py:1334: UndefinedMetricWarning: Recall is ill-defined and being set to 0.0 in labels with no true samples. Use `zero_division` parameter to control this behavior.\n",
      "  _warn_prf(average, modifier, msg_start, len(result))\n"
     ]
    },
    {
     "name": "stdout",
     "output_type": "stream",
     "text": [
      "Test recall: 0.8019582618639223\n",
      "Test f1: 0.7606256767648597 \n",
      "\n",
      "train loss [79.99%]: 1.230\n",
      "\n",
      "validating\n"
     ]
    },
    {
     "name": "stderr",
     "output_type": "stream",
     "text": [
      "100%|████████████████████████████████████████████████████████████████████████████| 13992/13992 [05:09<00:00, 45.27it/s]\n"
     ]
    },
    {
     "name": "stdout",
     "output_type": "stream",
     "text": [
      "weighted summary:\n",
      "Test acc: 0.8144654088050315\n"
     ]
    },
    {
     "name": "stderr",
     "output_type": "stream",
     "text": [
      "C:\\Users\\yeril\\AppData\\Local\\Packages\\PythonSoftwareFoundation.Python.3.10_qbz5n2kfra8p0\\LocalCache\\local-packages\\Python310\\site-packages\\sklearn\\metrics\\_classification.py:1334: UndefinedMetricWarning: Precision is ill-defined and being set to 0.0 in labels with no predicted samples. Use `zero_division` parameter to control this behavior.\n",
      "  _warn_prf(average, modifier, msg_start, len(result))\n"
     ]
    },
    {
     "name": "stdout",
     "output_type": "stream",
     "text": [
      "Test precision: 0.7754925125549809\n"
     ]
    },
    {
     "name": "stderr",
     "output_type": "stream",
     "text": [
      "C:\\Users\\yeril\\AppData\\Local\\Packages\\PythonSoftwareFoundation.Python.3.10_qbz5n2kfra8p0\\LocalCache\\local-packages\\Python310\\site-packages\\sklearn\\metrics\\_classification.py:1334: UndefinedMetricWarning: Recall is ill-defined and being set to 0.0 in labels with no true samples. Use `zero_division` parameter to control this behavior.\n",
      "  _warn_prf(average, modifier, msg_start, len(result))\n"
     ]
    },
    {
     "name": "stdout",
     "output_type": "stream",
     "text": [
      "Test recall: 0.8144654088050315\n",
      "Test f1: 0.7801153996074074 \n",
      "\n",
      "train loss [89.99%]: 1.254\n",
      "\n",
      "validating\n"
     ]
    },
    {
     "name": "stderr",
     "output_type": "stream",
     "text": [
      "100%|████████████████████████████████████████████████████████████████████████████| 13992/13992 [05:08<00:00, 45.28it/s]\n"
     ]
    },
    {
     "name": "stdout",
     "output_type": "stream",
     "text": [
      "weighted summary:\n",
      "Test acc: 0.8202544311034877\n"
     ]
    },
    {
     "name": "stderr",
     "output_type": "stream",
     "text": [
      "C:\\Users\\yeril\\AppData\\Local\\Packages\\PythonSoftwareFoundation.Python.3.10_qbz5n2kfra8p0\\LocalCache\\local-packages\\Python310\\site-packages\\sklearn\\metrics\\_classification.py:1334: UndefinedMetricWarning: Precision is ill-defined and being set to 0.0 in labels with no predicted samples. Use `zero_division` parameter to control this behavior.\n",
      "  _warn_prf(average, modifier, msg_start, len(result))\n"
     ]
    },
    {
     "name": "stdout",
     "output_type": "stream",
     "text": [
      "Test precision: 0.7785103736004085\n",
      "Test recall: 0.8202544311034877\n",
      "Test f1: 0.7871851103784234 \n",
      "\n",
      "train loss [99.99%]: 1.187\n",
      "\n",
      "validating\n"
     ]
    },
    {
     "name": "stderr",
     "output_type": "stream",
     "text": [
      "100%|████████████████████████████████████████████████████████████████████████████| 13992/13992 [05:08<00:00, 45.31it/s]\n"
     ]
    },
    {
     "name": "stdout",
     "output_type": "stream",
     "text": [
      "weighted summary:\n",
      "Test acc: 0.8185391652372784\n"
     ]
    },
    {
     "name": "stderr",
     "output_type": "stream",
     "text": [
      "C:\\Users\\yeril\\AppData\\Local\\Packages\\PythonSoftwareFoundation.Python.3.10_qbz5n2kfra8p0\\LocalCache\\local-packages\\Python310\\site-packages\\sklearn\\metrics\\_classification.py:1334: UndefinedMetricWarning: Precision is ill-defined and being set to 0.0 in labels with no predicted samples. Use `zero_division` parameter to control this behavior.\n",
      "  _warn_prf(average, modifier, msg_start, len(result))\n"
     ]
    },
    {
     "name": "stdout",
     "output_type": "stream",
     "text": [
      "Test precision: 0.7686567947682087\n"
     ]
    },
    {
     "name": "stderr",
     "output_type": "stream",
     "text": [
      "C:\\Users\\yeril\\AppData\\Local\\Packages\\PythonSoftwareFoundation.Python.3.10_qbz5n2kfra8p0\\LocalCache\\local-packages\\Python310\\site-packages\\sklearn\\metrics\\_classification.py:1334: UndefinedMetricWarning: Recall is ill-defined and being set to 0.0 in labels with no true samples. Use `zero_division` parameter to control this behavior.\n",
      "  _warn_prf(average, modifier, msg_start, len(result))\n"
     ]
    },
    {
     "name": "stdout",
     "output_type": "stream",
     "text": [
      "Test recall: 0.8185391652372784\n",
      "Test f1: 0.7804347667454247 \n",
      "\n",
      "---------------------------------------- \n",
      "epoch 4\n",
      "train loss [10.00%]: 1.100\n",
      "\n",
      "validating\n"
     ]
    },
    {
     "name": "stderr",
     "output_type": "stream",
     "text": [
      "100%|████████████████████████████████████████████████████████████████████████████| 13992/13992 [05:08<00:00, 45.35it/s]\n"
     ]
    },
    {
     "name": "stdout",
     "output_type": "stream",
     "text": [
      "weighted summary:\n",
      "Test acc: 0.8269010863350486\n"
     ]
    },
    {
     "name": "stderr",
     "output_type": "stream",
     "text": [
      "C:\\Users\\yeril\\AppData\\Local\\Packages\\PythonSoftwareFoundation.Python.3.10_qbz5n2kfra8p0\\LocalCache\\local-packages\\Python310\\site-packages\\sklearn\\metrics\\_classification.py:1334: UndefinedMetricWarning: Precision is ill-defined and being set to 0.0 in labels with no predicted samples. Use `zero_division` parameter to control this behavior.\n",
      "  _warn_prf(average, modifier, msg_start, len(result))\n"
     ]
    },
    {
     "name": "stdout",
     "output_type": "stream",
     "text": [
      "Test precision: 0.7842212063128352\n"
     ]
    },
    {
     "name": "stderr",
     "output_type": "stream",
     "text": [
      "C:\\Users\\yeril\\AppData\\Local\\Packages\\PythonSoftwareFoundation.Python.3.10_qbz5n2kfra8p0\\LocalCache\\local-packages\\Python310\\site-packages\\sklearn\\metrics\\_classification.py:1334: UndefinedMetricWarning: Recall is ill-defined and being set to 0.0 in labels with no true samples. Use `zero_division` parameter to control this behavior.\n",
      "  _warn_prf(average, modifier, msg_start, len(result))\n"
     ]
    },
    {
     "name": "stdout",
     "output_type": "stream",
     "text": [
      "Test recall: 0.8269010863350486\n",
      "Test f1: 0.7936222463233749 \n",
      "\n",
      "train loss [20.00%]: 1.101\n",
      "\n",
      "validating\n"
     ]
    },
    {
     "name": "stderr",
     "output_type": "stream",
     "text": [
      "100%|████████████████████████████████████████████████████████████████████████████| 13992/13992 [05:08<00:00, 45.34it/s]\n"
     ]
    },
    {
     "name": "stdout",
     "output_type": "stream",
     "text": [
      "weighted summary:\n",
      "Test acc: 0.8274013722126929\n"
     ]
    },
    {
     "name": "stderr",
     "output_type": "stream",
     "text": [
      "C:\\Users\\yeril\\AppData\\Local\\Packages\\PythonSoftwareFoundation.Python.3.10_qbz5n2kfra8p0\\LocalCache\\local-packages\\Python310\\site-packages\\sklearn\\metrics\\_classification.py:1334: UndefinedMetricWarning: Precision is ill-defined and being set to 0.0 in labels with no predicted samples. Use `zero_division` parameter to control this behavior.\n",
      "  _warn_prf(average, modifier, msg_start, len(result))\n"
     ]
    },
    {
     "name": "stdout",
     "output_type": "stream",
     "text": [
      "Test precision: 0.7764002008247242\n"
     ]
    },
    {
     "name": "stderr",
     "output_type": "stream",
     "text": [
      "C:\\Users\\yeril\\AppData\\Local\\Packages\\PythonSoftwareFoundation.Python.3.10_qbz5n2kfra8p0\\LocalCache\\local-packages\\Python310\\site-packages\\sklearn\\metrics\\_classification.py:1334: UndefinedMetricWarning: Recall is ill-defined and being set to 0.0 in labels with no true samples. Use `zero_division` parameter to control this behavior.\n",
      "  _warn_prf(average, modifier, msg_start, len(result))\n"
     ]
    },
    {
     "name": "stdout",
     "output_type": "stream",
     "text": [
      "Test recall: 0.8274013722126929\n",
      "Test f1: 0.7915343724228153 \n",
      "\n",
      "train loss [29.99%]: 1.115\n",
      "\n",
      "validating\n"
     ]
    },
    {
     "name": "stderr",
     "output_type": "stream",
     "text": [
      "100%|████████████████████████████████████████████████████████████████████████████| 13992/13992 [05:09<00:00, 45.21it/s]\n"
     ]
    },
    {
     "name": "stdout",
     "output_type": "stream",
     "text": [
      "weighted summary:\n",
      "Test acc: 0.834190966266438\n"
     ]
    },
    {
     "name": "stderr",
     "output_type": "stream",
     "text": [
      "C:\\Users\\yeril\\AppData\\Local\\Packages\\PythonSoftwareFoundation.Python.3.10_qbz5n2kfra8p0\\LocalCache\\local-packages\\Python310\\site-packages\\sklearn\\metrics\\_classification.py:1334: UndefinedMetricWarning: Precision is ill-defined and being set to 0.0 in labels with no predicted samples. Use `zero_division` parameter to control this behavior.\n",
      "  _warn_prf(average, modifier, msg_start, len(result))\n"
     ]
    },
    {
     "name": "stdout",
     "output_type": "stream",
     "text": [
      "Test precision: 0.7883000141177753\n"
     ]
    },
    {
     "name": "stderr",
     "output_type": "stream",
     "text": [
      "C:\\Users\\yeril\\AppData\\Local\\Packages\\PythonSoftwareFoundation.Python.3.10_qbz5n2kfra8p0\\LocalCache\\local-packages\\Python310\\site-packages\\sklearn\\metrics\\_classification.py:1334: UndefinedMetricWarning: Recall is ill-defined and being set to 0.0 in labels with no true samples. Use `zero_division` parameter to control this behavior.\n",
      "  _warn_prf(average, modifier, msg_start, len(result))\n"
     ]
    },
    {
     "name": "stdout",
     "output_type": "stream",
     "text": [
      "Test recall: 0.834190966266438\n",
      "Test f1: 0.8012890336015489 \n",
      "\n",
      "train loss [39.99%]: 1.044\n",
      "\n",
      "validating\n"
     ]
    },
    {
     "name": "stderr",
     "output_type": "stream",
     "text": [
      "100%|████████████████████████████████████████████████████████████████████████████| 13992/13992 [05:09<00:00, 45.20it/s]\n"
     ]
    },
    {
     "name": "stdout",
     "output_type": "stream",
     "text": [
      "weighted summary:\n",
      "Test acc: 0.8326186392224129\n"
     ]
    },
    {
     "name": "stderr",
     "output_type": "stream",
     "text": [
      "C:\\Users\\yeril\\AppData\\Local\\Packages\\PythonSoftwareFoundation.Python.3.10_qbz5n2kfra8p0\\LocalCache\\local-packages\\Python310\\site-packages\\sklearn\\metrics\\_classification.py:1334: UndefinedMetricWarning: Precision is ill-defined and being set to 0.0 in labels with no predicted samples. Use `zero_division` parameter to control this behavior.\n",
      "  _warn_prf(average, modifier, msg_start, len(result))\n"
     ]
    },
    {
     "name": "stdout",
     "output_type": "stream",
     "text": [
      "Test precision: 0.7835931257711415\n"
     ]
    },
    {
     "name": "stderr",
     "output_type": "stream",
     "text": [
      "C:\\Users\\yeril\\AppData\\Local\\Packages\\PythonSoftwareFoundation.Python.3.10_qbz5n2kfra8p0\\LocalCache\\local-packages\\Python310\\site-packages\\sklearn\\metrics\\_classification.py:1334: UndefinedMetricWarning: Recall is ill-defined and being set to 0.0 in labels with no true samples. Use `zero_division` parameter to control this behavior.\n",
      "  _warn_prf(average, modifier, msg_start, len(result))\n"
     ]
    },
    {
     "name": "stdout",
     "output_type": "stream",
     "text": [
      "Test recall: 0.8326186392224129\n",
      "Test f1: 0.7987472072074338 \n",
      "\n",
      "train loss [49.99%]: 1.045\n",
      "\n",
      "validating\n"
     ]
    },
    {
     "name": "stderr",
     "output_type": "stream",
     "text": [
      "100%|████████████████████████████████████████████████████████████████████████████| 13992/13992 [05:09<00:00, 45.27it/s]\n"
     ]
    },
    {
     "name": "stdout",
     "output_type": "stream",
     "text": [
      "weighted summary:\n",
      "Test acc: 0.8387650085763293\n"
     ]
    },
    {
     "name": "stderr",
     "output_type": "stream",
     "text": [
      "C:\\Users\\yeril\\AppData\\Local\\Packages\\PythonSoftwareFoundation.Python.3.10_qbz5n2kfra8p0\\LocalCache\\local-packages\\Python310\\site-packages\\sklearn\\metrics\\_classification.py:1334: UndefinedMetricWarning: Precision is ill-defined and being set to 0.0 in labels with no predicted samples. Use `zero_division` parameter to control this behavior.\n",
      "  _warn_prf(average, modifier, msg_start, len(result))\n"
     ]
    },
    {
     "name": "stdout",
     "output_type": "stream",
     "text": [
      "Test precision: 0.7926574517218349\n"
     ]
    },
    {
     "name": "stderr",
     "output_type": "stream",
     "text": [
      "C:\\Users\\yeril\\AppData\\Local\\Packages\\PythonSoftwareFoundation.Python.3.10_qbz5n2kfra8p0\\LocalCache\\local-packages\\Python310\\site-packages\\sklearn\\metrics\\_classification.py:1334: UndefinedMetricWarning: Recall is ill-defined and being set to 0.0 in labels with no true samples. Use `zero_division` parameter to control this behavior.\n",
      "  _warn_prf(average, modifier, msg_start, len(result))\n"
     ]
    },
    {
     "name": "stdout",
     "output_type": "stream",
     "text": [
      "Test recall: 0.8387650085763293\n",
      "Test f1: 0.8056156057620207 \n",
      "\n",
      "train loss [59.99%]: 1.007\n",
      "\n",
      "validating\n"
     ]
    },
    {
     "name": "stderr",
     "output_type": "stream",
     "text": [
      "100%|████████████████████████████████████████████████████████████████████████████| 13992/13992 [05:09<00:00, 45.17it/s]\n"
     ]
    },
    {
     "name": "stdout",
     "output_type": "stream",
     "text": [
      "weighted summary:\n",
      "Test acc: 0.8411949685534591\n"
     ]
    },
    {
     "name": "stderr",
     "output_type": "stream",
     "text": [
      "C:\\Users\\yeril\\AppData\\Local\\Packages\\PythonSoftwareFoundation.Python.3.10_qbz5n2kfra8p0\\LocalCache\\local-packages\\Python310\\site-packages\\sklearn\\metrics\\_classification.py:1334: UndefinedMetricWarning: Precision is ill-defined and being set to 0.0 in labels with no predicted samples. Use `zero_division` parameter to control this behavior.\n",
      "  _warn_prf(average, modifier, msg_start, len(result))\n"
     ]
    },
    {
     "name": "stdout",
     "output_type": "stream",
     "text": [
      "Test precision: 0.7982225549997709\n"
     ]
    },
    {
     "name": "stderr",
     "output_type": "stream",
     "text": [
      "C:\\Users\\yeril\\AppData\\Local\\Packages\\PythonSoftwareFoundation.Python.3.10_qbz5n2kfra8p0\\LocalCache\\local-packages\\Python310\\site-packages\\sklearn\\metrics\\_classification.py:1334: UndefinedMetricWarning: Recall is ill-defined and being set to 0.0 in labels with no true samples. Use `zero_division` parameter to control this behavior.\n",
      "  _warn_prf(average, modifier, msg_start, len(result))\n"
     ]
    },
    {
     "name": "stdout",
     "output_type": "stream",
     "text": [
      "Test recall: 0.8411949685534591\n",
      "Test f1: 0.8100392985498874 \n",
      "\n",
      "train loss [69.99%]: 0.981\n",
      "\n",
      "validating\n"
     ]
    },
    {
     "name": "stderr",
     "output_type": "stream",
     "text": [
      "100%|████████████████████████████████████████████████████████████████████████████| 13992/13992 [05:08<00:00, 45.28it/s]\n"
     ]
    },
    {
     "name": "stdout",
     "output_type": "stream",
     "text": [
      "weighted summary:\n",
      "Test acc: 0.84784162378502\n"
     ]
    },
    {
     "name": "stderr",
     "output_type": "stream",
     "text": [
      "C:\\Users\\yeril\\AppData\\Local\\Packages\\PythonSoftwareFoundation.Python.3.10_qbz5n2kfra8p0\\LocalCache\\local-packages\\Python310\\site-packages\\sklearn\\metrics\\_classification.py:1334: UndefinedMetricWarning: Precision is ill-defined and being set to 0.0 in labels with no predicted samples. Use `zero_division` parameter to control this behavior.\n",
      "  _warn_prf(average, modifier, msg_start, len(result))\n"
     ]
    },
    {
     "name": "stdout",
     "output_type": "stream",
     "text": [
      "Test precision: 0.8094123311740421\n"
     ]
    },
    {
     "name": "stderr",
     "output_type": "stream",
     "text": [
      "C:\\Users\\yeril\\AppData\\Local\\Packages\\PythonSoftwareFoundation.Python.3.10_qbz5n2kfra8p0\\LocalCache\\local-packages\\Python310\\site-packages\\sklearn\\metrics\\_classification.py:1334: UndefinedMetricWarning: Recall is ill-defined and being set to 0.0 in labels with no true samples. Use `zero_division` parameter to control this behavior.\n",
      "  _warn_prf(average, modifier, msg_start, len(result))\n"
     ]
    },
    {
     "name": "stdout",
     "output_type": "stream",
     "text": [
      "Test recall: 0.84784162378502\n",
      "Test f1: 0.8180223126945556 \n",
      "\n",
      "train loss [79.99%]: 1.015\n",
      "\n",
      "validating\n"
     ]
    },
    {
     "name": "stderr",
     "output_type": "stream",
     "text": [
      "100%|████████████████████████████████████████████████████████████████████████████| 13992/13992 [05:08<00:00, 45.30it/s]\n"
     ]
    },
    {
     "name": "stdout",
     "output_type": "stream",
     "text": [
      "weighted summary:\n",
      "Test acc: 0.8526300743281875\n"
     ]
    },
    {
     "name": "stderr",
     "output_type": "stream",
     "text": [
      "C:\\Users\\yeril\\AppData\\Local\\Packages\\PythonSoftwareFoundation.Python.3.10_qbz5n2kfra8p0\\LocalCache\\local-packages\\Python310\\site-packages\\sklearn\\metrics\\_classification.py:1334: UndefinedMetricWarning: Precision is ill-defined and being set to 0.0 in labels with no predicted samples. Use `zero_division` parameter to control this behavior.\n",
      "  _warn_prf(average, modifier, msg_start, len(result))\n"
     ]
    },
    {
     "name": "stdout",
     "output_type": "stream",
     "text": [
      "Test precision: 0.8115236797366043\n"
     ]
    },
    {
     "name": "stderr",
     "output_type": "stream",
     "text": [
      "C:\\Users\\yeril\\AppData\\Local\\Packages\\PythonSoftwareFoundation.Python.3.10_qbz5n2kfra8p0\\LocalCache\\local-packages\\Python310\\site-packages\\sklearn\\metrics\\_classification.py:1334: UndefinedMetricWarning: Recall is ill-defined and being set to 0.0 in labels with no true samples. Use `zero_division` parameter to control this behavior.\n",
      "  _warn_prf(average, modifier, msg_start, len(result))\n"
     ]
    },
    {
     "name": "stdout",
     "output_type": "stream",
     "text": [
      "Test recall: 0.8526300743281875\n",
      "Test f1: 0.8237153481609439 \n",
      "\n",
      "train loss [89.99%]: 0.954\n",
      "\n",
      "validating\n"
     ]
    },
    {
     "name": "stderr",
     "output_type": "stream",
     "text": [
      "100%|████████████████████████████████████████████████████████████████████████████| 13992/13992 [05:08<00:00, 45.32it/s]\n"
     ]
    },
    {
     "name": "stdout",
     "output_type": "stream",
     "text": [
      "weighted summary:\n",
      "Test acc: 0.8534877072612922\n"
     ]
    },
    {
     "name": "stderr",
     "output_type": "stream",
     "text": [
      "C:\\Users\\yeril\\AppData\\Local\\Packages\\PythonSoftwareFoundation.Python.3.10_qbz5n2kfra8p0\\LocalCache\\local-packages\\Python310\\site-packages\\sklearn\\metrics\\_classification.py:1334: UndefinedMetricWarning: Precision is ill-defined and being set to 0.0 in labels with no predicted samples. Use `zero_division` parameter to control this behavior.\n",
      "  _warn_prf(average, modifier, msg_start, len(result))\n"
     ]
    },
    {
     "name": "stdout",
     "output_type": "stream",
     "text": [
      "Test precision: 0.80884884922111\n"
     ]
    },
    {
     "name": "stderr",
     "output_type": "stream",
     "text": [
      "C:\\Users\\yeril\\AppData\\Local\\Packages\\PythonSoftwareFoundation.Python.3.10_qbz5n2kfra8p0\\LocalCache\\local-packages\\Python310\\site-packages\\sklearn\\metrics\\_classification.py:1334: UndefinedMetricWarning: Recall is ill-defined and being set to 0.0 in labels with no true samples. Use `zero_division` parameter to control this behavior.\n",
      "  _warn_prf(average, modifier, msg_start, len(result))\n"
     ]
    },
    {
     "name": "stdout",
     "output_type": "stream",
     "text": [
      "Test recall: 0.8534877072612922\n",
      "Test f1: 0.8229794408729172 \n",
      "\n",
      "train loss [99.99%]: 0.982\n",
      "\n",
      "validating\n"
     ]
    },
    {
     "name": "stderr",
     "output_type": "stream",
     "text": [
      "100%|████████████████████████████████████████████████████████████████████████████| 13992/13992 [05:08<00:00, 45.33it/s]\n"
     ]
    },
    {
     "name": "stdout",
     "output_type": "stream",
     "text": [
      "weighted summary:\n",
      "Test acc: 0.8578473413379074\n"
     ]
    },
    {
     "name": "stderr",
     "output_type": "stream",
     "text": [
      "C:\\Users\\yeril\\AppData\\Local\\Packages\\PythonSoftwareFoundation.Python.3.10_qbz5n2kfra8p0\\LocalCache\\local-packages\\Python310\\site-packages\\sklearn\\metrics\\_classification.py:1334: UndefinedMetricWarning: Precision is ill-defined and being set to 0.0 in labels with no predicted samples. Use `zero_division` parameter to control this behavior.\n",
      "  _warn_prf(average, modifier, msg_start, len(result))\n"
     ]
    },
    {
     "name": "stdout",
     "output_type": "stream",
     "text": [
      "Test precision: 0.8206222959727856\n"
     ]
    },
    {
     "name": "stderr",
     "output_type": "stream",
     "text": [
      "C:\\Users\\yeril\\AppData\\Local\\Packages\\PythonSoftwareFoundation.Python.3.10_qbz5n2kfra8p0\\LocalCache\\local-packages\\Python310\\site-packages\\sklearn\\metrics\\_classification.py:1334: UndefinedMetricWarning: Recall is ill-defined and being set to 0.0 in labels with no true samples. Use `zero_division` parameter to control this behavior.\n",
      "  _warn_prf(average, modifier, msg_start, len(result))\n"
     ]
    },
    {
     "name": "stdout",
     "output_type": "stream",
     "text": [
      "Test recall: 0.8578473413379074\n",
      "Test f1: 0.8304164994868272 \n",
      "\n"
     ]
    }
   ],
   "source": [
    "best_f1 = 0.\n",
    "show_train_loss_every_num_epoch = 0.1\n",
    "\n",
    "for epoch in range(num_epochs):\n",
    "    print(40*'-', '\\nepoch', epoch+1)\n",
    "    model.train()\n",
    "    losses = []\n",
    "\n",
    "    for i, batch in enumerate(train_dataloader):\n",
    "        model.train()\n",
    "        batch = {k: v.to(device) for k, v in batch.items()}\n",
    "        outputs = model(**batch)\n",
    "        loss = outputs.loss\n",
    "        loss.backward()\n",
    "        optimizer.step()\n",
    "        lr_scheduler.step()\n",
    "        optimizer.zero_grad()\n",
    "        losses.append(loss.item())\n",
    "\n",
    "        if i%int(len(train_dataloader)*show_train_loss_every_num_epoch)==int(len(train_dataloader)*show_train_loss_every_num_epoch)-1:\n",
    "            print(f'train loss [{i*100/len(train_dataloader):.2f}%]: {np.array(losses).mean():.3f}')\n",
    "            losses = []\n",
    "            print('\\nvalidating')\n",
    "\n",
    "            f1 = load_metric('f1')\n",
    "            acc = load_metric('accuracy')\n",
    "            precision = load_metric('precision')\n",
    "            recall = load_metric('recall')\n",
    "            with torch.no_grad():\n",
    "                model.eval()\n",
    "                \n",
    "                for batch in tqdm(test_dataloader):\n",
    "                    batch = {k: v.to(device) for k, v in batch.items()}\n",
    "                    with torch.no_grad():\n",
    "                        outputs = model(**batch)\n",
    "                    logits = outputs.logits\n",
    "                    predictions = torch.argmax(logits, dim=-1)\n",
    "                    f1.add_batch(predictions=predictions, references=batch[\"labels\"])    \n",
    "                    acc.add_batch(predictions=predictions, references=batch[\"labels\"])    \n",
    "                    precision.add_batch(predictions=predictions, references=batch[\"labels\"])    \n",
    "                    recall.add_batch(predictions=predictions, references=batch[\"labels\"])    \n",
    "\n",
    "                print('weighted summary:')\n",
    "                print('Test acc:', acc.compute()['accuracy'])\n",
    "                print('Test precision:', precision.compute(average = 'weighted')['precision'])\n",
    "                print('Test recall:', recall.compute(average = 'weighted')['recall'])\n",
    "                f1_weighted = f1.compute(average = 'weighted')['f1']\n",
    "                print('Test f1:', f1_weighted, '\\n')\n",
    "\n",
    "                if f1_weighted > best_f1:\n",
    "                    best_f1 = f1_weighted\n",
    "                    model.save_pretrained(f\"best_model_f1_max={best_f1}_len=100\")\n",
    "\n",
    "    model.train()"
   ]
  },
  {
   "cell_type": "code",
   "execution_count": 26,
   "id": "8404d0ad",
   "metadata": {},
   "outputs": [
    {
     "name": "stderr",
     "output_type": "stream",
     "text": [
      "100%|████████████████████████████████████████████████████████████████████████████| 13992/13992 [04:41<00:00, 49.71it/s]\n",
      "C:\\Users\\yeril\\AppData\\Local\\Packages\\PythonSoftwareFoundation.Python.3.10_qbz5n2kfra8p0\\LocalCache\\local-packages\\Python310\\site-packages\\sklearn\\metrics\\_classification.py:1334: UndefinedMetricWarning: Precision and F-score are ill-defined and being set to 0.0 in labels with no predicted samples. Use `zero_division` parameter to control this behavior.\n",
      "  _warn_prf(average, modifier, msg_start, len(result))\n",
      "C:\\Users\\yeril\\AppData\\Local\\Packages\\PythonSoftwareFoundation.Python.3.10_qbz5n2kfra8p0\\LocalCache\\local-packages\\Python310\\site-packages\\sklearn\\metrics\\_classification.py:1334: UndefinedMetricWarning: Recall and F-score are ill-defined and being set to 0.0 in labels with no true samples. Use `zero_division` parameter to control this behavior.\n",
      "  _warn_prf(average, modifier, msg_start, len(result))\n",
      "C:\\Users\\yeril\\AppData\\Local\\Packages\\PythonSoftwareFoundation.Python.3.10_qbz5n2kfra8p0\\LocalCache\\local-packages\\Python310\\site-packages\\sklearn\\metrics\\_classification.py:1334: UndefinedMetricWarning: Precision and F-score are ill-defined and being set to 0.0 in labels with no predicted samples. Use `zero_division` parameter to control this behavior.\n",
      "  _warn_prf(average, modifier, msg_start, len(result))\n",
      "C:\\Users\\yeril\\AppData\\Local\\Packages\\PythonSoftwareFoundation.Python.3.10_qbz5n2kfra8p0\\LocalCache\\local-packages\\Python310\\site-packages\\sklearn\\metrics\\_classification.py:1334: UndefinedMetricWarning: Recall and F-score are ill-defined and being set to 0.0 in labels with no true samples. Use `zero_division` parameter to control this behavior.\n",
      "  _warn_prf(average, modifier, msg_start, len(result))\n"
     ]
    },
    {
     "name": "stdout",
     "output_type": "stream",
     "text": [
      "              precision    recall  f1-score   support\n",
      "\n",
      "        0304       0.00      0.00      0.00         1\n",
      "        0305       0.00      0.00      0.00         2\n",
      "        0604       0.00      0.00      0.00         1\n",
      "        0701       0.83      1.00      0.91         5\n",
      "        0711       0.00      0.00      0.00         2\n",
      "        0801       0.00      0.00      0.00         2\n",
      "        0802       0.00      0.00      0.00         1\n",
      "        0803       0.77      1.00      0.87        23\n",
      "        0804       0.86      1.00      0.92         6\n",
      "        0805       0.88      0.95      0.91        22\n",
      "        0806       0.00      0.00      0.00         1\n",
      "        0808       0.79      1.00      0.88        22\n",
      "        0813       0.00      0.00      0.00         1\n",
      "        0830       0.00      0.00      0.00         1\n",
      "        0902       0.00      0.00      0.00         4\n",
      "        1012       0.00      0.00      0.00         1\n",
      "        1018       0.00      0.00      0.00         1\n",
      "        1202       1.00      0.25      0.40         4\n",
      "        1207       0.00      0.00      0.00         4\n",
      "        1301       0.00      0.00      0.00         1\n",
      "        1302       0.00      0.00      0.00         1\n",
      "        1401       0.00      0.00      0.00         1\n",
      "        1515       0.00      0.00      0.00         1\n",
      "        1518       0.00      0.00      0.00         1\n",
      "        1704       1.00      0.99      1.00       102\n",
      "        1905       0.79      1.00      0.88        15\n",
      "        2001       0.00      0.00      0.00         2\n",
      "        2003       0.62      1.00      0.77        23\n",
      "        2006       0.00      0.00      0.00         1\n",
      "        2007       0.00      0.00      0.00         5\n",
      "        2008       0.00      0.00      0.00         1\n",
      "        2101       0.00      0.00      0.00         1\n",
      "        2105       0.00      0.00      0.00         4\n",
      "        2106       0.29      0.86      0.43         7\n",
      "        2202       0.00      0.00      0.00         4\n",
      "        2203       0.00      0.00      0.00         1\n",
      "        2517       0.00      0.00      0.00         1\n",
      "        2519       0.00      0.00      0.00         1\n",
      "        2710       0.88      0.70      0.78        10\n",
      "        2804       0.00      0.00      0.00         0\n",
      "        2821       1.00      1.00      1.00         2\n",
      "        2830       0.00      0.00      0.00         1\n",
      "        2835       0.00      0.00      0.00         1\n",
      "        2842       0.00      0.00      0.00         1\n",
      "        2905       0.00      0.00      0.00         1\n",
      "        2907       0.00      0.00      0.00         1\n",
      "        2909       0.00      0.00      0.00         1\n",
      "        2912       0.00      0.00      0.00         1\n",
      "        2914       0.00      0.00      0.00         1\n",
      "        2917       0.00      0.00      0.00         1\n",
      "        2918       0.00      0.00      0.00         6\n",
      "        2921       0.00      0.00      0.00         2\n",
      "        2922       0.00      0.00      0.00         2\n",
      "        2924       0.00      0.00      0.00         3\n",
      "        2930       0.00      0.00      0.00         2\n",
      "        2932       0.00      0.00      0.00         3\n",
      "        2933       0.16      0.67      0.26         9\n",
      "        2934       0.00      0.00      0.00         7\n",
      "        2935       0.00      0.00      0.00         2\n",
      "        2936       0.00      0.00      0.00         1\n",
      "        2939       0.00      0.00      0.00         1\n",
      "        2941       0.00      0.00      0.00         4\n",
      "        3005       0.76      1.00      0.86        22\n",
      "        3204       0.00      0.00      0.00         4\n",
      "        3206       0.00      0.00      0.00         3\n",
      "        3209       0.00      0.00      0.00         1\n",
      "        3213       1.00      1.00      1.00         3\n",
      "        3214       0.00      0.00      0.00         6\n",
      "        3215       0.00      0.00      0.00         1\n",
      "        3304       0.66      1.00      0.79        50\n",
      "        3305       0.00      0.00      0.00         1\n",
      "        3306       1.00      0.75      0.86         8\n",
      "        3307       0.00      0.00      0.00         4\n",
      "        3401       0.00      0.00      0.00         2\n",
      "        3402       0.00      0.00      0.00        12\n",
      "        3403       0.00      0.00      0.00         1\n",
      "        3404       0.00      0.00      0.00         3\n",
      "        3406       0.00      0.00      0.00         1\n",
      "        3407       0.88      0.96      0.92        24\n",
      "        3506       0.39      0.78      0.52         9\n",
      "        3801       0.00      0.00      0.00         1\n",
      "        3802       0.00      0.00      0.00         1\n",
      "        3808       0.92      0.65      0.76        17\n",
      "        3816       0.00      0.00      0.00         2\n",
      "        3822       0.00      0.00      0.00         1\n",
      "        3824       0.00      0.00      0.00         9\n",
      "        3903       0.00      0.00      0.00         1\n",
      "        3904       0.00      0.00      0.00         1\n",
      "        3906       0.00      0.00      0.00         1\n",
      "        3907       0.00      0.00      0.00         3\n",
      "        3909       0.00      0.00      0.00         3\n",
      "        3910       0.00      0.00      0.00         1\n",
      "        3911       0.00      0.00      0.00         1\n",
      "        3912       0.00      0.00      0.00         2\n",
      "        3916       0.88      0.85      0.87        27\n",
      "        3917       0.76      0.73      0.75        79\n",
      "        3918       0.82      0.89      0.85        35\n",
      "        3919       0.89      0.94      0.92        69\n",
      "        3920       0.47      0.73      0.58        26\n",
      "        3921       0.62      0.67      0.64        27\n",
      "        3922       0.00      0.00      0.00        14\n",
      "        3923       0.59      0.65      0.62        31\n",
      "        3924       0.88      0.99      0.93       116\n",
      "        3925       0.95      0.76      0.84        25\n",
      "        3926       0.89      0.93      0.91       446\n",
      "        4008       0.67      0.44      0.53        18\n",
      "        4009       0.84      0.71      0.77        59\n",
      "        4010       0.80      0.59      0.68        27\n",
      "        4011       0.98      1.00      0.99      1988\n",
      "        4012       0.00      0.00      0.00         7\n",
      "        4013       0.89      1.00      0.94        16\n",
      "        4014       0.00      0.00      0.00         1\n",
      "        4015       0.00      0.00      0.00         5\n",
      "        4016       0.75      0.89      0.81       158\n",
      "        4201       0.00      0.00      0.00         2\n",
      "        4202       0.94      0.89      0.91        84\n",
      "        4203       0.00      0.00      0.00         1\n",
      "        4304       0.00      0.00      0.00         5\n",
      "        4408       0.00      0.00      0.00         1\n",
      "        4409       0.00      0.00      0.00         5\n",
      "        4411       0.76      1.00      0.86        22\n",
      "        4412       0.00      0.00      0.00         2\n",
      "        4418       0.54      0.78      0.64         9\n",
      "        4419       0.82      0.82      0.82        11\n",
      "        4420       0.00      0.00      0.00         7\n",
      "        4421       0.83      0.95      0.89        21\n",
      "        4504       0.00      0.00      0.00         2\n",
      "        4601       0.00      0.00      0.00         1\n",
      "        4602       0.00      0.00      0.00         5\n",
      "        4802       0.00      0.00      0.00         2\n",
      "        4806       0.00      0.00      0.00         1\n",
      "        4810       0.00      0.00      0.00         3\n",
      "        4811       0.33      0.33      0.33         6\n",
      "        4812       0.00      0.00      0.00         5\n",
      "        4817       0.00      0.00      0.00         1\n",
      "        4819       0.69      1.00      0.81        44\n",
      "        4820       0.50      0.39      0.44        18\n",
      "        4821       0.00      0.00      0.00         5\n",
      "        4823       0.00      0.00      0.00        14\n",
      "        4901       0.00      0.00      0.00         1\n",
      "        4910       0.00      0.00      0.00         1\n",
      "        4911       0.56      0.92      0.70        26\n",
      "        5007       0.00      0.00      0.00         1\n",
      "        5022       1.00      1.00      1.00         2\n",
      "        5075       0.00      0.00      0.00         1\n",
      "        5105       0.00      0.00      0.00         1\n",
      "        5204       0.00      0.00      0.00         1\n",
      "        5208       0.00      0.00      0.00         5\n",
      "        5210       0.00      0.00      0.00         1\n",
      "        5305       0.00      0.00      0.00         1\n",
      "        5310       0.00      0.00      0.00         1\n",
      "        5402       0.00      0.00      0.00         1\n",
      "        5404       0.00      0.00      0.00         4\n",
      "        5407       0.09      1.00      0.16         6\n",
      "        5508       0.00      0.00      0.00         2\n",
      "        5511       0.00      0.00      0.00         2\n",
      "        5512       0.00      0.00      0.00         3\n",
      "        5514       0.00      0.00      0.00         3\n",
      "        5601       1.00      1.00      1.00         4\n",
      "        5602       0.00      0.00      0.00         2\n",
      "        5603       0.79      0.79      0.79        14\n",
      "        5604       0.00      0.00      0.00         1\n",
      "        5607       1.00      0.87      0.93        15\n",
      "        5608       0.00      0.00      0.00         2\n",
      "        5609       0.00      0.00      0.00         6\n",
      "        5702       0.00      0.00      0.00         1\n",
      "        5703       0.00      0.00      0.00         5\n",
      "        5705       0.60      0.60      0.60         5\n",
      "        5801       0.00      0.00      0.00         1\n",
      "        5804       0.00      0.00      0.00         5\n",
      "        5806       0.00      0.00      0.00         9\n",
      "        5808       0.00      0.00      0.00         4\n",
      "        5903       0.00      0.00      0.00         3\n",
      "        5907       0.00      0.00      0.00         1\n",
      "        5911       0.00      0.00      0.00         9\n",
      "        6001       0.00      0.00      0.00         5\n",
      "        6002       0.00      0.00      0.00         1\n",
      "        6004       0.00      0.00      0.00         1\n",
      "        6102       0.00      0.00      0.00         1\n",
      "        6103       0.00      0.00      0.00         1\n",
      "        6104       0.00      0.00      0.00         3\n",
      "        6105       0.00      0.00      0.00         0\n",
      "        6107       0.00      0.00      0.00         1\n",
      "        6108       0.00      0.00      0.00         0\n",
      "        6110       0.00      0.00      0.00         1\n",
      "        6115       0.00      0.00      0.00         4\n",
      "        6116       0.00      0.00      0.00         6\n",
      "        6117       0.00      0.00      0.00         2\n",
      "        6201       0.00      0.00      0.00         4\n",
      "        6202       0.00      0.00      0.00         1\n",
      "        6203       0.00      0.00      0.00         4\n",
      "        6204       0.00      0.00      0.00         2\n",
      "        6208       0.00      0.00      0.00         1\n",
      "        6211       0.00      0.00      0.00         1\n",
      "        6212       0.00      0.00      0.00         2\n",
      "        6213       0.00      0.00      0.00         4\n",
      "        6214       0.92      1.00      0.96        22\n",
      "        6216       0.14      0.12      0.13         8\n",
      "        6217       0.00      0.00      0.00         1\n",
      "        6301       0.00      0.00      0.00         3\n",
      "        6302       0.00      0.00      0.00         6\n",
      "        6303       0.00      0.00      0.00         8\n",
      "        6304       0.00      0.00      0.00         2\n",
      "        6305       0.73      0.89      0.80         9\n",
      "        6306       0.33      0.75      0.45        20\n",
      "        6307       0.88      0.95      0.91        76\n",
      "        6308       0.00      0.00      0.00         1\n",
      "        6402       0.00      0.00      0.00         5\n",
      "        6403       0.92      1.00      0.96        12\n",
      "        6404       0.00      0.00      0.00         2\n",
      "        6406       1.00      1.00      1.00         9\n",
      "        6505       0.00      0.00      0.00        11\n",
      "        6506       0.57      1.00      0.73        16\n",
      "        6507       0.00      0.00      0.00         3\n",
      "        6601       0.46      1.00      0.63        19\n",
      "        6603       0.00      0.00      0.00         1\n",
      "        6702       0.44      1.00      0.62        12\n",
      "        6704       0.00      0.00      0.00         1\n",
      "        6802       0.71      0.94      0.81        16\n",
      "        6804       0.90      0.50      0.64        18\n",
      "        6805       0.00      0.00      0.00        12\n",
      "        6806       0.00      0.00      0.00         1\n",
      "        6810       0.00      0.00      0.00         1\n",
      "        6812       0.00      0.00      0.00        11\n",
      "        6813       0.00      0.00      0.00         4\n",
      "        6815       0.00      0.00      0.00         1\n",
      "        6901       0.00      0.00      0.00         1\n",
      "        6908       0.00      0.00      0.00         1\n",
      "        6909       0.00      0.00      0.00         1\n",
      "        6910       1.00      0.05      0.10        20\n",
      "        6912       0.96      0.90      0.93        29\n",
      "        6913       0.22      1.00      0.36         2\n",
      "        6914       0.00      0.00      0.00         1\n",
      "        7007       0.89      0.53      0.67        15\n",
      "        7009       0.99      0.93      0.96        72\n",
      "        7010       0.00      0.00      0.00        10\n",
      "        7013       0.62      0.94      0.75        16\n",
      "        7016       0.00      0.00      0.00         5\n",
      "        7017       0.00      0.00      0.00         1\n",
      "        7018       0.00      0.00      0.00         1\n",
      "        7019       0.85      1.00      0.92        86\n",
      "        7020       0.00      0.00      0.00         4\n",
      "        7117       0.80      0.89      0.84        27\n",
      "        7208       0.00      0.00      0.00         2\n",
      "        7211       0.00      0.00      0.00         1\n",
      "        7213       0.00      0.00      0.00         1\n",
      "        7216       0.00      0.00      0.00         1\n",
      "        7217       0.00      0.00      0.00         3\n",
      "        7219       0.00      0.00      0.00         1\n",
      "        7220       0.50      1.00      0.67         1\n",
      "        7228       0.00      0.00      0.00         1\n",
      "        7304       0.74      0.98      0.85        64\n",
      "        7306       0.00      0.00      0.00         9\n",
      "        7307       0.65      0.80      0.72        35\n",
      "        7308       0.85      0.85      0.85        13\n",
      "        7309       0.00      0.00      0.00         1\n",
      "        7310       0.00      0.00      0.00         9\n",
      "        7312       0.88      0.98      0.93        58\n",
      "        7314       0.00      0.00      0.00         3\n",
      "        7315       0.98      1.00      0.99        48\n",
      "        7316       0.00      0.00      0.00         1\n",
      "        7317       0.00      0.00      0.00        11\n",
      "        7318       0.96      0.98      0.97       550\n",
      "        7319       0.00      0.00      0.00         4\n",
      "        7320       0.92      0.85      0.88        27\n",
      "        7321       0.83      0.50      0.62        20\n",
      "        7322       0.00      0.00      0.00         1\n",
      "        7323       0.83      0.92      0.87        63\n",
      "        7324       0.00      0.00      0.00         9\n",
      "        7325       1.00      0.86      0.92        14\n",
      "        7326       0.92      0.91      0.92       197\n",
      "        7407       0.00      0.00      0.00         2\n",
      "        7411       0.00      0.00      0.00         2\n",
      "        7412       0.00      0.00      0.00         2\n",
      "        7415       0.00      0.00      0.00         5\n",
      "        7418       0.00      0.00      0.00         1\n",
      "        7419       1.00      0.50      0.67         4\n",
      "        7507       0.00      0.00      0.00         1\n",
      "        7604       0.83      0.88      0.86        17\n",
      "        7607       0.00      0.00      0.00         1\n",
      "        7608       0.00      0.00      0.00         3\n",
      "        7609       0.00      0.00      0.00         1\n",
      "        7610       0.00      0.00      0.00         1\n",
      "        7612       0.00      0.00      0.00         1\n",
      "        7615       0.00      0.00      0.00         6\n",
      "        7616       0.85      1.00      0.92        51\n",
      "        7907       0.00      0.00      0.00         3\n",
      "        8108       0.00      0.00      0.00         1\n",
      "        8201       0.00      0.00      0.00        20\n",
      "        8202       0.00      0.00      0.00        13\n",
      "        8203       0.00      0.00      0.00        20\n",
      "        8204       0.74      0.86      0.79        36\n",
      "        8205       0.41      0.86      0.56        73\n",
      "        8206       0.00      0.00      0.00         8\n",
      "        8207       0.60      0.91      0.72        34\n",
      "        8208       0.00      0.00      0.00         7\n",
      "        8210       1.00      0.38      0.56        13\n",
      "        8211       0.63      1.00      0.77        17\n",
      "        8212       0.00      0.00      0.00         2\n",
      "        8213       0.95      1.00      0.97        18\n",
      "        8214       0.68      0.92      0.78        25\n",
      "        8215       1.00      0.81      0.90        16\n",
      "        8301       0.91      0.89      0.90        36\n",
      "        8302       0.94      0.93      0.94       137\n",
      "        8304       0.00      0.00      0.00         1\n",
      "        8305       0.00      0.00      0.00         8\n",
      "        8306       0.00      0.00      0.00         5\n",
      "        8307       1.00      0.50      0.67         2\n",
      "        8308       1.00      0.45      0.62        11\n",
      "        8309       0.00      0.00      0.00         5\n",
      "        8311       0.00      0.00      0.00         6\n",
      "        8407       0.00      0.00      0.00        11\n",
      "        8408       0.00      0.00      0.00         5\n",
      "        8409       0.51      0.45      0.48        58\n",
      "        8412       0.74      0.87      0.80        39\n",
      "        8413       0.85      0.89      0.87        71\n",
      "        8414       0.87      0.96      0.91        71\n",
      "        8415       0.60      0.60      0.60         5\n",
      "        8416       0.00      0.00      0.00         1\n",
      "        8417       0.00      0.00      0.00         3\n",
      "        8418       0.00      0.00      0.00         2\n",
      "        8419       0.00      0.00      0.00        12\n",
      "        8421       0.76      0.81      0.79       132\n",
      "        8422       0.00      0.00      0.00         7\n",
      "        8423       0.90      1.00      0.95        36\n",
      "        8424       0.58      0.76      0.66        29\n",
      "        8425       0.85      1.00      0.92        17\n",
      "        8426       1.00      1.00      1.00         9\n",
      "        8427       0.00      0.00      0.00         3\n",
      "        8428       1.00      0.18      0.31        11\n",
      "        8430       0.00      0.00      0.00         2\n",
      "        8431       0.00      0.00      0.00        15\n",
      "        8432       0.00      0.00      0.00         2\n",
      "        8441       0.00      0.00      0.00         2\n",
      "        8443       0.00      0.00      0.00         6\n",
      "        8446       0.00      0.00      0.00         1\n",
      "        8447       0.00      0.00      0.00         1\n",
      "        8451       0.00      0.00      0.00         3\n",
      "        8452       0.00      0.00      0.00        12\n",
      "        8453       0.00      0.00      0.00         1\n",
      "        8454       0.00      0.00      0.00         3\n",
      "        8455       0.00      0.00      0.00         1\n",
      "        8461       0.00      0.00      0.00         2\n",
      "        8462       0.62      0.73      0.67        11\n",
      "        8463       0.00      0.00      0.00         0\n",
      "        8464       0.00      0.00      0.00         3\n",
      "        8465       0.00      0.00      0.00         7\n",
      "        8466       0.00      0.00      0.00         9\n",
      "        8467       0.00      0.00      0.00        43\n",
      "        8468       0.00      0.00      0.00         3\n",
      "        8470       1.00      0.70      0.82        10\n",
      "        8471       0.88      0.91      0.89        56\n",
      "        8472       0.00      0.00      0.00         1\n",
      "        8473       0.00      0.00      0.00         3\n",
      "        8474       0.42      0.88      0.57        25\n",
      "        8477       0.54      0.78      0.64        27\n",
      "        8479       0.68      0.54      0.60        39\n",
      "        8480       0.50      0.25      0.33         4\n",
      "        8481       0.87      0.88      0.87       128\n",
      "        8482       0.93      0.86      0.89        63\n",
      "        8483       0.78      0.86      0.82       148\n",
      "        8484       0.95      0.51      0.67        39\n",
      "        8487       0.00      0.00      0.00         6\n",
      "        8501       0.78      0.86      0.82        87\n",
      "        8502       0.00      0.00      0.00         9\n",
      "        8503       0.00      0.00      0.00         4\n",
      "        8504       0.65      0.93      0.77        80\n",
      "        8505       0.61      1.00      0.76        14\n",
      "        8506       0.93      1.00      0.96        26\n",
      "        8507       1.00      0.44      0.62         9\n",
      "        8508       0.94      1.00      0.97        16\n",
      "        8509       0.84      0.84      0.84        31\n",
      "        8510       0.76      0.67      0.71        24\n",
      "        8511       0.42      0.84      0.56        38\n",
      "        8512       0.92      0.92      0.92       181\n",
      "        8513       1.00      1.00      1.00        71\n",
      "        8515       0.34      0.75      0.47        20\n",
      "        8516       0.74      0.96      0.84       112\n",
      "        8517       1.00      0.07      0.13        14\n",
      "        8518       0.81      0.92      0.86        38\n",
      "        8519       0.00      0.00      0.00         3\n",
      "        8521       0.00      0.00      0.00         6\n",
      "        8523       0.67      0.50      0.57        12\n",
      "        8524       0.00      0.00      0.00         1\n",
      "        8525       0.83      0.94      0.88        32\n",
      "        8526       0.00      0.00      0.00         9\n",
      "        8527       0.30      0.83      0.44        24\n",
      "        8528       0.00      0.00      0.00        11\n",
      "        8529       0.00      0.00      0.00        13\n",
      "        8531       1.00      0.10      0.18        10\n",
      "        8532       0.00      0.00      0.00         1\n",
      "        8533       0.00      0.00      0.00         4\n",
      "        8534       0.00      0.00      0.00         3\n",
      "        8536       0.86      0.87      0.87       162\n",
      "        8537       1.00      0.38      0.55        34\n",
      "        8538       0.25      0.06      0.10        16\n",
      "        8539       0.93      0.97      0.95        92\n",
      "        8540       0.00      0.00      0.00         1\n",
      "        8541       0.75      0.30      0.43        10\n",
      "        8542       0.00      0.00      0.00         1\n",
      "        8543       1.00      0.43      0.60        28\n",
      "        8544       0.98      0.95      0.97       117\n",
      "        8545       0.78      0.50      0.61        14\n",
      "        8547       0.00      0.00      0.00         2\n",
      "        8609       0.03      0.25      0.05         4\n",
      "        8708       0.85      0.99      0.91      1203\n",
      "        8711       0.00      0.00      0.00         8\n",
      "        8712       0.78      0.93      0.85        15\n",
      "        8714       0.97      0.95      0.96       171\n",
      "        8715       0.00      0.00      0.00         1\n",
      "        8716       1.00      0.15      0.26        20\n",
      "        8802       0.00      0.00      0.00         2\n",
      "        8903       1.00      0.86      0.92         7\n",
      "        9001       0.00      0.00      0.00         2\n",
      "        9004       0.91      0.71      0.80        14\n",
      "        9005       0.89      1.00      0.94        24\n",
      "        9011       1.00      0.78      0.88         9\n",
      "        9013       0.00      0.00      0.00         6\n",
      "        9014       0.00      0.00      0.00         3\n",
      "        9015       0.00      0.00      0.00         1\n",
      "        9016       0.00      0.00      0.00         2\n",
      "        9017       0.83      0.60      0.70        25\n",
      "        9018       0.93      0.98      0.95        52\n",
      "        9019       0.00      0.00      0.00         9\n",
      "        9020       0.00      0.00      0.00         3\n",
      "        9022       0.00      0.00      0.00         7\n",
      "        9023       0.00      0.00      0.00         3\n",
      "        9024       0.00      0.00      0.00         1\n",
      "        9025       0.24      0.89      0.38        18\n",
      "        9026       0.17      0.08      0.11        13\n",
      "        9027       0.00      0.00      0.00         8\n",
      "        9029       1.00      0.11      0.19        19\n",
      "        9030       0.00      0.00      0.00         6\n",
      "        9031       0.00      0.00      0.00        25\n",
      "        9032       0.00      0.00      0.00        12\n",
      "        9033       0.00      0.00      0.00         3\n",
      "        9102       0.00      0.00      0.00         2\n",
      "        9105       1.00      0.22      0.36         9\n",
      "        9107       0.00      0.00      0.00         1\n",
      "        9113       0.00      0.00      0.00         5\n",
      "        9207       0.81      1.00      0.89        34\n",
      "        9208       0.00      0.00      0.00         2\n",
      "        9304       0.00      0.00      0.00         1\n",
      "        9305       0.00      0.00      0.00         1\n",
      "        9401       0.95      0.98      0.96       112\n",
      "        9403       0.98      0.98      0.98        87\n",
      "        9404       0.00      0.00      0.00        13\n",
      "        9405       0.97      0.99      0.98       334\n",
      "        9406       0.00      0.00      0.00         4\n",
      "        9503       0.98      0.99      0.99      1934\n",
      "        9504       0.96      0.98      0.97       133\n",
      "        9505       0.81      0.93      0.87        42\n",
      "        9506       0.95      0.97      0.96       195\n",
      "        9507       1.00      0.84      0.91        19\n",
      "        9508       0.00      0.00      0.00         1\n",
      "        9602       0.00      0.00      0.00         1\n",
      "        9603       0.89      0.97      0.93        94\n",
      "        9604       1.00      0.83      0.91         6\n",
      "        9607       0.00      0.00      0.00         5\n",
      "        9608       0.70      0.89      0.78        35\n",
      "        9609       0.93      0.93      0.93        27\n",
      "        9610       0.87      0.87      0.87        15\n",
      "        9613       0.00      0.00      0.00         3\n",
      "        9614       0.00      0.00      0.00         1\n",
      "        9615       1.00      0.84      0.91        19\n",
      "        9616       1.00      0.14      0.25         7\n",
      "        9617       0.75      0.94      0.83        16\n",
      "        9618       0.00      0.00      0.00         3\n",
      "        9619       0.00      0.00      0.00         2\n",
      "        9620       0.00      0.00      0.00         4\n",
      "\n",
      "    accuracy                           0.86     13992\n",
      "   macro avg       0.30      0.30      0.28     13992\n",
      "weighted avg       0.82      0.86      0.83     13992\n",
      "\n"
     ]
    },
    {
     "name": "stderr",
     "output_type": "stream",
     "text": [
      "C:\\Users\\yeril\\AppData\\Local\\Packages\\PythonSoftwareFoundation.Python.3.10_qbz5n2kfra8p0\\LocalCache\\local-packages\\Python310\\site-packages\\sklearn\\metrics\\_classification.py:1334: UndefinedMetricWarning: Precision and F-score are ill-defined and being set to 0.0 in labels with no predicted samples. Use `zero_division` parameter to control this behavior.\n",
      "  _warn_prf(average, modifier, msg_start, len(result))\n",
      "C:\\Users\\yeril\\AppData\\Local\\Packages\\PythonSoftwareFoundation.Python.3.10_qbz5n2kfra8p0\\LocalCache\\local-packages\\Python310\\site-packages\\sklearn\\metrics\\_classification.py:1334: UndefinedMetricWarning: Recall and F-score are ill-defined and being set to 0.0 in labels with no true samples. Use `zero_division` parameter to control this behavior.\n",
      "  _warn_prf(average, modifier, msg_start, len(result))\n"
     ]
    }
   ],
   "source": [
    "from sklearn import preprocessing\n",
    "from sklearn.metrics import classification_report\n",
    "Label_encoder = preprocessing.LabelEncoder()\n",
    "Label_encoder.classes_ = np.load('../../classes.npy', allow_pickle=True)\n",
    "\n",
    "true = []\n",
    "preds = []\n",
    "\n",
    "model.eval()\n",
    "for batch in tqdm(test_dataloader):\n",
    "    batch = {k: v.to(device) for k, v in batch.items()}\n",
    "    with torch.no_grad():\n",
    "        outputs = model(**batch)\n",
    "    logits = outputs.logits\n",
    "    predictions = torch.argmax(logits, dim=-1)\n",
    "    true += batch[\"labels\"].detach().cpu().numpy().tolist()\n",
    "    preds += predictions.detach().cpu().numpy().tolist()\n",
    "\n",
    "print(classification_report(Label_encoder.inverse_transform(true), Label_encoder.inverse_transform(preds)))"
   ]
  },
  {
   "cell_type": "code",
   "execution_count": 125,
   "id": "ee33c755",
   "metadata": {},
   "outputs": [],
   "source": [
    "inputs = tokenizer('двигатели бензиновые', truncation = True, max_length=100, padding='max_length', return_tensors=\"pt\")\n",
    "#batch = {k: torch.tensor(v).to(device) for k, v in txt.items()}\n",
    "model.to(torch.device('cpu'))\n",
    "with torch.no_grad():\n",
    "    logits = model(**inputs).logits\n",
    "predicted_class_id = logits.argmax().item()\n",
    "#Label_encoder.inverse_transform(predicted_class_id)\n",
    "a = []\n",
    "a.append(predicted_class_id)"
   ]
  },
  {
   "cell_type": "code",
   "execution_count": 127,
   "id": "95f5252c",
   "metadata": {},
   "outputs": [
    {
     "name": "stderr",
     "output_type": "stream",
     "text": [
      "C:\\Users\\yeril\\AppData\\Local\\Packages\\PythonSoftwareFoundation.Python.3.10_qbz5n2kfra8p0\\LocalCache\\local-packages\\Python310\\site-packages\\sklearn\\preprocessing\\_label.py:154: DataConversionWarning: A column-vector y was passed when a 1d array was expected. Please change the shape of y to (n_samples, ), for example using ravel().\n",
      "  y = column_or_1d(y, warn=True)\n"
     ]
    },
    {
     "data": {
      "text/plain": [
       "array(['8501'], dtype=object)"
      ]
     },
     "execution_count": 127,
     "metadata": {},
     "output_type": "execute_result"
    }
   ],
   "source": [
    "Label_encoder.inverse_transform([a])"
   ]
  },
  {
   "cell_type": "code",
   "execution_count": 128,
   "id": "d2efb846",
   "metadata": {},
   "outputs": [],
   "source": [
    "def predict_class(text):\n",
    "    model.to(torch.device('cpu'))\n",
    "    inputs = tokenizer(text, truncation = True, max_length=100, padding='max_length', return_tensors=\"pt\")\n",
    "    with torch.no_grad():\n",
    "        logits = model(**inputs).logits\n",
    "        predicted_class_id = logits.argmax().item()\n",
    "        return Label_encoder.inverse_transform([predicted_class_id])\n"
   ]
  },
  {
   "cell_type": "code",
   "execution_count": 131,
   "id": "2a15ea03",
   "metadata": {},
   "outputs": [
    {
     "name": "stdout",
     "output_type": "stream",
     "text": [
      "['9503']\n"
     ]
    }
   ],
   "source": [
    "print(predict_class(\"беговелы\"))"
   ]
  }
 ],
 "metadata": {
  "kernelspec": {
   "display_name": "Python 3 (ipykernel)",
   "language": "python",
   "name": "python3"
  },
  "language_info": {
   "codemirror_mode": {
    "name": "ipython",
    "version": 3
   },
   "file_extension": ".py",
   "mimetype": "text/x-python",
   "name": "python",
   "nbconvert_exporter": "python",
   "pygments_lexer": "ipython3",
   "version": "3.10.11"
  }
 },
 "nbformat": 4,
 "nbformat_minor": 5
}
