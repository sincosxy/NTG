{
 "cells": [
  {
   "cell_type": "code",
   "execution_count": 1,
   "id": "b47d3f99",
   "metadata": {},
   "outputs": [],
   "source": [
    "import torch\n",
    "import numpy as np\n",
    "import pandas as pd"
   ]
  },
  {
   "cell_type": "code",
   "execution_count": 3,
   "id": "9a72d041",
   "metadata": {},
   "outputs": [],
   "source": [
    "#!export HSA_OVERRIDE_GFX_VERSION=10.3.0"
   ]
  },
  {
   "cell_type": "code",
   "execution_count": 2,
   "id": "ca98da0f",
   "metadata": {},
   "outputs": [
    {
     "data": {
      "text/plain": [
       "device(type='cuda')"
      ]
     },
     "execution_count": 2,
     "metadata": {},
     "output_type": "execute_result"
    }
   ],
   "source": [
    "dev = torch.device(\"cuda\") if torch.cuda.is_available() else torch.device(\"cpu\")\n",
    "dev"
   ]
  },
  {
   "cell_type": "code",
   "execution_count": 3,
   "id": "4f3b167b",
   "metadata": {},
   "outputs": [
    {
     "name": "stderr",
     "output_type": "stream",
     "text": [
      "C:\\Users\\yeril\\AppData\\Local\\Packages\\PythonSoftwareFoundation.Python.3.10_qbz5n2kfra8p0\\LocalCache\\local-packages\\Python310\\site-packages\\tqdm\\auto.py:22: TqdmWarning: IProgress not found. Please update jupyter and ipywidgets. See https://ipywidgets.readthedocs.io/en/stable/user_install.html\n",
      "  from .autonotebook import tqdm as notebook_tqdm\n",
      "Some weights of the model checkpoint at cointegrated/rubert-tiny2 were not used when initializing BertModel: ['cls.predictions.transform.dense.bias', 'cls.predictions.transform.LayerNorm.weight', 'cls.predictions.transform.LayerNorm.bias', 'cls.predictions.decoder.weight', 'cls.seq_relationship.weight', 'cls.predictions.decoder.bias', 'cls.seq_relationship.bias', 'cls.predictions.bias', 'cls.predictions.transform.dense.weight']\n",
      "- This IS expected if you are initializing BertModel from the checkpoint of a model trained on another task or with another architecture (e.g. initializing a BertForSequenceClassification model from a BertForPreTraining model).\n",
      "- This IS NOT expected if you are initializing BertModel from the checkpoint of a model that you expect to be exactly identical (initializing a BertForSequenceClassification model from a BertForSequenceClassification model).\n"
     ]
    }
   ],
   "source": [
    "from transformers import AutoTokenizer, AutoModel\n",
    "tokenizer = AutoTokenizer.from_pretrained(\"cointegrated/rubert-tiny2\")\n",
    "model = AutoModel.from_pretrained(\"cointegrated/rubert-tiny2\")\n",
    "model.cuda()\n",
    "\n",
    "def get_embs(text):\n",
    "    t = tokenizer(text, padding=True, truncation=True, return_tensors='pt')\n",
    "    with torch.no_grad():\n",
    "        model_output = model(**{k: v.to(model.device) for k, v in t.items()})\n",
    "    embs = model_output.last_hidden_state[:, 0, :]\n",
    "    embs = torch.nn.functional.normalize(embs)\n",
    "    return embs[0].cpu().numpy()"
   ]
  },
  {
   "cell_type": "code",
   "execution_count": 73,
   "id": "7bdcf155",
   "metadata": {},
   "outputs": [
    {
     "data": {
      "text/plain": [
       "(312,)"
      ]
     },
     "execution_count": 73,
     "metadata": {},
     "output_type": "execute_result"
    }
   ],
   "source": [
    "get_embs('hi').shape"
   ]
  },
  {
   "cell_type": "code",
   "execution_count": 4,
   "id": "f9c36c8a",
   "metadata": {},
   "outputs": [],
   "source": [
    "def distance(embeddings1, embeddings2, distance_metric=0):\n",
    "    if distance_metric==0:# Euclidian\n",
    "        diff = np.subtract(embeddings1, embeddings2)\n",
    "        dist = np.sum(np.square(diff),0)\n",
    "    elif distance_metric==1:#cosine\n",
    "        dot = np.sum(np.multiply(embeddings1, embeddings2), axis=0)\n",
    "        norm = np.linalg.norm(embeddings1, axis=0) * np.linalg.norm(embeddings2, axis=0)\n",
    "        similarity = dot / norm\n",
    "        dist = np.arccos(similarity) / np.pi\n",
    "    else:\n",
    "        raise 'Undefined %d' % distance_metric\n",
    "    return dist\n",
    "\n",
    "def get_distance(id1, id2, metric=1):\n",
    "    label1 = df['label'][id1] if type(id1) == int else str(id1)\n",
    "    label2 = df['label'][id2] if type(id2) == int else str(id2)\n",
    "    print(f'distance between {label1} and {label2}: {distance(get_embs(label1), get_embs(label2), distance_metric=metric)}')"
   ]
  },
  {
   "cell_type": "code",
   "execution_count": 2,
   "id": "4f0f47db",
   "metadata": {},
   "outputs": [
    {
     "data": {
      "text/html": [
       "<div>\n",
       "<style scoped>\n",
       "    .dataframe tbody tr th:only-of-type {\n",
       "        vertical-align: middle;\n",
       "    }\n",
       "\n",
       "    .dataframe tbody tr th {\n",
       "        vertical-align: top;\n",
       "    }\n",
       "\n",
       "    .dataframe thead th {\n",
       "        text-align: right;\n",
       "    }\n",
       "</style>\n",
       "<table border=\"1\" class=\"dataframe\">\n",
       "  <thead>\n",
       "    <tr style=\"text-align: right;\">\n",
       "      <th></th>\n",
       "      <th>id</th>\n",
       "      <th>label</th>\n",
       "    </tr>\n",
       "  </thead>\n",
       "  <tbody>\n",
       "    <tr>\n",
       "      <th>0</th>\n",
       "      <td>304999800</td>\n",
       "      <td>ПРОЧЕЕ МЯСО РЫБЫ (ВКЛЮЧАЯ ФАРШ), МОРОЖЕНЫЕ, РЫ...</td>\n",
       "    </tr>\n",
       "    <tr>\n",
       "      <th>1</th>\n",
       "      <td>604909900</td>\n",
       "      <td>РАСТЕНИЯ ЗАСУШЕННЫЕ, ОБРАБОТАННЫЕ АНТИСЕПТИКОМ...</td>\n",
       "    </tr>\n",
       "    <tr>\n",
       "      <th>2</th>\n",
       "      <td>711400000</td>\n",
       "      <td>ОГУРЦЫ (КОРНИШОНЫ) КОНСЕРВИРОВАННЫЕ ДЛЯ КРАТКО...</td>\n",
       "    </tr>\n",
       "    <tr>\n",
       "      <th>3</th>\n",
       "      <td>712909000</td>\n",
       "      <td>ОВОЩИ СУЩЕННЫЕ, ЧЕСНОК СУШЕННЫЙ ХЛОПЬЯ, МАРКИР...</td>\n",
       "    </tr>\n",
       "    <tr>\n",
       "      <th>4</th>\n",
       "      <td>803901000</td>\n",
       "      <td>БАНАНЫ СВЕЖИЕ, ЗЕЛЕНЫЕ, СОРТА \"CAVENDISH\", УПА...</td>\n",
       "    </tr>\n",
       "  </tbody>\n",
       "</table>\n",
       "</div>"
      ],
      "text/plain": [
       "          id                                              label\n",
       "0  304999800  ПРОЧЕЕ МЯСО РЫБЫ (ВКЛЮЧАЯ ФАРШ), МОРОЖЕНЫЕ, РЫ...\n",
       "1  604909900  РАСТЕНИЯ ЗАСУШЕННЫЕ, ОБРАБОТАННЫЕ АНТИСЕПТИКОМ...\n",
       "2  711400000  ОГУРЦЫ (КОРНИШОНЫ) КОНСЕРВИРОВАННЫЕ ДЛЯ КРАТКО...\n",
       "3  712909000  ОВОЩИ СУЩЕННЫЕ, ЧЕСНОК СУШЕННЫЙ ХЛОПЬЯ, МАРКИР...\n",
       "4  803901000  БАНАНЫ СВЕЖИЕ, ЗЕЛЕНЫЕ, СОРТА \"CAVENDISH\", УПА..."
      ]
     },
     "execution_count": 2,
     "metadata": {},
     "output_type": "execute_result"
    }
   ],
   "source": [
    "#df = pd.read_csv(\"C:\\\\Users\\\\yeril\\\\Desktop\\\\111.csv\", sep=';', names=['id', 'label'])\n",
    "df = pd.read_csv(\"../../DL/prj/111.csv\", sep=';', names=['id', 'label'])\n",
    "df.head()"
   ]
  },
  {
   "cell_type": "code",
   "execution_count": 5,
   "id": "a32b2fcf",
   "metadata": {},
   "outputs": [
    {
     "data": {
      "text/html": [
       "<div>\n",
       "<style scoped>\n",
       "    .dataframe tbody tr th:only-of-type {\n",
       "        vertical-align: middle;\n",
       "    }\n",
       "\n",
       "    .dataframe tbody tr th {\n",
       "        vertical-align: top;\n",
       "    }\n",
       "\n",
       "    .dataframe thead th {\n",
       "        text-align: right;\n",
       "    }\n",
       "</style>\n",
       "<table border=\"1\" class=\"dataframe\">\n",
       "  <thead>\n",
       "    <tr style=\"text-align: right;\">\n",
       "      <th></th>\n",
       "      <th>Unnamed: 0</th>\n",
       "      <th>Code</th>\n",
       "      <th>ДТ - добавочный лист Гр. 31 Описание  и характеристика товара</th>\n",
       "    </tr>\n",
       "  </thead>\n",
       "  <tbody>\n",
       "    <tr>\n",
       "      <th>0</th>\n",
       "      <td>0</td>\n",
       "      <td>9620000009</td>\n",
       "      <td>ОПОРА ТИПА СТОЙКА СТАЛЬНАЯ ДЛЯ МОНТАЖА ПРОЖЕКТ...</td>\n",
       "    </tr>\n",
       "    <tr>\n",
       "      <th>1</th>\n",
       "      <td>1</td>\n",
       "      <td>9620000009</td>\n",
       "      <td>ШТАТИВЫ ДЛЯ ФОТОКАМЕР СБОРНЫЕ (НЕЛИТЫЕ) ИЗ МЕТ...</td>\n",
       "    </tr>\n",
       "    <tr>\n",
       "      <th>2</th>\n",
       "      <td>2</td>\n",
       "      <td>9620000009</td>\n",
       "      <td>ОПОРА ТИПА СТОЙКА СТАЛЬНАЯ ДЛЯ МОНТАЖА ПРОЖEКТ...</td>\n",
       "    </tr>\n",
       "    <tr>\n",
       "      <th>3</th>\n",
       "      <td>3</td>\n",
       "      <td>9620000009</td>\n",
       "      <td>ОПОРЫ ТИПА ШТАТИВЫ ДЛЯ ФОТОКАМЕР СБОРНЫЕ (HЕЛИ...</td>\n",
       "    </tr>\n",
       "    <tr>\n",
       "      <th>4</th>\n",
       "      <td>4</td>\n",
       "      <td>9620000009</td>\n",
       "      <td>ШТАТИВЫ ДЛЯ ФОТОКАМЕР СБОРНЫЕ (НЕЛИТЫЕ) ИЗ МЕТ...</td>\n",
       "    </tr>\n",
       "  </tbody>\n",
       "</table>\n",
       "</div>"
      ],
      "text/plain": [
       "   Unnamed: 0        Code  \\\n",
       "0           0  9620000009   \n",
       "1           1  9620000009   \n",
       "2           2  9620000009   \n",
       "3           3  9620000009   \n",
       "4           4  9620000009   \n",
       "\n",
       "  ДТ - добавочный лист Гр. 31 Описание  и характеристика товара  \n",
       "0  ОПОРА ТИПА СТОЙКА СТАЛЬНАЯ ДЛЯ МОНТАЖА ПРОЖЕКТ...             \n",
       "1  ШТАТИВЫ ДЛЯ ФОТОКАМЕР СБОРНЫЕ (НЕЛИТЫЕ) ИЗ МЕТ...             \n",
       "2  ОПОРА ТИПА СТОЙКА СТАЛЬНАЯ ДЛЯ МОНТАЖА ПРОЖEКТ...             \n",
       "3  ОПОРЫ ТИПА ШТАТИВЫ ДЛЯ ФОТОКАМЕР СБОРНЫЕ (HЕЛИ...             \n",
       "4  ШТАТИВЫ ДЛЯ ФОТОКАМЕР СБОРНЫЕ (НЕЛИТЫЕ) ИЗ МЕТ...             "
      ]
     },
     "execution_count": 5,
     "metadata": {},
     "output_type": "execute_result"
    }
   ],
   "source": [
    "df2 = pd.read_csv(\"../../DL/prj/Codes.csv\")\n",
    "df2.head()"
   ]
  },
  {
   "cell_type": "code",
   "execution_count": 22,
   "id": "0947a80a",
   "metadata": {},
   "outputs": [
    {
     "name": "stdout",
     "output_type": "stream",
     "text": [
      "<class 'pandas.core.frame.DataFrame'>\n",
      "RangeIndex: 21817 entries, 0 to 21816\n",
      "Data columns (total 2 columns):\n",
      " #   Column  Non-Null Count  Dtype \n",
      "---  ------  --------------  ----- \n",
      " 0   id      21817 non-null  int64 \n",
      " 1   label   21817 non-null  object\n",
      "dtypes: int64(1), object(1)\n",
      "memory usage: 341.0+ KB\n"
     ]
    }
   ],
   "source": [
    "df2.info()"
   ]
  },
  {
   "cell_type": "code",
   "execution_count": 17,
   "id": "abdd6fee",
   "metadata": {},
   "outputs": [],
   "source": [
    "df2.drop('Unnamed: 0', axis=1, inplace=True)"
   ]
  },
  {
   "cell_type": "code",
   "execution_count": 18,
   "id": "804caaa8",
   "metadata": {},
   "outputs": [],
   "source": [
    "names = ['id', 'label']"
   ]
  },
  {
   "cell_type": "code",
   "execution_count": 21,
   "id": "78c2b5b7",
   "metadata": {},
   "outputs": [],
   "source": [
    "df2.rename(columns={df2.columns[0]: 'id', df2.columns[1]: 'label'}, inplace=True)"
   ]
  },
  {
   "cell_type": "code",
   "execution_count": 23,
   "id": "9c0ca452",
   "metadata": {},
   "outputs": [
    {
     "name": "stdout",
     "output_type": "stream",
     "text": [
      "<class 'pandas.core.frame.DataFrame'>\n",
      "RangeIndex: 70589 entries, 0 to 70588\n",
      "Data columns (total 2 columns):\n",
      " #   Column  Non-Null Count  Dtype \n",
      "---  ------  --------------  ----- \n",
      " 0   id      70589 non-null  int64 \n",
      " 1   label   70589 non-null  object\n",
      "dtypes: int64(1), object(1)\n",
      "memory usage: 1.1+ MB\n"
     ]
    }
   ],
   "source": [
    "df.info()"
   ]
  },
  {
   "cell_type": "code",
   "execution_count": 24,
   "id": "a0f43092",
   "metadata": {},
   "outputs": [
    {
     "name": "stdout",
     "output_type": "stream",
     "text": [
      "<class 'pandas.core.frame.DataFrame'>\n",
      "RangeIndex: 21817 entries, 0 to 21816\n",
      "Data columns (total 2 columns):\n",
      " #   Column  Non-Null Count  Dtype \n",
      "---  ------  --------------  ----- \n",
      " 0   id      21817 non-null  int64 \n",
      " 1   label   21817 non-null  object\n",
      "dtypes: int64(1), object(1)\n",
      "memory usage: 341.0+ KB\n"
     ]
    }
   ],
   "source": [
    "df2.info()"
   ]
  },
  {
   "cell_type": "code",
   "execution_count": 26,
   "id": "2d55ae89",
   "metadata": {},
   "outputs": [],
   "source": [
    "df = pd.concat([df, df2])"
   ]
  },
  {
   "cell_type": "code",
   "execution_count": 27,
   "id": "aec0d5b4",
   "metadata": {},
   "outputs": [
    {
     "name": "stderr",
     "output_type": "stream",
     "text": [
      "/tmp/ipykernel_4925/970123699.py:3: FutureWarning: The default value of regex will change from True to False in a future version.\n",
      "  df['label'] = df['label'].str.replace(r'\\s+', ' ')\n",
      "/tmp/ipykernel_4925/970123699.py:4: FutureWarning: The default value of regex will change from True to False in a future version.\n",
      "  df['label'] = df['label'].str.replace(r'[^\\w\\s]+', ' ')\n"
     ]
    }
   ],
   "source": [
    "df['label'] = df['label'].str.lower()\n",
    "df['label'] = df['label'].str.strip()\n",
    "df['label'] = df['label'].str.replace(r'\\s+', ' ')\n",
    "df['label'] = df['label'].str.replace(r'[^\\w\\s]+', ' ')"
   ]
  },
  {
   "cell_type": "code",
   "execution_count": 28,
   "id": "ef0ef44b",
   "metadata": {},
   "outputs": [
    {
     "name": "stderr",
     "output_type": "stream",
     "text": [
      "/tmp/ipykernel_4925/350809219.py:1: FutureWarning: The default value of regex will change from True to False in a future version.\n",
      "  df['label'] = df['label'].str.replace(r'\\bупакован.+', '')\n"
     ]
    }
   ],
   "source": [
    "df['label'] = df['label'].str.replace(r'\\bупакован.+', '')"
   ]
  },
  {
   "cell_type": "code",
   "execution_count": 29,
   "id": "fb21222d",
   "metadata": {},
   "outputs": [
    {
     "name": "stderr",
     "output_type": "stream",
     "text": [
      "/tmp/ipykernel_4925/1721232508.py:1: FutureWarning: The default value of regex will change from True to False in a future version.\n",
      "  df['label'] = df['label'].str.replace(r'\\bвсего.+шт.+', '')\n"
     ]
    }
   ],
   "source": [
    "df['label'] = df['label'].str.replace(r'\\bвсего.+шт.+', '')"
   ]
  },
  {
   "cell_type": "code",
   "execution_count": 30,
   "id": "a6f2b261",
   "metadata": {},
   "outputs": [
    {
     "data": {
      "text/plain": [
       "0"
      ]
     },
     "execution_count": 30,
     "metadata": {},
     "output_type": "execute_result"
    }
   ],
   "source": [
    "len(df[df['label']==''])"
   ]
  },
  {
   "cell_type": "code",
   "execution_count": 31,
   "id": "8cebde5a",
   "metadata": {},
   "outputs": [
    {
     "data": {
      "text/plain": [
       "2616"
      ]
     },
     "execution_count": 31,
     "metadata": {},
     "output_type": "execute_result"
    }
   ],
   "source": [
    "len(df['id'].unique())"
   ]
  },
  {
   "cell_type": "code",
   "execution_count": 36,
   "id": "4c8225bf",
   "metadata": {},
   "outputs": [
    {
     "data": {
      "text/plain": [
       "86511"
      ]
     },
     "execution_count": 36,
     "metadata": {},
     "output_type": "execute_result"
    }
   ],
   "source": [
    "len(df['label'].unique())"
   ]
  },
  {
   "cell_type": "code",
   "execution_count": 33,
   "id": "8661aa02",
   "metadata": {},
   "outputs": [],
   "source": [
    "df = df.drop_duplicates()"
   ]
  },
  {
   "cell_type": "code",
   "execution_count": 35,
   "id": "8fac86fd",
   "metadata": {},
   "outputs": [],
   "source": [
    "df = df[df['label'].notnull()]"
   ]
  },
  {
   "cell_type": "code",
   "execution_count": 37,
   "id": "c42e0b6a",
   "metadata": {},
   "outputs": [],
   "source": [
    "ids = pd.Series(df['id'])\n",
    "ids = ids.astype(str)"
   ]
  },
  {
   "cell_type": "code",
   "execution_count": 38,
   "id": "c10964fe",
   "metadata": {},
   "outputs": [],
   "source": [
    "df['id'] = ids"
   ]
  },
  {
   "cell_type": "code",
   "execution_count": 39,
   "id": "330504fb",
   "metadata": {},
   "outputs": [
    {
     "data": {
      "text/plain": [
       "211"
      ]
     },
     "execution_count": 39,
     "metadata": {},
     "output_type": "execute_result"
    }
   ],
   "source": [
    "#df[df['id']==304999800]\n",
    "len(df.query(\"id.str.len() == 9\"))"
   ]
  },
  {
   "cell_type": "code",
   "execution_count": 40,
   "id": "a13fe41e",
   "metadata": {},
   "outputs": [],
   "source": [
    "from tqdm import tqdm"
   ]
  },
  {
   "cell_type": "code",
   "execution_count": 42,
   "id": "79378fbb",
   "metadata": {},
   "outputs": [
    {
     "name": "stderr",
     "output_type": "stream",
     "text": [
      "100%|███████████████████████████████████████████████████████| 87488/87488 [00:00<00:00, 2122504.24it/s]\n"
     ]
    }
   ],
   "source": [
    "g_id = []\n",
    "#gg_id = []\n",
    "for i, id in enumerate(tqdm(df['id'])):\n",
    "    if len(id) == 10:\n",
    "        g_id.append(str(id)[:4])\n",
    "        #gg_id.append(str(id)[:2])\n",
    "    else:\n",
    "        g_id.append('0' + str(id)[:3])\n",
    "        #gg_id.append('0' + str(id)[:1])\n",
    "df['g_id'] = g_id\n",
    "#df['gg_id'] = gg_id\n",
    "#g_id[10:]"
   ]
  },
  {
   "cell_type": "code",
   "execution_count": 43,
   "id": "bed8613c",
   "metadata": {},
   "outputs": [
    {
     "data": {
      "text/plain": [
       "658"
      ]
     },
     "execution_count": 43,
     "metadata": {},
     "output_type": "execute_result"
    }
   ],
   "source": [
    "len(df['g_id'].unique())"
   ]
  },
  {
   "cell_type": "code",
   "execution_count": 44,
   "id": "96c9299a",
   "metadata": {},
   "outputs": [
    {
     "data": {
      "text/plain": [
       "87488"
      ]
     },
     "execution_count": 44,
     "metadata": {},
     "output_type": "execute_result"
    }
   ],
   "source": [
    "len(df)"
   ]
  },
  {
   "cell_type": "code",
   "execution_count": 45,
   "id": "32de2132",
   "metadata": {},
   "outputs": [
    {
     "name": "stdout",
     "output_type": "stream",
     "text": [
      "<class 'pandas.core.frame.DataFrame'>\n",
      "Int64Index: 87488 entries, 0 to 21816\n",
      "Data columns (total 3 columns):\n",
      " #   Column  Non-Null Count  Dtype \n",
      "---  ------  --------------  ----- \n",
      " 0   id      87488 non-null  object\n",
      " 1   label   87488 non-null  object\n",
      " 2   g_id    87488 non-null  object\n",
      "dtypes: object(3)\n",
      "memory usage: 2.7+ MB\n"
     ]
    }
   ],
   "source": [
    "df.info()"
   ]
  },
  {
   "cell_type": "code",
   "execution_count": 46,
   "id": "82f594a8",
   "metadata": {},
   "outputs": [
    {
     "data": {
      "image/png": "[encoded data removed]",
      "text/plain": [
       "<Figure size 864x432 with 1 Axes>"
      ]
     },
     "metadata": {
      "needs_background": "light"
     },
     "output_type": "display_data"
    }
   ],
   "source": [
    "from matplotlib import pyplot as plt\n",
    "plt.figure(figsize=(12, 6))\n",
    "plt.hist(df['g_id'], 70)\n",
    "plt.show()"
   ]
  },
  {
   "cell_type": "code",
   "execution_count": 20,
   "id": "79cb3c08",
   "metadata": {},
   "outputs": [
    {
     "name": "stderr",
     "output_type": "stream",
     "text": [
      "100%|███████████████████████████████████████████████████████████████████████████| 69958/69958 [05:14<00:00, 222.40it/s]\n"
     ]
    },
    {
     "data": {
      "text/plain": [
       "69958"
      ]
     },
     "execution_count": 20,
     "metadata": {},
     "output_type": "execute_result"
    }
   ],
   "source": [
    "embs = []\n",
    "for i, label in enumerate(tqdm(df['label'])):\n",
    "    embs.append(get_embs(label))\n",
    "len(embs)"
   ]
  },
  {
   "cell_type": "code",
   "execution_count": 21,
   "id": "174ed171",
   "metadata": {},
   "outputs": [],
   "source": [
    "df['emb'] = embs"
   ]
  },
  {
   "cell_type": "code",
   "execution_count": 22,
   "id": "fcdcb505",
   "metadata": {},
   "outputs": [
    {
     "data": {
      "text/html": [
       "<div>\n",
       "<style scoped>\n",
       "    .dataframe tbody tr th:only-of-type {\n",
       "        vertical-align: middle;\n",
       "    }\n",
       "\n",
       "    .dataframe tbody tr th {\n",
       "        vertical-align: top;\n",
       "    }\n",
       "\n",
       "    .dataframe thead th {\n",
       "        text-align: right;\n",
       "    }\n",
       "</style>\n",
       "<table border=\"1\" class=\"dataframe\">\n",
       "  <thead>\n",
       "    <tr style=\"text-align: right;\">\n",
       "      <th></th>\n",
       "      <th>id</th>\n",
       "      <th>label</th>\n",
       "      <th>g_id</th>\n",
       "      <th>gg_id</th>\n",
       "      <th>emb</th>\n",
       "    </tr>\n",
       "  </thead>\n",
       "  <tbody>\n",
       "    <tr>\n",
       "      <th>0</th>\n",
       "      <td>304999800</td>\n",
       "      <td>прочее мясо рыбы  включая фарш  мороженые  рыб...</td>\n",
       "      <td>0304</td>\n",
       "      <td>03</td>\n",
       "      <td>[0.02312238, -0.047608964, -0.026546676, -0.04...</td>\n",
       "    </tr>\n",
       "    <tr>\n",
       "      <th>1</th>\n",
       "      <td>604909900</td>\n",
       "      <td>растения засушенные  обработанные антисептиком...</td>\n",
       "      <td>0604</td>\n",
       "      <td>06</td>\n",
       "      <td>[0.07274635, -0.06827808, 0.034841597, -0.1009...</td>\n",
       "    </tr>\n",
       "    <tr>\n",
       "      <th>2</th>\n",
       "      <td>711400000</td>\n",
       "      <td>огурцы  корнишоны  консервированные для кратко...</td>\n",
       "      <td>0711</td>\n",
       "      <td>07</td>\n",
       "      <td>[-0.02142443, -0.045624927, 0.02732854, -0.094...</td>\n",
       "    </tr>\n",
       "    <tr>\n",
       "      <th>3</th>\n",
       "      <td>712909000</td>\n",
       "      <td>овощи сущенные  чеснок сушенный хлопья  маркир...</td>\n",
       "      <td>0712</td>\n",
       "      <td>07</td>\n",
       "      <td>[0.059772942, -0.03212928, 0.040867265, -0.100...</td>\n",
       "    </tr>\n",
       "    <tr>\n",
       "      <th>4</th>\n",
       "      <td>803901000</td>\n",
       "      <td>бананы свежие  зеленые  сорта  cavendish  упак...</td>\n",
       "      <td>0803</td>\n",
       "      <td>08</td>\n",
       "      <td>[0.015860813, -0.07562457, 0.012571128, -0.070...</td>\n",
       "    </tr>\n",
       "    <tr>\n",
       "      <th>...</th>\n",
       "      <td>...</td>\n",
       "      <td>...</td>\n",
       "      <td>...</td>\n",
       "      <td>...</td>\n",
       "      <td>...</td>\n",
       "    </tr>\n",
       "    <tr>\n",
       "      <th>70584</th>\n",
       "      <td>9617000001</td>\n",
       "      <td>термосы и вакуумные сосуды прочие в собранном ...</td>\n",
       "      <td>9617</td>\n",
       "      <td>96</td>\n",
       "      <td>[-0.0034721876, 0.017499765, 0.04958394, -0.09...</td>\n",
       "    </tr>\n",
       "    <tr>\n",
       "      <th>70585</th>\n",
       "      <td>9617000001</td>\n",
       "      <td>термосы и вакуумные сосуды прочие в собранном ...</td>\n",
       "      <td>9617</td>\n",
       "      <td>96</td>\n",
       "      <td>[0.037946466, -0.0316441, 0.02204541, -0.08155...</td>\n",
       "    </tr>\n",
       "    <tr>\n",
       "      <th>70586</th>\n",
       "      <td>9619008109</td>\n",
       "      <td>детские подгузники  baby diaspers</td>\n",
       "      <td>9619</td>\n",
       "      <td>96</td>\n",
       "      <td>[0.07619122, -0.03667876, 0.04221478, -0.06858...</td>\n",
       "    </tr>\n",
       "    <tr>\n",
       "      <th>70587</th>\n",
       "      <td>9620000005</td>\n",
       "      <td>моноопоры двуноги треноги и аналогичные издели...</td>\n",
       "      <td>9620</td>\n",
       "      <td>96</td>\n",
       "      <td>[0.0155068915, 0.00056217174, -0.005092197, -0...</td>\n",
       "    </tr>\n",
       "    <tr>\n",
       "      <th>70588</th>\n",
       "      <td>9620000009</td>\n",
       "      <td>моноопоры  двуноги  треноги и аналогичные изде...</td>\n",
       "      <td>9620</td>\n",
       "      <td>96</td>\n",
       "      <td>[0.036769766, -0.029496908, 0.031971, -0.07077...</td>\n",
       "    </tr>\n",
       "  </tbody>\n",
       "</table>\n",
       "<p>69958 rows × 5 columns</p>\n",
       "</div>"
      ],
      "text/plain": [
       "               id                                              label  g_id  \\\n",
       "0       304999800  прочее мясо рыбы  включая фарш  мороженые  рыб...  0304   \n",
       "1       604909900  растения засушенные  обработанные антисептиком...  0604   \n",
       "2       711400000  огурцы  корнишоны  консервированные для кратко...  0711   \n",
       "3       712909000  овощи сущенные  чеснок сушенный хлопья  маркир...  0712   \n",
       "4       803901000  бананы свежие  зеленые  сорта  cavendish  упак...  0803   \n",
       "...           ...                                                ...   ...   \n",
       "70584  9617000001  термосы и вакуумные сосуды прочие в собранном ...  9617   \n",
       "70585  9617000001  термосы и вакуумные сосуды прочие в собранном ...  9617   \n",
       "70586  9619008109                  детские подгузники  baby diaspers  9619   \n",
       "70587  9620000005  моноопоры двуноги треноги и аналогичные издели...  9620   \n",
       "70588  9620000009  моноопоры  двуноги  треноги и аналогичные изде...  9620   \n",
       "\n",
       "      gg_id                                                emb  \n",
       "0        03  [0.02312238, -0.047608964, -0.026546676, -0.04...  \n",
       "1        06  [0.07274635, -0.06827808, 0.034841597, -0.1009...  \n",
       "2        07  [-0.02142443, -0.045624927, 0.02732854, -0.094...  \n",
       "3        07  [0.059772942, -0.03212928, 0.040867265, -0.100...  \n",
       "4        08  [0.015860813, -0.07562457, 0.012571128, -0.070...  \n",
       "...     ...                                                ...  \n",
       "70584    96  [-0.0034721876, 0.017499765, 0.04958394, -0.09...  \n",
       "70585    96  [0.037946466, -0.0316441, 0.02204541, -0.08155...  \n",
       "70586    96  [0.07619122, -0.03667876, 0.04221478, -0.06858...  \n",
       "70587    96  [0.0155068915, 0.00056217174, -0.005092197, -0...  \n",
       "70588    96  [0.036769766, -0.029496908, 0.031971, -0.07077...  \n",
       "\n",
       "[69958 rows x 5 columns]"
      ]
     },
     "execution_count": 22,
     "metadata": {},
     "output_type": "execute_result"
    }
   ],
   "source": [
    "df"
   ]
  },
  {
   "cell_type": "code",
   "execution_count": 23,
   "id": "4986a5bc",
   "metadata": {},
   "outputs": [],
   "source": [
    "df.to_csv('../../tiny_embs_draft.csv')"
   ]
  },
  {
   "cell_type": "code",
   "execution_count": 49,
   "id": "9bea2566",
   "metadata": {},
   "outputs": [],
   "source": [
    "#df_no_embs = df.drop(['emb', 'g_id', 'gg_id'], axis=1, inplace=False)\n",
    "df = df.drop(['g_id'], axis=1, inplace=False)\n",
    "df.to_csv('../../draft.csv')"
   ]
  },
  {
   "cell_type": "code",
   "execution_count": 29,
   "id": "5da0f67d",
   "metadata": {},
   "outputs": [],
   "source": [
    "from sklearn.neighbors import KNeighborsClassifier\n",
    "from sklearn.model_selection import train_test_split\n",
    "from sklearn.metrics import accuracy_score"
   ]
  },
  {
   "cell_type": "code",
   "execution_count": 30,
   "id": "0804aac3",
   "metadata": {},
   "outputs": [],
   "source": [
    "y = df['g_id'].values\n",
    "X = embs"
   ]
  },
  {
   "cell_type": "code",
   "execution_count": 31,
   "id": "7f2be76c",
   "metadata": {},
   "outputs": [
    {
     "data": {
      "text/plain": [
       "0.8462454736039642"
      ]
     },
     "execution_count": 31,
     "metadata": {},
     "output_type": "execute_result"
    }
   ],
   "source": [
    "knn = KNeighborsClassifier(n_neighbors=2)\n",
    "X_train, X_test, y_train, y_test = train_test_split(X, y, test_size=0.3)\n",
    "knn.fit(X_train, y_train)\n",
    "preds = knn.predict(X_test)\n",
    "accuracy_score(y_test, preds)"
   ]
  },
  {
   "cell_type": "code",
   "execution_count": 59,
   "id": "e031afbe",
   "metadata": {},
   "outputs": [
    {
     "data": {
      "text/plain": [
       "14779    6600125390 левый передний воздушный дефлектор ...\n",
       "14780    8891752679 задний бампер верхняя часть в сборе...\n",
       "14781    air deflector frt bumper lh левый воздушный де...\n",
       "14782    front bumper lwr body front bumper lwr body ни...\n",
       "14783    front bumper lwr body front bumper lwr body ни...\n",
       "                               ...                        \n",
       "69152    шрус с установочным комплектом  шрус  пыльник ...\n",
       "69153    шрус с установочным комплектом  шрус  смазка  ...\n",
       "69154    шрус с установочным комплектом пыльник  хомут ...\n",
       "69155    шрус с установочным комплектом смазка  гайка п...\n",
       "69156    шрус с установочным комплектом шрус  пыльник  ...\n",
       "Name: label, Length: 6061, dtype: object"
      ]
     },
     "execution_count": 59,
     "metadata": {},
     "output_type": "execute_result"
    }
   ],
   "source": [
    "df['label'][df['g_id']==knn.predict(get_embs(\"шуруповерт\").reshape(1, 312))[0]]"
   ]
  }
 ],
 "metadata": {
  "kernelspec": {
   "display_name": "Python 3 (ipykernel)",
   "language": "python",
   "name": "python3"
  },
  "language_info": {
   "codemirror_mode": {
    "name": "ipython",
    "version": 3
   },
   "file_extension": ".py",
   "mimetype": "text/x-python",
   "name": "python",
   "nbconvert_exporter": "python",
   "pygments_lexer": "ipython3",
   "version": "3.10.11"
  }
 },
 "nbformat": 4,
 "nbformat_minor": 5
}
